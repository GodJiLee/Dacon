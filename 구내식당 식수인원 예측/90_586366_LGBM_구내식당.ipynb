{
  "nbformat": 4,
  "nbformat_minor": 0,
  "metadata": {
    "colab": {
      "name": "90.586366_LGBM_구내식당.ipynb",
      "provenance": [],
      "collapsed_sections": [],
      "mount_file_id": "1GwZwDf8jmKs30tzXUmNi3CrBi6Hi6wXK",
      "authorship_tag": "ABX9TyO13sIudY2mF+91eMnFY2vJ",
      "include_colab_link": true
    },
    "kernelspec": {
      "name": "python3",
      "display_name": "Python 3"
    },
    "language_info": {
      "name": "python"
    }
  },
  "cells": [
    {
      "cell_type": "markdown",
      "metadata": {
        "id": "view-in-github",
        "colab_type": "text"
      },
      "source": [
        "<a href=\"https://colab.research.google.com/github/GodJiLee/Dacon/blob/main/%EA%B5%AC%EB%82%B4%EC%8B%9D%EB%8B%B9%20%EC%8B%9D%EC%88%98%EC%9D%B8%EC%9B%90%20%EC%98%88%EC%B8%A1/90_586366_LGBM_%EA%B5%AC%EB%82%B4%EC%8B%9D%EB%8B%B9.ipynb\" target=\"_parent\"><img src=\"https://colab.research.google.com/assets/colab-badge.svg\" alt=\"Open In Colab\"/></a>"
      ]
    },
    {
      "cell_type": "markdown",
      "metadata": {
        "id": "FPHjliUsOgvJ"
      },
      "source": [
        "# **To Do List**\n",
        "1. 월/일/요일 팩터화\n",
        "2. XGBoost + GridSearch 조합 외에 다른 모델 적용하기 (예측 모델: LGBMRegressor, ...) (O)\n",
        "3. 공유코드 4, word embedding feature 결합하기 (O)\n",
        "4. parameter 최적화하기 (추가)\n",
        "5. 휴가자 수, 재택 근무자 수 빼지 않고 모델에 포함시켜보기 (O)\n",
        "\n",
        "---\n",
        "\n",
        "\n",
        "\n",
        "\n",
        "\n",
        "\n"
      ]
    },
    {
      "cell_type": "markdown",
      "metadata": {
        "id": "QhdCsIzwMFwI"
      },
      "source": [
        "# **2. 한글 패치 (matplotlib)**"
      ]
    },
    {
      "cell_type": "code",
      "metadata": {
        "colab": {
          "base_uri": "https://localhost:8080/"
        },
        "id": "VYI7b3m9MJwq",
        "outputId": "4aa46f54-a032-4671-b69d-56b3eeabf09c"
      },
      "source": [
        "# Step 1. Matplotlib 업그레이드\n",
        "!pip install matplotlib -U\n",
        "\n",
        "# Step 2. 한글 설치 및 사용 설정\n",
        "!sudo apt-get install -y fonts-nanum\n",
        "!sudo fc-cache -fv\n",
        "!rm ~/.cache/matplotlib -rf\n",
        "\n",
        "# Step 3. 런타임 재시작"
      ],
      "execution_count": null,
      "outputs": [
        {
          "output_type": "stream",
          "text": [
            "Requirement already up-to-date: matplotlib in /usr/local/lib/python3.7/dist-packages (3.4.2)\n",
            "Requirement already satisfied, skipping upgrade: pillow>=6.2.0 in /usr/local/lib/python3.7/dist-packages (from matplotlib) (7.1.2)\n",
            "Requirement already satisfied, skipping upgrade: kiwisolver>=1.0.1 in /usr/local/lib/python3.7/dist-packages (from matplotlib) (1.3.1)\n",
            "Requirement already satisfied, skipping upgrade: pyparsing>=2.2.1 in /usr/local/lib/python3.7/dist-packages (from matplotlib) (2.4.7)\n",
            "Requirement already satisfied, skipping upgrade: numpy>=1.16 in /usr/local/lib/python3.7/dist-packages (from matplotlib) (1.19.5)\n",
            "Requirement already satisfied, skipping upgrade: cycler>=0.10 in /usr/local/lib/python3.7/dist-packages (from matplotlib) (0.10.0)\n",
            "Requirement already satisfied, skipping upgrade: python-dateutil>=2.7 in /usr/local/lib/python3.7/dist-packages (from matplotlib) (2.8.1)\n",
            "Requirement already satisfied, skipping upgrade: six in /usr/local/lib/python3.7/dist-packages (from cycler>=0.10->matplotlib) (1.15.0)\n",
            "Reading package lists... Done\n",
            "Building dependency tree       \n",
            "Reading state information... Done\n",
            "fonts-nanum is already the newest version (20170925-1).\n",
            "0 upgraded, 0 newly installed, 0 to remove and 39 not upgraded.\n",
            "/usr/share/fonts: caching, new cache contents: 0 fonts, 1 dirs\n",
            "/usr/share/fonts/truetype: caching, new cache contents: 0 fonts, 3 dirs\n",
            "/usr/share/fonts/truetype/humor-sans: caching, new cache contents: 1 fonts, 0 dirs\n",
            "/usr/share/fonts/truetype/liberation: caching, new cache contents: 16 fonts, 0 dirs\n",
            "/usr/share/fonts/truetype/nanum: caching, new cache contents: 10 fonts, 0 dirs\n",
            "/usr/local/share/fonts: caching, new cache contents: 0 fonts, 0 dirs\n",
            "/root/.local/share/fonts: skipping, no such directory\n",
            "/root/.fonts: skipping, no such directory\n",
            "/var/cache/fontconfig: cleaning cache directory\n",
            "/root/.cache/fontconfig: not cleaning non-existent cache directory\n",
            "/root/.fontconfig: not cleaning non-existent cache directory\n",
            "fc-cache: succeeded\n"
          ],
          "name": "stdout"
        }
      ]
    },
    {
      "cell_type": "code",
      "metadata": {
        "id": "scUxwwIwMwWB"
      },
      "source": [
        "# Step 4. 한글 글꼴 설정\n",
        "import matplotlib.pyplot as plt\n",
        "\n",
        "plt.rcParams['font.family'] = ['NanumGothic', 'sans-serif'] # 차트의 폰트 설정\n",
        "plt.rcParams['axes.unicode_minus'] = False"
      ],
      "execution_count": null,
      "outputs": []
    },
    {
      "cell_type": "markdown",
      "metadata": {
        "id": "_efchx5_NS1M"
      },
      "source": [
        "# **3. 기타 설정 (임포트 등)**"
      ]
    },
    {
      "cell_type": "code",
      "metadata": {
        "id": "zzYdkTUaNarL"
      },
      "source": [
        "import numpy as np\n",
        "import pandas as pd\n",
        "import matplotlib.pyplot as plt\n",
        "import seaborn as sns\n",
        "\n",
        "import warnings\n",
        "# 경고 제어\n",
        "warnings.filterwarnings(action = 'ignore') # 경고를 출력하지 않음"
      ],
      "execution_count": null,
      "outputs": []
    },
    {
      "cell_type": "markdown",
      "metadata": {
        "id": "47Ke3v6QTjd0"
      },
      "source": [
        "# **4. 데이터 불러오기**"
      ]
    },
    {
      "cell_type": "code",
      "metadata": {
        "id": "FLdJUKeOfsMk"
      },
      "source": [
        "train = pd.read_csv('/content/drive/MyDrive/Colab Notebooks/dacon_contest1/data/train.csv')\n",
        "test = pd.read_csv('/content/drive/MyDrive/Colab Notebooks/dacon_contest1/data/test.csv')"
      ],
      "execution_count": null,
      "outputs": []
    },
    {
      "cell_type": "markdown",
      "metadata": {
        "id": "rTWE9MotT7HT"
      },
      "source": [
        "# **5. 데이터 정제 (Dtype: object)**"
      ]
    },
    {
      "cell_type": "markdown",
      "metadata": {
        "id": "xVVxcS7vT_zy"
      },
      "source": [
        "1. 조식, 중식, 석식 메뉴는 버리기 (drop)\n",
        "2. 일자, 요일은 라벨 인코딩 (숫자형으로 변환)"
      ]
    },
    {
      "cell_type": "markdown",
      "metadata": {
        "id": "OppTjwdgUF-g"
      },
      "source": [
        "## **1. 조식, 중식, 석식 메뉴는 버리기 (drop)**"
      ]
    },
    {
      "cell_type": "code",
      "metadata": {
        "id": "iILH_kpMT5xd"
      },
      "source": [
        "# drops = ['조식메뉴']\n",
        "\n",
        "# train = train.drop(drops, axis = 1) # axis = 1은 열을 의미 (열삭제)\n",
        "# test = test.drop(drops, axis = 1)"
      ],
      "execution_count": null,
      "outputs": []
    },
    {
      "cell_type": "markdown",
      "metadata": {
        "id": "LMils4gPVKvN"
      },
      "source": [
        "## **2. 일자, 요일은 라벨 인코딩 (숫자형으로 변환)**"
      ]
    },
    {
      "cell_type": "code",
      "metadata": {
        "id": "4ky_WTWzUcua"
      },
      "source": [
        "# 월, 일 인코딩\n",
        "train['연'] = pd.DatetimeIndex(train['일자']).year\n",
        "test['연'] = pd.DatetimeIndex(test['일자']).year\n",
        "\n",
        "train['월'] = pd.DatetimeIndex(train['일자']).month\n",
        "test['월'] = pd.DatetimeIndex(test['일자']).month\n",
        "\n",
        "train['일'] = pd.DatetimeIndex(train['일자']).day\n",
        "test['일'] = pd.DatetimeIndex(test['일자']).day"
      ],
      "execution_count": null,
      "outputs": []
    },
    {
      "cell_type": "code",
      "metadata": {
        "id": "LLmth40SVcqd"
      },
      "source": [
        "# 요일 인코딩\n",
        "# 팩터화 해야 하는거 아니야...?\n",
        "weekday = {\n",
        "    '월': 1,\n",
        "    '화': 2,\n",
        "    '수': 3,\n",
        "    '목': 4,\n",
        "    '금': 5\n",
        "}\n",
        "\n",
        "train['요일'] = train['요일'].map(weekday)\n",
        "test['요일'] = test['요일'].map(weekday)"
      ],
      "execution_count": null,
      "outputs": []
    },
    {
      "cell_type": "markdown",
      "metadata": {
        "id": "Mo4eBlc7YAil"
      },
      "source": [
        "# **6. 데이터 정제 (아이디어)**"
      ]
    },
    {
      "cell_type": "markdown",
      "metadata": {
        "id": "NMNNOUxUYEd0"
      },
      "source": [
        "* 휴가자, 재택근무자는 중식/석식에 참여하지 않을 것이므로 본사 정원수에서 차감한다.\n",
        "* 즉, 본사정원수 - 휴가자 - 재택근무자\n",
        "* 식사참여율 = 식사계 / 식사가능자수"
      ]
    },
    {
      "cell_type": "code",
      "metadata": {
        "id": "DjBNRl9SWvW9"
      },
      "source": [
        "train['식사가능자수'] = train['본사정원수'] - train['본사휴가자수'] - train['현본사소속재택근무자수']\n",
        "test['식사가능자수'] = test['본사정원수'] - test['본사휴가자수'] - test['현본사소속재택근무자수']"
      ],
      "execution_count": null,
      "outputs": []
    },
    {
      "cell_type": "code",
      "metadata": {
        "id": "AWYHHFHoNFAC"
      },
      "source": [
        "# 식사가능자수 float -> int로 변경\n",
        "train['식사가능자수'] = train['식사가능자수'].astype('int')\n",
        "test['식사가능자수'] = test['식사가능자수'].astype('int')"
      ],
      "execution_count": null,
      "outputs": []
    },
    {
      "cell_type": "code",
      "metadata": {
        "id": "-ccNQNhQYatx"
      },
      "source": [
        "train['중식참여율'] = train['중식계'] / train['식사가능자수']\n",
        "train['석식참여율'] = train['석식계'] / train['식사가능자수']"
      ],
      "execution_count": null,
      "outputs": []
    },
    {
      "cell_type": "markdown",
      "metadata": {
        "id": "9p7H5c3PYzgZ"
      },
      "source": [
        "정제한 데이터를 정리하면,"
      ]
    },
    {
      "cell_type": "markdown",
      "metadata": {
        "id": "qzTvVsIIPcDz"
      },
      "source": [
        "### **요일(석식) 컬럼 만들기**"
      ]
    },
    {
      "cell_type": "code",
      "metadata": {
        "id": "2VD5CbSHwJCH"
      },
      "source": [
        "# 요일을 석식 rank에 맞춰 mapping한 요일(석식) 컬럼 만들기\n",
        "# train 데이터만의 특징일 수 있지 않을까..?\n",
        "weekday_rank4dinner = {\n",
        "    1: 1,\n",
        "    2: 2,\n",
        "    3: 5,\n",
        "    4: 3,\n",
        "    5: 4,\n",
        "}\n",
        "\n",
        "train['요일(석식)'] = train['요일'].map(weekday_rank4dinner)\n",
        "test['요일(석식)'] = test['요일'].map(weekday_rank4dinner)"
      ],
      "execution_count": null,
      "outputs": []
    },
    {
      "cell_type": "code",
      "metadata": {
        "id": "EvrgZQTTYywq"
      },
      "source": [
        "# features는 학습시킬 특성값들, labels는 추론할 대상값들\n",
        "features = ['연', '월', '일', '요일', '식사가능자수', '본사휴가자수', '본사출장자수', '본사시간외근무명령서승인건수', '현본사소속재택근무자수', '조식메뉴', '중식메뉴', '석식메뉴']\n",
        "labels = ['중식계', '석식계'] # '중식참여율', '석식참여율'\n",
        "\n",
        "train = train[features + labels]\n",
        "test = test[features]"
      ],
      "execution_count": null,
      "outputs": []
    },
    {
      "cell_type": "markdown",
      "metadata": {
        "id": "SQdR35LuZ2R9"
      },
      "source": [
        "## **7. EDA, 시각화, 상관관계분석**\n",
        "1. 히트맵\n",
        "2. 라인그래프"
      ]
    },
    {
      "cell_type": "markdown",
      "metadata": {
        "id": "Jo_mEAGDZ72e"
      },
      "source": [
        "### **1. 히트맵**"
      ]
    },
    {
      "cell_type": "code",
      "metadata": {
        "colab": {
          "base_uri": "https://localhost:8080/",
          "height": 359
        },
        "id": "68eXdfKtZLXX",
        "outputId": "2d2c48b4-b817-4056-813d-91442502f5de"
      },
      "source": [
        "train.corr()[['중식계', '석식계']]"
      ],
      "execution_count": null,
      "outputs": [
        {
          "output_type": "execute_result",
          "data": {
            "text/html": [
              "<div>\n",
              "<style scoped>\n",
              "    .dataframe tbody tr th:only-of-type {\n",
              "        vertical-align: middle;\n",
              "    }\n",
              "\n",
              "    .dataframe tbody tr th {\n",
              "        vertical-align: top;\n",
              "    }\n",
              "\n",
              "    .dataframe thead th {\n",
              "        text-align: right;\n",
              "    }\n",
              "</style>\n",
              "<table border=\"1\" class=\"dataframe\">\n",
              "  <thead>\n",
              "    <tr style=\"text-align: right;\">\n",
              "      <th></th>\n",
              "      <th>중식계</th>\n",
              "      <th>석식계</th>\n",
              "    </tr>\n",
              "  </thead>\n",
              "  <tbody>\n",
              "    <tr>\n",
              "      <th>월</th>\n",
              "      <td>-0.154664</td>\n",
              "      <td>-0.127142</td>\n",
              "    </tr>\n",
              "    <tr>\n",
              "      <th>일</th>\n",
              "      <td>-0.097392</td>\n",
              "      <td>-0.185565</td>\n",
              "    </tr>\n",
              "    <tr>\n",
              "      <th>요일</th>\n",
              "      <td>-0.731563</td>\n",
              "      <td>-0.312112</td>\n",
              "    </tr>\n",
              "    <tr>\n",
              "      <th>식사가능자수</th>\n",
              "      <td>0.151029</td>\n",
              "      <td>0.118615</td>\n",
              "    </tr>\n",
              "    <tr>\n",
              "      <th>본사출장자수</th>\n",
              "      <td>-0.512680</td>\n",
              "      <td>-0.188164</td>\n",
              "    </tr>\n",
              "    <tr>\n",
              "      <th>본사시간외근무명령서승인건수</th>\n",
              "      <td>0.535611</td>\n",
              "      <td>0.571168</td>\n",
              "    </tr>\n",
              "    <tr>\n",
              "      <th>중식계</th>\n",
              "      <td>1.000000</td>\n",
              "      <td>0.508287</td>\n",
              "    </tr>\n",
              "    <tr>\n",
              "      <th>석식계</th>\n",
              "      <td>0.508287</td>\n",
              "      <td>1.000000</td>\n",
              "    </tr>\n",
              "    <tr>\n",
              "      <th>중식참여율</th>\n",
              "      <td>0.957156</td>\n",
              "      <td>0.475360</td>\n",
              "    </tr>\n",
              "    <tr>\n",
              "      <th>석식참여율</th>\n",
              "      <td>0.479768</td>\n",
              "      <td>0.973722</td>\n",
              "    </tr>\n",
              "  </tbody>\n",
              "</table>\n",
              "</div>"
            ],
            "text/plain": [
              "                     중식계       석식계\n",
              "월              -0.154664 -0.127142\n",
              "일              -0.097392 -0.185565\n",
              "요일             -0.731563 -0.312112\n",
              "식사가능자수          0.151029  0.118615\n",
              "본사출장자수         -0.512680 -0.188164\n",
              "본사시간외근무명령서승인건수  0.535611  0.571168\n",
              "중식계             1.000000  0.508287\n",
              "석식계             0.508287  1.000000\n",
              "중식참여율           0.957156  0.475360\n",
              "석식참여율           0.479768  0.973722"
            ]
          },
          "metadata": {
            "tags": []
          },
          "execution_count": 32
        }
      ]
    },
    {
      "cell_type": "code",
      "metadata": {
        "id": "Oy9r1ObqboEE"
      },
      "source": [
        "sns.heatmap(train.corr()[['중식계', '석식계']])"
      ],
      "execution_count": null,
      "outputs": []
    },
    {
      "cell_type": "markdown",
      "metadata": {
        "id": "bO5-R7hLcET6"
      },
      "source": [
        "* 중식\n",
        "1. 요일\n",
        "2. 본사시간외근무명령서승인건수\n",
        "3. 본사출장자수\n",
        "\n",
        "* 석식\n",
        "1. 본사시간외근무명령서승인건수\n",
        "2. 요일\n",
        "3. 본사출장자수"
      ]
    },
    {
      "cell_type": "code",
      "metadata": {
        "colab": {
          "base_uri": "https://localhost:8080/",
          "height": 359
        },
        "id": "uX00wQk4b6MD",
        "outputId": "33d680e7-d44e-4a72-c86f-48d08c6675a7"
      },
      "source": [
        "train.corr()[['중식참여율', '석식참여율']]"
      ],
      "execution_count": null,
      "outputs": [
        {
          "output_type": "execute_result",
          "data": {
            "text/html": [
              "<div>\n",
              "<style scoped>\n",
              "    .dataframe tbody tr th:only-of-type {\n",
              "        vertical-align: middle;\n",
              "    }\n",
              "\n",
              "    .dataframe tbody tr th {\n",
              "        vertical-align: top;\n",
              "    }\n",
              "\n",
              "    .dataframe thead th {\n",
              "        text-align: right;\n",
              "    }\n",
              "</style>\n",
              "<table border=\"1\" class=\"dataframe\">\n",
              "  <thead>\n",
              "    <tr style=\"text-align: right;\">\n",
              "      <th></th>\n",
              "      <th>중식참여율</th>\n",
              "      <th>석식참여율</th>\n",
              "    </tr>\n",
              "  </thead>\n",
              "  <tbody>\n",
              "    <tr>\n",
              "      <th>월</th>\n",
              "      <td>-0.166198</td>\n",
              "      <td>-0.139499</td>\n",
              "    </tr>\n",
              "    <tr>\n",
              "      <th>일</th>\n",
              "      <td>-0.100648</td>\n",
              "      <td>-0.186355</td>\n",
              "    </tr>\n",
              "    <tr>\n",
              "      <th>요일</th>\n",
              "      <td>-0.697276</td>\n",
              "      <td>-0.284943</td>\n",
              "    </tr>\n",
              "    <tr>\n",
              "      <th>식사가능자수</th>\n",
              "      <td>-0.133553</td>\n",
              "      <td>-0.097914</td>\n",
              "    </tr>\n",
              "    <tr>\n",
              "      <th>본사출장자수</th>\n",
              "      <td>-0.618408</td>\n",
              "      <td>-0.267198</td>\n",
              "    </tr>\n",
              "    <tr>\n",
              "      <th>본사시간외근무명령서승인건수</th>\n",
              "      <td>0.473097</td>\n",
              "      <td>0.518348</td>\n",
              "    </tr>\n",
              "    <tr>\n",
              "      <th>중식계</th>\n",
              "      <td>0.957156</td>\n",
              "      <td>0.479768</td>\n",
              "    </tr>\n",
              "    <tr>\n",
              "      <th>석식계</th>\n",
              "      <td>0.475360</td>\n",
              "      <td>0.973722</td>\n",
              "    </tr>\n",
              "    <tr>\n",
              "      <th>중식참여율</th>\n",
              "      <td>1.000000</td>\n",
              "      <td>0.511255</td>\n",
              "    </tr>\n",
              "    <tr>\n",
              "      <th>석식참여율</th>\n",
              "      <td>0.511255</td>\n",
              "      <td>1.000000</td>\n",
              "    </tr>\n",
              "  </tbody>\n",
              "</table>\n",
              "</div>"
            ],
            "text/plain": [
              "                   중식참여율     석식참여율\n",
              "월              -0.166198 -0.139499\n",
              "일              -0.100648 -0.186355\n",
              "요일             -0.697276 -0.284943\n",
              "식사가능자수         -0.133553 -0.097914\n",
              "본사출장자수         -0.618408 -0.267198\n",
              "본사시간외근무명령서승인건수  0.473097  0.518348\n",
              "중식계             0.957156  0.479768\n",
              "석식계             0.475360  0.973722\n",
              "중식참여율           1.000000  0.511255\n",
              "석식참여율           0.511255  1.000000"
            ]
          },
          "metadata": {
            "tags": []
          },
          "execution_count": 26
        }
      ]
    },
    {
      "cell_type": "code",
      "metadata": {
        "id": "vYMGM2gtcOZ0"
      },
      "source": [
        "sns.heatmap(train.corr()[['중식참여율', '석식참여율']])"
      ],
      "execution_count": null,
      "outputs": []
    },
    {
      "cell_type": "code",
      "metadata": {
        "colab": {
          "base_uri": "https://localhost:8080/"
        },
        "id": "Dpvq5bKpcSvh",
        "outputId": "257ad71e-f217-46f5-e3d0-ac8ac1239cdf"
      },
      "source": [
        "train.corr()['중식참여율'].sort_values()"
      ],
      "execution_count": null,
      "outputs": [
        {
          "output_type": "execute_result",
          "data": {
            "text/plain": [
              "요일               -0.697276\n",
              "본사출장자수           -0.618408\n",
              "월                -0.166198\n",
              "식사가능자수           -0.133553\n",
              "일                -0.100648\n",
              "본사시간외근무명령서승인건수    0.473097\n",
              "석식계               0.475360\n",
              "석식참여율             0.511255\n",
              "중식계               0.957156\n",
              "중식참여율             1.000000\n",
              "Name: 중식참여율, dtype: float64"
            ]
          },
          "metadata": {
            "tags": []
          },
          "execution_count": 34
        }
      ]
    },
    {
      "cell_type": "code",
      "metadata": {
        "colab": {
          "base_uri": "https://localhost:8080/"
        },
        "id": "kOev09PScYG9",
        "outputId": "c7ce32ae-45d7-4f07-b98f-6241ded8fb50"
      },
      "source": [
        "train.corr()['석식참여율'].sort_values()"
      ],
      "execution_count": null,
      "outputs": [
        {
          "output_type": "execute_result",
          "data": {
            "text/plain": [
              "요일               -0.284943\n",
              "본사출장자수           -0.267198\n",
              "일                -0.186355\n",
              "월                -0.139499\n",
              "식사가능자수           -0.097914\n",
              "중식계               0.479768\n",
              "중식참여율             0.511255\n",
              "본사시간외근무명령서승인건수    0.518348\n",
              "석식계               0.973722\n",
              "석식참여율             1.000000\n",
              "Name: 석식참여율, dtype: float64"
            ]
          },
          "metadata": {
            "tags": []
          },
          "execution_count": 35
        }
      ]
    },
    {
      "cell_type": "markdown",
      "metadata": {
        "id": "aOzyxZxgcjg6"
      },
      "source": [
        "## **2. 라인그래프**\n",
        "1. 요일\n",
        "2. 월 (yet)\n",
        "3. 일 (yet)"
      ]
    },
    {
      "cell_type": "markdown",
      "metadata": {
        "id": "iqiDzJB1clW6"
      },
      "source": [
        "### **1. 요일**"
      ]
    },
    {
      "cell_type": "code",
      "metadata": {
        "id": "PgpQtGFZcdSz"
      },
      "source": [
        "# 요일별 features, labels 추이 확인\n",
        "fig, ax = plt.subplots(7)\n",
        "fig.set_size_inches(10, 12)\n",
        "\n",
        "sns.lineplot(data = train, x = '요일', y = '식사가능자수', ax = ax[0]) # ax는 plot에서 그림을 그릴 위치\n",
        "sns.lineplot(data = train, x = '요일', y = '본사출장자수', ax = ax[1])\n",
        "sns.lineplot(data = train, x = '요일', y = '본사시간외근무명령서승인건수', ax = ax[2])\n",
        "sns.lineplot(data = train, x = '요일', y = '중식계', ax = ax[3])\n",
        "sns.lineplot(data = train, x = '요일', y = '석식계', ax = ax[4])\n",
        "sns.lineplot(data = train, x = '요일', y = '중식참여율', ax = ax[5])\n",
        "sns.lineplot(data = train, x = '요일', y = '석식참여율', ax = ax[6])"
      ],
      "execution_count": null,
      "outputs": []
    },
    {
      "cell_type": "markdown",
      "metadata": {
        "id": "XAEAdJi7iKiz"
      },
      "source": [
        "요일별 데이터에서\n",
        "* 중식계는 본사출장자수와 반비례 관계,\n",
        "* 석식계는 본사시간외근무명령서승인건수와 정비례 관계로 밀접해 보임."
      ]
    },
    {
      "cell_type": "markdown",
      "metadata": {
        "id": "507Z_U_TiWhe"
      },
      "source": [
        "### **2. 월**"
      ]
    },
    {
      "cell_type": "code",
      "metadata": {
        "id": "HqjrihCNci0T"
      },
      "source": [
        "# 월별 features, labels 추이 확인\n",
        "# 월별로 보니 상관성이 떨어짐 (계절타나..?)\n",
        "fig, ax = plt.subplots(7)\n",
        "fig.set_size_inches(10, 12)\n",
        "\n",
        "sns.lineplot(data = train, x = '월', y = '식사가능자수', ax = ax[0])\n",
        "sns.lineplot(data = train, x = '월', y = '본사출장자수', ax = ax[1])\n",
        "sns.lineplot(data = train, x = '월', y = '본사시간외근무명령서승인건수', ax = ax[2])\n",
        "sns.lineplot(data = train, x = '월', y = '중식계', ax = ax[3])\n",
        "sns.lineplot(data = train, x = '월', y = '석식계', ax = ax[4])\n",
        "sns.lineplot(data = train, x = '월', y = '중식참여율', ax = ax[5])\n",
        "sns.lineplot(data = train, x = '월', y = '석식참여율', ax = ax[6])"
      ],
      "execution_count": null,
      "outputs": []
    },
    {
      "cell_type": "code",
      "metadata": {
        "colab": {
          "base_uri": "https://localhost:8080/",
          "height": 734
        },
        "id": "-ReAtbaIjljc",
        "outputId": "197e69da-c74b-467b-91db-a4e496d7b112"
      },
      "source": [
        "fig, ax = plt.subplots(7)\n",
        "fig.set_size_inches(10, 12)\n",
        "\n",
        "sns.lineplot(data = train, x = '일', y = '식사가능자수', ax = ax[0])\n",
        "sns.lineplot(data = train, x = '일', y = '본사출장자수', ax = ax[1])\n",
        "sns.lineplot(data = train, x = '일', y = '본사시간외근무명령서승인건수', ax = ax[2])\n",
        "sns.lineplot(data = train, x = '일', y = '중식계', ax = ax[3])\n",
        "sns.lineplot(data = train, x = '일', y = '석식계', ax = ax[4])\n",
        "sns.lineplot(data = train, x = '일', y = '중식참여율', ax = ax[5])\n",
        "sns.lineplot(data = train, x = '일', y = '석식참여율', ax = ax[6])"
      ],
      "execution_count": null,
      "outputs": [
        {
          "output_type": "execute_result",
          "data": {
            "text/plain": [
              "<AxesSubplot:xlabel='일', ylabel='석식참여율'>"
            ]
          },
          "metadata": {
            "tags": []
          },
          "execution_count": 30
        },
        {
          "output_type": "display_data",
          "data": {
            "image/png": "[encoded data removed]",
            "text/plain": [
              "<Figure size 720x864 with 7 Axes>"
            ]
          },
          "metadata": {
            "tags": [],
            "needs_background": "light"
          }
        }
      ]
    },
    {
      "cell_type": "markdown",
      "metadata": {
        "id": "vU1OCf9bHbG-"
      },
      "source": [
        "### **8-1. Word Embedding**\n",
        "\n"
      ]
    },
    {
      "cell_type": "code",
      "metadata": {
        "id": "pkHmWweVH_IJ"
      },
      "source": [
        "import pandas as pd\n",
        "import numpy as np\n",
        "import matplotlib.pyplot as plt\n",
        "from tqdm import tqdm\n",
        "from sklearn.preprocessing import LabelEncoder # 수치형 자료가 아닌 자료에 대해 모델 학습을 위해 정수형으로 바꿔주는 기능\n",
        "from sklearn.model_selection import train_test_split\n",
        "from sklearn.metrics import mean_absolute_error\n",
        "from lightgbm import LGBMRegressor # Tree 기반 학습 알고리즘 (Gradient Boosting 프레임워크)\n",
        "\n",
        "from gensim.models import Word2Vec\n",
        "from gensim.models import KeyedVectors # 워드 벡터를 저장하고 관리하는 기능, 유사성 조회\n",
        "from sklearn.manifold import TSNE # PCA 기반 차원 축소의 문제를 해결하기 위한 방법 (티스니)\n",
        "from sklearn.decomposition import PCA"
      ],
      "execution_count": null,
      "outputs": []
    },
    {
      "cell_type": "code",
      "metadata": {
        "id": "gUYuviq8IDwi"
      },
      "source": [
        "# Hyper Parameter\n",
        "class CFG:\n",
        "    emb_dim = 200\n",
        "\n",
        "args = CFG"
      ],
      "execution_count": null,
      "outputs": []
    },
    {
      "cell_type": "code",
      "metadata": {
        "id": "hqhv-Y5VIHjd"
      },
      "source": [
        "df_all = pd.concat([test, train]) # train, test 모두 사용 (data leakage 문제)"
      ],
      "execution_count": null,
      "outputs": []
    },
    {
      "cell_type": "code",
      "metadata": {
        "id": "otgGsoBeIM7R"
      },
      "source": [
        "# Basic text preprocessing\n",
        "def split_process(x, q):\n",
        "    x_ = []\n",
        "    x = x.split(' ')\n",
        "    for i in x:\n",
        "        if '(' in i and ':' in i and ')' in i:\n",
        "            continue\n",
        "        \n",
        "        if '/' in i:\n",
        "            x_.extend(i.split('/')) # 리스트 풀어서 할당 (append와 다른 점)\n",
        "        \n",
        "        else:\n",
        "            x_.append(i)\n",
        "    \n",
        "    x_ = list(set(x_))\n",
        "    x_.remove('')\n",
        "    return x_"
      ],
      "execution_count": null,
      "outputs": []
    },
    {
      "cell_type": "code",
      "metadata": {
        "id": "T-u_BIJzIO6s"
      },
      "source": [
        "# Get all combinations for training w2v (train + test)\n",
        "# 기존 조식 메뉴는 제거함\n",
        "food_combinations = []\n",
        "for i in ['중식메뉴', '석식메뉴']:\n",
        "    food_combinations += df_all[i].apply(lambda x: split_process(x, i)).to_list() # 중식, 석식 메뉴를 모두 메뉴 단위로 split해서 리스트로 만듦"
      ],
      "execution_count": null,
      "outputs": []
    },
    {
      "cell_type": "code",
      "metadata": {
        "colab": {
          "base_uri": "https://localhost:8080/"
        },
        "id": "2KSX7-NwIQVB",
        "outputId": "9951e065-f3b5-451f-f4db-292459b54aa0"
      },
      "source": [
        "food_combinations"
      ],
      "execution_count": null,
      "outputs": [
        {
          "output_type": "execute_result",
          "data": {
            "text/plain": [
              "[['흑미밥',\n",
              "  '양상추샐러드*딸기D',\n",
              "  '대구지리',\n",
              "  '상추무침',\n",
              "  '매운돈갈비찜',\n",
              "  '찰현미밥',\n",
              "  '오꼬노미계란말이',\n",
              "  '쌀밥',\n",
              "  '포기김치'],\n",
              " ['수제삼색무쌈',\n",
              "  '오리주물럭',\n",
              "  '우렁된장찌개',\n",
              "  '양상추샐러드*오미자D',\n",
              "  '보리밥',\n",
              "  '겉절이김치',\n",
              "  '청양부추전',\n",
              "  '찰현미밥',\n",
              "  '쌀밥'],\n",
              " ['흑미밥',\n",
              "  '팽이장국',\n",
              "  '가자미조림',\n",
              "  '양상추샐러드*파인요거트D',\n",
              "  '동초나물무침',\n",
              "  '찰현미밥',\n",
              "  '수제돈까스*소스',\n",
              "  '쌀밥',\n",
              "  '포기김치'],\n",
              " ['흑미밥',\n",
              "  '시금치프리타타',\n",
              "  '부추고추장무침',\n",
              "  '배추들깨국',\n",
              "  '양상추샐러드*망고D',\n",
              "  '오리대패불고기',\n",
              "  '찰현미밥',\n",
              "  '쌀밥',\n",
              "  '포기김치'],\n",
              " ['버섯탕수',\n",
              "  '양상추샐러드*오리엔탈D',\n",
              "  '닭살데리야끼조림',\n",
              "  '사과푸딩',\n",
              "  '알타리김치',\n",
              "  '부대찌개',\n",
              "  '찰현미밥',\n",
              "  '팥밥',\n",
              "  '쌀밥',\n",
              "  '세발나물무침'],\n",
              " ['미나리나물', '감자조림', '흑미밥', '매콤해물볶음', '콥샐러드*렌치D', '아욱국', '찰현미밥', '쌀밥', '포기김치'],\n",
              " ['설렁탕',\n",
              "  '고등어김치말이찜',\n",
              "  '차조밥',\n",
              "  '브로콜리숙회*초장',\n",
              "  '석박지',\n",
              "  '양상추샐러드*키위D',\n",
              "  '볼어묵굴소스볶음',\n",
              "  '찰현미밥',\n",
              "  '쌀밥'],\n",
              " ['흑미밥',\n",
              "  '북엇국',\n",
              "  '채소전*장',\n",
              "  '솎음열무나물무침',\n",
              "  '닭볶음탕',\n",
              "  '양상추샐러드*황도D',\n",
              "  '찰현미밥',\n",
              "  '쌀밥',\n",
              "  '포기김치'],\n",
              " ['흑미밥',\n",
              "  '콩나물파채무침',\n",
              "  '감자양파국',\n",
              "  '매콤어묵볶음',\n",
              "  '포기김치',\n",
              "  '양상추샐러드*자몽D',\n",
              "  '찰현미밥',\n",
              "  '쌀밥',\n",
              "  '돈수육*씨앗쌈장'],\n",
              " ['도라지오이초무침',\n",
              "  '양상추샐러드*참깨D',\n",
              "  '채소스틱*쌈장',\n",
              "  '적어양념장구이',\n",
              "  '장각백숙',\n",
              "  '겉절이김치',\n",
              "  '찰현미밥',\n",
              "  '기장밥',\n",
              "  '쌀밥'],\n",
              " ['유니짜장밥', '단무지락교무침', '그린샐러드*딸기요거트D', '짬뽕국', '계란후라이', '수제찹쌀꿔바로우', '포기김치'],\n",
              " ['소갈비찜',\n",
              "  '흑미밥',\n",
              "  '떡국',\n",
              "  '참나물겉절이',\n",
              "  '양상추샐러드*블루베리요거트D',\n",
              "  '한식잡채',\n",
              "  '찰현미밥',\n",
              "  '쌀밥',\n",
              "  '포기김치'],\n",
              " ['탕평채',\n",
              "  '양상추샐러드*오렌지D',\n",
              "  '오이스틱*쌈장',\n",
              "  '닭살겨자냉채',\n",
              "  '깍두기',\n",
              "  '수박',\n",
              "  '육개장',\n",
              "  '수수밥',\n",
              "  '찰현미밥',\n",
              "  '쌀밥'],\n",
              " ['흑미밥',\n",
              "  '삼겹살고추장구이',\n",
              "  '양상추샐러드*오리엔탈D',\n",
              "  '스프링롤*타르타르D',\n",
              "  '미니쌀국수',\n",
              "  '알타리김치',\n",
              "  '찰현미밥',\n",
              "  '동초나물무침',\n",
              "  '쌀밥'],\n",
              " ['완두콩밥',\n",
              "  '김치어묵탕',\n",
              "  '연근깨소스무침',\n",
              "  '수원왕갈비통닭',\n",
              "  '양상추샐러드*파인D',\n",
              "  '찰현미밥',\n",
              "  '두부양념조림',\n",
              "  '쌀밥',\n",
              "  '포기김치'],\n",
              " ['흑미밥',\n",
              "  '마약계란장조림',\n",
              "  '양상추샐러드*딸기D',\n",
              "  '김치전',\n",
              "  '해물누룽지탕',\n",
              "  '찰현미밥',\n",
              "  '유부장국',\n",
              "  '쌀밥',\n",
              "  '포기김치'],\n",
              " ['마카로니치즈범벅',\n",
              "  '흑미밥',\n",
              "  '양상추샐러드*감귤D',\n",
              "  '호박고추장찌개',\n",
              "  '요구르트',\n",
              "  '포기김치',\n",
              "  '안동찜닭',\n",
              "  '찰현미밥',\n",
              "  '쌀밥',\n",
              "  '세발나물무침'],\n",
              " ['깍두기', '등갈비김치찜', '근대국', '감자채전*장', '치커리무침', '보리밥', '파스타샐러드', '찰현미밥', '쌀밥'],\n",
              " ['양상추샐러드*석류D',\n",
              "  '흑미밥',\n",
              "  '쇠고기숙주볶음',\n",
              "  '맛살계란말이',\n",
              "  '물미역초고추장무침',\n",
              "  '찰현미밥',\n",
              "  '해물탕',\n",
              "  '쌀밥',\n",
              "  '포기김치'],\n",
              " ['흑미밥',\n",
              "  '나주곰탕',\n",
              "  '생선까스*타르타르D',\n",
              "  '그린샐러드*키위요거트D',\n",
              "  '석박지',\n",
              "  '방풍나물무침',\n",
              "  '찰현미밥',\n",
              "  '더덕양념구이',\n",
              "  '쌀밥'],\n",
              " ['오곡밥',\n",
              "  '이색나물(호박고지,건취나물)',\n",
              "  '옹심이국',\n",
              "  '베이비크랩강정',\n",
              "  '목살스테이크',\n",
              "  '양상추샐러드*망고D',\n",
              "  '부럼',\n",
              "  '찰현미밥',\n",
              "  '쌀밥',\n",
              "  '포기김치'],\n",
              " ['흑미밥',\n",
              "  '베이컨감자볶음',\n",
              "  '치즈불닭',\n",
              "  '양배추샐러드*사우전D',\n",
              "  '아욱국',\n",
              "  '찰현미밥',\n",
              "  '쌀밥',\n",
              "  '매운콩나물무침',\n",
              "  '포기김치'],\n",
              " ['황태미역국',\n",
              "  '흑미밥',\n",
              "  '망고푸딩',\n",
              "  '양상추샐러드*블루베리요거트D',\n",
              "  '느타리버섯볶음',\n",
              "  '동파육',\n",
              "  '참나물상추겉절이',\n",
              "  '찰현미밥',\n",
              "  '쌀밥',\n",
              "  '포기김치'],\n",
              " ['갈치조림',\n",
              "  '쑥갓두부무침',\n",
              "  '매운쇠고기샤브샤브국',\n",
              "  '알타리김치',\n",
              "  '수수부꾸미',\n",
              "  '찰현미밥',\n",
              "  '옥수수밥',\n",
              "  '쌀밥',\n",
              "  '양상추샐러드*자몽D'],\n",
              " ['미나리나물',\n",
              "  '흑미밥',\n",
              "  '양상추샐러드*참깨D',\n",
              "  '쑥국',\n",
              "  '닭다리튀김',\n",
              "  '골뱅이채소무침',\n",
              "  '찰현미밥',\n",
              "  '쌀밥',\n",
              "  '포기김치'],\n",
              " ['흑미밥',\n",
              "  '(New)순대탕수',\n",
              "  '얼갈이된장국',\n",
              "  '깻잎무쌈',\n",
              "  '양상추샐러드*딸기요거트D',\n",
              "  '오리불고기',\n",
              "  '찰현미밥',\n",
              "  '쌀밥',\n",
              "  '포기김치'],\n",
              " ['차조밥',\n",
              "  '양상추샐러드*오렌지D',\n",
              "  '매생이전',\n",
              "  '순살닭강정',\n",
              "  '깍두기',\n",
              "  '도라지오이생채',\n",
              "  '갈비탕',\n",
              "  '찰현미밥',\n",
              "  '쌀밥'],\n",
              " ['쥬시쿨', '봄나물비빔밥', '냉이된장국', '콥샐러드*렌치D', '도토리묵*양념장', '수제고기육전', '포기김치'],\n",
              " ['귀리밥',\n",
              "  '양상추샐러드*석류D',\n",
              "  '시금치고추장나물무침',\n",
              "  '타워함박스테이크',\n",
              "  '콩가루배추국',\n",
              "  '문어꽈리고추조림',\n",
              "  '찰현미밥',\n",
              "  '쌀밥',\n",
              "  '포기김치'],\n",
              " ['쌈채소*쌈장',\n",
              "  '흑미밥',\n",
              "  '부추무침',\n",
              "  '겉절이김치',\n",
              "  '어묵매운탕',\n",
              "  '찰현미밥',\n",
              "  '목살구이',\n",
              "  '쌀밥',\n",
              "  '양상추샐러드*콩소스D'],\n",
              " ['흑미밥',\n",
              "  '유부채소겨자냉채',\n",
              "  '깍두기',\n",
              "  '비엔나브로콜리볶음',\n",
              "  '묵은지닭찜',\n",
              "  '근대된장국',\n",
              "  '요구르트',\n",
              "  '양상추샐러드*망고D',\n",
              "  '찰현미밥',\n",
              "  '쌀밥'],\n",
              " ['쌀밥',\n",
              "  '고등어구이*와사비장',\n",
              "  '수수밥',\n",
              "  '건다래순볶음',\n",
              "  '찰현미밥',\n",
              "  '콩샐러드',\n",
              "  '어묵잡채',\n",
              "  '대파육개장',\n",
              "  '포기김치'],\n",
              " ['흑미밥',\n",
              "  '제육미나리볶음',\n",
              "  '물만둣국',\n",
              "  '아삭이고추된장무침',\n",
              "  '양상추샐러드*매실D',\n",
              "  '겉절이김치',\n",
              "  '두부까스*소스',\n",
              "  '찰현미밥',\n",
              "  '쌀밥'],\n",
              " ['머위나물',\n",
              "  '장각허브오븐구이*청양마요소스',\n",
              "  '수제오미산적',\n",
              "  '열무된장국',\n",
              "  '양배추샐러드*사우전D',\n",
              "  '찰현미밥',\n",
              "  '기장밥',\n",
              "  '쌀밥',\n",
              "  '포기김치'],\n",
              " ['흑미밥',\n",
              "  '(New)단호박계란찜',\n",
              "  '오이생채',\n",
              "  '포기김치',\n",
              "  '찰현미밥',\n",
              "  '버섯매운탕',\n",
              "  '쌀밥',\n",
              "  '그린샐러드*황도요거트D',\n",
              "  '돈갈비찜'],\n",
              " ['콩나물불고기',\n",
              "  '흑미밥',\n",
              "  '황태국',\n",
              "  '쇠고기납작당면볶음',\n",
              "  '삼색유자청무침',\n",
              "  '마카로니콘샐러드',\n",
              "  '찰현미밥',\n",
              "  '쌀밥',\n",
              "  '포기김치'],\n",
              " ['양상추샐러드*오렌지D',\n",
              "  '장어강정*데리야끼소스',\n",
              "  '깻잎쌈*생강채',\n",
              "  '요구르트',\n",
              "  '순남시래기국',\n",
              "  '유채나물된장무침',\n",
              "  '겉절이김치',\n",
              "  '검정콩밥',\n",
              "  '찰현미밥',\n",
              "  '쌀밥'],\n",
              " ['미역국',\n",
              "  '흑미밥',\n",
              "  '바베큐폭립',\n",
              "  '비름나물',\n",
              "  '건새우호박채전',\n",
              "  '양상추샐러드*블루베리요거트D',\n",
              "  '찰현미밥',\n",
              "  '쌀밥',\n",
              "  '포기김치'],\n",
              " ['차조밥',\n",
              "  '쫄면채소무침',\n",
              "  '취나물무침',\n",
              "  '양배추샐러드*사우전D',\n",
              "  '짜파치킨',\n",
              "  '아욱국',\n",
              "  '찰현미밥',\n",
              "  '쌀밥',\n",
              "  '포기김치'],\n",
              " ['양상추샐러드*흑임자D',\n",
              "  '흑미밥',\n",
              "  '가지나물',\n",
              "  '깍두기',\n",
              "  '풋마늘대무침',\n",
              "  '돈육김치찌개',\n",
              "  '소불고기',\n",
              "  '찰현미밥',\n",
              "  '쌀밥'],\n",
              " ['세발나물무침',\n",
              "  '흑미밥',\n",
              "  '그린샐러드*참깨D',\n",
              "  '동태매운탕',\n",
              "  '요거트푸딩',\n",
              "  '차돌박이구이&청경채찜',\n",
              "  '포기김치',\n",
              "  '찰현미밥',\n",
              "  '쌀밥',\n",
              "  '메추리알떡볶이'],\n",
              " ['완두콩밥',\n",
              "  '모듬채소*쌈장',\n",
              "  '수제보쌈김치',\n",
              "  '양상추샐러드*키위D',\n",
              "  '돈수육',\n",
              "  '찰현미밥',\n",
              "  '유부장국',\n",
              "  '브로콜리땅콩소스무침',\n",
              "  '쌀밥'],\n",
              " ['흑미밥',\n",
              "  '양상추샐러드*딸기요거트D',\n",
              "  '버섯초장무침',\n",
              "  '콩가루배추국',\n",
              "  '방풍나물',\n",
              "  '허니순살치킨',\n",
              "  '찰현미밥',\n",
              "  '쌀밥',\n",
              "  '포기김치'],\n",
              " ['채소스틱',\n",
              "  '바나나',\n",
              "  '양상추샐러드*발사믹D',\n",
              "  '통들깨부추무침',\n",
              "  '석박지',\n",
              "  '보리밥',\n",
              "  '해물동그랑땡채소볶음',\n",
              "  '찰현미밥',\n",
              "  '순대국밥*다대기',\n",
              "  '쌀밥'],\n",
              " ['양상추샐러드*석류D',\n",
              "  '흑미밥',\n",
              "  '꼬시래기무침',\n",
              "  '김말이강정',\n",
              "  '돈육춘장볶음',\n",
              "  '닭개장',\n",
              "  '찰현미밥',\n",
              "  '쌀밥',\n",
              "  '포기김치'],\n",
              " ['춘천닭갈비',\n",
              "  '흑미밥',\n",
              "  '양상추샐러드*오미자D',\n",
              "  '오지치즈후라이',\n",
              "  '가지두반장볶음',\n",
              "  '쇠고기미역국',\n",
              "  '찰현미밥',\n",
              "  '쌀밥',\n",
              "  '포기김치'],\n",
              " ['귀리밥',\n",
              "  '쌀밥',\n",
              "  '시리얼샐러드*요거트D',\n",
              "  '매콤소갈비찜',\n",
              "  '찰현미밥',\n",
              "  '돌나물초장무침',\n",
              "  '깻잎완자전',\n",
              "  '순두부백탕',\n",
              "  '포기김치'],\n",
              " ['흑미밥',\n",
              "  '냉이국',\n",
              "  '겉절이김치',\n",
              "  '양상추샐러드*시저D',\n",
              "  '돈육간장불고기',\n",
              "  '비빔냉면',\n",
              "  '찰현미밥',\n",
              "  '쌀밥',\n",
              "  '오이나물볶음'],\n",
              " ['(New)로제찜닭',\n",
              "  '유채나물무침',\n",
              "  '맑은떡국',\n",
              "  '양상추샐러드*자몽D',\n",
              "  '찰현미밥',\n",
              "  '옥수수밥',\n",
              "  '가자미구이*장',\n",
              "  '쌀밥',\n",
              "  '포기김치'],\n",
              " ['흑미밥',\n",
              "  '석박지',\n",
              "  '그린샐러드*망고D',\n",
              "  '청포묵*양념간장',\n",
              "  '비름나물고추장무침',\n",
              "  '해물누룽지탕',\n",
              "  '사골우거지국',\n",
              "  '찰현미밥',\n",
              "  '쌀밥'],\n",
              " ['오징어찌개', '잡곡밥', '쇠불고기', '요구르트', '청포묵무침', '계란찜', '쌀밥', '포기김치'],\n",
              " ['김치찌개', '잡곡밥', '마늘쫑무침', '모둠소세지구이', '요구르트', '배추겉절이', '가자미튀김', '쌀밥'],\n",
              " ['카레덮밥', '팽이장국', '요구르트', '견과류조림', '치킨핑거', '쫄면야채무침', '포기김치'],\n",
              " ['잡곡밥', '쇠고기무국', '요구르트', '주꾸미볶음', '시금치나물', '포기김치', '쌀밥', '부추전'],\n",
              " ['떡국', '우엉잡채', '잡곡밥', '청경채무침', '요구르트', '쌀밥', '돈육씨앗강정', '포기김치'],\n",
              " ['도토리묵무침', '잡곡밥', '시래기국', '요구르트', '쌈무', '양파절임', '훈제오리구이', '쌀밥', '포기김치'],\n",
              " ['유채나물', '잡곡밥', '요구르트', '꽃게탕', '돈육굴소스볶음', '쌀밥', '옥수수전', '포기김치'],\n",
              " ['시금치국', '잡곡밥', '콩나물무침', '요구르트', '연두부*양념장', '닭감자조림', '쌀밥', '포기김치'],\n",
              " ['오징어숙회무침', '탕수어', '잡곡밥', '취나물', '쇠고기무국', '요구르트', '쌀밥', '포기김치'],\n",
              " ['잡곡밥', '치커리무침', '요구르트', '통도라지구이', '냉이된장국', '쇠고기장조림', '쌀밥', '포기김치'],\n",
              " ['낙지비빔밥', '요구르트', '해초무침', '고구마치즈구이', '유부장국', '포기김치'],\n",
              " ['대구찌개', '마늘간장치킨', '잡곡밥', '새송이버섯볶음', '요구르트', '치킨무', '돌나물무침', '쌀밥', '포기김치'],\n",
              " ['오곡밥',\n",
              "  '호박꼬지&고사리&무나물',\n",
              "  '요구르트',\n",
              "  '부럼',\n",
              "  '파래김*양념장',\n",
              "  '쇠고기느타리국',\n",
              "  '갈치구이',\n",
              "  '쌀밥',\n",
              "  '포기김치'],\n",
              " ['돈육간장볶음', '잡곡밥', '버섯잡채', '콩나물국', '요구르트', '꽃상추무침', '쌀밥', '포기김치'],\n",
              " ['소세지피망볶음', '팽이장국', '요구르트', '비빔밥', '귤', '맛탕', '포기김치'],\n",
              " ['새싹두부구이', '잡곡밥', '곰피초장', '요구르트', '닭갈비', '북어계란국', '쌀밥', '포기김치'],\n",
              " ['수제비국', '도라지초무침', '잡곡밥', '요구르트', '계란찜', '오징어볶음', '쌀밥', '포기김치'],\n",
              " ['치커리생채', '잡곡밥', '얼갈이된장국', '제육볶음', '요구르트', '늙은호박전', '쌀밥', '포기김치'],\n",
              " ['아삭고추무침', '잡곡밥', '맛살계란말이', '주꾸미볶음', '쇠고기미역국', '쌀밥', '포기김치'],\n",
              " ['잡곡밥', '근대된장국', '요구르트', '탕수육', '새송이버섯조림', '무생채', '쌀밥', '포기김치'],\n",
              " ['잡곡밥', '깍두기', '열무된장나물', '부대찌개', '가자미튀김', '메추리알조림', '쌀밥'],\n",
              " ['톳두부무침', '모둠묵*양념장', '잡곡밥', '콩나물국', '닭갈비', '쌀밥', '포기김치'],\n",
              " ['풋마늘초무침', '잡곡밥', '깍두기', '고등어김치말이', '소세지구이', '쌀밥', '차돌박이찌개'],\n",
              " ['홍어무침', '잡곡밥', '돈육장조림', '시금치나물', '북어국', '쌀밥', '포기김치'],\n",
              " ['닭데리야끼조림', '잡곡밥', '취나물', '해물파전', '고추장찌개', '쌀밥', '포기김치'],\n",
              " ['탕평채', '잡곡밥', '쌀밥', '수제돈가스', '배추된장국', '쫄면무침', '포기김치'],\n",
              " ['모둠양채쌈*쌈장', '잡곡밥', '어묵국', '콩나물파채무침', '쌀밥', '돈육고추장볶음', '포기김치'],\n",
              " ['잡곡밥', '골뱅이무침*소면', '소불고기', '마늘쫑볶음', '쌀밥', '쑥국', '포기김치'],\n",
              " ['미니채소떡갈비', '콩나물김치국', '두부계란부침', '곤드레밥', '무나물', '포기김치'],\n",
              " ['탕수어', '잡곡밥', '깍두기', '파래김*양념장', '사골우거지국', '깻순나물', '쌀밥'],\n",
              " ['시금치국', '잡곡밥', '부추생채', '쌈무', '훈제오리구이', '연근땅콩조림', '쌀밥', '포기김치'],\n",
              " ['도토리묵무침', '잡곡밥', '꽃게탕', '버섯불고기', '계란말이', '쌀밥', '포기김치'],\n",
              " ['유채나물', '쇠고기샤브국', '잡곡밥', '깍두기', '두부&김치볶음', '코다리강정', '쌀밥'],\n",
              " ['콩나물밥*달래장', '치킨텐더*요거트D', '포기김치', '맑은국', '땅콩조림', '실곤약초무침'],\n",
              " ['잡곡밥', '시래기나물', '쌀밥', '쇠고기장조림', '북어계란국', '오징어초무침', '포기김치'],\n",
              " ['비엔나볶음', '잡곡밥', '열무나물', '배추겉절이', '닭개장', '자반고등어구이', '쌀밥'],\n",
              " ['잡곡밥', '취나물', '해파리냉채', '얼갈이된장국', '닭갈비', '쌀밥', '포기김치'],\n",
              " ['옹심이만두국', '잡곡밥', '새송이버섯전', '치커리유자청생채', '주꾸미볶음', '쌀밥', '포기김치'],\n",
              " ['오징어튀김', '봄새싹비빔밥', '알감자버터구이', '쪽파국', '오렌지', '포기김치'],\n",
              " ['동태전', '봄동나물', '잡곡밥', '매운콩나물국', '돈육굴소스볶음', '쌀밥', '포기김치'],\n",
              " ['아삭고추무침', '잡곡밥', '갈치조림', '버섯들깨탕', '우엉잡채', '쌀밥', '포기김치'],\n",
              " ['풋마늘초무침', '순두부찌개', '잡곡밥', '쇠불고기', '브로컬리맛살볶음', '쌀밥', '포기김치'],\n",
              " ['잡곡밥', '오징어볶음*소면', '시금치나물', '모둠소시지구이', '북어국', '쌀밥', '포기김치'],\n",
              " ['잡곡밥', '올갱이아욱국', '제육볶음', '두부조림', '모둠쌈*쌈장', '쌀밥', '포기김치'],\n",
              " ['잡곡밥', '어묵국', '매운돼지갈비찜', '해물파전', '무생채', '쌀밥', '포기김치'],\n",
              " ['잡곡밥', '순살양념치킨', '콩나물무침', '쌀밥', '메추리알조림', '배추된장국', '포기김치'],\n",
              " ['풋마늘초무침', '잡곡밥', '시래기국', '무쌈', '양파절임', '훈제오리구이', '쌀밥', '포기김치'],\n",
              " ['잡곡밥', '열무나물', '부대찌개', '시금치나물', '쇠고기단호박조림', '쌀밥', '포기김치'],\n",
              " ['수제비국', '잡곡밥', '양배추쌈', '돈육굴소스볶음', '무생채', '쌀밥', '포기김치'],\n",
              " ['닭데리야끼조림', '도라지초무침', '잡곡밥', '냉이된장찌개', '콩나물무침', '쌀밥', '포기김치'],\n",
              " ['잡곡밥', '콩나물잡채', '돈육강정', '쌀밥', '브로컬리두부무침', '배추된장국', '포기김치'],\n",
              " ['잡곡밥', '고기전', '꽁치한마리구이', '육개장', '해초무침', '쌀밥', '포기김치'],\n",
              " ['부추생채', '근대된장국', '콩나물밥', '청포묵무침', '매콤떡갈비조림', '포기김치'],\n",
              " ['청경채생채', '쇠고기볶음', '잡곡밥', '대구매운탕', '쌀밥', '옥수수전', '포기김치'],\n",
              " ['잡곡밥', '등갈비김치찜', '열무김치', '연근조림', '깻잎양념지', '북어국', '쌀밥'],\n",
              " ['잡곡밥', '콩나물국', '돈간장불고기', '김치전', '버섯볶음', '쌀밥', '포기김치'],\n",
              " ['잡곡밥', '풋마늘대무침', '쇠고기무국', '치즈계란말이', '주꾸미볶음', '쌀밥', '포기김치'],\n",
              " ['미소장국', '나물비빔밥', '알감자버터구이', '배추겉절이', '궁중떡찜', '유기농식혜'],\n",
              " ['미역국', '잡곡밥', '양념파닭', '치킨무', '콩자반', '포기김치', '쌀밥', '동그랑땡부침'],\n",
              " ['잡곡밥', '고등어카레구이', '깍두기', '돈육김치찌개', '치커리사과무침', '미트볼조림', '쌀밥'],\n",
              " ['시금치국', '잡곡밥', '비름나물', '닭갈비', '맛살겨자채', '쌀밥', '포기김치'],\n",
              " ['무채국', '모둠장조림', '곤드레밥', '볶은김치', '온두부', '실곤약초무침'],\n",
              " ['동태전', '쇠고기샤브국', '무생채', '잡곡밥', '오징어볶음', '쌀밥', '포기김치'],\n",
              " ['도토리묵무침', '잡곡밥', '무쌈', '양파절임', '훈제오리구이', '매운어묵국', '쌀밥', '포기김치'],\n",
              " ['잡곡밥', '콩나물국', '시금치나물', '버섯불고기', '쌀밥', '오징어초무침', '포기김치'],\n",
              " ['가지나물', '돈육칠리강정', '단호박영양밥', '멸치크랜베리볶음', '시래기된장국', '포기김치'],\n",
              " ['잡곡밥', '통도라지구이', '꽃맛살볶음', '찜닭', '쌀밥', '오징어국', '포기김치'],\n",
              " ['치커리유자생채', '잡곡밥', '매운돼지갈비찜', '해물파전', '배추겉절이', '된장찌개', '쌀밥'],\n",
              " ['잡곡밥', '감자고추장찌개', '꽃상추무침', '계란찜', '돈육굴소스볶음', '쌀밥', '포기김치'],\n",
              " ['잡곡밥', '고기전', '깍두기', '비름나물', '고등어김치말이', '들깨버섯탕', '쌀밥'],\n",
              " ['요플레', '미소장국', '산채비빔밥', '연근땅콩조림', '치킨핑거', '포기김치'],\n",
              " ['잡곡밥', '열무된장국', '미니채소떡갈비', '골뱅이무침*소면', '숙주나물', '쌀밥', '포기김치'],\n",
              " ['순두부찌개', '잡곡밥', '불미나리무침', '새송이버섯전', '닭오븐구이', '쌀밥', '포기김치'],\n",
              " ['잡곡밥', '오이무침', '쇠고기불고기', '북어콩나물국', '쌀밥', '옥수수전', '포기김치'],\n",
              " ['한방갈비탕', '오징어숙회무침', '치커리생채', '잡곡밥', '석박지', '꼬지삼색전', '쌀밥'],\n",
              " ['탕수어', '우엉조림', '낙지볶음밥', '미역장국', '매실주스', '포기김치'],\n",
              " ['비엔나감자볶음', '잡곡밥', '쇠고기해장국', '갈치구이', '무생채', '쌀밥', '포기김치'],\n",
              " ['동그랑땡전', '고구마순나물', '잡곡밥', '깍두기', '닭양념조림', '쌀밥', '배추된장국'],\n",
              " ['오이도라지생채', '잡곡밥', '누룽지탕수육', '명태조림', '콩나물김치국', '쌀밥', '포기김치'],\n",
              " ['잡곡밥', '잡채', '근대된장국', '깻잎양념지', '닭갈비', '쌀밥', '포기김치'],\n",
              " ['오징어튀김', '궁중떡볶이', '열무비빔밥', '강된장찌개', '음료', '포기김치'],\n",
              " ['잡곡밥', '두부구이', '오이미역냉국', '모둠장조림', '포기김치', '쌀밥', '실곤약초무침'],\n",
              " ['잡곡밥', '머위대나물', '김치전', '포기김치', '찜닭', '쌀밥', '차돌박이찌개'],\n",
              " ['가지나물', '잡곡밥', '홍어채무침', '돈육굴소스볶음', '북어계란국', '쌀밥', '포기김치'],\n",
              " ['브로컬리초장', '잡곡밥', '깍두기', '순살깐풍기', '참치김치찌개', '맛살콩나물냉채', '쌀밥'],\n",
              " ['잡곡밥', '돼지갈비찜', '매운콩나물국', '비름나물', '포기김치', '쌀밥', '부추전'],\n",
              " ['잡곡밥', '치커리사과무침', '모둠소시지구이', '된장찌개', '오징어볶음', '쌀밥', '포기김치'],\n",
              " ['잡곡밥', '제육볶음', '참치야채전', '북어콩나물국', '모둠쌈', '쌀밥', '포기김치'],\n",
              " ['탕평채', '잡곡밥', '열무김치', '어묵볶음', '닭양념조림', '쌀밥', '배추된장국'],\n",
              " ['카레덮밥', '떡갈비조림', '열무된장나물', '맑은국', '쫄면무침', '포기김치'],\n",
              " ['가자미양념찜', '잡곡밥', '고기전', '깍두기', '해초무침', '부대찌개', '쌀밥'],\n",
              " ['버섯잡채', '잡곡밥', '꽃게탕', '김구이', '돈육강정', '쌀밥', '포기김치'],\n",
              " ['잡곡밥', '어묵국', '시금치나물', '레몬탕수육', '명태엿장조림', '쌀밥', '포기김치'],\n",
              " ['대구찌개', '잡곡밥', '오이무침', '간장치킨', '치킨무', '마늘쫑볶음', '쌀밥', '포기김치'],\n",
              " ['상추쌈', '잡곡밥', '시래기국', '콩나물파채무침', '새송이버섯전', '돈삼겹보쌈', '쌀밥', '포기김치'],\n",
              " ['매콤낙지볶음', '잡곡밥', '쇠고기무국', '숙주나물', '메추리알조림', '쌀밥', '포기김치'],\n",
              " ['골뱅이무침&소면', '목살데리야끼구이', '잡곡밥', '간장깻잎지', '도토리묵냉국', '쌀밥', '포기김치'],\n",
              " ['야채스틱', '잡곡밥', '쌈무', '훈제오리구이', '포기김치', '쌀밥', '배추된장국', '실곤약초무침'],\n",
              " ['잡곡밥', '마늘쫑무침', '육개장', '닭가슴살냉채', '고등어구이', '쌀밥', '포기김치'],\n",
              " ['잡곡밥', '상추겉절이', '콩나물국', '간장돼지갈비찜', '계란말이', '쌀밥', '포기김치'],\n",
              " ['잡곡밥', '열무김치', '닭오븐구이', '버섯들깨찌개', '김치전', '치커리사과무침', '쌀밥'],\n",
              " ['수제비국', '양배추쌈*쌈장', '잡곡밥', '두부새싹구이', '유자청제육볶음', '쌀밥', '포기김치'],\n",
              " ['잡곡밥', '노각무침', '감자고추장찌개', '버섯불고기', '맛살겨자초무침', '쌀밥', '포기김치'],\n",
              " ['꽁치김치말이찜', '잡곡밥', '비름나물', '모둠소세지구이', '배추겉절이', '쇠고기미역국', '쌀밥'],\n",
              " ['가쯔오장국', '해물파전', '통도라지구이', '닭강정', '곤드레밥', '포기김치'],\n",
              " ['잡곡밥', '오이생채', '갈치조림', '된장찌개', '돈육잡채', '쌀밥', '포기김치'],\n",
              " ['갈릭돈까스', '영양부추', '잡곡밥', '우무묵냉국', '알타리김치', '감자볶음', '쌀밥'],\n",
              " ['잡곡밥', '홍어채무침', '돈육굴소스볶음', '호박잎찌개', '쌀밥', '모듬쌈*쌈장', '포기김치'],\n",
              " ['순살파닭', '건새우아욱국', '잡곡밥', '꽃맛살볶음', '쌀밥', '도라지나물', '포기김치'],\n",
              " ['사천식탕수육', '나물비빔밥', '수박', '오이냉국', '포기김치', '감자만두'],\n",
              " ['동태전', '잡곡밥', '매운주꾸미볶음', '알타리김치', '쌀밥', '브로컬리두부무침', '배추된장국'],\n",
              " ['가지나물', '잡곡밥', '등갈비김치찜', '열무김치', '삼치구이', '북어계란국', '쌀밥'],\n",
              " ['순두부찌개', '잡곡밥', '새송이버섯전', '해초무침', '쌀밥', '돈육떡강정', '포기김치'],\n",
              " ['잡곡밥', '목살데리야끼', '시래기국', '치커리들깨무침', '늙은호박전', '쌀밥', '포기김치'],\n",
              " ['사골우거지탕', '잡곡밥', '골뱅이무침*소면', '청포묵무침', '미트볼조림', '쌀밥', '포기김치'],\n",
              " ['잡곡밥', '우묵콩국', '깻잎지', '명태엿장조림', '알타리김치', '고추장불고기', '쌀밥'],\n",
              " ['미소장국', '고구마치즈구이', '락교', '토마토', '춘권', '참치회덮밥', '포기김치'],\n",
              " ['참나물생채', '불닭볶음', '잡곡밥', '해파리겨자채', '쌈무', '쇠고기미역국', '쌀밥', '포기김치'],\n",
              " ['잡곡밥', '청국장찌개', '미니채소떡갈비', '연근조림', '계란말이', '쌀밥', '포기김치'],\n",
              " ['시금치국', '잡곡밥', '감자채볶음', '수박', '오이도라지무침', '동파삼겹수육', '쌀밥', '포기김치'],\n",
              " ['동그랑땡전', '훈제오리냉채', '잡곡밥', '배추겉절이', '꽃게탕', '콩자반', '쌀밥'],\n",
              " ['꽁치오븐구이', '마늘쫑무침', '양배추피클', '도토리묵냉국', '연복풍덮밥', '포기김치'],\n",
              " ['잡곡밥', '닭살겨자냉채', '꽈리고추찜', '부대찌개*라면사리', '갈치구이', '쌀밥', '포기김치'],\n",
              " ['팽이장국', '꽃맛살볶음', '열무보리비빔밥', '알타리김치', '웨지감자오븐구이', '유기농식혜'],\n",
              " ['잡곡밥', '콩나물무침', '레몬탕수육', '버섯들깨탕', '메추리알조림', '쌀밥', '포기김치'],\n",
              " ['닭데리야끼조림', '비엔나감자볶음', '잡곡밥', '시금치무침', '복숭아미역냉국', '쌀밥', '포기김치'],\n",
              " ['매콤돼지갈비찜', '오징어튀김', '잡곡밥', '열무김치', '연근', '된장찌개', '무생채', '쌀밥'],\n",
              " ['도라지초무침', '잡곡밥', '유자청제육볶음', '오꼬노미계란말이', '호박잎된장국', '쌀밥', '포기김치'],\n",
              " ['잡곡밥', '오이무침', '콩나물국', '오징어브로컬리숙회', '미니함박조림', '쌀밥', '포기김치'],\n",
              " ['치커리생채', '우엉잡채', '잡곡밥', '장어강정', '쌀밥', '사과오이냉국', '포기김치'],\n",
              " ['매운어묵볶음', '잡곡밥', '시래기국', '상추&마늘', '삼겹살오븐구이', '쌀밥', '포기김치'],\n",
              " ['고구마범벅', '노각무침', '새우까스&탈탈소스', '불고기덮밥', '맑은국', '포기김치'],\n",
              " ['잡곡밥', '비엔나피망볶음', '해초무침', '알타리김치', '닭곰탕', '고등어조림', '쌀밥'],\n",
              " ['잡곡밥', '고기전', '청경채무침', '대구매운탕', '오징어볶음', '쌀밥', '포기김치'],\n",
              " ['갈릭돈가스', '잡곡밥', '열무된장국', '마늘쫑볶음', '포기김치', '쌀밥', '실곤약초무침'],\n",
              " ['소고기숙주볶음', '단호박영양밥', '쑥갓두부무침', '도토리묵냉국', '땅콩조림', '포기김치'],\n",
              " ['고추잡채*꽃빵', '잡곡밥', '오이무침', '꽃게탕', '포기김치', '쌀밥', '꽁치와사비구이'],\n",
              " ['잡곡밥', '콩나물무침', '열무김치', '두부조림', '쌀밥', '칠리탕수육', '배추된장국'],\n",
              " ['치커리유자청무침', '해물된장찌개', '잡곡밥', '연근조림', '닭볶음', '쌀밥', '포기김치'],\n",
              " ['동태무조림', '잡곡밥', '육개장', '포기김치', '올방개묵무침', '쌀밥', '부추전'],\n",
              " ['떡국', '잡곡밥', '꽃맛살오리엔탈샐러드', '마늘치킨', '홍어채무침', '쌀밥', '포기김치'],\n",
              " ['아삭고추무침', '순두부찌개', '잡곡밥', '골뱅이무침*소면', '소불고기', '쌀밥', '포기김치'],\n",
              " ['잡곡밥', '모듬소시지볶음', '호박잎쌈*양념', '갈치구이', '버섯매운탕', '쌀밥', '포기김치'],\n",
              " ['가쯔오장국', '열무김치', '낙지비빔밥', '과일샐러드', '계란말이', '단무지무침'],\n",
              " ['브로컬리초장', '버섯잡채', '잡곡밥', '목살데리야끼', '쌀밥', '오징어국', '포기김치'],\n",
              " ['닭찜', '잡곡밥', '해물파전', '청경채무침', '포기김치', '쌀밥', '시래기된장국'],\n",
              " ['쇠고기샤브국', '잡곡밥', '포기김치', '오징어볶음', '쌀밥', '옥수수전', '연두부*양념'],\n",
              " ['잡곡밥', '참나물땅콩무침', '모둠버섯볶음', '부대찌개', '파김치', '가자미카레튀김', '쌀밥'],\n",
              " ['오이무침', '두부맑은국', '계란찜', '곤드레밥', '돈육떡강정', '포기김치'],\n",
              " ['오리고추장볶음', '잡곡밥', '부추생채', '콩나물잡채', '된장찌개', '알타리김치', '쌀밥'],\n",
              " ['도토리묵무침', '잡곡밥', '유린기', '숙주나물', '황태맑은국', '쌀밥', '포기김치'],\n",
              " ['동그랑땡', '잡곡밥', '시래기국', '깍두기', '상추겉절이', '닭볶음', '쌀밥'],\n",
              " ['토란국', '잡곡밥', '매운돼지갈비찜', '어묵볶음', '쑥갓두부무침', '쌀밥', '포기김치'],\n",
              " ['잡곡밥', '어묵국', '오리훈제고추장볶음', '계란말이', '쌀밥', '애호박나물', '포기김치'],\n",
              " ['참나물생채', '잡곡밥', '감자채볶음', '얼갈이된장국', '레몬탕수육', '쌀밥', '포기김치'],\n",
              " ['너비아니구이', '깍두기', '팽이장국', '열무비빔밥', '핫도그', '음료', '땅콩조림'],\n",
              " ['잡곡밥', '쇠고기무국', '햄피망볶음', '단배추나물', '임연수찜', '쌀밥', '포기김치'],\n",
              " ['잡곡밥', '소고기숙주볶음', '두부조림', '무생채', '쌀밥', '오징어국', '포기김치'],\n",
              " ['유자청돈육볶음', '잡곡밥', '아욱된장국', '양배추쌈&쌈장', '우엉잡채', '쌀밥', '포기김치'],\n",
              " ['잡곡밥', '열무된장나물', '느타리버섯국', '간장파닭', '쌀밥', '쫄면무침', '포기김치'],\n",
              " ['오이무침', '샐러드파스타', '카레덮밥', '새송이버섯조림', '맑은국', '포기김치'],\n",
              " ['잡곡밥', '돈육장조림', '된장찌개', '호박부추전', '올방개묵무침', '쌀밥', '포기김치'],\n",
              " ['브로컬리초장', '잡곡밥', '우거지해장국', '꽁치한마리구이', '가지볶음', '알타리김치', '쌀밥'],\n",
              " ['잡곡밥', '골뱅이소면무침', '버섯불고기', '마늘쫑건새우볶음', '쌀밥', '배추된장국', '포기김치'],\n",
              " ['잡곡밥', '콩나물무침', '모둠소세지구이', '매운주꾸미볶음', '포기김치', '쌀밥', '차돌박이찌개'],\n",
              " ['미역국', '오징어숙회무침', '동태', '잡곡밥', '배추겉절이', '새송이전', '한방소갈비찜', '쌀밥'],\n",
              " ['잡곡밥', '부추생채', '대구매운탕', '메추리알곤약조림', '쌀밥', '표고돈육탕수', '포기김치'],\n",
              " ['쇠고기샤브국', '잡곡밥', '참나물무침', '맛살계란말이', '오징어볶음', '쌀밥', '포기김치'],\n",
              " ['버섯잡채', '잡곡밥', '오이무침', '시금치된장국', '배추겉절이', '목살스테이크', '쌀밥'],\n",
              " ['오렌지주스', '오복지무침', '*타르타르소스', '팽이버섯국', '생선커틀릿', '산채비빔밥*강된장', '포기김치'],\n",
              " ['떡국', '잡곡밥', '모듬묵*양념장', '열무된장나물', '마늘치킨', '쌀밥', '포기김치'],\n",
              " ['잡곡밥', '등갈비김치찜', '애호박나물', '계란버섯장조림', '쌀밥', '건새우무국', '포기김치'],\n",
              " ['미역국', '모둠양채쌈', '매운어묵볶음', '잡곡밥', '소불고기', '쌀밥', '포기김치'],\n",
              " ['치커리유자청무침', '잡곡밥', '꽃게탕', '미트볼칠리조림', '포기김치', '쌀밥', '부추전'],\n",
              " ['셀프무쌈말이', '잡곡밥', '멸치크렌베리볶음', '유린기', '참치김치찌개', '쌀밥', '포기김치'],\n",
              " ['잡곡밥', '메밀버섯전', '돈신탕(해장탕)', '쑥갓두부무침', '알타리김치', '꽁치김치말이', '쌀밥'],\n",
              " ['사천식탕수육', '단무지', '짜장밥', '풍기샐러드', '계란국', '포기김치'],\n",
              " ['잡곡밥', '콩나물무침', '해물파전', '제육볶음', '된장찌개', '쌀밥', '포기김치'],\n",
              " ['고추잡채*꽃빵', '잡곡밥', '깍두기', '육개장', '미역레몬초무침', '갈치구이', '쌀밥'],\n",
              " ['데리야끼파닭', '포기김치', '곤드레밥', '땅콩조림', '배추된장국', '실곤약초무침'],\n",
              " ['잡곡밥', '돈육장조림', '해초무침', '동태찌개', '두부계란전', '쌀밥', '포기김치'],\n",
              " ['비엔나감자볶음', '잡곡밥', '통도라지구이', '알타리김치', '버섯들깨탕', '고등어조림', '쌀밥'],\n",
              " ['잡곡밥', '쇠고기숙주볶음', '근대된장국', '새송이버섯전', '홍어채무침', '쌀밥', '포기김치'],\n",
              " ['잡곡밥', '알탕', '닭갈비', '시금치나물', '생선까스*탈탈소스', '쌀밥', '포기김치'],\n",
              " ['훈제오리', '가쯔오장국', '무쌈', '양파절임', '콩나물밥', '부추겉절이', '포기김치'],\n",
              " ['잡곡밥', '쭈꾸미볶음', '쇠고기무국', '계란말이', '쌀밥', '세발나물', '포기김치'],\n",
              " ['사골우거지탕', '모듬소세지구이', '잡곡밥', '오이무침', '석박지', '명태엿장조림', '쌀밥'],\n",
              " ['잡곡밥', '유자청제육볶음', '날치알계란찜', '상추파채무침', '쌀밥', '오징어국', '포기김치'],\n",
              " ['동그랑땡전', '잡곡밥', '순살양념치킨', '깻잎지', '포기김치', '쌀밥', '차돌박이찌개'],\n",
              " ['고추잡채*꽃빵', '연근조림', '단호박영양밥', '꽃게탕', '귤', '무생채', '포기김치'],\n",
              " ['닭살겨자채', '잡곡밥', '멸치아몬드볶음', '알타리김치', '김치콩나물국', '쇠고기장조림', '쌀밥'],\n",
              " ['동태전', '잡곡밥', '아욱된장국', '치커리무침', '칠리탕수육', '쌀밥', '포기김치'],\n",
              " ['오징어숙회무침', '소고기버섯볶음', '잡곡밥', '어묵국', '부추호박전', '쌀밥', '포기김치'],\n",
              " ['닭데리야끼조림', '김치국', '잡곡밥', '브로컬리무침', '포기김치', '쌀밥', '햄감자채볶음'],\n",
              " ['버섯영양밥', '청경채무침', '조랭이떡미역국', '유산슬', '임연수구이', '포기김치'],\n",
              " ['설렁탕', '잡곡밥', '깍두기', '해물김치전', '풋고추*양파', '올방개묵무침', '쌀밥'],\n",
              " ['잡곡밥', '어묵볶음', '순살깐풍기', '갓김치', '쌈다시마초장', '쌀밥', '콩비지찌개'],\n",
              " ['도라지초무침', '누룽지탕수육', '잡곡밥', '계란찜', '포기김치', '쌀밥', '시래기된장국'],\n",
              " ['새싹두부구이', '잡곡밥', '오이생채', '쇠고기숙주볶음', '대구매운탕', '쌀밥', '포기김치'],\n",
              " ['잡곡밥', '파닭', '청포묵무침', '순두부탕', '갈치조림', '쌀밥', '포기김치'],\n",
              " ['수제비국', '잡곡밥', '우엉잡채', '참나물', '쌀밥', '짬뽕불고기', '포기김치'],\n",
              " ['통감자오븐구이', '샐러드파스타', '카레덮밥', '연근땅콩조림', '베추겉절이', '맑은국'],\n",
              " ['물파래무침', '잡곡밥', '모둠소시지구이', '쇠고기느타리국', '오징어볶음', '쌀밥', '포기김치'],\n",
              " ['잡곡밥', '근대국', '제육볶음', '늙은호박전', '모둠쌈', '쌀밥', '포기김치'],\n",
              " ['감자샐러드', '가쯔오장국', '나물비빔밥', '치킨핑거*요거트D', '오복지무침', '포기김치'],\n",
              " ['톳두부무침', '잡곡밥', '골뱅이무침*소면', '콩나물국', '모둠장조림', '알타리김치', '쌀밥'],\n",
              " ['떡국', '잡곡밥', '콩나물겨자채', '청경채무침', '양념찜닭', '쌀밥', '포기김치'],\n",
              " ['순두부찌개', '잡곡밥', '참치야채전', '훈제오리구이', '무쌈말이', '쌀밥', '포기김치'],\n",
              " ['홍합탕', '잡곡밥', '실곤약흑임자무침', '배추쌈', '삼겹살오븐구이', '무말랭이', '쌀밥', '포기김치'],\n",
              " ['쨔샤이무침', '개성감자만두', '짜장밥', '해물누룽지탕', '유부장국', '아이스슈', '포기김치'],\n",
              " ['상추초무침', '잡곡밥', '버섯메밀전', '알타리김치', '아욱국', '양념돼지갈비찜', '쌀밥'],\n",
              " ['잡곡밥', '마늘쫑무침', '닭가슴살냉채', '삼치무조림', '쌀밥', '차돌박이된장찌개', '포기김치'],\n",
              " ['잡곡밥', '깍두기', '매운어묵무침', '콩나물김치국', '돈육굴소스볶음', '다시마*브로컬리', '쌀밥'],\n",
              " ['잡곡밥', '냉이된장찌개', '오이도라지무침', '코다리강정', '돈육잡채', '쌀밥', '포기김치'],\n",
              " ['가쯔오장국', '소불고기덮밥', '멕시칸샐러드', '고구마튀김', '청경채무침', '포기김치'],\n",
              " ['오리고추장볶음', '옥수수계란찜', '잡곡밥', '부추생채', '포기김치', '쌀밥', '콩비지찌개'],\n",
              " ['아삭고추무침', '쇠고기샤브국', '비엔케찹볶음', '잡곡밥', '갈치구이', '쌀밥', '포기김치'],\n",
              " ['잡곡밥', '감자채볶음', '하루나겉절이', '쌀밥', '배추된장국', '짬뽕불고기', '포기김치'],\n",
              " ['고추잡채*꽃빵', '잡곡밥', '깍두기', '콩나물국', '올방개묵무침', '꽁치김치말이', '쌀밥'],\n",
              " ['가지나물', '마늘간장치킨', '잡곡밥', '된장찌개', '홍어채무침', '쌀밥', '포기김치'],\n",
              " ['양배추쌈*쌈장', '잡곡밥', '오이무침', '꽃게탕', '포기김치', '쌀밥', '쇠고기버섯볶음'],\n",
              " ['동태전', '치커리유자청무침', '잡곡밥', '떡갈비조림', '얼갈이국', '쌀밥', '포기김치'],\n",
              " ['잡곡밥', '두부새싹구이', '풋마늘대무침', '돈육간장불고기', '동태찌개', '쌀밥', '포기김치'],\n",
              " ['잡곡밥', '열무된장국', '닭갈비', '우엉잡채', '쌀밥', '포기김치'],\n",
              " ['가쯔오장국', '미트볼케찹조림', '배추겉절이', '콩나물밥', '군고구마', '꽃맛살샐러드'],\n",
              " ['잡곡밥', '시래기국', '오징어볶음*소면', '쑥갓두부무침', '소세지감자조림', '쌀밥', '포기김치'],\n",
              " ['순두부찌개', '잡곡밥', '꽈리고추어묵볶음', '물미역초장', '수제돈까스', '쌀밥', '포기김치'],\n",
              " ['쇠고기낙지볶음', '잡곡밥', '사골떡국', '통도라지구이', '부추깻잎전', '쌀밥', '포기김치'],\n",
              " ['홍합탕', '잡곡밥', '언양식불고기', '콩나물파채절이', '포기김치', '쌀밥', '매운동태찜'],\n",
              " ['동그랑땡전', '비빔메밀국수', '황태국', '꽈리고추멸치볶음', '배추겉절이', '곤드레밥'],\n",
              " ['청경채생채', '잡곡밥', '육개장', '두반장감자볶음', '포기김치', '쌀밥', '굴비구이'],\n",
              " ['잡곡밥', '어묵볶음', '레몬탕수육', '된장찌개', '포기김치', '쌀밥', '주꾸미초무침'],\n",
              " ['잡곡밥', '콩나물국', '동파육', '포기김치', '무쌈말이', '쌀밥', '쫑상추무침'],\n",
              " ['잡곡밥', '고기전', '쇠고기미역국', '두반장가지볶음', '쌀밥', '주꾸미떡볶음', '포기김치'],\n",
              " ['씨리얼과일샐러드', '팽이장국', '생선까스', '오복지무침', '비빔밥', '포기김치'],\n",
              " ['잡곡밥', '어묵국', '봄동된장무침', '배추겉절이', '모듬버섯구이*초장', '매운닭찜', '쌀밥'],\n",
              " ['치커리유자생채', '잡곡밥', '잡채', '짬뽕국', '미니함박조림', '쌀밥', '포기김치'],\n",
              " ['잡곡밥', '얼갈이된장국', '참나물땅콩무침', '오징어볶음*소면', '꽃맛살햄볶음', '쌀밥', '포기김치'],\n",
              " ['삼색묵무침', '순두부찌개', '잡곡밥', '쇠고기숙주볶음', '시금치초생채', '쌀밥', '포기김치'],\n",
              " ['잡곡밥', '부추무침', '배추겉절이', '무쌈', '훈제오리구이', '아욱국', '쌀밥', '옥수수전'],\n",
              " ['수제비국', '유자청돈육볶음', '잡곡밥', '두부새싹구이', '청경채무침', '쌀밥', '포기김치'],\n",
              " ['비엔나케찹볶음', '잡곡밥', '파래김*양념장', '닭개장', '가자미카레튀김', '쌀밥', '포기김치'],\n",
              " ['냉이콩나물국', '잡곡밥', '새송이버섯전', '마늘쫑무침', '닭볶음', '쌀밥', '포기김치'],\n",
              " ['잡곡밥', '감자채볶음', '알탕', '돈육간장불고기', '깻잎찜', '쌀밥', '포기김치'],\n",
              " ['개성감자만두', '오이사과무침', '카레덮밥', '유린기', '맑은국', '포기김치'],\n",
              " ['소갈비찜', '잡곡밥', '삼색꼬지전', '콩나물무침', '쌀밥', '배추된장국', '포기김치'],\n",
              " ['미역국', '잡곡밥', '양잡피잡채', '포기김치', '언양식불고기*양파채', '쌀밥', '진미채무침'],\n",
              " ['닭살겨자채', '잡곡밥', '시금치된장국', '모듬쌈', '고추장불고기', '쌀밥', '포기김치'],\n",
              " ['치커리생채', '잡곡밥', '스위트칠리미트볼', '굴김치두부국', '알타리김치', '갈치구이', '쌀밥'],\n",
              " ['잡곡밥', '콩나물국', '소고기낙지볶음', '연두부찜', '무생채', '쌀밥', '포기김치'],\n",
              " ['감자전', '잡곡밥', '냉이된장찌개', '닭갈비', '단배추나물', '쌀밥', '포기김치'],\n",
              " ['잡곡밥', '실곤약무침', '땅콩멸치볶음', '대구매운탕', '유산슬', '쌀밥', '포기김치'],\n",
              " ['춘권*칠리소스', '닭오븐구이', '콩나물밥', '물미역무침', '맑은국', '포기김치'],\n",
              " ['치커리생채', '잡곡밥', '명태조림', '배추국', '알타리김치', '수제돈까스', '쌀밥'],\n",
              " ['오곡밥', '소고기무국', '홍어무침', '보름나물', '김구이', '굴비구이', '포기김치'],\n",
              " ['잡곡밥', '제육볶음', '도라지오이생채', '두부구이*양념장', '쇠고기미역국', '쌀밥', '포기김치'],\n",
              " ['잡곡밥', '배추겉절이', '주꾸미볶음', '숙주나물', '된장찌개', '돈육잡채', '쌀밥'],\n",
              " ['순살파닭', '잡곡밥', '해물김치전', '다시마쌈', '들깨시래기국', '쌀밥', '포기김치'],\n",
              " ['홍합탕', '잡곡밥', '소불고기', '얼갈이나물', '쌀밥', '오징어초무침', '포기김치'],\n",
              " ['동태전', '잡곡밥', '등갈비김치찜', '어묵국', '부추무침', '깍두기', '쌀밥'],\n",
              " ['잡곡밥', '열무된장국', '새송이버섯전', '동파육', '치커리유자무침', '쌀밥', '포기김치'],\n",
              " ['잡곡밥', '취나물', '배추겉절이', '버섯들깨탕', '야채계란찜', '낙지볶음', '쌀밥'],\n",
              " ['나물비빔밥', '파스타샐러드', '생선까스*탈탈소스', '마늘쫑볶음', '유부장국', '알타리김치'],\n",
              " ['브로컬리초장', '잡곡밥', '돼지갈비찜', '콩나물국', '메추리알조림', '쌀밥', '포기김치'],\n",
              " ['수제비국', '잡곡밥', '깐풍기', '어묵볶음', '톳무침', '쌀밥', '포기김치'],\n",
              " ['봄동된장국', '잡곡밥', '양파절임', '훈제오리구이', '녹두김치전', '쌀밥', '오이부추무침', '포기김치'],\n",
              " ['콩나물동태찜', '잡곡밥', '배추겉절이', '사골떡국', '언양식불고기', '돌나물무침', '쌀밥'],\n",
              " ['잡곡밥', '깍두기', '팝콘치킨*데리마요', '돈육김치찌개', '해초무침', '고등어조림', '쌀밥'],\n",
              " ['무피클', '미니채소떡갈비', '카레덮밥', '군만두', '맑은국', '포기김치'],\n",
              " ['동그랑땡전', '잡곡밥', '어묵국', '순살닭갈비', '치커리사과무침', '쌀밥', '포기김치'],\n",
              " ['봄동달래무침', '잡곡밥', '돈육칠리강정', '꽁치한마리구이', '쌀밥', '토란탕', '포기김치'],\n",
              " ['미소국', '고추간장지', '포기김치', '곤드레밥*강된장', '오징어볶음', '햄감자채볶음'],\n",
              " ['잡곡밥', '석박지', '골뱅이무침*소면', '숙주나물', '마늘치킨', '아욱국', '쌀밥'],\n",
              " ['얼큰순두부찌개', '잡곡밥', '해물청경채볶음', '도라지오이생채', '계란말이', '쌀밥', '포기김치'],\n",
              " ['잡곡밥', '버섯불고기', '파래김*양념장', '야채계란찜', '쌀밥', '오징어국', '포기김치'],\n",
              " ['미트볼케찹조림', '잡곡밥', '방풍나물', '동태찌개', '우엉잡채', '쌀밥', '포기김치'],\n",
              " ['잡곡밥', '근대국', '건새우마늘쫑볶음', '양념찜닭', '쌀밥', '옥수수전', '포기김치'],\n",
              " ['옹심이만두국', '잡곡밥', '콩나물겨자채', '모듬쌈', '돈육굴소스볶음', '쌀밥', '포기김치'],\n",
              " ['치킨커틀렛', '잡곡밥', '고추장찌개', '배추겉절이', '연근땅콩조림', '시금치나물', '쌀밥'],\n",
              " ['콩나물불고기', '잡곡밥', '상추무침', '아욱국', '맛살전', '쌀밥', '포기김치'],\n",
              " ['잡곡밥', '냉이된장찌개', '부추생채', '포기김치', '쇠고기장조림', '쌀밥', '굴비구이'],\n",
              " ['비엔나볶음', '잡곡밥', '깍두기', '돈육김치찌개', '유린기', '쌀밥', '세발나물'],\n",
              " ['잡곡밥', '돼지갈비찜', '콩가루배추국', '통도라지구이', '물파래전', '쌀밥', '포기김치'],\n",
              " ['고추잡채*꽃빵', '잡곡밥', '대구매운탕', '김구이', '올방개묵무침', '쌀밥', '포기김치'],\n",
              " ['잡곡밥', '알탕', '소고기숙주볶음', '얼갈이나물', '오꼬노미계란말이', '쌀밥', '포기김치'],\n",
              " ['탕평채', '잡곡밥', '주꾸미볶음', '시금치나물', '소고기미역국', '쌀밥', '포기김치'],\n",
              " ['바나나', '팽이장국', '봄나물비빔밥', '언양식불고기', '땅콩조림', '포기김치'],\n",
              " ['사천식탕수육', '잡곡밥', '김치전', '쑥갓두부무침', '북어콩나물국', '쌀밥', '포기김치'],\n",
              " ['닭가슴살장조림', '잡곡밥', '콩나물무침', '생선커틀렛', '쇠고기무국(빨갛게)', '쌀밥', '포기김치'],\n",
              " ['훈제오리(마늘만)', '잡곡밥', '오이달래무침', '쌈무', '꽃게탕', '양파절임', '쌀밥', '포기김치'],\n",
              " ['동태전', '도토리묵무침', '잡곡밥', '쇠불고기', '배추겉절이', '된장찌개', '쌀밥'],\n",
              " ['맑은계란국', '짜장밥', '유산슬', '포기김치', '단무지무침', '부추만두'],\n",
              " ['잡곡밥', '근대국', '크래미숙주무침', '감자채전', '마늘치킨', '쌀밥', '포기김치'],\n",
              " ['참나물생채', '잡곡밥', '미니채소떡갈비', '육개장', '버섯구이*발사믹D', '쌀밥', '포기김치'],\n",
              " ['쇠고기낙지볶음', '잡곡밥', '비름나물', '날치알계란찜', '얼갈이국', '쌀밥', '포기김치'],\n",
              " ['김치찌개', '잡곡밥', '열무김치', '청경채무침', '해물누룽지탕', '우엉잡채', '쌀밥'],\n",
              " ['파채상추무침', '잡곡밥', '삼겹살오븐구이', '맛살콩나물냉채', '포기김치', '쌀밥', '들깨미역국'],\n",
              " ['닭데리야끼조림', '매운어묵볶음', '잡곡밥', '황태국', '시금치나물', '쌀밥', '포기김치'],\n",
              " ['머위된장나물', '쇠고기샤브국', '잡곡밥', '메추리알조림', '오징어볶음', '쌀밥', '포기김치'],\n",
              " ['오징어숙회무침', '잡곡밥', '방풍나물', '된장찌개', '돈육굴소스볶음', '쌀밥', '포기김치'],\n",
              " ['얼갈이겉절이', '시금치프리타타', '잡곡밥', '도라지생채', '들깨시래기국', '쇠고기장조림', '쌀밥'],\n",
              " ['탕수어', '요플레', '곤드레밥', '맑은국', '쫄면무침', '포기김치'],\n",
              " ['가지나물', '잡곡밥', '등갈비김치찜', '열무김치', '참치야채전', '아욱국', '쌀밥'],\n",
              " ['잡곡밥', '부추생채', '콩나물김치국', '브로컬리맛살볶음', '버섯불고기', '쌀밥', '포기김치'],\n",
              " ['아삭고추된장무침', '잡곡밥', '언양식불고기', '부대찌개', '계란장조림', '쌀밥', '포기김치'],\n",
              " ['도토리묵무침', '잡곡밥', '닭강정', '콩나물잡채', '포기김치', '쌀밥', '차돌박이찌개'],\n",
              " ['오징어튀김', '깍두기', '견과류조림', '비빔밥', '하와이안샐러드', '맑은국'],\n",
              " ['미역국', '잡곡밥', '열무김치', '삼치구이', '쌀밥', '영양부추생채', '매콤함박스테이크'],\n",
              " ['잡곡밥', '배추겉절이', '탕수육', '숙주나물', '꽃게찌개', '곤약야채무침', '쌀밥'],\n",
              " ['잡곡밥', '열무김치', '부추생채', '쌈무', '양파절임', '훈제오리구이', '참치김치찌개', '올방개묵무침', '쌀밥'],\n",
              " ['잡곡밥', '닭갈비', '포기김치', '생선까스*타르소스', '무생채', '쌀밥', '들깨미역국'],\n",
              " ['머위대들깨볶음', '잡곡밥', '쇠불고기', '고추장찌개', '홍어채무침', '쌀밥', '포기김치'],\n",
              " ['잡곡밥', '콩나물무침', '잡채', '제육볶음', '된장찌개', '쌀밥', '포기김치'],\n",
              " ['잡곡밥', '깍두기', '새송이버섯전', '비름나물', '콩가루배추국', '낙지볶음', '쌀밥'],\n",
              " ['카레감자채볶음', '옹심이만두떡국', '잡곡밥', '마늘쫑무침', '유린기', '쌀밥', '포기김치'],\n",
              " ['치커리유자청무침', '매운어묵볶음', '잡곡밥', '열무김치', '돈육꽈리고추볶음', '쌀밥', '콩비지찌개'],\n",
              " ['쇠고기샤브국', '잡곡밥', '양념깻잎지', '맛살계란찜', '오징어볶음', '쌀밥', '포기김치'],\n",
              " ['동태전', '잡곡밥', '열무된장국', '미나리오이무침', '쇠고기장조림', '쌀밥', '포기김치'],\n",
              " ['고추잡채*꽃빵', '잡곡밥', '깍두기', '청경채무침', '부대찌개', '쌀밥', '굴비구이'],\n",
              " ['참나물생채', '잡곡밥', '순살양념치킨', '콩나물겨자채', '새우살미역국', '쌀밥', '포기김치'],\n",
              " ['양배추*쌈', '잡곡밥', '제육볶음', '시금치된장국', '버섯구이*발사믹D', '쌀밥', '포기김치'],\n",
              " ['소고기국', '잡곡밥', '간장찜닭', '해초무침', '포기김치', '쌀밥', '부추전'],\n",
              " ['김치국', '열무김치', '감자프리타타', '콩나물밥', '고추지', '고등어구이'],\n",
              " ['잡곡밥', '두부조림', '상추겉절이', '오리불고기', '오이소박이', '들깨시래기국', '쌀밥'],\n",
              " ['동그랑땡전', '잡곡밥', '부추생채', '콩나물국', '쌀밥', '주꾸미떡볶음', '포기김치'],\n",
              " ['잡곡밥', '황태국', '소불고기', '계란찜', '청경채사과생채', '쌀밥', '포기김치'],\n",
              " ['아삭고추무침', '잡곡밥', '얼갈이된장국', '동파삼겹수육', '맛살전', '쌀밥', '포기김치'],\n",
              " ['가쯔오장국', '탕수만두', '콥샐러드', '열무보리비빔밥', '오이지무침', '포기김치'],\n",
              " ['잡곡밥', '등갈비김치찜', '깍두기', '참나물땅콩무침', '어묵볶음', '오이냉국', '쌀밥'],\n",
              " ['도토리묵무침', '잡곡밥', '삼치된장구이', '모듬소세지볶음', '돈육김치찌개', '배추겉절이', '쌀밥'],\n",
              " ['잡곡밥', '근대국', '씨앗쌈장', '돈육굴소스볶음', '모둠쌈', '계란말이', '쌀밥', '포기김치'],\n",
              " ['잡곡밥', '부추생채', '새송이버섯전', '콩나물국', '쌈무', '훈제오리구이', '쌀밥', '포기김치'],\n",
              " ['잡곡밥', '미니채소떡갈비', '얼갈이된장국', '골뱅이무침*소면', '배추겉절이', '숙주나물', '쌀밥'],\n",
              " ['잡곡밥', '호박잎된장찌개', '깐풍기', '어묵꽈리고추볶음', '포기김치', '쌀밥', '실곤약초무침'],\n",
              " ['고구마순나물', '잡곡밥', '연두부탕', '쇠고기숙주볶음', '홍어채무침', '쌀밥', '포기김치'],\n",
              " ['치커리사과생채', '잡곡밥', '쭈꾸미볶음', '깍두기', '늙은호박전', '도토리묵냉국', '쌀밥'],\n",
              " ['가쯔오장국', '파스타샐러드', '견과류조림', '치킨핑거', '곤드레밥*강된장', '포기김치'],\n",
              " ['쇠고기샤브국', '잡곡밥', '배추겉절이', '갈치구이', '메추리알조림', '무생채', '쌀밥'],\n",
              " ['잡곡밥', '감자채볶음', '아욱된장국', '삼겹살구이', '포기김치', '쌀밥', '쫑상추무침'],\n",
              " ['오이도라지생채', '잡곡밥', '해물부추전', '유자청제육볶음', '들깨시래기국', '쌀밥', '포기김치'],\n",
              " ['잡곡밥', '오이지냉국', '열무김치', '고등어김치말이', '연근조림', '감자비엔나볶음', '쌀밥'],\n",
              " ['카레라이스', '수박', '유부주머니국', '언양식불고기', '떡볶이', '포기김치'],\n",
              " ['잡곡밥', '비빔야채만두', '양념깻잎지', '해물누룽지탕', '쇠고기미역국', '쌀밥', '포기김치'],\n",
              " ['셀프무쌈말이', '잡곡밥', '콩나물무침', '나가사끼짬뽕국', '닭갈비', '쌀밥', '포기김치'],\n",
              " ['잡곡밥', '양배추쌈*양념장', '곤약흑임자무침', '포기김치', '훈제오리고추장볶음', '쌀밥', '차돌박이찌개'],\n",
              " ['잡곡밥', '동그랑땡구이', '시금치나물', '북어콩나물국', '오징어볶음', '쌀밥', '포기김치'],\n",
              " ['아삭고추무침', '깍두기', '잡채', '얼갈이된장국', '삼치구이', '콩나물밥'],\n",
              " ['갈릭돈까스', '잡곡밥', '부추생채', '우무묵냉국', '두부양념조림', '쌀밥', '포기김치'],\n",
              " ['잡곡밥', '미역줄기볶음', '열무김치', '감자채전', '매운닭찜', '꼬지어묵탕', '쌀밥'],\n",
              " ['잡곡밥', '청경채겉절이', '콩나물국', '계란찜', '쌀밥', '짬뽕불고기', '포기김치'],\n",
              " ['잡곡밥', '고기전', '미역레몬초무침', '쌀밥', '낙지볶음', '배추된장국', '포기김치'],\n",
              " ['단무지', '짜장덮밥', '열무김치', '군만두', '유산슬', '계란국', '사과'],\n",
              " ['잡곡밥', '등갈비김치찜', '아욱된장국', '어묵볶음', '알타리김치', '참나물', '쌀밥'],\n",
              " ['도토리묵무침', '잡곡밥', '유린기', '숙주나물', '오이냉국', '쌀밥', '포기김치'],\n",
              " ['잡곡밥', '콩나물국', '우엉조림', '버섯불고기', '해물겨자냉채', '쌀밥', '포기김치'],\n",
              " ['브로컬리초장', '잡곡밥', '어묵국', '두부계란구이', '쌀밥', '주꾸미떡볶음', '포기김치'],\n",
              " ['수박', '깍두기', '찹쌀밥', '삼계탕', '생야채&쌈장', '<초복특식>'],\n",
              " ['동태전', '치커리유자청무침', '잡곡밥', '돼지갈비찜', '근대국', '쌀밥', '포기김치'],\n",
              " ['버섯잡채', '잡곡밥', '갈치조림', '쑥갓두부무침', '알타리김치', '부대찌개', '쌀밥'],\n",
              " ['모듬양채쌈', '잡곡밥', '무채국', '간장두부조림', '쌀밥', '돈육고추장볶음', '포기김치'],\n",
              " ['잡곡밥', '열무된장국', '간장찜닭', '치커리무침', '통도라지구이', '쌀밥', '포기김치'],\n",
              " ['오꼬노미야끼', '김치제육덮밥', '양장피잡채', '천도복숭아', '맑은국', '알타리김치'],\n",
              " ['잡곡밥', '오이무침', '소고기매운무국', '오징어굴소스볶음', '쌀밥', '모둠버섯구이', '포기김치'],\n",
              " ['미트볼케찹조림', '잡곡밥', '메밀전', '닭곰탕', '영양부추생채', '쌀밥', '포기김치'],\n",
              " ['동그랑땡전', '콩나물불고기', '잡곡밥', '얼갈이된장무침', '어묵탕', '쌀밥', '포기김치'],\n",
              " ['잡곡밥', '참나물무침', '배추겉절이', '닭살냉채', '된장찌개', '가자미카레튀김', '쌀밥'],\n",
              " ['미소장국', '나물비빔밥', '파스타샐러드', '소세지오븐구이', '오렌지', '포기김치'],\n",
              " ['순살파닭', '잡곡밥', '멸치크렌베리볶음', '콩나물냉국', '오징어브로컬리*초장', '쌀밥', '포기김치'],\n",
              " ['쇠고기샤브국', '잡곡밥', '해초무침', '연두부*양념장', '쌀밥', '주꾸미떡볶음', '포기김치'],\n",
              " ['시래기조림', '잡곡밥', '연두부탕', '쇠고기숙주볶음', '홍어채무침', '쌀밥', '포기김치'],\n",
              " ['잡곡밥', '머위대나물', '배추겉절이', '해물누룽지탕', '부대찌개', '우엉잡채', '쌀밥'],\n",
              " ['치커리사과생채', '잡곡밥', '미니채소떡갈비', '두부계란구이', '꽃게탕', '쌀밥', '포기김치'],\n",
              " ['잡곡밥', '닭오븐구이', '오이미역냉국', '꽈리고추어묵조림', '무생채', '쌀밥', '포기김치'],\n",
              " ['잡곡밥', '양배추쌈', '열무김치', '*쌈장', '제육볶음', '콩나물국', '호박잎', '메추리알조림', '쌀밥'],\n",
              " ['쇠고기낙지볶음', '잡곡밥', '어묵국', '새송이버섯전', '참나물땅콩무침', '쌀밥', '포기김치'],\n",
              " ['미역국', '시금치프리타타', '잡곡밥', '마늘쫑무침', '닭갈비', '쌀밥', '포기김치'],\n",
              " ['잡곡밥', '단배추나물', '도토리묵냉국', '두부양념조림', '수제돈까스', '쌀밥', '포기김치'],\n",
              " ['비엔나감자볶음', '셀프무쌈말이', '잡곡밥', '돈육김치찌개', '알타리김치', '갈치구이', '쌀밥'],\n",
              " ['쌈&야채스틱', '돈육보쌈', '잡곡밥', '고추장찌개', '어묵볶음', '샐러드바:과일', '쌀밥', '포기김치'],\n",
              " ['옥수수계란찜', '청경채생채', '잡곡밥', '된장찌개', '쌀밥', '짬뽕불고기', '포기김치'],\n",
              " ['모듬묵양념장', '잡곡밥', '오이무침', '쇠고기무국', '오징어볶음*소면', '쌀밥', '포기김치'],\n",
              " ['잡곡밥', '치커리무침', '매운닭찜', '임연수구이', '들깨시래기국', '쌀밥', '포기김치'],\n",
              " ['단무지', '열무김치', '짜장밥', '맑은국', '해물까스*칠리소스', '부추만두'],\n",
              " ['잡곡밥', '콩나물무침', '조랭이떡미역국', '김치전', '쌀밥', '소고기불고기', '포기김치'],\n",
              " ['해물된장찌개', '잡곡밥', '두부조림', '배추겉절이', '간장깻잎지', '표고버섯탕수육', '쌀밥'],\n",
              " ['가쯔오장국', '가자미양념찜', '감자채볶음', '열무김치', '검정콩조림', '곤드레밥*강된장'],\n",
              " ['주꾸미굴소스볶음', '쇠고기샤브국', '잡곡밥', '비름나물', '볼어묵볶음', '쌀밥', '포기김치'],\n",
              " ['미트볼케찹조림', '잡곡밥', '알탕', '마늘쫑무침', '계란말이', '쌀밥', '포기김치'],\n",
              " ['매운어묵볶음', '잡곡밥', '콩나물국', '돈육간장불고기', '쑥갓두부무침', '쌀밥', '포기김치'],\n",
              " ['동태전', '치커리사과생채', '잡곡밥', '닭갈비', '쌀밥', '배추된장국', '포기김치'],\n",
              " ['아삭고추무침', '미소장국', '산채비빔밥', '언양식불고기', '과일샐러드', '포기김치'],\n",
              " ['잡곡밥', '오이무침', '탕수만두', '육개장', '알타리김치', '쌀밥', '굴비구이'],\n",
              " ['잡곡밥', '시래기국', '열무김치', '쌈무', '양파절임', '훈제오리구이', '두부구이*양념장', '쌀밥'],\n",
              " ['잡곡밥', '버섯불고기', '포기김치', '야채계란찜', '북어국', '쌀밥', '실곤약초무침'],\n",
              " ['도토리묵무침', '잡곡밥', '등갈비김치찜', '열무김치', '연두부탕', '땅콩조림', '쌀밥'],\n",
              " ['양배추쌈*쌈장', '잡곡밥', '고구마줄기볶음', '꽃게탕', '마늘치킨', '쌀밥', '포기김치'],\n",
              " ['잡곡밥', '고기전', '오징어볶음*소면', '호박나물', '쇠고기미역국', '쌀밥', '포기김치'],\n",
              " ['셀프무쌈말이', '잡곡밥', '열무된장국', '통도라지구이', '동파육', '쌀밥', '포기김치'],\n",
              " ['잡곡밥', '유자청제육볶음', '치커리무침', '오꼬노미야끼계란말이', '포기김치', '쌀밥', '시래기된장국'],\n",
              " ['잡곡밥', '마늘쫑무침', '해물누룽지탕', '포기김치', '돈육잡채', '쌀밥', '차돌박이찌개'],\n",
              " ['카레라이스', '요플레', '미소장국', '떡갈비조림', '모듬묵샐러드', '오복지', '포기김치'],\n",
              " ['닭찜', '잡곡밥', '부추생채', '두부계란부침', '고사리육개장', '쌀밥', '포기김치'],\n",
              " ['잡곡밥', '단호박장조림', '참나물무침', '참치김치찌개', '알타리김치', '고등어구이', '쌀밥'],\n",
              " ['해물순두부찌개', '잡곡밥', '언양식불고기', '감자채전', '포기김치', '쌀밥', '쫑상추무침'],\n",
              " ['들깨버섯국', '잡곡밥', '비엔나케찹조림', '취나물', '배추겉절이', '소고기낙지볶음', '쌀밥'],\n",
              " ['아삭고추무침', '감자프리타타', '메밀전병만두', '콩나물밥', '가쯔오국', '포기김치'],\n",
              " ['쇠고기샤브국', '꽁치구이', '잡곡밥', '열무김치', '김치제육볶음', '온두부', '쌀밥'],\n",
              " ['잡곡밥', '순살양념치킨', '콩나물겨자채', '모듬묵*양념장', '콩가루배추국', '쌀밥', '포기김치'],\n",
              " ['잡곡밥', '근대국', '실곤약흑임자무침', '도라지오이생채', '쌀밥', '짬뽕불고기', '포기김치'],\n",
              " ['잡곡밥', '해물파전', '닭갈비', '숙주나물', '포기김치', '쌀밥', '시래기들깨탕'],\n",
              " ['잡곡밥', '삼겹살구이', '상추파무침', '콩나물국', '어묵볶음', '쌀밥', '포기김치'],\n",
              " ['브로컬리초장', '잡곡밥', '두부새싹구이', '매운주꾸미볶음', '포기김치', '쌀밥', '차돌박이찌개'],\n",
              " ['미역국', '오징어숙회무침', '잡곡밥', '쇠불고기', '잡채', '식혜', '배추겉절이', '미니케익', '쌀밥'],\n",
              " ['잡곡밥', '부추생채', '쌈무', '훈제오리구이', '계란찜', '아욱국', '쌀밥', '포기김치'],\n",
              " ['유채나물', '잡곡밥', '고추장찌개', '궁중떡찜', '레몬탕수육', '쌀밥', '포기김치'],\n",
              " ['닭찜', '해물된장찌개', '잡곡밥', '새송이버섯전', '얼갈이생채', '쌀밥', '포기김치'],\n",
              " ['치커리유자청무침', '잡곡밥', '쇠고기무국', '오징어볶음*소면', '메추리알조림', '쌀밥', '포기김치'],\n",
              " ['잡곡밥', '해파리겨자채', '제육볶음', '포기김치', '모둠쌈', '쌀밥', '차돌박이찌개'],\n",
              " ['고추잡채*꽃빵', '참나물생채', '잡곡밥', '근대국', '고등어조림', '쌀밥', '포기김치'],\n",
              " ['시금치프리타타', '민물새우찌개', '잡곡밥', '오이무침', '수제돈가스', '쌀밥', '포기김치'],\n",
              " ['가지나물', '잡곡밥', '배추겉절이', '유린기', '새알미역국', '마파두부', '쌀밥'],\n",
              " ['도라지초무침', '잡곡밥', '해물청경채볶음', '메밀부추전', '쇠고기매운버섯국', '쌀밥', '포기김치'],\n",
              " ['잡곡밥', '콩나물국', '마늘쫑볶음', '버섯불고기', '홍어채무침', '쌀밥', '포기김치'],\n",
              " ['잡곡밥', '쭈꾸미볶음', '미역줄기볶음', '두부계란부침', '쌀밥', '배추된장국', '포기김치'],\n",
              " ['가쯔오장국', '쇠고기잡채', '갈치조림', '쑥갓두부무침', '곤드레밥*강된장', '알타리김치'],\n",
              " ['도토리묵무침', '물파래무침', '잡곡밥', '육개장', '치킨핑거', '쌀밥', '포기김치'],\n",
              " ['시금치국', '잡곡밥', '돼지갈비찜', '어묵볶음', '배추겉절이', '무나물', '쌀밥'],\n",
              " ['잡곡밥', '취나물', '연두부*양념장', '닭갈비', '들깨시래기국', '쌀밥', '포기김치'],\n",
              " ['상추쌈', '잡곡밥', '근대국', '배추겉절이', '돈삼겹보쌈', '콩나물파채', '쌀밥', '옥수수전'],\n",
              " ['개성감자만두', '카레덮밥', '파스타샐러드', '군고구마', '맑은국', '포기김치'],\n",
              " ['치커리사과생채', '잡곡밥', '사골떡국', '계란말이', '오징어볶음', '쌀밥', '포기김치'],\n",
              " ['톳두부무침', '잡곡밥', '누룽지탕수육', '된장찌개', '포기김치', '쌀밥', '실곤약초무침'],\n",
              " ['잡곡밥', '콩가루배추국', '참치야채전', '호박나물', '쌀밥', '짬뽕불고기', '포기김치'],\n",
              " ['봄동겉절이', '잡곡밥', '삼치구이', '수제돈까스', '쌀밥', '오징어국', '포기김치'],\n",
              " ['배추겉절이', '콩나물밥', '언양식불고기', '과일샐러드', '미역장국', '도라지오이무침'],\n",
              " ['해물된장찌개', '잡곡밥', '두부조림', '시금치나물', '매운닭찜', '쌀밥', '포기김치'],\n",
              " ['들깨버섯무침', '잡곡밥', '등갈비김치찜', '깍두기', '올갱이아욱국', '숙주나물', '쌀밥'],\n",
              " ['시금치국', '잡곡밥', '해물파전', '통도라지구이', '쌀밥', '소고기불고기', '포기김치'],\n",
              " ['잡곡밥', '돼지갈비찜', '두부새싹구이', '새알미역국', '알타리김치', '쌀밥', '세발나물'],\n",
              " ['궁중떡볶이', '청양된장찌개', '곤드레밥*간장양념', '무생채', '굴비구이', '포기김치'],\n",
              " ['잡곡밥', '메밀전병만두', '가지무침', '찜닭', '북어계란국', '쌀밥', '포기김치'],\n",
              " ['동태전', '잡곡밥', '미니채소떡갈비', '배추겉절이', '양념깻잎지', '쌀밥', '콩비지찌개'],\n",
              " ['치커리유자청무침', '잡곡밥', '알타리김치', '계란말이', '오징어볶음', '쌀밥', '차돌박이찌개'],\n",
              " ['물파래무침', '순살파닭', '잡곡밥', '어묵국', '맛살겨자채', '쌀밥', '포기김치'],\n",
              " ['가쯔오장국', '깍두기', '돈육칠리강정', '단호박영양밥', '모듬묵샐러드', '숙주나물'],\n",
              " ['고추잡채*꽃빵', '잡곡밥', '오이무침', '쇠고기무국', '갈치구이', '쌀밥', '포기김치'],\n",
              " ['잡곡밥', '물미역*초장', '새송이버섯전', '꽃게탕', '돈육굴소스볶음', '쌀밥', '포기김치'],\n",
              " ['잡곡밥', '골뱅이무침*소면', '버섯불고기', '아욱국', '무나물', '쌀밥', '포기김치'],\n",
              " ['참나물생채', '사천식탕수육', '잡곡밥', '연두부탕', '견과류조림', '쌀밥', '포기김치'],\n",
              " ['코다리조림', '미소장국', '나물비빔밥', '깍두기', '과일샐러드', '군고구마'],\n",
              " ['잡곡밥', '콩나물무침', '제육볶음', '알타리김치', '들깨시래기국', '메추리알조림', '쌀밥'],\n",
              " ['잡곡밥', '취나물', '동태탕', '찜닭', '쌀밥', '옥수수전', '포기김치'],\n",
              " ['잡곡밥', '해파리겨자채', '돈육피망볶음', '들깨무채국', '모둠쌈', '쌀밥', '포기김치'],\n",
              " ['소고기된장찌개', '잡곡밥', '오이생채', '배추겉절이', '계란찜', '낙지볶음', '쌀밥'],\n",
              " ['유부주머니국', '콩나물밥', '단호박범벅', '생선까스&탈탈소스', '두부양념조림', '포기김치'],\n",
              " ['봄동된장국', '잡곡밥', '닭볶음탕', '마늘쫑건새우볶음', '포기김치', '쌀밥', '부추전'],\n",
              " ['미트볼케찹조림', '잡곡밥', '김구이*달래간장', '부대찌개', '사각어묵볶음', '쌀밥', '포기김치'],\n",
              " ['해물된장찌개', '잡곡밥', '양념깻잎지', '홍어채무침', '돈육굴소스볶음', '쌀밥', '포기김치'],\n",
              " ['잡곡밥', '깍두기', '해물누룽지탕', '오이미역무침', '계란말이', '쌀밥', '차돌박이찌개'],\n",
              " ['카레라이스', '요플레', '미소장국', '모듬묵*양념장', '떡갈비조림', '오복지', '포기김치'],\n",
              " ['비엔나케찹볶음', '잡곡밥', '우거지해장국', '배추겉절이', '시금치나물', '쌀밥', '명태코다리조림'],\n",
              " ['잡곡밥', '마늘쫑무침', '두부오꼬노미야끼', '표고버섯탕수육', '들깨시래기국', '쌀밥', '포기김치'],\n",
              " ['잡곡밥', '상추쑥갓생채', '버섯불고기', '포기김치', '쌀밥', '오징어국', '실곤약초무침'],\n",
              " ['시금치프리타타', '잡곡밥', '물미역*초장', '달래된장국', '주꾸미볶음', '쌀밥', '포기김치'],\n",
              " ['민물새우찌개', '잡곡밥', '파채콩나물무침', '새송이버섯전', '배추겉절이', '동파육', '쌀밥'],\n",
              " ['순두부찌개', '잡곡밥', '부추생채', '어묵볶음', '쌈무', '훈제오리구이', '쌀밥', '포기김치'],\n",
              " ['잡곡밥', '콩나물국', '간장마늘치킨', '무나물', '쌀밥', '오징어초무침', '포기김치'],\n",
              " ['잡곡밥', '꽃게탕', '언양식불고기', '날치알계란찜', '호박나물', '쌀밥', '포기김치'],\n",
              " ['동그랑땡전', '잡곡밥', '쇠고기미역국', '무쌈말이', '오징어볶음', '쌀밥', '포기김치'],\n",
              " ['잡곡밥', '돼지갈비찜', '콩나물겨자채', '아욱된장국', '참나물무침', '쌀밥', '포기김치'],\n",
              " ['잡곡밥', '어묵국', '파래김*양념', '닭볶음탕', '배추겉절이', '연근땅콩조림', '쌀밥'],\n",
              " ['잡곡밥', '오이무침', '식혜', '사골떡국', '한방소갈비찜', '김치전', '쌀밥', '포기김치'],\n",
              " ['무생채', '궁중떡볶이', '곤드레밥*간장양념', '청량된장찌개', '굴비구이', '포기김치'],\n",
              " ['잡곡밥', '깍두기', '제육볶음', '모둠쌈*쌈장', '고구마그라탕', '콩가루배추국', '쌀밥'],\n",
              " ['잡곡밥', '깍두기', '깐풍기', '곤약어묵볶음', '부대찌개', '쌀밥', '매운콩나물무침'],\n",
              " ['잡곡밥', '황태국', '소불고기', '계란찜', '청경채사과생채', '쌀밥', '포기김치'],\n",
              " ['유채나물', '비엔나케찹볶음', '잡곡밥', '근대국', '양파치킨', '쌀밥', '포기김치'],\n",
              " ['고추잡채*꽃빵', '참나물생채', '해물까스', '콩나물밥', '맑은국', '포기김치'],\n",
              " ['봄동된장국', '잡곡밥', '배추겉절이', '참치야채전', '호박나물', '쌀밥', '오징어돈육볶음'],\n",
              " ['잡곡밥', '명태코다리강정', '양념깻잎지', '모둠버섯볶음', '포기김치', '쌀밥', '차돌박이찌개'],\n",
              " ['잡곡밥', '해물파전', '유자청제육볶음', '숙주나물', '아욱국', '쌀밥', '포기김치'],\n",
              " ['잡곡밥', '미니채소떡갈비', '참나물땅콩무침', '꽃게탕', '쌀밥', '쫄면무침', '포기김치'],\n",
              " ['가쯔오장국', '요플레', '나물비빔밥', '마늘쫑볶음', '치킨핑거', '포기김치'],\n",
              " ['잡곡밥', '해파리냉채', '통도라지구이', '된장찌개', '알타리김치', '쇠고기장조림', '쌀밥'],\n",
              " ['탕수어', '버섯잡채', '잡곡밥', '육개장', '무생채', '쌀밥', '포기김치'],\n",
              " ['잡곡밥', '쇠고기숙주볶음', '포기김치', '골뱅이무침', '북어국', '쌀밥', '세발나물무침'],\n",
              " ['봄동겉절이', '잡곡밥', '고기전', '시금치된장국', '오징어볶음', '쌀밥', '포기김치'],\n",
              " ['단무지', '개성감자만두', '짜장덮밥', '배추겉절이', '과일탕수육', '맑은국'],\n",
              " ['잡곡밥', '황태양념구이', '모듬쌈', '돈육굴소스볶음', '김치콩나물국', '쌀밥', '포기김치'],\n",
              " ['순살파닭', '잡곡밥', '연두부탕', '오이사과무침', '늙은호박전', '쌀밥', '포기김치'],\n",
              " ['봄동된장국', '가래떡돼지갈비찜', '잡곡밥', '콩나물겨자채', '참나물무침', '쌀밥', '포기김치'],\n",
              " ['가지나물', '잡곡밥', '어묵국', '새송이버섯전', '닭볶음', '쌀밥', '포기김치'],\n",
              " ['아삭고추무침', '미소장국', '김치제육덮밥', '양장피잡채', '계란찜', '귤', '알타리김치'],\n",
              " ['잡곡밥', '부추생채', '삼치구이', '매콤미니함박', '닭곰탕', '쌀밥', '포기김치'],\n",
              " ['잡곡밥', '해물김치전', '배추겉절이', '숙주나물', '표고버섯탕수육', '쌀밥', '차돌박이찌개'],\n",
              " ['시래기조림', '순두부찌개', '잡곡밥', '홍어채무침', '돈육볶음', '쌀밥', '포기김치'],\n",
              " ['해물된장찌개', '잡곡밥', '콩나물무침', '참치야채전', '알타리김치', '쇠고기장조림', '쌀밥'],\n",
              " ['유부주머니국', '치즈계란말이', '콩나물밥', '언양식불고기', '도라지오이무침', '포기김치'],\n",
              " ['잡곡밥', '열무된장국', '배추겉절이', '연두부*양념장', '양념깻잎지', '동파삼겹수육', '쌀밥'],\n",
              " ['도토리묵무침', '잡곡밥', '깍두기', '메밀전', '해물청경채볶음', '부대찌개', '쌀밥'],\n",
              " ['실곤약초무침', '잡곡밥', '양배추쌈*쌈장', '닭갈비', '포기김치', '쌀밥', '차돌박이찌개'],\n",
              " ['사천식탕수육', '잡곡밥', '아욱된장국', '쑥갓두부무침', '모둠버섯볶음', '쌀밥', '포기김치'],\n",
              " ['떡국', '오징어숙회무침', '잡곡밥', '취나물', '배추겉절이', '버섯불고기', '쌀밥'],\n",
              " ['잡곡밥', '부추생채', '쌈무', '훈제오리구이', '포기김치', '두부양념조림', '쌀밥', '들깨미역국'],\n",
              " ['잡곡밥', '청경채사과무침', '늙은호박전', '알타리김치', '쌀밥', '배추된장국', '짬뽕불고기'],\n",
              " ['오이무침', '카레덮밥', '파스타샐러드', '고구마치즈구이', '맑은국', '포기김치'],\n",
              " ['모둠묵*양념장', '잡곡밥', '미역줄기볶음', '콩나물국', '마늘치킨', '쌀밥', '포기김치'],\n",
              " ['잡곡밥', '등갈비김치찜', '깍두기', '시금치된장국', '맛살냉채', '쌀밥', '쫑상추무침'],\n",
              " ['잡곡밥', '치커리무침', '소고기숙주볶음', '새송이버섯전', '황태국', '쌀밥', '포기김치'],\n",
              " ['잡곡밥', '돼지갈비찜', '곰피초장', '아욱된장국', '마늘쫑볶음', '쌀밥', '포기김치'],\n",
              " ['도토리묵무침', '콩조림', '어묵국', '치킨핑거*요거트소스', '배추겉절이', '곤드레밥*강된장'],\n",
              " ['오곡밥', '오징어숙회무침', '구이김', '보름나물', '부럼', '포기김치', '쌀밥', '차돌박이된장찌개', '조기구이'],\n",
              " ['청경채생채', '해물순두부찌개', '잡곡밥', '해파리냉채', '소고기장조림', '알타리김치', '쌀밥'],\n",
              " ['잡곡밥', '해물파전', '근대된장국', '치킨무', '닭강정', '단배추나물', '쌀밥', '포기김치'],\n",
              " ['깍두기', '삼치구이', '콩나물밥', '얼갈이나물', '떡잡채', '가쯔오국'],\n",
              " ['탕평채', '홍합탕', '잡곡밥', '오리불고기', '간장깻잎지', '쌀밥', '포기김치'],\n",
              " ['쇠고기샤브국', '잡곡밥', '두부새싹구이', '참나물무침', '주꾸미볶음', '쌀밥', '포기김치'],\n",
              " ['시금치프리타타', '잡곡밥', '부추생채', '버섯불고기', '쌀밥', '배추된장국', '포기김치'],\n",
              " ['미트볼케찹조림', '가지나물', '잡곡밥', '쇠고기무국', '우엉잡채', '쌀밥', '포기김치'],\n",
              " ['탕수어', '잡곡밥', '두부*김치볶음', '깍두기', '시금치된장국', '시래기지짐', '쌀밥'],\n",
              " ['닭데리야끼조림', '잡곡밥', '어묵볶음', '동태탕', '숙주나물', '쌀밥', '포기김치'],\n",
              " ['동그랑땡전', '잡곡밥', '배추겉절이', '얼갈이국', '오징어볶음', '쌀밥', '세발나물'],\n",
              " ['돈육간장볶음', '잡곡밥', '어묵국', '골뱅이무침*소면', '무나물', '쌀밥', '포기김치'],\n",
              " ['잡곡밥', '고기전', '견과류조림', '된장찌개', '해물누룽지탕', '쌀밥', '포기김치'],\n",
              " ['도토리묵무침', '양배추쌈*쌈장', '잡곡밥', '닭볶음탕', '쇠고기미역국', '쌀밥', '포기김치'],\n",
              " ['잡곡밥', '깍두기', '우거지해장국', '청경채나물', '코다리강정', '계란말이', '쌀밥'],\n",
              " ['참나물생채', '잡곡밥', '열무된장국', '메추리알곤약조림', '수제돈까스', '쌀밥', '포기김치'],\n",
              " ['잡곡밥', '닭갈비', '치커리사과무침', '포기김치', '새송이버섯조림', '쌀밥', '차돌박이찌개'],\n",
              " ['잡곡밥', '등갈비김치찜', '콩나물국', '흑임자연근샐러드', '알타리김치', '쌀밥', '부추전'],\n",
              " ['유린기', '단호박카레라이스', '오복지', '볼어묵볶음', '유부장국', '포기김치'],\n",
              " ['고추잡채*꽃빵', '잡곡밥', '얼큰소고기국', '계란찜', '숙주나물', '쌀밥', '포기김치'],\n",
              " ['잡곡밥', '깍두기', '취나물무침', '주꾸미볶음', '참치김치찌개', '미니함박조림', '쌀밥'],\n",
              " ['아삭고추무침', '들깨버섯국', '잡곡밥', '비엔나간장볶음', '소고기낙지볶음', '알타리김치', '쌀밥'],\n",
              " ['잡곡밥', '잡채', '동태매운탕', '언양식불고기', '쑥갓두부무침', '쌀밥', '포기김치'],\n",
              " ['오징어숙회무침', '가쯔오장국', '닭오븐구이', '시저샐러드', '곤드레밥*강된장', '포기김치'],\n",
              " ['오이도라지생채', '잡곡밥', '류산슬', '오꼬노미야끼계란말이', '쌀밥', '쑥된장국', '포기김치'],\n",
              " ['수제비국', '연두부*달래장', '잡곡밥', '열무김치', '양념치킨', '쌀밥', '진미채무침'],\n",
              " ['잡곡밥', '해파리냉채', '제육볶음', '콩나물국', '모듬쌈', '쌀밥', '포기김치'],\n",
              " ['민물새우찌개', '잡곡밥', '소고기장조림', '참나물땅콩무침', '홍어채무침', '알타리김치', '쌀밥'],\n",
              " ['새싹두부구이', '잡곡밥', '배추겉절이', '해초무침', '아욱국', '오징어볶음', '쌀밥'],\n",
              " ['모듬소시지구이', '순두부찌개', '잡곡밥', '청경채사과무침', '코다리양념조림', '쌀밥', '포기김치'],\n",
              " ['잡곡밥', '근대국', '열무김치', '부추생채', '해물김치전', '안동찜닭', '쌀밥'],\n",
              " ['버섯잡채', '잡곡밥', '청포묵무침', '쌀밥', '배추된장국', '짬뽕불고기', '포기김치'],\n",
              " ['잡곡밥', '두부조림', '무채국', '배추겉절이', '쌈무', '양파절임', '훈제오리구이', '쌀밥'],\n",
              " ['열무된장국', '콩나물밥', '치킨핑거', '오이미역무침', '궁중떡볶음', '포기김치'],\n",
              " ['가지나물', '돈육간장볶음', '잡곡밥', '알탕', '포기김치', '쌀밥', '실곤약초무침'],\n",
              " ['잡곡밥', '돈육김치찌개', '알타리김치', '가자미카레튀김', '야채계란찜', '쌀밥', '쫑상추무침'],\n",
              " ['잡곡밥', '류산슬', '콩나물국', '오이도라지무침', '계란말이', '쌀밥', '포기김치'],\n",
              " ['잡곡밥', '깐풍기', '청경채새송이볶음', '쇠고기미역국', '꽁치김치말이', '쌀밥', '포기김치'],\n",
              " ['오징어튀김', '요플레', '떡밤초', '비빔밥', '유부장국', '포기김치'],\n",
              " ['잡곡밥', '시래기국', '닭매운찜', '호박전', '쑥갓두부무침', '쌀밥', '포기김치'],\n",
              " ['순두부찌개', '잡곡밥', '삼겹살구이', '알타리김치', '상추부추생채', '쌀밥', '쫄면무침'],\n",
              " ['닭데리야끼조림', '잡곡밥', '어묵국', '치커리무침', '꽃맛살볶음', '쌀밥', '포기김치'],\n",
              " ['오꼬노미야끼', '김치제육덮밥', '양장피잡채', '유부장국', '오렌지', '알타리김치'],\n",
              " ['잡곡밥', '열무김치', '오이미역무침', '어묵볶음', '도토리묵냉국', '쌀밥', '수제돈까스*칠리소스'],\n",
              " ['잡곡밥', '콩나물제육볶음', '취나물무침', '포기김치', '임연수구이', '쌀밥', '무청된장국'],\n",
              " ['시금치프리타타', '잡곡밥', '버섯불고기', '쌀밥', '무생채', '배추된장국', '포기김치'],\n",
              " ['탕수어', '도라지무침', '잡곡밥', '열무김치', '돈육김치찌개', '우엉잡채', '쌀밥'],\n",
              " ['양배추쌈*쌈장', '잡곡밥', '근대국', '해파리겨자채', '돈육굴소스볶음', '쌀밥', '포기김치'],\n",
              " ['소고기무국', '잡곡밥', '미역줄기볶음', '배추겉절이', '두부계란부침', '오징어볶음', '쌀밥'],\n",
              " ['잡곡밥', '실곤약무침', '시금치된장국', '무쌈', '양파절임', '훈제오리구이', '쌀밥', '포기김치'],\n",
              " ['참나물생채', '잡곡밥', '등갈비김치찜', '열무김치', '얼갈이된장국', '새송이버섯전', '쌀밥'],\n",
              " ['오이무침', '카레덮밥', '고구마치즈구이', '어묵꽈리고추볶음', '맑은국', '포기김치'],\n",
              " ['탕평채', '잡곡밥', '영양부추무침', '닭볶음탕', '콩나물국', '쌀밥', '포기김치'],\n",
              " ['동그랑땡전', '잡곡밥', '주꾸미볶음', '양념깻잎지', '쌀밥', '차돌박이된장찌개', '포기김치'],\n",
              " ['잡곡밥', '상추파무침', '포기김치', '멸치볶음', '쌀밥', '짬뽕불고기', '시래기들깨탕'],\n",
              " ['얼갈이된장국', '오징어&브로컬리*초장', '마늘치킨', '고추지무침', '곤드레밥*강된장', '포기김치'],\n",
              " ['치커리생채', '잡곡밥', '돼지갈비찜', '두부구이', '조랭이떡국', '쌀밥', '포기김치'],\n",
              " ['잡곡밥', '청경채무침', '꽁치오븐구이', '떡갈비조림', '쌀밥', '사과오이냉국', '포기김치'],\n",
              " ['미역국', '잡곡밥', '제육볶음', '두부양념조림', '쌀밥', '모듬쌈*쌈장', '포기김치'],\n",
              " ['김치찌개', '잡곡밥', '버섯잡채', '해물청경채볶음', '알타리김치', '올방개묵무침', '쌀밥'],\n",
              " ['파스타샐러드', '콩나물밥', '유부장국', '수제돈가스', '무생채', '포기김치'],\n",
              " ['잡곡밥', '깻잎지', '메밀부추전', '동파삼겹수육', '쌀밥', '오징어국', '포기김치'],\n",
              " ['잡곡밥', '명태양념조림', '오이생채', '우거지해장국', '치킨핑거', '쌀밥', '포기김치'],\n",
              " ['돈육간장볶음', '잡곡밥', '부추생채', '콩나물국', '알타리김치', '계란말이', '쌀밥'],\n",
              " ['잡곡밥', '해파리겨자채', '취나물', '닭갈비', '된장찌개', '쌀밥', '포기김치'],\n",
              " ['고추잡채*꽃빵', '순두부찌개', '잡곡밥', '도라지생채', '갈치구이', '쌀밥', '포기김치'],\n",
              " ['곤약메추리알조림', '잡곡밥', '완자전', '배추겉절이', '대구매운탕', '마늘쫑볶음', '쌀밥'],\n",
              " ['잡곡밥', '콩나물무침', '골뱅이무침*소면', '버섯불고기', '쌀밥', '배추된장국', '포기김치'],\n",
              " ['모듬소시지구이', '잡곡밥', '청경채무침', '고등어김치말이', '육개장', '알타리김치', '쌀밥'],\n",
              " ['순살파닭', '카레감자채볶음', '잡곡밥', '근대국', '호박나물', '쌀밥', '포기김치'],\n",
              " ['잡곡밥', '배추겉절이', '연두부*양념장', '브로컬리맛살볶음', '부대찌개', '오징어볶음', '쌀밥'],\n",
              " ['미역국', '잡곡밥', '무쌈', '양파절임', '훈제오리구이', '쌀밥', '쫄면무침', '포기김치'],\n",
              " ['아삭고추무침', '비엔나케찹볶음', '잡곡밥', '삼치데리야끼', '꽃게탕', '쌀밥', '포기김치'],\n",
              " ['깍두기', '미니채소떡갈비', '팽이장국', '방울토마토', '열무비빔밥', '땅콩조림'],\n",
              " ['잡곡밥', '상추파무침', '명란계란말이', '오이냉국', '쌀밥', '짬뽕불고기', '포기김치'],\n",
              " ['도토리묵무침', '잡곡밥', '잡채', '코다리강정', '닭개장', '쌀밥', '포기김치'],\n",
              " ['시금치프리타타', '잡곡밥', '어묵국', '해초무침', '닭갈비', '쌀밥', '포기김치'],\n",
              " ['잡곡밥', '영양부추무침', '열무김치', '류산슬', '돈육김치찌개', '생선커틀릿*탈탈소스', '쌀밥'],\n",
              " ['가쯔오장국', '구운채소', '깐풍육', '카레덮밥', '오복지무침', '*발사믹소스', '포기김치'],\n",
              " ['들깨버섯국', '잡곡밥', '매운돼지갈비찜', '메추리알곤약조림', '도라지오이생채', '쌀밥', '포기김치'],\n",
              " ['동태무조림', '잡곡밥', '육개장', '메밀전병만두', '올방개묵무침', '쌀밥', '포기김치'],\n",
              " ['잡곡밥', '미역줄기볶음', '유자청제육볶음', '콩나물국', '계란말이', '쌀밥', '포기김치'],\n",
              " ['가지나물', '잡곡밥', '소고기장조림', '홍어채무침', '알타리김치', '아욱국', '쌀밥'],\n",
              " ['탕수어', '오이무침', '곤드레밥*양념장', '찐옥수수', '맑은국', '포기김치'],\n",
              " ['잡곡밥', '근대국', '해물파전', '닭볶음탕', '쌀밥', '도라지나물', '포기김치'],\n",
              " ['매운어묵볶음', '잡곡밥', '배추겉절이', '동파삼겹수육', '도토리묵냉국', '쌀밥', '쫑상추무침'],\n",
              " ['잡곡밥', '고추장찌개', '브로컬리오징어숙회', '숙주나물', '돈육굴소스볶음', '쌀밥', '포기김치'],\n",
              " ['잡곡밥', '열무김치', '쌈무', '양파절임', '쇠고기매운국', '훈제오리구이', '우엉잡채', '쌀밥'],\n",
              " ['오징어튀김', '미소장국', '나물비빔밥', '과일샐러드', '견과류조림', '포기김치'],\n",
              " ['잡곡밥', '해파리겨자채', '호박잎된장찌개', '깐풍기', '도토리묵*양념장', '쌀밥', '포기김치'],\n",
              " ['잡곡밥', '등갈비김치찜', '어묵국', '콩나물무침', '연두부*양념장', '알타리김치', '쌀밥'],\n",
              " ['동그랑땡전', '잡곡밥', '소불고기', '된장찌개', '실곤약야채무침', '쌀밥', '포기김치'],\n",
              " ['참나물생채', '생야채', '수박', '석박지', '찹쌀밥', '삼계탕'],\n",
              " ['찐햇감자', '배추겉절이', '콩나물밥', '유부장국', '메추리알조림', '해물까스*칠리소스'],\n",
              " ['해물순두부찌개', '잡곡밥', '청경채무침', '안동찜닭', '포기김치', '쌀밥', '부추전'],\n",
              " ['잡곡밥', '유자청제육볶음', '통도라지구이', '우무콩국', '호박잎*양배추쌈', '쌀밥', '포기김치'],\n",
              " ['잡곡밥', '어묵국', '오징어야채무침', '간장깻잎지', '돈육굴소스볶음', '쌀밥', '포기김치'],\n",
              " ['아삭고추무침', '잡곡밥', '우거지해장국', '삼치양념구이', '함박스테이크', '쌀밥', '포기김치'],\n",
              " ['쇠고기샤브국', '잡곡밥', '오이사과생채', '유린기', '사각어묵볶음', '쌀밥', '포기김치'],\n",
              " ['잡곡밥', '오이지냉국', '매운돼지갈비찜', '참나물땅콩무침', '콩나물냉채', '쌀밥', '포기김치'],\n",
              " ['치커리유자청무침', '잡곡밥', '새송이버섯전', '닭곰탕', '쌀밥', '주꾸미떡볶음', '포기김치'],\n",
              " ['시금치프리타타', '잡곡밥', '근대국', '닭갈비', '도라지오이생채', '쌀밥', '포기김치'],\n",
              " ['가지나물', '버섯잡채', '잡곡밥', '콩나물국', '쌀밥', '짬뽕불고기', '포기김치'],\n",
              " ['과일', '가쯔오장국', '카레덮밥', '떡갈비조림', '오복지', '포기김치', '감자만두'],\n",
              " ['잡곡밥', '열무김치', '청경채사과무침', '돈육김치찌개', '갈치양념조림', '쌀밥', '옥수수전'],\n",
              " ['브로컬리*초장', '잡곡밥', '연두부탕', '닭오븐구이', '꽈리고추어묵조림', '쌀밥', '포기김치'],\n",
              " ['잡곡밥', '골뱅이무침*소면', '콩나물김치국', '소불고기', '호박나물', '알타리김치', '쌀밥'],\n",
              " ['잡곡밥', '닭살겨자냉채', '미역줄기볶음', '얼갈이된장국', '오징어볶음', '쌀밥', '포기김치'],\n",
              " ['깐풍육', '열무보리비빔밥', '찐옥수수', '포기김치', '맑은국', '꽃맛살샐러드'],\n",
              " ['볶음김치', '잡곡밥', '돈육장조림', '양념깻잎지', '미역오이냉국', '온두부', '쌀밥'],\n",
              " ['미트볼케찹조림', '잡곡밥', '사과맛살초무침', '된장찌개', '포기김치', '쌀밥', '굴비구이'],\n",
              " ['들깨버섯국', '잡곡밥', '참나물무침', '제육볶음', '계란찜', '쌀밥', '포기김치'],\n",
              " ['잡곡밥', '열무김치', '쫄면야채무침', '해초무침', '해물누룽지탕', '쌀밥', '차돌박이된장찌개'],\n",
              " ['주꾸미굴소스볶음', '아삭고추무침', '잡곡밥', '닭개장', '포기김치', '쌀밥', '동태포전'],\n",
              " ['잡곡밥', '콩나물무침', '알탕', '두부오꼬노미야끼', '쇠고기단호박조림', '쌀밥', '포기김치'],\n",
              " ['잡곡밥', '실곤약무침', '시금치된장국', '무쌈', '양파절임', '훈제오리구이', '쌀밥', '포기김치'],\n",
              " ['미역국', '잡곡밥', '열무김치', '양념두부조림', '쌀밥', '소고기불고기', '도라지나물'],\n",
              " ['영양모듬견과', '미소장국', '궁중떡볶이', '해물까스', '비빔밥', '포기김치'],\n",
              " ['동그랑땡', '잡곡밥', '꽁치레몬구이', '된장찌개', '무생채', '쌀밥', '포기김치'],\n",
              " ['치커리생채', '잡곡밥', '우무묵냉국', '마늘치킨', '계란말이', '쌀밥', '포기김치'],\n",
              " ['잡곡밥', '어묵볶음', '돈육간장불고기', '홍어채무침', '쌀밥', '배추된장국', '포기김치'],\n",
              " ['탕수어', '쇠고기샤브국', '잡곡밥', '참나물땅콩무침', '쌀밥', '쫄면무침', '포기김치'],\n",
              " ['팽이장국', '배추겉절이', '콩나물밥', '과일샐러드', '치킨핑거', '메추리알조림'],\n",
              " ['잡곡밥', '근대국', '모듬장조림', '마파두부', '숙주나물', '쌀밥', '포기김치'],\n",
              " ['잡곡밥', '두부새싹구이', '도라지생채', '조랭이떡국', '소고기낙지볶음', '쌀밥', '포기김치'],\n",
              " ['잡곡밥', '취나물', '브로컬리오징어숙회', '콩나물국', '버섯불고기', '쌀밥', '포기김치'],\n",
              " ['야채스틱*쌈장', '잡곡밥', '배추겉절이', '녹두전', '동파삼겹수육', '들깨시래기국', '쌀밥'],\n",
              " ['오징어튀김', '김치제육덮밥', '열무김치', '샐러드파스타', '맑은국', '무생채'],\n",
              " ['잡곡밥', '간장찜닭', '마늘쫑무침', '꽃게탕', '연두부*양념장', '쌀밥', '포기김치'],\n",
              " ['미역국', '잡곡밥', '새송이버섯전', '건파래무침', '매운주꾸미볶음', '쌀밥', '포기김치'],\n",
              " ['잡곡밥', '감자채볶음', '양배추쌈', '돈육고추장불고기', '포기김치', '쌀밥', '연두부국'],\n",
              " ['잡곡밥', '닭매운찜', '흑임자연근샐러드', '쇠고기미역국', '두부스테이크', '쌀밥', '포기김치'],\n",
              " ['가쯔오장국', '소불고기덮밥', '오징어튀김', '구운채소', '오복지무침', '*발사믹소스', '포기김치'],\n",
              " ['잡곡밥', '등갈비김치찜', '시래기국', '콩나물무침', '포기김치', '쌀밥', '부추전'],\n",
              " ['잡곡밥', '고추장찌개', '상추파무침', '언양식불고기', '계란말이', '쌀밥', '포기김치'],\n",
              " ['잡곡밥', '어묵국', '골뱅이무침*소면', '돈육굴소스볶음', '무생채', '쌀밥', '포기김치'],\n",
              " ['아삭고추무침', '잡곡밥', '류산슬', '김치전', '닭개장', '쌀밥', '포기김치'],\n",
              " ['과일', '쨔샤이무침', '카레덮밥', '감자프리타타', '메밀전병만두', '유부장국', '포기김치'],\n",
              " ['잡곡밥', '명태조림', '소고기장조림', '꽃게탕', '파래김*양념장', '쌀밥', '포기김치'],\n",
              " ['잡곡밥', '돼지갈비찜', '잡채', '아욱된장국', '송편', '식혜', '배추겉절이', '쭈꾸미숙회무침', '쌀밥'],\n",
              " ['잡곡밥', '감자채볶음', '돈육고추장불고기', '모듬쌈', '어묵탕', '쌀밥', '포기김치'],\n",
              " ['맑은국', '오이초무침', '사과고구마그라탱', '돈육강정', '곤드레밥*강된장', '포기김치'],\n",
              " ['단호박계란찜', '들깨버섯국', '잡곡밥', '청경채사과무침', '오징어볶음', '쌀밥', '포기김치'],\n",
              " ['설렁탕', '과일', '야채스틱', '잡곡밥', '석박지', '오징어젓무침', '김치전', '쌀밥'],\n",
              " ['잡곡밥', '열무된장국', '깻잎지', '버섯불고기', '맛살겨자채', '쌀밥', '포기김치'],\n",
              " ['참나물생채', '매운소고기무국', '잡곡밥', '포기김치', '우엉잡채', '쌀밥', '조기구이'],\n",
              " ['콩나물밥', '가래떡구이*조청', '생선가스*칠리소스', '유부장국', '땅콩조림', '포기김치'],\n",
              " ['브로컬리들깨찜', '감자국', '잡곡밥', '해물파전', '열무김치', '김치제육볶음', '쌀밥'],\n",
              " ['잡곡밥', '연두부*양념장', '호박나물', '닭갈비', '쌀밥', '오징어국', '포기김치'],\n",
              " ['잡곡밥', '오이무침', '고추장찌개', '돈육간장불고기', '야채계란찜', '쌀밥', '포기김치'],\n",
              " ['잡곡밥', '닭볶음탕', '메밀전병만두', '파래김*양념장', '포기김치', '쌀밥', '콩비지찌개'],\n",
              " ['톳두부무침', '잡곡밥', '등갈비김치찜', '깍두기', '콩나물국', '어묵볶음', '쌀밥'],\n",
              " ['시금치프리타타', '쇠고기낙지볶음', '잡곡밥', '방풍나물', '얼갈이국', '쌀밥', '포기김치'],\n",
              " ['잡곡밥', '근대국', '두부새싹구이', '배추겉절이', '시금치나물', '오징어볶음', '쌀밥'],\n",
              " ['잡곡밥', '콩나물무침', '황태국', '소불고기', '홍어채무침', '쌀밥', '포기김치'],\n",
              " ['잡곡밥', '어묵국', '배추겉절이', '동파삼겹수육', '실곤약야채무침', '쌀밥', '쫑상추무침'],\n",
              " ['닭살겨자채', '잡곡밥', '반달호박나물', '콩나물국', '수제돈가스', '쌀밥', '포기김치'],\n",
              " ['청경채생채', '마늘간장치킨', '잡곡밥', '시래기국', '새송이버섯전', '쌀밥', '포기김치'],\n",
              " ['잡곡밥', '무쌈', '양파절임', '참치야채전', '훈제오리구이', '쌀밥', '배추된장국', '포기김치'],\n",
              " ['도라지초무침', '단호박계란찜', '쇠고기샤브국', '잡곡밥', '오징어볶음', '쌀밥', '포기김치'],\n",
              " ['치커리생채', '잡곡밥', '해파리냉채', '매운콩나물국', '배추겉절이', '닭데리야끼구이', '쌀밥'],\n",
              " ['탕평채', '사천식탕수육', '맑은국', '오징어젓무침', '곤드레밥*강된장', '포기김치'],\n",
              " ['미역국', '잡곡밥', '닭갈비', '포기김치', '무생채', '쌀밥', '동태포전'],\n",
              " ['비엔나케찹볶음', '잡곡밥', '육개장', '연근조림', '고등어구이', '쌀밥', '포기김치'],\n",
              " ['아삭고추무침', '순두부찌개', '잡곡밥', '골뱅이무침*소면', '쌀밥', '소고기불고기', '포기김치'],\n",
              " ['유채나물', '잡곡밥', '청국장찌개', '돈육강정', '두부양념조림', '쌀밥', '포기김치'],\n",
              " ['얼갈이겉절이', '팽이장국', '포기김치', '치킨핑거*요거트드레싱', '콩나물밥*양념장', '꽃맛살샐러드'],\n",
              " ['오징어숙회무침', '잡곡밥', '유자청제육볶음', '상추무침', '아욱국', '쌀밥', '포기김치'],\n",
              " ['도토리묵무침', '잡곡밥', '깍두기', '알탕', '언양식불고기', '부추깻잎전', '쌀밥'],\n",
              " ['매운어묵볶음', '잡곡밥', '콩나물무침', '꽃게탕', '돈육굴소스볶음', '쌀밥', '포기김치'],\n",
              " ['잡곡밥', '통도라지구이', '주꾸미볶음', '들깨시래기국', '메추리알조림', '쌀밥', '포기김치'],\n",
              " ['새우까스*탈탈소스', '오이무침', '카레덮밥', '파스타샐러드', '맑은국', '포기김치'],\n",
              " ['물파래무침', '잡곡밥', '닭볶음탕', '콩나물국', '두부구이*양념장', '쌀밥', '포기김치'],\n",
              " ['잡곡밥', '근대국', '취나물', '배추겉절이', '버섯불고기', '쌀밥', '쫄면무침'],\n",
              " ['참나물생채', '잡곡밥', '감자프리타타', '닭갈비', '얼갈이국', '쌀밥', '포기김치'],\n",
              " ['잡곡밥', '연두부*양념장', '늙은호박전', '쌀밥', '배추된장국', '짬뽕불고기', '포기김치'],\n",
              " ['가쯔오장국', '오징어튀김', '나물비빔밥', '과일샐러드', '군고구마', '포기김치'],\n",
              " ['잡곡밥', '물미역*초장', '어묵꽈리고추볶음', '두부김치국', '레몬탕수육', '알타리김치', '쌀밥'],\n",
              " ['잡곡밥', '해물누룽지탕', '얼갈이생채', '계란말이', '쌀밥', '매운버섯국', '포기김치'],\n",
              " ['미역국', '쇠고기낙지볶음', '잡곡밥', '계란찜', '쌀밥', '세발나물', '포기김치'],\n",
              " ['도라지초무침', '잡곡밥', '배추겉절이', '유린기', '모듬버섯볶음', '쌀밥', '차돌박이찌개'],\n",
              " ['단호박영양밥', '언양식불고기', '포기김치', '파래김*양념장', '유부장국', '주꾸미초무침'],\n",
              " ['셀프무쌈말이', '잡곡밥', '콩나물국', '오리불고기', '포기김치', '쌀밥', '쫑상추무침'],\n",
              " ['동그랑땡전', '잡곡밥', '쇠고기모듬장조림', '떡만두국', '깻잎지', '쌀밥', '포기김치'],\n",
              " ['잡곡밥', '감자그라탕', '콩나물파채무침', '제육볶음', '아욱국', '쌀밥', '포기김치'],\n",
              " ['시금치국', '도토리묵무침', '잡곡밥', '등갈비김치찜', '메밀전', '알타리김치', '쌀밥'],\n",
              " ['고추잡채*꽃빵', '배추겉절이', '가자미튀김', '가쯔오국', '콩나물밥*양념장', '실곤약초무침'],\n",
              " ['참나물겉절이', '잡곡밥', '동파삼겹수육', '매운어묵국', '맛살전', '쌀밥', '포기김치'],\n",
              " ['치즈함박스테이크', '잡곡밥', '두부조림', '방풍나물', '동태찌개', '쌀밥', '포기김치'],\n",
              " ['잡곡밥', '콩나물국', '건새우마늘쫑볶음', '메추리알조림', '쌀밥', '짬뽕불고기', '포기김치'],\n",
              " ['물파래무침', '잡곡밥', '연두부탕', '해물김치전', '닭볶음탕', '배추겉절이', '쌀밥'],\n",
              " ['탕수어', '팽이장국', '치커리유자청생채', '곤드레밥*강된장', '쫄면무침', '포기김치'],\n",
              " ['잡곡밥', '돼지갈비찜', '근대국', '두부새싹구이', '호박나물', '알타리김치', '쌀밥'],\n",
              " ['잡곡밥', '고기전', '갈치양념조림', '닭개장', '비트무생채', '쌀밥', '포기김치'],\n",
              " ['매운어묵볶음', '잡곡밥', '열무된장국', '부추생채', '쌈무', '훈제오리구이', '크리스마스케익', '쌀밥', '포기김치'],\n",
              " ['잡곡밥', '골뱅이무침*소면', '돈육굴소스볶음', '아욱국', '얼갈이나물', '쌀밥', '포기김치'],\n",
              " ['순두부찌개', '잡곡밥', '참나물땅콩무침', '계란말이', '오징어볶음', '쌀밥', '포기김치'],\n",
              " ['유채나물', '잡곡밥', '고추장찌개', '해물동그랑땡', '버섯불고기', '쌀밥', '포기김치'],\n",
              " ['잡곡밥', '감자채볶음', '양배추쌈', '콩나물국', '돈육고추장불고기', '쌀밥', '포기김치'],\n",
              " ['소갈비찜', '떡국', '잡곡밥', '해물파전', '식혜', '도라지오이무침', '쌀밥', '포기김치'],\n",
              " ['잡곡밥', '주꾸미초무침', '꽈리고추찜', '안동찜닭', '포기김치', '쌀밥', '차돌박이찌개'],\n",
              " ['잡곡밥', '삼치구이', '두부김치국', '언양식불고기', '물미역무침', '쌀밥', '포기김치'],\n",
              " ['잡곡밥', '시래기국', '부추생채', '쇠고기숙주볶음', '늙은호박전', '쌀밥', '포기김치'],\n",
              " ['치즈함박스테이크', '청경채생채', '잡곡밥', '콩나물국', '고등어구이', '쌀밥', '포기김치'],\n",
              " ['검정콩조림', '치킨핑거*요거트소스', '비빔밥', '하와이안샐러드', '맑은국', '포기김치'],\n",
              " ['잡곡밥', '깍두기', '육개장', '감자프리타타', '깻잎지', '탕수육', '쌀밥'],\n",
              " ['고추잡채*꽃빵', '잡곡밥', '메밀전', '꽃게탕', '시금치나물', '쌀밥', '포기김치'],\n",
              " ['잡곡밥', '감자채볶음', '알탕', '마늘쫑무침', '돈육굴소스볶음', '쌀밥', '포기김치'],\n",
              " ['등갈비김치말이', '잡곡밥', '어묵국', '해파리냉채', '치커리유자청생채', '알타리김치', '쌀밥'],\n",
              " ['단무지', '짜장덮밥', '군만두', '유산슬', '오렌지', '맑은국', '포기김치'],\n",
              " ['봄동된장국', '쇠고기낙지볶음', '잡곡밥', '오이무침', '배추겉절이', '두부스테이크', '쌀밥'],\n",
              " ['순살파닭', '잡곡밥', '콩나물김치국', '우엉조림', '포기김치', '쌀밥', '실곤약초무침'],\n",
              " ['잡곡밥', '고추장찌개', '오이사과무침', '버섯불고기', '야채계란찜', '쌀밥', '포기김치'],\n",
              " ['청경채생채', '잡곡밥', '닭볶음탕', '새송이버섯전', '알타리김치', '쌀밥', '배추된장국'],\n",
              " ['오복지무침', '파스타샐러드', '콩나물밥', '생선까스*탈탈소스', '맑은국', '포기김치'],\n",
              " ['잡곡밥', '누룽지탕수육', '취나물', '얼갈이국', '쌀밥', '오징어초무침', '포기김치'],\n",
              " ['수제비국', '멸치호두볶음', '잡곡밥', '도라지나물', '배추겉절이', '쌀밥', '짬뽕불고기'],\n",
              " ['브로컬리들깨찜', '잡곡밥', '김치제육볶음', '된장찌개', '사과고구마그라탱', '쌀밥', '포기김치'],\n",
              " ['유채나물', '잡곡밥', '새알만두국', '양파치킨', '치킨무', '돈육잡채', '쌀밥', '포기김치'],\n",
              " ['오이무침', '카레덮밥', '새우까스*칠리소스', '유부장국', '쫄면무침', '포기김치'],\n",
              " ['비엔나감자볶음', '잡곡밥', '청국장찌개', '콩나물겨자채무침', '갈치구이', '쌀밥', '포기김치'],\n",
              " ['시금치국', '잡곡밥', '해물파전', '간장깻잎지', '동파삼겹수육', '쌀밥', '포기김치'],\n",
              " ['매운어묵볶음', '잡곡밥', '열무된장국', '부추생채', '쌈무', '훈제오리구이', '쌀밥', '포기김치'],\n",
              " ['들깨버섯무침', '잡곡밥', '제육볶음', '황태국', '숙주나물', '알타리김치', '쌀밥'],\n",
              " ['잡곡밥', '어묵국', '소불고기', '포기김치', '계란말이', '쌀밥', '실곤약초무침'],\n",
              " ['순두부찌개', '잡곡밥', '물미역*초장', '돈육장조림', '쌀밥', '옥수수전', '포기김치'],\n",
              " ['고구마튀김', '맑은국', '낙지비빔밥', '오복지무침', '메추리알조림', '포기김치'],\n",
              " ['카레감자채볶음', '양배추쌈*쌈장', '잡곡밥', '미니채소떡갈비', '꽃게탕', '쌀밥', '포기김치'],\n",
              " ['봄동된장국', '잡곡밥', '미역줄기볶음', '연두부*양념장', '오징어볶음', '쌀밥', '포기김치'],\n",
              " ['치즈함박스테이크', '유채나물', '잡곡밥', '새송이버섯전', '포기김치', '쌀밥', '콩비지찌개'],\n",
              " ['오곡밥', '구이김', '보름나물', '오징어야채무침', '부럼', '포기김치', '쌀밥', '굴비구이', '차돌박이찌개'],\n",
              " ['요플레', '치킨핑거', '김치찐만두', '맑은국', '무생채', '곤드레밥*양념장', '포기김치'],\n",
              " ['시금치프리타타', '잡곡밥', '돼지갈비찜', '오이무침', '알타리김치', '아욱국', '쌀밥'],\n",
              " ['잡곡밥', '돈육김치찌개', '맛살냉채', '언양식불고기', '마늘쫑건새우볶음', '쌀밥', '포기김치'],\n",
              " ['잡곡밥', '고추장찌개', '버섯불고기', '두부양념조림', '참나물', '쌀밥', '포기김치'],\n",
              " ['잡곡밥', '배추겉절이', '숙주나물', '미트볼칠리조림', '쇠고기미역국', '고등어구이', '쌀밥'],\n",
              " ['오징어튀김', '떡밤초', '비빔밥', '음료', '유부장국', '포기김치'],\n",
              " ['매운어묵볶음', '잡곡밥', '돈삼겹보쌈', '무말랭이', '쌀밥', '콩가루배추된장국', '포기김치'],\n",
              " ['옥수수계란찜', '해물된장찌개', '잡곡밥', '돈육간장불고기', '모듬쌈', '쌀밥', '포기김치'],\n",
              " ['고추잡채*꽃빵', '잡곡밥', '삼치구이', '육개장', '얼갈이나물', '쌀밥', '포기김치'],\n",
              " ['유채나물겉절이', '콩나물밥', '코다리강정', '미역장국', '닭가슴살냉채', '알타리김치'],\n",
              " ['잡곡밥', '녹두전', '소고기낙지볶음', '돌나물*초장', '쌀밥', '북어해장국', '포기김치'],\n",
              " ['비엔나컬리플라워조림', '잡곡밥', '배추겉절이', '해물누룽지탕', '열무나물무침', '쌀밥', '차돌박이찌개'],\n",
              " ['잡곡밥', '어묵국', '쇠고기숙주볶음', '감자프리타타', '건새우마늘쫑볶음', '쌀밥', '포기김치'],\n",
              " ['잡곡밥', '해물김치전', '풋마늘대무침', '안동찜닭', '쌀밥', '쑥국', '포기김치'],\n",
              " ['가쯔오장국', '카레덮밥', '고구마치즈구이', '무말랭이', '쫄면무침', '포기김치'],\n",
              " ['모듬소시지구이', '잡곡밥', '열무김치', '우거지해장국', '양념깻잎지', '갈치구이', '쌀밥'],\n",
              " ['잡곡밥', '등갈비김치찜', '열무된장국', '배추겉절이', '메밀전병만두', '호박나물', '쌀밥'],\n",
              " ['오징어숙회무침', '잡곡밥', '콩나물국', '버섯불고기', '쌀밥', '세발나물', '포기김치'],\n",
              " ['잡곡밥', '배추겉절이', '동파육', '계란찜', '아욱국', '쌀밥', '쫑상추무침'],\n",
              " ['김치제육덮밥', '오이무침', '시저샐러드', '야채튀김', '맑은국', '알타리김치'],\n",
              " ['미역국', '동태전', '봄동겉절이', '잡곡밥', '깍두기', '식혜,오렌지,바나나', '새송이전', '한방소갈비찜', '쌀밥'],\n",
              " ['해물된장찌개', '잡곡밥', '양배추쌈*쌈장', '달래두부무침', '돈육굴소스볶음', '쌀밥', '포기김치'],\n",
              " ['잡곡밥', '소고기장조림', '두부구이', '꽃게탕', '방풍나물', '쌀밥', '포기김치'],\n",
              " ['들깨버섯무침', '잡곡밥', '제육볶음', '무채국', '얼갈이나물', '쌀밥', '포기김치'],\n",
              " ['가쯔오장국', '돈육칠리강정', '단호박영양밥', '배추겉절이', '모듬묵샐러드', '숙주나물'],\n",
              " ['부추팽이겉절이', '잡곡밥', '매운돼지갈비찜', '열무김치', '야채계란말이', '어묵탕', '쌀밥'],\n",
              " ['셀프무쌈말이', '잡곡밥', '알탕', '파래김*양념장', '미니함박조림', '쌀밥', '포기김치'],\n",
              " ['잡곡밥', '치커리무침', '소고기숙주볶음', '황태국', '계란찜', '쌀밥', '포기김치'],\n",
              " ['잡곡밥', '참나물무침', '연두부탕', '궁중떡볶음', '오징어볶음', '쌀밥', '포기김치'],\n",
              " ['볶음김치', '쫄면', '순대볶음', '온두부', '들깨시래기국', '곤드레밥*강된장'],\n",
              " ['아삭고추무침', '잡곡밥', '야채비빔만두', '열무김치', '돈육김치찌개', '안동찜닭', '쌀밥'],\n",
              " ['잡곡밥', '배추겉절이', '조랭이떡미역국', '간장깻잎지', '맛살전', '쌀밥', '짬뽕불고기'],\n",
              " ['유자청돈육볶음', '잡곡밥', '새송이버섯전', '된장찌개', '쌀밥', '모듬쌈*쌈장', '포기김치'],\n",
              " ['순두부찌개', '잡곡밥', '감자채볶음', '열무김치', '주꾸미볶음', '견과류조림', '쌀밥'],\n",
              " ['가쯔오장국', '오징어튀김', '나물비빔밥', '과일샐러드', '오복지', '포기김치'],\n",
              " ['잡곡밥', '오이무침', '콩나물국', '파스타샐러드', '수제돈까스', '쌀밥', '포기김치'],\n",
              " ['치커리사과생채', '잡곡밥', '닭오븐구이', '배추겉절이', '아욱국', '쌀밥', '옥수수전'],\n",
              " ['시금치프리타타', '잡곡밥', '도라지오이생채', '버섯불고기', '매운어묵국', '쌀밥', '포기김치'],\n",
              " ['고구마순나물', '잡곡밥', '열무된장국', '닭볶음탕', '우엉잡채', '쌀밥', '포기김치'],\n",
              " ['떡국', '잡곡밥', '양념깻잎지', '계란장조림', '오징어볶음', '쌀밥', '포기김치'],\n",
              " ['미트볼케찹조림', '잡곡밥', '열무김치', '어묵볶음', '쌀밥', '매운버섯국', '세발나물'],\n",
              " ['사천식탕수육', '단무지', '짜장덮밥', '군만두', '포기김치', '맑은국', '(쌀,돈육국내산)'],\n",
              " ['유자청돈육볶음', '잡곡밥', '콩나물겨자채', '양배추쌈*쌈장', '들깨시래기국', '쌀밥', '포기김치'],\n",
              " ['잡곡밥', '골뱅이무침*소면', '취나물무침', '된장찌개', '쇠고기장조림', '쌀밥', '포기김치'],\n",
              " ['카레라이스', '미소장국', '방울토마토', '언양식불고기', '떡볶이', '포기김치'],\n",
              " ['잡곡밥', '두부카프레제', '열무김치', '두부김치국', '해물누룽지탕', '무나물', '쌀밥'],\n",
              " ['미역국', '잡곡밥', '돈육간장강정', '숙주나물', '황태양념구이', '포기김치', '쌀밥', '(쌀,돈육국내산)'],\n",
              " ['잡곡밥', '부추생채', '계란찜', '버섯불고기', '김치콩나물국', '쌀밥', '포기김치'],\n",
              " ['잡곡밥', '소고기샤브국', '연근조림', '모듬묵샐러드', '오징어볶음', '쌀밥', '포기김치'],\n",
              " ['치커리생채', '해물된장찌개', '잡곡밥', '안동찜닭', '버섯볶음', '쌀밥', '포기김치'],\n",
              " ['순두부찌개', '잡곡밥', '미니채소떡갈비', '배추겉절이', '단배추나물', '쌀밥', '사각어묵무침', '(쌀,돈육국내산)'],\n",
              " ['잡곡밥', '어묵국', '두부조림', '쌈무', '양파절임', '훈제오리구이', '쌀밥', '포기김치'],\n",
              " ['가쯔오장국', '청경채생채', '요거트D', '콩나물밥', '치킨핑거', '메추리알조림', '포기김치'],\n",
              " ['상추쌈', '잡곡밥', '근대국', '고추', '배추겉절이', '보쌈', '무말랭이무침', '마늘', '쌀밥'],\n",
              " ['셀프무쌈말이', '잡곡밥', '깍두기', '소고기장조림', '참치김치찌개', '쌀밥', '실곤약초무침'],\n",
              " ['잡곡밥', '해파리겨자채', '제육볶음', '호박나물', '아욱국', '쌀밥', '포기김치'],\n",
              " ['잡곡밥', '고기전', '미역줄기볶음', '해물청경채볶음', '차돌된장찌개', '쌀밥', '포기김치'],\n",
              " ['가쯔오장국', '치킨너겟*머스타드', '산채비빔밥', '콘샐러드', '연근땅콩조림', '포기김치'],\n",
              " ['잡곡밥', '돼지갈비찜', '취나물', '연두부탕', '계란말이', '쌀밥', '포기김치'],\n",
              " ['볶음김치', '탕수어', '치커리유자청무침', '잡곡밥', '버섯매운탕', '온두부', '쌀밥'],\n",
              " ['코다리조림', '잡곡밥', '소고기숙주나물볶음', '방풍나물', '된장찌개', '쌀밥', '포기김치'],\n",
              " ['참나물생채', '해물순두부찌개', '잡곡밥', '수원왕갈비통닭', '열무김치', '사각어묵볶음', '쌀밥'],\n",
              " ['새송이떡갈비구이', '잡곡밥', '도토리묵야채무침', '꽃게탕', '연두부*양념장', '쌀밥', '포기김치'],\n",
              " ['소고기국', '잡곡밥', '돈육장조림', '시금치고추장무침', '가자미튀김', '쌀밥', '포기김치'],\n",
              " ['낙지비빔밥', '콩나물국', '계란찜', '포기김치', '땅콩조림', '부추전'],\n",
              " ['시금치프리타타', '잡곡밥', '돈육콩나물불고기', '포기김치', '북어국', '쌀밥', '쫑상추무침'],\n",
              " ['잡곡밥', '감자채전', '오이소박이', '안동찜닭', '쌀밥', '오징어국', '포기김치'],\n",
              " ['돈나물유자청무침', '잡곡밥', '마파두부', '쌀밥', '수제돈가스', '배추된장국', '포기김치'],\n",
              " ['잡곡밥', '야채비빔만두', '깍두기', '육개장', '파래김*양념장', '고등어구이', '쌀밥'],\n",
              " ['동태전', '마늘쫑무침', '봄나물비빔밥', '함박스테이크', '맑은국', '포기김치'],\n",
              " ['잡곡밥', '모듬쌈*쌈장', '콩나물국', '메추리알조림', '쌀밥', '짬뽕불고기', '포기김치'],\n",
              " ['잡곡밥', '등갈비김치찜', '콩나물무침', '열무김치', '두부계란부침', '아욱국', '쌀밥'],\n",
              " ['코다리조림', '과일샐러드', '곤드레밥*양념장', '계란말이', '맑은국', '포기김치'],\n",
              " ['버섯잡채', '잡곡밥', '오이무침', '고추장찌개', '언양식불고기', '쌀밥', '포기김치'],\n",
              " ['잡곡밥', '골뱅이무침*소면', '소불고기', '숙주나물', '매운어묵국', '쌀밥', '포기김치'],\n",
              " ['잡곡밥', '열무김치', '땅콩조림', '연두부*양념장', '부대찌개', '오징어볶음', '쌀밥'],\n",
              " ['김치제육덮밥', '깍두기', '사과고구마그라탕', '오복지무침', '맛살냉채', '맑은국'],\n",
              " ['옹심이만두국', '잡곡밥', '신김치도토리묵', '닭볶음탕', '치커리유자청생채', '쌀밥', '포기김치'],\n",
              " ['사천식탕수육', '잡곡밥', '해물파전', '오이냉국', '양념깻잎지', '쌀밥', '포기김치'],\n",
              " ['잡곡밥', '열무된장국', '돼지고기유자청볶음', '잡채', '취나물무침', '쌀밥', '포기김치'],\n",
              " ['잡곡밥', '매운돼지갈비찜', '흑임자연근샐러드', '무생채', '쌀밥', '북어해장국', '포기김치'],\n",
              " ['단무지', '쨔샤이무침', '짜장덮밥', '깐풍기', '물만두', '맑은국', '포기김치'],\n",
              " ['시금치프리타타', '아삭고추무침', '감자국', '잡곡밥', '주꾸미볶음', '쌀밥', '포기김치'],\n",
              " ['잡곡밥', '청국장찌개', '소고기장조림', '사과오이초무침', '김치전', '쌀밥', '포기김치'],\n",
              " ['옥수수계란찜', '가지나물', '잡곡밥', '어묵국', '소불고기', '쌀밥', '포기김치'],\n",
              " ['잡곡밥', '해파리냉채', '열무김치', '돈육장조림', '참치김치찌개', '맛살전', '쌀밥'],\n",
              " ['가쯔오장국', '카레덮밥', '고구마치즈구이', '무말랭이', '쫄면무침', '포기김치'],\n",
              " ['비엔나볶음', '잡곡밥', '배추겉절이', '소고기미역국', '파래김*양념장', '양념치킨', '쌀밥'],\n",
              " ['얼갈이겉절이', '팽이장국', '포기김치', '치킨핑거*요거트드레싱', '콩나물밥*양념장', '꽃맛살샐러드'],\n",
              " ['치즈함박스테이크', '순두부찌개', '매운어묵볶음', '잡곡밥', '청경채생채', '쌀밥', '포기김치'],\n",
              " ['우엉잡채', '쇠고기낙지볶음', '잡곡밥', '포기김치', '쌀밥', '사과오이냉국', '쫑상추무침'],\n",
              " ['마파두부덮밥', '파스타샐러드', '찐옥수수', '포기김치', '맑은국', '치킨너겟'],\n",
              " ['잡곡밥', '열무된장국', '감자채볶음', '호박잎*양배추쌈', '쌀밥', '짬뽕불고기', '포기김치'],\n",
              " ['동그랑땡전', '잡곡밥', '열무김치', '쌈무', '양파절임', '훈제오리구이', '부추겉절이', '김치두부국', '쌀밥'],\n",
              " ['잡곡밥', '치커리유자청생채', '꽃맛살볶음', '버섯불고기', '쌀밥', '오징어국', '포기김치'],\n",
              " ['잡곡밥', '시래기국', '닭볶음탕', '어묵꽈리볶음', '도라지생채', '쌀밥', '포기김치'],\n",
              " ['가쯔오장국', '깐풍육', '오복지무침', '열무보리비빔밥', '시저샐러드', '포기김치'],\n",
              " ['잡곡밥', '근대국', '해물김치전', '배추겉절이', '무말랭이', '삼겹보쌈', '쌀밥'],\n",
              " ['수박', '찹쌀밥', '삼계탕', '생야채&쌈장', '수제석박지', '<초복특식>'],\n",
              " ['잡곡밥', '시금치나물', '주꾸미야채무침', '돈육굴소스볶음', '포기김치', '쌀밥', '차돌박이찌개'],\n",
              " ['셀프무쌈말이', '잡곡밥', '열무김치', '닭갈비', '북어계란국', '쌀밥', '간장두부조림'],\n",
              " ['아삭고추무침', '요플레', '미소장국', '산채비빔밥', '야채튀김', '포기김치'],\n",
              " ['참나물생채', '모듬묵양념장', '잡곡밥', '미니채소떡갈비', '돈육김치찌개', '배추겉절이', '쌀밥'],\n",
              " ['소고기무국', '비엔나감자볶음', '잡곡밥', '갈치구이', '무생채', '쌀밥', '포기김치'],\n",
              " ['잡곡밥', '소고기숙주볶음', '양파짱아찌', '치킨샐러드', '매운어묵국', '쌀밥', '포기김치'],\n",
              " ['잡곡밥', '등갈비김치찜', '콩나물무침', '깍두기', '시금치된장국', '파프리카잡채', '쌀밥'],\n",
              " ['카레라이스', '갈비통통만두', '호두견과류강정', '가쯔오국', '쫄면야채무침', '포기김치'],\n",
              " ['코다리조림', '잡곡밥', '유린기', '치커리사과무침', '매운소고기국', '쌀밥', '포기김치'],\n",
              " ['고구마함박스테이크', '잡곡밥', '우묵냉국', '김치전', '오이맛살초무침', '쌀밥', '포기김치'],\n",
              " ['시금치국', '잡곡밥', '오이무침', '유자청제육볶음', '사과고구마그라탕', '쌀밥', '포기김치'],\n",
              " ['잡곡밥', '콩나물무침', '장어강정', '포기김치', '쌀밥', '사과오이냉국', '햄감자채볶음'],\n",
              " ['찐햇감자', '메밀전병만두', '해물누룽지탕', '곤드레밥*양념장', '오복지', '맑은국', '포기김치'],\n",
              " ['청경채생채', '잡곡밥', '닭볶음탕', '배추겉절이', '오징어브로컬리숙회', '아욱국', '쌀밥'],\n",
              " ['미트볼케찹조림', '잡곡밥', '고추장찌개', '꽈리고추찜', '계란말이', '쌀밥', '포기김치'],\n",
              " ['잡곡밥', '실곤약흑임자무침', '콩나물국', '닭갈비', '건새우마늘쫑볶음', '쌀밥', '포기김치'],\n",
              " ['양배추쌈*젓장', '잡곡밥', '계란찜', '도토리묵냉국', '쌀밥', '짬뽕불고기', '포기김치'],\n",
              " ['고추잡채*꽃빵', '짜장덮밥', '군만두', '맑은국', '단무지무침', '포기김치'],\n",
              " ['치커리유자청무침', '잡곡밥', '돼지갈비찜', '어묵볶음', '배추겉절이', '아욱국', '쌀밥'],\n",
              " ['잡곡밥', '주꾸미볶음', '차돌된장찌개', '양념깻잎지', '쌀밥', '옥수수전', '포기김치'],\n",
              " ['잡곡밥', '소고기숙주볶음', '모듬묵*양념장', '고추잎나물', '된장찌개', '쌀밥', '포기김치'],\n",
              " ['잡곡밥', '감자프리타타', '꽃게탕', '언양식불고기', '깻잎찜', '쌀밥', '포기김치'],\n",
              " ['쨔샤이무침', '유린기', '콩나물밥', '모히토과일샐러드', '포기김치', '올챙이만두국'],\n",
              " ['잡곡밥', '잡채', '닭개장', '비름나물된장무침', '쇠고기장조림', '쌀밥', '포기김치'],\n",
              " ['잡곡밥', '시래기국', '유자청제육볶음', '연두부*양념장', '해물겨자냉채', '쌀밥', '포기김치'],\n",
              " ['얼갈이겉절이', '모듬소세지구이', '잡곡밥', '닭강정', '소고기미역국', '쌀밥', '포기김치'],\n",
              " ['아삭고추무침', '오징어튀김', '요플레', '미소장국', '산채비빔밥', '포기김치'],\n",
              " ['오이도라지생채', '잡곡밥', '열무김치', '류산슬', '오꼬노미야끼계란말이', '닭곰탕', '쌀밥'],\n",
              " ['잡곡밥', '미니채소떡갈비', '돈육김치찌개', '배추겉절이', '숙주나물', '자반고등어구이', '쌀밥'],\n",
              " ['잡곡밥', '콩나물무침', '사과고구마그라탕', '꽃게탕', '함박스테이크', '쌀밥', '포기김치'],\n",
              " ['동태전', '잡곡밥', '고추장찌개', '레몬미역초무침', '버섯불고기', '쌀밥', '포기김치'],\n",
              " ['과일', '카레덮밥', '치킨핑거', '오복지', '맑은국', '쫄면야채무침', '포기김치'],\n",
              " ['매운어묵볶음', '잡곡밥', '쌈무', '양파절임', '훈제오리구이', '부추겉절이', '쌀밥', '배추된장국', '포기김치'],\n",
              " ['잡곡밥', '배추겉절이', '김구이', '부대찌개', '쌀밥', '비엔나컬리플라워볶음', '굴비구이'],\n",
              " ['잡곡밥', '돈육김치볶음', '포기김치', '궁중떡볶음', '쫑상추무침', '쌀밥', '들깨시락국'],\n",
              " ['참나물생채', '잡곡밥', '소고기장조림', '갈치무조림', '포기김치', '쌀밥', '차돌박이찌개'],\n",
              " ['오이무침', '단호박영양밥', '양장피', '유부장국', '새송이너비아니구이', '포기김치'],\n",
              " ['토란국', '잡곡밥', '도토리묵야채무침', '매운돼지갈비찜', '호박부추전', '쌀밥', '포기김치'],\n",
              " ['미역무침', '잡곡밥', '배추겉절이', '통도라지구이', '된장찌개', '수제돈까스', '쌀밥'],\n",
              " ['버섯잡채', '잡곡밥', '모듬쌈*쌈장', '김치콩나물국', '쌀밥', '짬뽕불고기', '포기김치'],\n",
              " ['사천식탕수육', '잡곡밥', '감자프리타타', '청경채겉절이', '맑은순두부국', '쌀밥', '포기김치'],\n",
              " ['과일', '나물비빔밥', '송편', '식혜', '팽이장국', '생선까스*칠리소스', '갈비만두', '포기김치'],\n",
              " ['잡곡밥', '부추생채', '황태국', '쌈무', '포기김치', '훈제오리고추장볶음', '쌀밥', '연두부*장'],\n",
              " ['잡곡밥', '꽃상추겉절이', '날치알계란찜', '꽃게된장찌개', '돈육굴소스볶음', '쌀밥', '포기김치'],\n",
              " ['오징어숙회무침', '과일', '오렌지주스', '잡곡밥', '탄두리치킨', '파스타샐러드', '배추겉절이', '소고기미역국', '쌀밥'],\n",
              " ['카레감자채볶음', '쇠고기샤브국', '잡곡밥', '호박나물', '주꾸미볶음', '쌀밥', '포기김치'],\n",
              " ['잡곡밥', '대패삼겹*파채', '열무된장국', '비름나물', '쌀밥', '사각어묵무침', '포기김치'],\n",
              " ['동그랑땡전', '얼갈이겉절이', '잡곡밥', '근대국', '유자청제육볶음', '쌀밥', '포기김치'],\n",
              " ['잡곡밥', '미역줄기볶음', '얼갈이된장국', '버섯불고기', '골뱅이무침', '쌀밥', '포기김치'],\n",
              " ['사과고구마그라탕', '오복지무침', '곤드레밥*양념장', '돈육강정', '맑은국', '포기김치'],\n",
              " ['잡곡밥', '깍두기', '콩나물김치국', '마늘쫑무침', '해물누룽지탕', '두부스테이크', '쌀밥'],\n",
              " ['청경채생채', '잡곡밥', '어묵국', '언양식불고기', '계란말이', '쌀밥', '포기김치'],\n",
              " ['얼갈이겉절이', '잡곡밥', '콩가루배추국', '메추리알조림', '쌀밥', '짬뽕불고기', '포기김치'],\n",
              " ['잡곡밥', '깍두기', '돈육김치찌개', '닭갈비', '부추겉절이', '우엉잡채', '쌀밥'],\n",
              " ['해물된장찌개', '잡곡밥', '소불고기', '미역레몬초무침', '두부양념조림', '쌀밥', '포기김치'],\n",
              " ['잡곡밥', '해파리겨자채', '돈육굴소스볶음', '마늘쫑건새우볶음', '포기김치', '쌀밥', '콩비지찌개'],\n",
              " ['마늘간장치킨', '잡곡밥', '새송이버섯전', '동태탕', '치커리사과무침', '쌀밥', '포기김치'],\n",
              " ['옹심이만두국', '잡곡밥', '청경채무침', '포기김치', '미트볼조림', '쌀밥', '굴비구이'],\n",
              " ['잡곡밥', '매운돼지갈비찜', '건파래무침', '파스타샐러드', '배추겉절이', '아욱국', '쌀밥'],\n",
              " ['야채스틱', '잡곡밥', '감자채볶음', '제육볶음', '쌀밥', '북어해장국', '포기김치'],\n",
              " ['잡곡밥', '부추생채', '콩나물국', '어묵볶음', '닭갈비', '쌀밥', '포기김치'],\n",
              " ['쨔샤이무침', '콩나물밥', '모히토과일샐러드', '돈육강정', '가쯔오국', '포기김치'],\n",
              " ['치커리유자청무침', '잡곡밥', '알탕', '포기김치', '쇠고기두부찜', '쌀밥', '해물굴소스볶음'],\n",
              " ['잡곡밥', '우거지된장국', '마늘쫑무침', '배추겉절이', '쇠고기장조림', '쌀밥', '옥수수전'],\n",
              " ['잡곡밥', '부추생채', '고추장찌개', '양파절임', '훈제오리단호박볶음', '골뱅이무침', '쌀밥', '포기김치'],\n",
              " ['도토리묵무침', '얼큰순두부찌개', '잡곡밥', '잡채', '쌀밥', '짬뽕불고기', '포기김치'],\n",
              " ['카레라이스', '단무지', '바나나', '유린기', '메밀전병만두', '우동국', '포기김치'],\n",
              " ['건새우아욱국', '등갈비김치말이', '잡곡밥', '열무김치', '숙주나물무침', '계란말이', '쌀밥'],\n",
              " ['나물비빔밥', '식혜', '팽이장국', '생선까스*칠리소스', '갈비만두', '포기김치'],\n",
              " ['잡곡밥', '유자청제육볶음', '소고기미역국', '메추리알조림', '쌀밥', '모듬쌈*쌈장', '포기김치'],\n",
              " ['잡곡밥', '두부새싹구이', '열무김치', '된장찌개', '파래김*양념장', '오징어볶음', '쌀밥'],\n",
              " ['마파두부덮밥', '치킨핑거', '시저샐러드', '무비트생채', '맑은국', '포기김치'],\n",
              " ['잡곡밥', '매운콩나물국', '배추겉절이', '늙은호박전', '동파삼겹수육', '쌀밥', '쫑상추무침'],\n",
              " ['감자범벅', '옛날돈까스', '수제피클', '음료', '포기김치', '딸기드레싱샐러드', '쌀밥', '옥수수스프'],\n",
              " ['잡곡밥', '근대국', '소고기낙지볶음', '계란찜', '청경채사과생채', '쌀밥', '포기김치'],\n",
              " ['순살파닭', '잡곡밥', '감자채볶음', '콩나물무침', '고추장찌개', '쌀밥', '포기김치'],\n",
              " ['동태전', '가쯔오장국', '김치제육덮밥', '오이무침', '열무김치', '시금치프리타타'],\n",
              " ['물파래무침', '멸치호두볶음', '잡곡밥', '미니채소떡갈비', '쌀밥', '오징어국', '포기김치'],\n",
              " ['사천식탕수육', '멕시칸샐러드', '단무지', '미역장국', '포기김치', '야채볶음밥*짜장소스'],\n",
              " ['잡곡밥', '잡채', '돈육김치찌개', '포기김치', '언양식불고기*양파채', '쌀밥', '진미채무침'],\n",
              " ['잡곡밥', '주꾸미볶음', '차돌된장찌개', '양념깻잎지', '쌀밥', '옥수수전', '포기김치'],\n",
              " ['사과고구마그라탕', '오복지무침', '배추겉절이', '곤드레밥*양념장', '돈육강정', '맑은국'],\n",
              " ['모듬소시지구이', '잡곡밥', '콩나물국', '미역레몬초무침', '해물누룽지탕', '쌀밥', '포기김치'],\n",
              " ['피클', '치킨텐더샐러드', '또띠아칩', '방울토마토', '나가사끼짬뽕국', '김치볶음밥', '포기김치'],\n",
              " ['시금치프리타타', '잡곡밥', '오이무침', '소고기장조림', '김치콩나물국', '쌀밥', '포기김치'],\n",
              " ['탕수어', '잡곡밥', '김치볶음', '육개장', '온두부', '참나물', '쌀밥'],\n",
              " ['미소장국', '오이도라지무침', '청포묵무침', '닭강정', '콩나물밥*양념장', '포기김치'],\n",
              " ['잡곡밥', '실곤약흑임자무침', '류산슬', '비빔야채만두', '된장찌개', '쌀밥', '포기김치'],\n",
              " ['과일', '카레덮밥', '생선까스', '아몬드멸치볶음', '맑은국', '쫄면야채무침', '포기김치'],\n",
              " ['아삭고추무침', '잡곡밥', '고추장찌개', '버섯불고기', '계란말이', '쌀밥', '포기김치'],\n",
              " ['잡곡밥', '누룽지탕수육', '깍두기', '마파두부', '파래김*양념장', '김치두부국', '쌀밥'],\n",
              " ['나물비빔밥', '치커리유자청생채', '감자치즈구이', '군만두', '맑은국', '포기김치'],\n",
              " ['청경채생채', '잡곡밥', '해물파전', '열무김치', '닭볶음탕', '아욱국', '쌀밥'],\n",
              " ['과일', '미소장국', '콘샐러드', '군고구마', '오므라이스', '모듬튀김', '포기김치'],\n",
              " ['잡곡밥', '열무된장국', '쌈무', '양파절임', '훈제오리구이', '우엉잡채', '쌀밥', '포기김치'],\n",
              " ['홍합탕', '마늘간장치킨', '잡곡밥', '마늘쫑무침', '포기김치', '쌀밥', '부추전'],\n",
              " ['요플레', '계란', '열무김치', '팽이장국', '콥샐러드', '김치볶음밥', '비트무생채', '해물까스*칠리소스'],\n",
              " ['동태전', '가지나물', '쇠고기샤브국', '잡곡밥', '닭갈비', '쌀밥', '포기김치'],\n",
              " ['잡곡밥', '근대국', '깍두기', '계란찜', '양념깻잎지', '수제돈가스', '쌀밥'],\n",
              " ['유자청돈육볶음', '잡곡밥', '콩나물겨자채', '시금치나물', '들깨시래기국', '쌀밥', '포기김치'],\n",
              " ['코다리조림', '잡곡밥', '유린기', '치커리사과무침', '매운소고기국', '쌀밥', '포기김치'],\n",
              " ['오이무침', '단호박영양밥', '양장피', '유부장국', '새송이너비아니구이', '포기김치'],\n",
              " ['잡곡밥', '도토리묵야채무침', '매운돼지갈비찜', '호박부추전', '굴미역국', '쌀밥', '포기김치'],\n",
              " ['고추잡채*꽃빵', '잡곡밥', '깍두기', '참치김치찌개', '가지무침', '안동찜닭', '쌀밥'],\n",
              " ['잡곡밥', '열무된장국', '쌈무', '양파절임', '떡잡채', '쌀밥', '훈제오리볶음', '포기김치'],\n",
              " ['잡곡밥', '소고기숙주볶음', '무채국', '메추리알곤약조림', '포기김치', '쌀밥', '유채겉절이'],\n",
              " ['미소장국', '샐러드파스타', '콩나물밥', '가래떡츄러스', '언양식불고기*양파채', '포기김치'],\n",
              " ['잡곡밥', '대패삼겹*파채', '된장찌개', '포기김치', '해물콩나물찜', '쌀밥', '연두부*장'],\n",
              " ['잡곡밥', '감자양파국', '두부커틀릿', '간장깻잎지', '매운닭찜', '쌀밥', '포기김치'],\n",
              " ...]"
            ]
          },
          "metadata": {
            "tags": []
          },
          "execution_count": 74
        }
      ]
    },
    {
      "cell_type": "code",
      "metadata": {
        "colab": {
          "base_uri": "https://localhost:8080/"
        },
        "id": "Jjx4LCoWITPL",
        "outputId": "2eff08ee-1f8c-483c-d807-af8fc1c4b863"
      },
      "source": [
        "# Train or load w2v model\n",
        "TRAIN_W2V = True\n",
        "try:\n",
        "    model = Word2Vec.load('food_embedding.model')\n",
        "    print('Model loaded')\n",
        "\n",
        "except:\n",
        "    if TRAIN_W2V:\n",
        "        print('Training w2v')\n",
        "        model = Word2Vec(sentences=food_combinations, size=args.emb_dim, window=7, min_count=0, workers=4, sg=0, iter=5000) # , epochs=5000\n",
        "        model.save('food_embedding.model')\n",
        "\n",
        "    else:\n",
        "        print('Model loading failed. Do not train')"
      ],
      "execution_count": null,
      "outputs": [
        {
          "output_type": "stream",
          "text": [
            "Model loaded\n"
          ],
          "name": "stdout"
        }
      ]
    },
    {
      "cell_type": "code",
      "metadata": {
        "colab": {
          "base_uri": "https://localhost:8080/"
        },
        "id": "HuksDZKmIVsf",
        "outputId": "a4e7a847-460d-4928-90d4-6e190e222b6b"
      },
      "source": [
        "# w2v demo\n",
        "model.wv.most_similar('된장찌개')"
      ],
      "execution_count": null,
      "outputs": [
        {
          "output_type": "execute_result",
          "data": {
            "text/plain": [
              "[('차돌박이찌개', 0.5890545845031738),\n",
              " ('근대국', 0.5358571410179138),\n",
              " ('쇠고기미역국', 0.5003644227981567),\n",
              " ('콩비지찌개', 0.49991491436958313),\n",
              " ('아욱국', 0.4995737075805664),\n",
              " ('순두부찌개', 0.4944661259651184),\n",
              " ('어묵국', 0.46271392703056335),\n",
              " ('매운소고기국', 0.45823901891708374),\n",
              " ('닭곰탕', 0.4463161826133728),\n",
              " ('열무된장국', 0.44390860199928284)]"
            ]
          },
          "metadata": {
            "tags": []
          },
          "execution_count": 77
        }
      ]
    },
    {
      "cell_type": "markdown",
      "metadata": {
        "id": "wgQ3nhxaIeXn"
      },
      "source": [
        "### **8-2. Preprocessing**"
      ]
    },
    {
      "cell_type": "code",
      "metadata": {
        "id": "oBD0AHxoIoFN"
      },
      "source": [
        "def process_date(df):\n",
        "    df['일자'] = pd.to_datetime(df['일자'], format=\"%Y-%m-%d\")\n",
        "    df['year'] = df['일자'].dt.year\n",
        "    df['month'] = df['일자'].dt.month\n",
        "    df['day'] = df['일자'].dt.day\n",
        "    df = df.drop('일자', axis=1)\n",
        "    return df\n",
        "\n",
        "def get_food_embedding(x):\n",
        "    x_ = []\n",
        "    x = x.split(' ')\n",
        "    for i in x:\n",
        "        if '(' in i and ':' in i and ')' in i:\n",
        "            continue\n",
        "        if '/' in i:\n",
        "            x_.extend(i.split('/'))\n",
        "        else:\n",
        "            x_.append(i)\n",
        "    x_ = list(set(x_))\n",
        "    x_.remove('')\n",
        "    vec_ = np.zeros(args.emb_dim)\n",
        "    for i in x_:\n",
        "        vec = model.wv.get_vector(i)\n",
        "        vec_ += vec\n",
        "    vec_ /= len(x_)\n",
        "    return vec_"
      ],
      "execution_count": null,
      "outputs": []
    },
    {
      "cell_type": "code",
      "metadata": {
        "id": "3n-IXRcbIy6z"
      },
      "source": [
        "# General preprocessing\n",
        "day_encoder = LabelEncoder() # 비수치형 자료를 수치형으로 바꿔줌\n",
        "train['요일'] = day_encoder.fit_transform(train['요일']) # 요일을 숫자로"
      ],
      "execution_count": null,
      "outputs": []
    },
    {
      "cell_type": "code",
      "metadata": {
        "id": "FAoZNpywI16n"
      },
      "source": [
        "# Get embedding\n",
        "train['중식메뉴_embedding'] = train['중식메뉴'].apply(lambda x: get_food_embedding(x))\n",
        "train['석식메뉴_embedding'] = train['석식메뉴'].apply(lambda x: get_food_embedding(x))"
      ],
      "execution_count": null,
      "outputs": []
    },
    {
      "cell_type": "code",
      "metadata": {
        "id": "gK6mps1uI3bS"
      },
      "source": [
        "# 필요없는 column 없애기\n",
        "y_lunch = train['중식계']\n",
        "y_dinner = train['석식계']\n",
        "train.drop(['중식메뉴', '석식메뉴', '중식계', '석식계'], axis = 1, inplace = True) # axis = 1은 열단위 수정, inplace = T 는 원본에서 바로 바꾸기"
      ],
      "execution_count": null,
      "outputs": []
    },
    {
      "cell_type": "code",
      "metadata": {
        "id": "4n5pA-ZiI5Lq"
      },
      "source": [
        "X_common = train.iloc[:, :9]"
      ],
      "execution_count": null,
      "outputs": []
    },
    {
      "cell_type": "code",
      "metadata": {
        "colab": {
          "base_uri": "https://localhost:8080/",
          "height": 204
        },
        "id": "1RhhfyovI6iX",
        "outputId": "ce24feff-05d6-4b23-8557-cc5eff3bd578"
      },
      "source": [
        "X_common.head()"
      ],
      "execution_count": null,
      "outputs": [
        {
          "output_type": "execute_result",
          "data": {
            "text/html": [
              "<div>\n",
              "<style scoped>\n",
              "    .dataframe tbody tr th:only-of-type {\n",
              "        vertical-align: middle;\n",
              "    }\n",
              "\n",
              "    .dataframe tbody tr th {\n",
              "        vertical-align: top;\n",
              "    }\n",
              "\n",
              "    .dataframe thead th {\n",
              "        text-align: right;\n",
              "    }\n",
              "</style>\n",
              "<table border=\"1\" class=\"dataframe\">\n",
              "  <thead>\n",
              "    <tr style=\"text-align: right;\">\n",
              "      <th></th>\n",
              "      <th>연</th>\n",
              "      <th>월</th>\n",
              "      <th>일</th>\n",
              "      <th>요일</th>\n",
              "      <th>식사가능자수</th>\n",
              "      <th>본사휴가자수</th>\n",
              "      <th>본사출장자수</th>\n",
              "      <th>본사시간외근무명령서승인건수</th>\n",
              "      <th>현본사소속재택근무자수</th>\n",
              "    </tr>\n",
              "  </thead>\n",
              "  <tbody>\n",
              "    <tr>\n",
              "      <th>0</th>\n",
              "      <td>2016</td>\n",
              "      <td>2</td>\n",
              "      <td>1</td>\n",
              "      <td>1</td>\n",
              "      <td>2551</td>\n",
              "      <td>50</td>\n",
              "      <td>150</td>\n",
              "      <td>238</td>\n",
              "      <td>0.0</td>\n",
              "    </tr>\n",
              "    <tr>\n",
              "      <th>1</th>\n",
              "      <td>2016</td>\n",
              "      <td>2</td>\n",
              "      <td>2</td>\n",
              "      <td>2</td>\n",
              "      <td>2551</td>\n",
              "      <td>50</td>\n",
              "      <td>173</td>\n",
              "      <td>319</td>\n",
              "      <td>0.0</td>\n",
              "    </tr>\n",
              "    <tr>\n",
              "      <th>2</th>\n",
              "      <td>2016</td>\n",
              "      <td>2</td>\n",
              "      <td>3</td>\n",
              "      <td>3</td>\n",
              "      <td>2545</td>\n",
              "      <td>56</td>\n",
              "      <td>180</td>\n",
              "      <td>111</td>\n",
              "      <td>0.0</td>\n",
              "    </tr>\n",
              "    <tr>\n",
              "      <th>3</th>\n",
              "      <td>2016</td>\n",
              "      <td>2</td>\n",
              "      <td>4</td>\n",
              "      <td>4</td>\n",
              "      <td>2497</td>\n",
              "      <td>104</td>\n",
              "      <td>220</td>\n",
              "      <td>355</td>\n",
              "      <td>0.0</td>\n",
              "    </tr>\n",
              "    <tr>\n",
              "      <th>4</th>\n",
              "      <td>2016</td>\n",
              "      <td>2</td>\n",
              "      <td>5</td>\n",
              "      <td>5</td>\n",
              "      <td>2323</td>\n",
              "      <td>278</td>\n",
              "      <td>181</td>\n",
              "      <td>34</td>\n",
              "      <td>0.0</td>\n",
              "    </tr>\n",
              "  </tbody>\n",
              "</table>\n",
              "</div>"
            ],
            "text/plain": [
              "      연  월  일  요일  식사가능자수  본사휴가자수  본사출장자수  본사시간외근무명령서승인건수  현본사소속재택근무자수\n",
              "0  2016  2  1   1    2551      50     150             238          0.0\n",
              "1  2016  2  2   2    2551      50     173             319          0.0\n",
              "2  2016  2  3   3    2545      56     180             111          0.0\n",
              "3  2016  2  4   4    2497     104     220             355          0.0\n",
              "4  2016  2  5   5    2323     278     181              34          0.0"
            ]
          },
          "metadata": {
            "tags": []
          },
          "execution_count": 84
        }
      ]
    },
    {
      "cell_type": "code",
      "metadata": {
        "id": "YgWVJD9DI8cz"
      },
      "source": [
        "# 조식 포함한 버전, 포함하지 않은 버전\n",
        "# ver2의 결과가 더 좋음\n",
        "\n",
        "# emb_arr_lunch = np.array(train.iloc[:, 9].to_numpy().tolist()) + np.array(train.iloc[:, 10].to_numpy().tolist()) # Ver 1\n",
        "# emb_arr_dinner = np.array(train.iloc[:, 9].to_numpy().tolist()) + np.array(train.iloc[:, 11].to_numpy().tolist()) # Ver 1\n",
        "emb_arr_lunch = np.array(train.iloc[:, 10].to_numpy().tolist()) # Ver 2 # 중식메뉴_embedding\n",
        "emb_arr_dinner = np.array(train.iloc[:, 11].to_numpy().tolist()) # Ver 2\n",
        "\n",
        "X_train_lunch = np.concatenate((X_common.to_numpy(), emb_arr_lunch), axis = 1)\n",
        "X_train_dinner = np.concatenate((X_common.to_numpy(), emb_arr_dinner), axis = 1)"
      ],
      "execution_count": null,
      "outputs": []
    },
    {
      "cell_type": "code",
      "metadata": {
        "id": "UWMH4UR3I-2S"
      },
      "source": [
        "# random_state 바꿔보기..?\n",
        "# train, test split 하지 않고 원본 그대로 사용해보기\n",
        "X_train_lunch, X_test_lunch, y_train_lunch, y_test_lunch = train_test_split(X_train_lunch, y_lunch, test_size = 0.1, random_state = 42)\n",
        "X_train_dinner, X_test_dinner, y_train_dinner, y_test_dinner = train_test_split(X_train_dinner, y_dinner, test_size = 0.1, random_state = 42)"
      ],
      "execution_count": null,
      "outputs": []
    },
    {
      "cell_type": "code",
      "metadata": {
        "colab": {
          "base_uri": "https://localhost:8080/"
        },
        "id": "CAjnN4YKT1VU",
        "outputId": "e9a267bc-e48d-4df1-f9c2-f9e0a39e5bd9"
      },
      "source": [
        "len(X_train_lunch)"
      ],
      "execution_count": null,
      "outputs": [
        {
          "output_type": "execute_result",
          "data": {
            "text/plain": [
              "1205"
            ]
          },
          "metadata": {
            "tags": []
          },
          "execution_count": 149
        }
      ]
    },
    {
      "cell_type": "code",
      "metadata": {
        "colab": {
          "base_uri": "https://localhost:8080/"
        },
        "id": "ugsnEo-zW1aS",
        "outputId": "071b4cda-29a2-4292-aaf5-3bc95989ba07"
      },
      "source": [
        "len(y_lunch)"
      ],
      "execution_count": null,
      "outputs": [
        {
          "output_type": "execute_result",
          "data": {
            "text/plain": [
              "1205"
            ]
          },
          "metadata": {
            "tags": []
          },
          "execution_count": 150
        }
      ]
    },
    {
      "cell_type": "markdown",
      "metadata": {
        "id": "BsTLdU80JAFo"
      },
      "source": [
        "### **8-3. Modeling**\n",
        "* Regressor 변경해보기\n",
        "* GridSearch로 parameter 최적화"
      ]
    },
    {
      "cell_type": "code",
      "metadata": {
        "colab": {
          "base_uri": "https://localhost:8080/"
        },
        "id": "JhVbUlfXJFNG",
        "outputId": "c4bcc5fc-9eba-4393-c9c9-62365004a1b8"
      },
      "source": [
        "# Simple LGBM Regressor w/o tuning\n",
        "model_lunch = LGBMRegressor()\n",
        "model_lunch.fit(X_train_lunch, y_train_lunch)\n",
        "\n",
        "model_dinner = LGBMRegressor()\n",
        "model_dinner.fit(X_train_dinner, y_train_dinner)"
      ],
      "execution_count": null,
      "outputs": [
        {
          "output_type": "execute_result",
          "data": {
            "text/plain": [
              "LGBMRegressor(boosting_type='gbdt', class_weight=None, colsample_bytree=1.0,\n",
              "              importance_type='split', learning_rate=0.1, max_depth=-1,\n",
              "              min_child_samples=20, min_child_weight=0.001, min_split_gain=0.0,\n",
              "              n_estimators=100, n_jobs=-1, num_leaves=31, objective=None,\n",
              "              random_state=None, reg_alpha=0.0, reg_lambda=0.0, silent=True,\n",
              "              subsample=1.0, subsample_for_bin=200000, subsample_freq=0)"
            ]
          },
          "metadata": {
            "tags": []
          },
          "execution_count": 89
        }
      ]
    },
    {
      "cell_type": "code",
      "metadata": {
        "colab": {
          "base_uri": "https://localhost:8080/"
        },
        "id": "ZU6p6SM_JHGN",
        "outputId": "65972cd9-5f69-47d4-8d59-5b82671aa7a9"
      },
      "source": [
        "# Validate\n",
        "pred_lunch = model_lunch.predict(X_test_lunch)\n",
        "pred_dinner = model_dinner.predict(X_test_dinner)\n",
        "\n",
        "print('lunch mae:', mean_absolute_error(y_test_lunch, pred_lunch))\n",
        "print('dinner mae:', mean_absolute_error(y_test_dinner, pred_dinner))"
      ],
      "execution_count": null,
      "outputs": [
        {
          "output_type": "stream",
          "text": [
            "lunch mae: 74.22792705307879\n",
            "dinner mae: 50.38984058310928\n"
          ],
          "name": "stdout"
        }
      ]
    },
    {
      "cell_type": "markdown",
      "metadata": {
        "id": "ddVz1oLlJIb6"
      },
      "source": [
        "### **8-4. Inference**"
      ]
    },
    {
      "cell_type": "code",
      "metadata": {
        "id": "ajfdZr8_JMdz"
      },
      "source": [
        "# df_test = pd.read_csv('/content/drive/MyDrive/Colab Notebooks/dacon_contest1/data/test.csv')\n",
        "\n",
        "# Apply general preprocessing\n",
        "# df_test = process_date(df_test)\n",
        "\n",
        "# 요일 바꾸는 과정에서 209->207인듯..?\n",
        "# test['요일'] = day_encoder.transform(test['요일'])\n",
        "\n",
        "# df_test['조식메뉴_embedding'] = df_test['조식메뉴'].apply(lambda x: get_food_embedding(x))\n",
        "test['중식메뉴_embedding'] = test['중식메뉴'].apply(lambda x: get_food_embedding(x))\n",
        "test['석식메뉴_embedding'] = test['석식메뉴'].apply(lambda x: get_food_embedding(x))\n",
        "test.drop(['중식메뉴', '석식메뉴'], axis = 1, inplace = True)"
      ],
      "execution_count": null,
      "outputs": []
    },
    {
      "cell_type": "code",
      "metadata": {
        "id": "BECWurmhVayv"
      },
      "source": [
        "X_test_common = test.iloc[:, :9]"
      ],
      "execution_count": null,
      "outputs": []
    },
    {
      "cell_type": "code",
      "metadata": {
        "colab": {
          "base_uri": "https://localhost:8080/",
          "height": 204
        },
        "id": "WtU0xW5FV3RG",
        "outputId": "2fd68182-3be7-4b08-9033-86e70828fcea"
      },
      "source": [
        "X_test_common.head()"
      ],
      "execution_count": null,
      "outputs": [
        {
          "output_type": "execute_result",
          "data": {
            "text/html": [
              "<div>\n",
              "<style scoped>\n",
              "    .dataframe tbody tr th:only-of-type {\n",
              "        vertical-align: middle;\n",
              "    }\n",
              "\n",
              "    .dataframe tbody tr th {\n",
              "        vertical-align: top;\n",
              "    }\n",
              "\n",
              "    .dataframe thead th {\n",
              "        text-align: right;\n",
              "    }\n",
              "</style>\n",
              "<table border=\"1\" class=\"dataframe\">\n",
              "  <thead>\n",
              "    <tr style=\"text-align: right;\">\n",
              "      <th></th>\n",
              "      <th>연</th>\n",
              "      <th>월</th>\n",
              "      <th>일</th>\n",
              "      <th>요일</th>\n",
              "      <th>식사가능자수</th>\n",
              "      <th>본사휴가자수</th>\n",
              "      <th>본사출장자수</th>\n",
              "      <th>본사시간외근무명령서승인건수</th>\n",
              "      <th>현본사소속재택근무자수</th>\n",
              "    </tr>\n",
              "  </thead>\n",
              "  <tbody>\n",
              "    <tr>\n",
              "      <th>0</th>\n",
              "      <td>2021</td>\n",
              "      <td>1</td>\n",
              "      <td>27</td>\n",
              "      <td>3</td>\n",
              "      <td>2537</td>\n",
              "      <td>88</td>\n",
              "      <td>182</td>\n",
              "      <td>5</td>\n",
              "      <td>358.0</td>\n",
              "    </tr>\n",
              "    <tr>\n",
              "      <th>1</th>\n",
              "      <td>2021</td>\n",
              "      <td>1</td>\n",
              "      <td>28</td>\n",
              "      <td>4</td>\n",
              "      <td>2531</td>\n",
              "      <td>104</td>\n",
              "      <td>212</td>\n",
              "      <td>409</td>\n",
              "      <td>348.0</td>\n",
              "    </tr>\n",
              "    <tr>\n",
              "      <th>2</th>\n",
              "      <td>2021</td>\n",
              "      <td>1</td>\n",
              "      <td>29</td>\n",
              "      <td>5</td>\n",
              "      <td>2419</td>\n",
              "      <td>270</td>\n",
              "      <td>249</td>\n",
              "      <td>0</td>\n",
              "      <td>294.0</td>\n",
              "    </tr>\n",
              "    <tr>\n",
              "      <th>3</th>\n",
              "      <td>2021</td>\n",
              "      <td>2</td>\n",
              "      <td>1</td>\n",
              "      <td>1</td>\n",
              "      <td>2494</td>\n",
              "      <td>108</td>\n",
              "      <td>154</td>\n",
              "      <td>538</td>\n",
              "      <td>322.0</td>\n",
              "    </tr>\n",
              "    <tr>\n",
              "      <th>4</th>\n",
              "      <td>2021</td>\n",
              "      <td>2</td>\n",
              "      <td>2</td>\n",
              "      <td>2</td>\n",
              "      <td>2548</td>\n",
              "      <td>62</td>\n",
              "      <td>186</td>\n",
              "      <td>455</td>\n",
              "      <td>314.0</td>\n",
              "    </tr>\n",
              "  </tbody>\n",
              "</table>\n",
              "</div>"
            ],
            "text/plain": [
              "      연  월   일  요일  식사가능자수  본사휴가자수  본사출장자수  본사시간외근무명령서승인건수  현본사소속재택근무자수\n",
              "0  2021  1  27   3    2537      88     182               5        358.0\n",
              "1  2021  1  28   4    2531     104     212             409        348.0\n",
              "2  2021  1  29   5    2419     270     249               0        294.0\n",
              "3  2021  2   1   1    2494     108     154             538        322.0\n",
              "4  2021  2   2   2    2548      62     186             455        314.0"
            ]
          },
          "metadata": {
            "tags": []
          },
          "execution_count": 97
        }
      ]
    },
    {
      "cell_type": "code",
      "metadata": {
        "id": "r4dPoNM7JOQe"
      },
      "source": [
        "emb_arr_lunch = np.array(train.iloc[:, 10].to_numpy().tolist()) # Ver 2 (조식 제거) # 중식메뉴_embedding\n",
        "emb_arr_dinner = np.array(train.iloc[:, 11].to_numpy().tolist()) # Ver 2"
      ],
      "execution_count": null,
      "outputs": []
    },
    {
      "cell_type": "code",
      "metadata": {
        "id": "tLvNT5jvJP23"
      },
      "source": [
        "# Get embedding\n",
        "test_emb_arr_lunch = np.array(test.iloc[:, 10].to_numpy().tolist()) # Ver 2 (조식 제거)\n",
        "test_emb_arr_dinner = np.array(test.iloc[:, 11].to_numpy().tolist()) # Ver 2\n",
        "\n",
        "# Concat\n",
        "test_lunch = np.concatenate((X_test_common.to_numpy(), test_emb_arr_lunch), axis = 1)\n",
        "test_dinner = np.concatenate((X_test_common.to_numpy(), test_emb_arr_dinner), axis = 1)"
      ],
      "execution_count": null,
      "outputs": []
    },
    {
      "cell_type": "code",
      "metadata": {
        "colab": {
          "base_uri": "https://localhost:8080/"
        },
        "id": "pJDD0d_TdUzp",
        "outputId": "8e6b2b25-33d5-4c3b-fe13-c87b644d0cfd"
      },
      "source": [
        "len(test_lunch)"
      ],
      "execution_count": null,
      "outputs": [
        {
          "output_type": "execute_result",
          "data": {
            "text/plain": [
              "50"
            ]
          },
          "metadata": {
            "tags": []
          },
          "execution_count": 155
        }
      ]
    },
    {
      "cell_type": "code",
      "metadata": {
        "colab": {
          "base_uri": "https://localhost:8080/"
        },
        "id": "QnguDW2jdbMp",
        "outputId": "c04c7d1f-6ebb-4865-d332-97de1591176e"
      },
      "source": [
        "len(test_dinner[0])"
      ],
      "execution_count": null,
      "outputs": [
        {
          "output_type": "execute_result",
          "data": {
            "text/plain": [
              "209"
            ]
          },
          "metadata": {
            "tags": []
          },
          "execution_count": 102
        }
      ]
    },
    {
      "cell_type": "code",
      "metadata": {
        "id": "Kz2WzAb0JUe9"
      },
      "source": [
        "# Inference\n",
        "test_pred_lunch = model_lunch.predict(test_lunch)\n",
        "test_pred_dinner = model_dinner.predict(test_dinner)\n",
        "\n",
        "submission_df = pd.read_csv('/content/drive/MyDrive/Colab Notebooks/dacon_contest1/data/sample_submission.csv')"
      ],
      "execution_count": null,
      "outputs": []
    },
    {
      "cell_type": "code",
      "metadata": {
        "id": "tL0Hl4J1JWKO",
        "colab": {
          "base_uri": "https://localhost:8080/",
          "height": 204
        },
        "outputId": "14457222-8440-405b-c708-c0218445ade5"
      },
      "source": [
        "submission_df.head()"
      ],
      "execution_count": null,
      "outputs": [
        {
          "output_type": "execute_result",
          "data": {
            "text/html": [
              "<div>\n",
              "<style scoped>\n",
              "    .dataframe tbody tr th:only-of-type {\n",
              "        vertical-align: middle;\n",
              "    }\n",
              "\n",
              "    .dataframe tbody tr th {\n",
              "        vertical-align: top;\n",
              "    }\n",
              "\n",
              "    .dataframe thead th {\n",
              "        text-align: right;\n",
              "    }\n",
              "</style>\n",
              "<table border=\"1\" class=\"dataframe\">\n",
              "  <thead>\n",
              "    <tr style=\"text-align: right;\">\n",
              "      <th></th>\n",
              "      <th>일자</th>\n",
              "      <th>중식계</th>\n",
              "      <th>석식계</th>\n",
              "    </tr>\n",
              "  </thead>\n",
              "  <tbody>\n",
              "    <tr>\n",
              "      <th>0</th>\n",
              "      <td>2021-01-27</td>\n",
              "      <td>0</td>\n",
              "      <td>0</td>\n",
              "    </tr>\n",
              "    <tr>\n",
              "      <th>1</th>\n",
              "      <td>2021-01-28</td>\n",
              "      <td>0</td>\n",
              "      <td>0</td>\n",
              "    </tr>\n",
              "    <tr>\n",
              "      <th>2</th>\n",
              "      <td>2021-01-29</td>\n",
              "      <td>0</td>\n",
              "      <td>0</td>\n",
              "    </tr>\n",
              "    <tr>\n",
              "      <th>3</th>\n",
              "      <td>2021-02-01</td>\n",
              "      <td>0</td>\n",
              "      <td>0</td>\n",
              "    </tr>\n",
              "    <tr>\n",
              "      <th>4</th>\n",
              "      <td>2021-02-02</td>\n",
              "      <td>0</td>\n",
              "      <td>0</td>\n",
              "    </tr>\n",
              "  </tbody>\n",
              "</table>\n",
              "</div>"
            ],
            "text/plain": [
              "           일자  중식계  석식계\n",
              "0  2021-01-27    0    0\n",
              "1  2021-01-28    0    0\n",
              "2  2021-01-29    0    0\n",
              "3  2021-02-01    0    0\n",
              "4  2021-02-02    0    0"
            ]
          },
          "metadata": {
            "tags": []
          },
          "execution_count": 104
        }
      ]
    },
    {
      "cell_type": "code",
      "metadata": {
        "id": "sgnN3UXxJXsW"
      },
      "source": [
        "submission_df['중식계'] = test_pred_lunch\n",
        "submission_df['석식계'] = test_pred_dinner"
      ],
      "execution_count": null,
      "outputs": []
    },
    {
      "cell_type": "code",
      "metadata": {
        "id": "fn1ZYNzXJZZ-"
      },
      "source": [
        "# Save\n",
        "\n",
        "submission_df.to_csv('sub_2_4.csv', index = False)"
      ],
      "execution_count": null,
      "outputs": []
    },
    {
      "cell_type": "markdown",
      "metadata": {
        "id": "uO55cj3Zxvhg"
      },
      "source": [
        "## **9. 베이스라인 모델 사용**"
      ]
    },
    {
      "cell_type": "code",
      "metadata": {
        "colab": {
          "base_uri": "https://localhost:8080/",
          "height": 204
        },
        "id": "gsUn9eT1xHrK",
        "outputId": "61640c1b-3f88-484c-cb84-d0158c2e5f65"
      },
      "source": [
        "submit = pd.read_csv('/content/drive/MyDrive/Colab Notebooks/dacon_contest1/data/sample_submission.csv')\n",
        "submit.head()"
      ],
      "execution_count": null,
      "outputs": [
        {
          "output_type": "execute_result",
          "data": {
            "text/html": [
              "<div>\n",
              "<style scoped>\n",
              "    .dataframe tbody tr th:only-of-type {\n",
              "        vertical-align: middle;\n",
              "    }\n",
              "\n",
              "    .dataframe tbody tr th {\n",
              "        vertical-align: top;\n",
              "    }\n",
              "\n",
              "    .dataframe thead th {\n",
              "        text-align: right;\n",
              "    }\n",
              "</style>\n",
              "<table border=\"1\" class=\"dataframe\">\n",
              "  <thead>\n",
              "    <tr style=\"text-align: right;\">\n",
              "      <th></th>\n",
              "      <th>일자</th>\n",
              "      <th>중식계</th>\n",
              "      <th>석식계</th>\n",
              "    </tr>\n",
              "  </thead>\n",
              "  <tbody>\n",
              "    <tr>\n",
              "      <th>0</th>\n",
              "      <td>2021-01-27</td>\n",
              "      <td>0</td>\n",
              "      <td>0</td>\n",
              "    </tr>\n",
              "    <tr>\n",
              "      <th>1</th>\n",
              "      <td>2021-01-28</td>\n",
              "      <td>0</td>\n",
              "      <td>0</td>\n",
              "    </tr>\n",
              "    <tr>\n",
              "      <th>2</th>\n",
              "      <td>2021-01-29</td>\n",
              "      <td>0</td>\n",
              "      <td>0</td>\n",
              "    </tr>\n",
              "    <tr>\n",
              "      <th>3</th>\n",
              "      <td>2021-02-01</td>\n",
              "      <td>0</td>\n",
              "      <td>0</td>\n",
              "    </tr>\n",
              "    <tr>\n",
              "      <th>4</th>\n",
              "      <td>2021-02-02</td>\n",
              "      <td>0</td>\n",
              "      <td>0</td>\n",
              "    </tr>\n",
              "  </tbody>\n",
              "</table>\n",
              "</div>"
            ],
            "text/plain": [
              "           일자  중식계  석식계\n",
              "0  2021-01-27    0    0\n",
              "1  2021-01-28    0    0\n",
              "2  2021-01-29    0    0\n",
              "3  2021-02-01    0    0\n",
              "4  2021-02-02    0    0"
            ]
          },
          "metadata": {
            "tags": []
          },
          "execution_count": 115
        }
      ]
    },
    {
      "cell_type": "code",
      "metadata": {
        "id": "o5MHKctgx2pQ"
      },
      "source": [
        "from sklearn.ensemble import RandomForestRegressor\n",
        "\n",
        "# 대회 규칙\n",
        "# 평가 산식: MAE (Mean Absolute Error)\n",
        "lunch_model = RandomForestRegressor(criterion = 'mae')\n",
        "dinner_model = RandomForestRegressor(criterion = 'mae')"
      ],
      "execution_count": null,
      "outputs": []
    },
    {
      "cell_type": "markdown",
      "metadata": {
        "id": "MqJSYsdIy04i"
      },
      "source": [
        "## **9-1 다른 모델 적용**\n",
        "1. XGBoost\n",
        "\n",
        "### **XGBoost (eXtra Gradient Boost)**\n",
        "* 트리 기반의 알고리즘의 앙상블 학습에서 각광받는 알고리즘 중 하나 \n",
        "* 예측 성능, 수행 시간 면에서 뛰어남\n",
        "* 과적합 규제\n",
        "* 트리 가지치기 (pruning)\n",
        "* 교차검증 내장\n",
        "* 결손값 자체 처리"
      ]
    },
    {
      "cell_type": "code",
      "metadata": {
        "id": "IQhOqkS2yxbm"
      },
      "source": [
        "from sklearn.model_selection import GridSearchCV\n",
        "from xgboost import XGBRegressor\n",
        "\n",
        "# GridSearch가 찾을 parameter 정의\n",
        "params = {\n",
        "    'learning_rate': [0.0, 0.1, 0.09, 0.089, 0.088, 0.086, 0.085, 0.08],\n",
        "    'boosting_type': ['gbtree', 'gblinear', 'dart'], # 유형 추가해보기\n",
        "    \n",
        "}\n",
        "\n",
        "# XGBRegressor 사용한 모델 (Boosting)\n",
        "# 회귀 문제\n",
        "lunch_r = XGBRegressor(objective='reg:squarederror')\n",
        "dinner_r = XGBRegressor(objective='reg:squarederror')\n",
        "\n",
        "# GridSearch 이용하여 파라미터 최적화\n",
        "lunch_model = GridSearchCV(lunch_r, params, scoring='neg_mean_absolute_error')\n",
        "dinner_model = GridSearchCV(dinner_r, params, scoring='neg_mean_absolute_error')"
      ],
      "execution_count": null,
      "outputs": []
    },
    {
      "cell_type": "markdown",
      "metadata": {
        "id": "CLRkRO1d1Bxv"
      },
      "source": [
        "### **중식**\n",
        "* 월/일/요일 제거 버전은 최적 parameter 바뀌고, mse 낮아짐 79 -> 80"
      ]
    },
    {
      "cell_type": "code",
      "metadata": {
        "id": "mdnikSalXCcd"
      },
      "source": [
        "# random_state 바꿔보기..?\n",
        "# X_train_lunch, X_test_lunch, y_train_lunch, y_test_lunch = train_test_split(X_train_lunch, y_lunch, test_size = 0.1, random_state = 42)\n",
        "# X_train_dinner, X_test_dinner, y_train_dinner, y_test_dinner = train_test_split(X_train_dinner, y_dinner, test_size = 0.1, random_state = 42)"
      ],
      "execution_count": null,
      "outputs": []
    },
    {
      "cell_type": "code",
      "metadata": {
        "colab": {
          "base_uri": "https://localhost:8080/"
        },
        "id": "vCqzKBInXRCf",
        "outputId": "351bcd62-e434-42ca-8709-530959057b10"
      },
      "source": [
        "lunch_model"
      ],
      "execution_count": null,
      "outputs": [
        {
          "output_type": "execute_result",
          "data": {
            "text/plain": [
              "GridSearchCV(cv=None, error_score=nan,\n",
              "             estimator=XGBRegressor(base_score=0.5, booster='gbtree',\n",
              "                                    colsample_bylevel=1, colsample_bynode=1,\n",
              "                                    colsample_bytree=1, gamma=0,\n",
              "                                    importance_type='gain', learning_rate=0.1,\n",
              "                                    max_delta_step=0, max_depth=3,\n",
              "                                    min_child_weight=1, missing=None,\n",
              "                                    n_estimators=100, n_jobs=1, nthread=None,\n",
              "                                    objective='reg:squarederror',\n",
              "                                    random_state=0, reg_alpha=0, reg_lambda=1,\n",
              "                                    scale_pos_weight=1, seed=None, silent=None,\n",
              "                                    subsample=1, verbosity=1),\n",
              "             iid='deprecated', n_jobs=None,\n",
              "             param_grid={'boosting_type': ['gbtree', 'gblinear', 'dart'],\n",
              "                         'learning_rate': [0.0, 0.1, 0.09, 0.089, 0.088, 0.086,\n",
              "                                           0.085, 0.08]},\n",
              "             pre_dispatch='2*n_jobs', refit=True, return_train_score=False,\n",
              "             scoring='neg_mean_absolute_error', verbose=0)"
            ]
          },
          "metadata": {
            "tags": []
          },
          "execution_count": 157
        }
      ]
    },
    {
      "cell_type": "code",
      "metadata": {
        "colab": {
          "base_uri": "https://localhost:8080/"
        },
        "id": "fA0nTmdCyzrL",
        "outputId": "bb7ece6a-7a94-4902-bada-ad81529d7194"
      },
      "source": [
        "# x = train[['연', '월', '일', '요일', '식사가능자수', '본사휴가자수', '본사출장자수', '본사시간외근무명령서승인건수', '현본사소속재택근무자수']]\n",
        "# y = train['중식계']\n",
        "\n",
        "lunch_model.fit(X_train_lunch, y_lunch)\n",
        "print(lunch_model.best_score_, lunch_model.best_params_)\n",
        "lunch_model = lunch_model.best_estimator_"
      ],
      "execution_count": null,
      "outputs": [
        {
          "output_type": "stream",
          "text": [
            "-80.01626969333506 {'boosting_type': 'gbtree', 'learning_rate': 0.09}\n"
          ],
          "name": "stdout"
        }
      ]
    },
    {
      "cell_type": "code",
      "metadata": {
        "colab": {
          "base_uri": "https://localhost:8080/"
        },
        "id": "MqGqKbjHciLa",
        "outputId": "f0a2f338-85d5-4458-d2ea-b1451209e6e7"
      },
      "source": [
        "len(X_train_lunch)"
      ],
      "execution_count": null,
      "outputs": [
        {
          "output_type": "execute_result",
          "data": {
            "text/plain": [
              "1205"
            ]
          },
          "metadata": {
            "tags": []
          },
          "execution_count": 159
        }
      ]
    },
    {
      "cell_type": "code",
      "metadata": {
        "id": "xLojz83P6W4D"
      },
      "source": [
        "# test_x = test[['월', '일', '요일', '식사가능자수', '본사출장자수', '본사시간외근무명령서승인건수']]\n",
        "y_pred = lunch_model.predict(test_lunch) # GridSearch 이용"
      ],
      "execution_count": null,
      "outputs": []
    },
    {
      "cell_type": "code",
      "metadata": {
        "id": "efly7reE7IP6"
      },
      "source": [
        "submit['중식계'] = y_pred"
      ],
      "execution_count": null,
      "outputs": []
    },
    {
      "cell_type": "markdown",
      "metadata": {
        "id": "i0risy9s7L0c"
      },
      "source": [
        "## **석식**"
      ]
    },
    {
      "cell_type": "code",
      "metadata": {
        "colab": {
          "base_uri": "https://localhost:8080/"
        },
        "id": "xavroAFe7LDe",
        "outputId": "0df5c033-bf56-421c-b34d-c6fdbeb03332"
      },
      "source": [
        "# x = train[['월', '일', '요일(석식)', '식사가능자수', '본사출장자수', '본사시간외근무명령서승인건수']]\n",
        "# y = train['석식계']\n",
        "\n",
        "dinner_model.fit(X_train_dinner, y_dinner)\n",
        "print(dinner_model.best_score_, dinner_model.best_params_)\n",
        "dinner_model = dinner_model.best_estimator_"
      ],
      "execution_count": null,
      "outputs": [
        {
          "output_type": "stream",
          "text": [
            "-61.55753078341978 {'boosting_type': 'gbtree', 'learning_rate': 0.09}\n"
          ],
          "name": "stdout"
        }
      ]
    },
    {
      "cell_type": "code",
      "metadata": {
        "id": "2AxtGzBS7eT2"
      },
      "source": [
        "# test_x = test[['월', '일', '요일(석식)', '식사가능자수', '본사출장자수', '본사시간외근무명령서승인건수']]\n",
        "y_pred = dinner_model.predict(test_dinner)"
      ],
      "execution_count": null,
      "outputs": []
    },
    {
      "cell_type": "code",
      "metadata": {
        "id": "cApLSxXY74Tz"
      },
      "source": [
        "submit['석식계'] = y_pred"
      ],
      "execution_count": null,
      "outputs": []
    },
    {
      "cell_type": "markdown",
      "metadata": {
        "id": "xI65Su8g77mt"
      },
      "source": [
        "## **제출 파일 다운로드**"
      ]
    },
    {
      "cell_type": "code",
      "metadata": {
        "colab": {
          "base_uri": "https://localhost:8080/",
          "height": 17
        },
        "id": "pwFiOWjQ76tv",
        "outputId": "543d5c7e-53fd-4963-d1ab-ea7796f06825"
      },
      "source": [
        "submit.to_csv('submit_embedding.csv', index = False)\n",
        "\n",
        "from google.colab import files\n",
        "\n",
        "files.download('submit_embedding.csv')"
      ],
      "execution_count": null,
      "outputs": [
        {
          "output_type": "display_data",
          "data": {
            "application/javascript": [
              "\n",
              "    async function download(id, filename, size) {\n",
              "      if (!google.colab.kernel.accessAllowed) {\n",
              "        return;\n",
              "      }\n",
              "      const div = document.createElement('div');\n",
              "      const label = document.createElement('label');\n",
              "      label.textContent = `Downloading \"${filename}\": `;\n",
              "      div.appendChild(label);\n",
              "      const progress = document.createElement('progress');\n",
              "      progress.max = size;\n",
              "      div.appendChild(progress);\n",
              "      document.body.appendChild(div);\n",
              "\n",
              "      const buffers = [];\n",
              "      let downloaded = 0;\n",
              "\n",
              "      const channel = await google.colab.kernel.comms.open(id);\n",
              "      // Send a message to notify the kernel that we're ready.\n",
              "      channel.send({})\n",
              "\n",
              "      for await (const message of channel.messages) {\n",
              "        // Send a message to notify the kernel that we're ready.\n",
              "        channel.send({})\n",
              "        if (message.buffers) {\n",
              "          for (const buffer of message.buffers) {\n",
              "            buffers.push(buffer);\n",
              "            downloaded += buffer.byteLength;\n",
              "            progress.value = downloaded;\n",
              "          }\n",
              "        }\n",
              "      }\n",
              "      const blob = new Blob(buffers, {type: 'application/binary'});\n",
              "      const a = document.createElement('a');\n",
              "      a.href = window.URL.createObjectURL(blob);\n",
              "      a.download = filename;\n",
              "      div.appendChild(a);\n",
              "      a.click();\n",
              "      div.remove();\n",
              "    }\n",
              "  "
            ],
            "text/plain": [
              "<IPython.core.display.Javascript object>"
            ]
          },
          "metadata": {
            "tags": []
          }
        },
        {
          "output_type": "display_data",
          "data": {
            "application/javascript": [
              "download(\"download_6fa89e0b-5e36-4e97-8338-0eac2ac76359\", \"submit_embedding.csv\", 1536)"
            ],
            "text/plain": [
              "<IPython.core.display.Javascript object>"
            ]
          },
          "metadata": {
            "tags": []
          }
        }
      ]
    },
    {
      "cell_type": "markdown",
      "metadata": {
        "id": "q1-FB9WJ8uIk"
      },
      "source": [
        "* 1차 시도\n",
        "\n",
        " * feature = ['요일', '식사가능자수', '본사출장자수', '본사시간외근무명령서승인건수']\n",
        " * score = 94.3871666667\n",
        "\n",
        "* 2차 시도\n",
        "\n",
        " * feature = 1차 시도 + '월'\n",
        " * score = 82.6756666667\n",
        "\n",
        "* 3차 시도\n",
        " * weekday rank에 맞춰 매핑\n",
        "   * 중식,\n",
        "   * 석식 구분.\n",
        " * score = 81.3001666667\n",
        "\n",
        "* 4차 시도\n",
        " * feature에 '일' 추가\n",
        "   * both 중식 and 석식\n",
        " * score = 80.9271666667\n",
        "\n",
        "* 5차 시도\n",
        " * XGBoost + GridSearch\n",
        " * score = 79.828006\n",
        "\n",
        "* 6차 시도 (예정)\n",
        " * train 데이터에서 석식계가 0인 날 제외 (test에는 석식계 0 없음 확인 필)"
      ]
    }
  ]
}