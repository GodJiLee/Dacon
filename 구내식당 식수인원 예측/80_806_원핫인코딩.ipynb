{
  "nbformat": 4,
  "nbformat_minor": 0,
  "metadata": {
    "colab": {
      "name": "80.8062307512_원핫_구내식당.ipynb",
      "provenance": [],
      "collapsed_sections": [],
      "mount_file_id": "1cpZf9czJhVIre74Ihz533C8fvkck0ORQ",
      "authorship_tag": "ABX9TyPfhClq+lfUdT+f975MY6Vm",
      "include_colab_link": true
    },
    "kernelspec": {
      "name": "python3",
      "display_name": "Python 3"
    },
    "language_info": {
      "name": "python"
    }
  },
  "cells": [
    {
      "cell_type": "markdown",
      "metadata": {
        "id": "view-in-github",
        "colab_type": "text"
      },
      "source": [
        "<a href=\"https://colab.research.google.com/github/GodJiLee/Dacon/blob/main/%EA%B5%AC%EB%82%B4%EC%8B%9D%EB%8B%B9%20%EC%8B%9D%EC%88%98%EC%9D%B8%EC%9B%90%20%EC%98%88%EC%B8%A1/80_8062307512_%EC%9B%90%ED%95%AB_%EA%B5%AC%EB%82%B4%EC%8B%9D%EB%8B%B9.ipynb\" target=\"_parent\"><img src=\"https://colab.research.google.com/assets/colab-badge.svg\" alt=\"Open In Colab\"/></a>"
      ]
    },
    {
      "cell_type": "markdown",
      "metadata": {
        "id": "ZNjSFqSKrkno"
      },
      "source": [
        "# **To Do List**\n",
        "1. 요일 등 변수 팩터화 (0~4) 必 - get_dummies로 one-hot encoding 해보기 (O)\n",
        "> https://teddylee777.github.io/scikit-learn/labelencoder-%EC%82%AC%EC%9A%A9%EB%B2%95   \n",
        "> get_dummies, label_encoder, astype(‘category’).cat.codes   \n",
        "> **get_dummies로 원-핫 인코딩 해주기로!**\n",
        "2. LGBMRegressor 성능 최적화 방법 찾기\n",
        "> 1. GridSearch로 파라미터 최적화   \n",
        "> 2. 논문 찾기   \n",
        "> 3. xgb, lgbm 결합하기\n",
        "3. 공유코드 1, 3과도 결합지점 찾기 (1. 앙상블)\n",
        "> https://www.kaggle.com/janged/xgb-lgb\n",
        "4. 시각화 자료보고 인사이트 얻기 (O)\n",
        "> 자기계발의 날, 공휴일 전후 처리 必\n",
        "5. random_state 바꿔보기\n",
        "6. LGBMRegressor에 공유코드 2,4 결합 data 학습\n",
        "7. 주/연도 정보도 feature에 추가하기 (O)"
      ]
    },
    {
      "cell_type": "markdown",
      "metadata": {
        "id": "b6kZDqtpCkGh"
      },
      "source": [
        "# **모듈 임포트**"
      ]
    },
    {
      "cell_type": "code",
      "metadata": {
        "id": "oJzHtG3JheME"
      },
      "source": [
        "import numpy as np\n",
        "import pandas as pd\n",
        "import matplotlib.pyplot as plt\n",
        "import seaborn as sns\n",
        "\n",
        "import warnings\n",
        "# 경고 제어\n",
        "warnings.filterwarnings(action = 'ignore') # 경고를 출력하지 않음"
      ],
      "execution_count": null,
      "outputs": []
    },
    {
      "cell_type": "code",
      "metadata": {
        "id": "O7T7UwtflO4L"
      },
      "source": [
        "from tqdm import tqdm\n",
        "from sklearn.preprocessing import LabelEncoder # 수치형 자료가 아닌 자료에 대해 모델 학습을 위해 정수형으로 바꿔주는 기능\n",
        "from sklearn.model_selection import train_test_split\n",
        "from sklearn.metrics import mean_absolute_error\n",
        "from lightgbm import LGBMRegressor # Tree 기반 학습 알고리즘 (Gradient Boosting 프레임워크)\n",
        "\n",
        "from gensim.models import Word2Vec\n",
        "from gensim.models import KeyedVectors # 워드 벡터를 저장하고 관리하는 기능, 유사성 조회\n",
        "from sklearn.manifold import TSNE # PCA 기반 차원 축소의 문제를 해결하기 위한 방법 (티스니)\n",
        "from sklearn.decomposition import PCA"
      ],
      "execution_count": null,
      "outputs": []
    },
    {
      "cell_type": "markdown",
      "metadata": {
        "id": "GCPigTq7h-p8"
      },
      "source": [
        "# **데이터 불러오기**"
      ]
    },
    {
      "cell_type": "code",
      "metadata": {
        "id": "N21AkfRwhWyG"
      },
      "source": [
        "train = pd.read_csv('/content/drive/MyDrive/Colab Notebooks/dacon_contest1/data/train.csv')\n",
        "test = pd.read_csv('/content/drive/MyDrive/Colab Notebooks/dacon_contest1/data/test.csv')"
      ],
      "execution_count": null,
      "outputs": []
    },
    {
      "cell_type": "markdown",
      "metadata": {
        "id": "MHyFSqOliDEz"
      },
      "source": [
        "# **데이터 정제 (Dtype: object)**\n",
        "\n",
        "### **일자, 요일은 라벨 인코딩 (숫자형으로 변환)**"
      ]
    },
    {
      "cell_type": "code",
      "metadata": {
        "id": "ZnL8yQeliOVD"
      },
      "source": [
        "# 월, 일 인코딩\n",
        "train['연도'] = pd.DatetimeIndex(train['일자']).year\n",
        "test['연도'] = pd.DatetimeIndex(test['일자']).year\n",
        "\n",
        "train['월'] = pd.DatetimeIndex(train['일자']).month\n",
        "test['월'] = pd.DatetimeIndex(test['일자']).month\n",
        "\n",
        "train['주'] = pd.DatetimeIndex(train['일자']).week\n",
        "test['주'] = pd.DatetimeIndex(test['일자']).week\n",
        "\n",
        "train['일'] = pd.DatetimeIndex(train['일자']).day\n",
        "test['일'] = pd.DatetimeIndex(test['일자']).day"
      ],
      "execution_count": null,
      "outputs": []
    },
    {
      "cell_type": "markdown",
      "metadata": {
        "id": "6phn2KfsjQVr"
      },
      "source": [
        "# **데이터 정제 (아이디어)**\n",
        "* 휴가자, 재택근무자는 중식/석식에 참여하지 않을 것이므로 본사 정원수에서 차감한다.\n",
        "* 즉, 본사정원수 - 휴가자 - 재택근무자\n",
        "* 식사참여율 = 식사계 / 식사가능자수"
      ]
    },
    {
      "cell_type": "code",
      "metadata": {
        "id": "MFADygnLjSvI"
      },
      "source": [
        "train['식사가능자수'] = train['본사정원수'] - train['본사휴가자수'] - train['현본사소속재택근무자수']\n",
        "test['식사가능자수'] = test['본사정원수'] - test['본사휴가자수'] - test['현본사소속재택근무자수']"
      ],
      "execution_count": null,
      "outputs": []
    },
    {
      "cell_type": "code",
      "metadata": {
        "id": "jd4mR1HYjZV7"
      },
      "source": [
        "# 식사가능자수 float -> int로 변경\n",
        "train['식사가능자수'] = train['식사가능자수'].astype('int')\n",
        "test['식사가능자수'] = test['식사가능자수'].astype('int')"
      ],
      "execution_count": null,
      "outputs": []
    },
    {
      "cell_type": "code",
      "metadata": {
        "id": "ONhzM2CFxiGM"
      },
      "source": [
        "# 현본사소속재택근무자수 float -> int로 변경\n",
        "train['현본사소속재택근무자수'] = train['현본사소속재택근무자수'].astype('int')\n",
        "test['현본사소속재택근무자수'] = test['현본사소속재택근무자수'].astype('int')"
      ],
      "execution_count": null,
      "outputs": []
    },
    {
      "cell_type": "code",
      "metadata": {
        "id": "paMTuLFfx2pM"
      },
      "source": [
        "# 중식계/석식계 float -> int로 변경\n",
        "train['중식계'] = train['중식계'].astype('int')\n",
        "train['석식계'] = train['석식계'].astype('int')"
      ],
      "execution_count": null,
      "outputs": []
    },
    {
      "cell_type": "code",
      "metadata": {
        "id": "Mx0NvD3dja2c"
      },
      "source": [
        "train['중식참여율'] = train['중식계'] / train['식사가능자수']\n",
        "train['석식참여율'] = train['석식계'] / train['식사가능자수']"
      ],
      "execution_count": null,
      "outputs": []
    },
    {
      "cell_type": "markdown",
      "metadata": {
        "id": "EO_fy-BbjdH5"
      },
      "source": [
        "정제한 데이터를 정리하면,\n",
        "### **요일 컬럼 처리**"
      ]
    },
    {
      "cell_type": "markdown",
      "metadata": {
        "id": "FaRIXz2LD4TR"
      },
      "source": [
        "### **Label Encoder로 범주형 자료 (요일, 요일(석식)) 수치형으로 바꾸기**"
      ]
    },
    {
      "cell_type": "code",
      "metadata": {
        "id": "wyXQYFYaDRRh"
      },
      "source": [
        "# 수치형으로 바꾸지 않은 상태에서 encoder 적용\n",
        "# cat_features = ['요일']"
      ],
      "execution_count": null,
      "outputs": []
    },
    {
      "cell_type": "code",
      "metadata": {
        "id": "G1iqCgo9DDPZ"
      },
      "source": [
        "# for feature in cat_features:\n",
        "#     le = LabelEncoder()\n",
        "#     le.fit(train[feature])\n",
        "#     train[feature] = le.transform(train[feature])\n",
        "#     test[feature] = le.transform(test[feature])"
      ],
      "execution_count": null,
      "outputs": []
    },
    {
      "cell_type": "markdown",
      "metadata": {
        "id": "E6DyuZOhObvL"
      },
      "source": [
        "### **get_dummies로 원-핫 인코딩**\n",
        "> 변수 간 관계성 삭제"
      ]
    },
    {
      "cell_type": "code",
      "metadata": {
        "id": "Lq9uMNU_Oe9-"
      },
      "source": [
        "train = pd.get_dummies(train, columns = ['요일'])\n",
        "test = pd.get_dummies(test, columns = ['요일'])"
      ],
      "execution_count": null,
      "outputs": []
    },
    {
      "cell_type": "markdown",
      "metadata": {
        "id": "M71uvOrd7OKI"
      },
      "source": [
        "### **공휴일 전후 데이터 추가**\n",
        "* 테스트 데이터에 설날 연휴, 어린이날 존재\n",
        "* 연휴 전날 1로 인코딩 나머지 0"
      ]
    },
    {
      "cell_type": "code",
      "metadata": {
        "id": "xpWtW95o5wBu"
      },
      "source": [
        "# 새로운 column 생성\n",
        "train['공휴일전후'] = 0\n",
        "test['공휴일전후'] = 0"
      ],
      "execution_count": null,
      "outputs": []
    },
    {
      "cell_type": "code",
      "metadata": {
        "id": "jaty5uu37ZC7"
      },
      "source": [
        "# 한땀한땀 공휴일 지정..\n",
        "train['공휴일전후'][17] = 1\n",
        "train['공휴일전후'][3] = 1\n",
        "train['공휴일전후'][62] = 1\n",
        "# train['공휴일전후'][67] = 1\n",
        "# train['공휴일전후'][82] = 1\n",
        "train['공휴일전후'][131] = 1\n",
        "# train['공휴일전후'][130] = 1\n",
        "train['공휴일전후'][152] = 1\n",
        "train['공휴일전후'][226] = 1\n",
        "train['공휴일전후'][221] = 1\n",
        "train['공휴일전후'][224] = 1\n",
        "# train['공휴일전후'][244] = 1\n",
        "train['공휴일전후'][245] = 1\n",
        "# train['공휴일전후'][267] = 1\n",
        "train['공휴일전후'][310] = 2\n",
        "train['공휴일전후'][311] = 1\n",
        "train['공휴일전후'][309] = 1\n",
        "train['공휴일전후'][330] = 1\n",
        "train['공휴일전후'][379] = 1\n",
        "train['공휴일전후'][467] = 1\n",
        "# train['공휴일전후'][469] = 1\n",
        "train['공휴일전후'][470] = 1\n",
        "train['공휴일전후'][502] = 2\n",
        "# train['공휴일전후'][501] = 1\n",
        "# train['공휴일전후'][511] = 1\n",
        "train['공휴일전후'][565] = 1\n",
        "train['공휴일전후'][623] = 1\n",
        "train['공휴일전후'][651] = 1\n",
        "# train['공휴일전후'][650] = 1\n",
        "train['공휴일전후'][705] = 1\n",
        "# train['공휴일전후'][707] = 1\n",
        "train['공휴일전후'][709] = 1\n",
        "# train['공휴일전후'][733] = 1\n",
        "# train['공휴일전후'][748] = 1\n",
        "# train['공휴일전후'][792] = 1\n",
        "train['공휴일전후'][815] = 1\n",
        "train['공휴일전후'][864] = 1\n",
        "# train['공휴일전후'][863] = 1\n",
        "train['공휴일전후'][950] = 1\n",
        "train['공휴일전후'][951] = 1\n",
        "train['공휴일전후'][953] = 1\n",
        "train['공휴일전후'][954] = 1\n",
        "train['공휴일전후'][955] = 1\n",
        "train['공휴일전후'][971] = 2\n",
        "# train['공휴일전후'][970] = 1\n",
        "# train['공휴일전후'][1037] = 1\n",
        "train['공휴일전후'][1038] = 1\n",
        "train['공휴일전후'][1099] = 1\n",
        "train['공휴일전후'][1129] = 1\n",
        "# train['공휴일전후'][1128] = 1\n",
        "train['공휴일전후'][1187] = 1\n",
        "# train['공휴일전후'][1186] = 1\n",
        "\n",
        "test['공휴일전후'][10] = 2\n",
        "test['공휴일전후'][20] = 1"
      ],
      "execution_count": null,
      "outputs": []
    },
    {
      "cell_type": "markdown",
      "metadata": {
        "id": "XO1j33ot7_Vm"
      },
      "source": [
        "**원-핫 인코딩**"
      ]
    },
    {
      "cell_type": "code",
      "metadata": {
        "id": "dRt6ju6r758F"
      },
      "source": [
        "# 변수간 관계성 삭제 (더미화, 가변수화)\n",
        "train = pd.get_dummies(train, columns = ['공휴일전후'])\n",
        "test = pd.get_dummies(test, columns = ['공휴일전후'])"
      ],
      "execution_count": null,
      "outputs": []
    },
    {
      "cell_type": "code",
      "metadata": {
        "id": "IwRQykiy8Pla"
      },
      "source": [
        "test['공휴일전후_0'][20] = 1\n",
        "test['공휴일전후_1'][20] = 0"
      ],
      "execution_count": null,
      "outputs": []
    },
    {
      "cell_type": "markdown",
      "metadata": {
        "id": "6318q2noQ05z"
      },
      "source": [
        "### **필요없는 features 버리기 (drop)**"
      ]
    },
    {
      "cell_type": "code",
      "metadata": {
        "id": "LK9zTz1CQ050"
      },
      "source": [
        "drops = ['일자', '연도', '일', '조식메뉴', '중식메뉴', '석식메뉴']\n",
        "\n",
        "train = train.drop(drops, axis = 1) # axis = 1은 열을 의미 (열삭제)\n",
        "test = test.drop(drops, axis = 1)"
      ],
      "execution_count": null,
      "outputs": []
    },
    {
      "cell_type": "code",
      "metadata": {
        "colab": {
          "base_uri": "https://localhost:8080/"
        },
        "id": "wKmgGYmavH2S",
        "outputId": "64a8e07d-6daa-4864-9adb-f3177836d106"
      },
      "source": [
        "train.info()"
      ],
      "execution_count": null,
      "outputs": [
        {
          "output_type": "stream",
          "text": [
            "<class 'pandas.core.frame.DataFrame'>\n",
            "RangeIndex: 1205 entries, 0 to 1204\n",
            "Data columns (total 20 columns):\n",
            " #   Column          Non-Null Count  Dtype  \n",
            "---  ------          --------------  -----  \n",
            " 0   본사정원수           1205 non-null   int64  \n",
            " 1   본사휴가자수          1205 non-null   int64  \n",
            " 2   본사출장자수          1205 non-null   int64  \n",
            " 3   본사시간외근무명령서승인건수  1205 non-null   int64  \n",
            " 4   현본사소속재택근무자수     1205 non-null   int64  \n",
            " 5   중식계             1205 non-null   int64  \n",
            " 6   석식계             1205 non-null   int64  \n",
            " 7   월               1205 non-null   int64  \n",
            " 8   주               1205 non-null   int64  \n",
            " 9   식사가능자수          1205 non-null   int64  \n",
            " 10  중식참여율           1205 non-null   float64\n",
            " 11  석식참여율           1205 non-null   float64\n",
            " 12  요일_금            1205 non-null   uint8  \n",
            " 13  요일_목            1205 non-null   uint8  \n",
            " 14  요일_수            1205 non-null   uint8  \n",
            " 15  요일_월            1205 non-null   uint8  \n",
            " 16  요일_화            1205 non-null   uint8  \n",
            " 17  공휴일전후_0         1205 non-null   uint8  \n",
            " 18  공휴일전후_1         1205 non-null   uint8  \n",
            " 19  공휴일전후_2         1205 non-null   uint8  \n",
            "dtypes: float64(2), int64(10), uint8(8)\n",
            "memory usage: 122.5 KB\n"
          ],
          "name": "stdout"
        }
      ]
    },
    {
      "cell_type": "code",
      "metadata": {
        "colab": {
          "base_uri": "https://localhost:8080/",
          "height": 221
        },
        "id": "kWQHIcnz8XPJ",
        "outputId": "dc2e46ae-b89e-4185-b6f3-e9c7bef2be69"
      },
      "source": [
        "test.head()"
      ],
      "execution_count": null,
      "outputs": [
        {
          "output_type": "execute_result",
          "data": {
            "text/html": [
              "<div>\n",
              "<style scoped>\n",
              "    .dataframe tbody tr th:only-of-type {\n",
              "        vertical-align: middle;\n",
              "    }\n",
              "\n",
              "    .dataframe tbody tr th {\n",
              "        vertical-align: top;\n",
              "    }\n",
              "\n",
              "    .dataframe thead th {\n",
              "        text-align: right;\n",
              "    }\n",
              "</style>\n",
              "<table border=\"1\" class=\"dataframe\">\n",
              "  <thead>\n",
              "    <tr style=\"text-align: right;\">\n",
              "      <th></th>\n",
              "      <th>본사정원수</th>\n",
              "      <th>본사휴가자수</th>\n",
              "      <th>본사출장자수</th>\n",
              "      <th>본사시간외근무명령서승인건수</th>\n",
              "      <th>현본사소속재택근무자수</th>\n",
              "      <th>월</th>\n",
              "      <th>주</th>\n",
              "      <th>식사가능자수</th>\n",
              "      <th>요일_금</th>\n",
              "      <th>요일_목</th>\n",
              "      <th>요일_수</th>\n",
              "      <th>요일_월</th>\n",
              "      <th>요일_화</th>\n",
              "      <th>공휴일전후_0</th>\n",
              "      <th>공휴일전후_1</th>\n",
              "      <th>공휴일전후_2</th>\n",
              "    </tr>\n",
              "  </thead>\n",
              "  <tbody>\n",
              "    <tr>\n",
              "      <th>0</th>\n",
              "      <td>2983</td>\n",
              "      <td>88</td>\n",
              "      <td>182</td>\n",
              "      <td>5</td>\n",
              "      <td>358</td>\n",
              "      <td>1</td>\n",
              "      <td>4</td>\n",
              "      <td>2537</td>\n",
              "      <td>0</td>\n",
              "      <td>0</td>\n",
              "      <td>1</td>\n",
              "      <td>0</td>\n",
              "      <td>0</td>\n",
              "      <td>1</td>\n",
              "      <td>0</td>\n",
              "      <td>0</td>\n",
              "    </tr>\n",
              "    <tr>\n",
              "      <th>1</th>\n",
              "      <td>2983</td>\n",
              "      <td>104</td>\n",
              "      <td>212</td>\n",
              "      <td>409</td>\n",
              "      <td>348</td>\n",
              "      <td>1</td>\n",
              "      <td>4</td>\n",
              "      <td>2531</td>\n",
              "      <td>0</td>\n",
              "      <td>1</td>\n",
              "      <td>0</td>\n",
              "      <td>0</td>\n",
              "      <td>0</td>\n",
              "      <td>1</td>\n",
              "      <td>0</td>\n",
              "      <td>0</td>\n",
              "    </tr>\n",
              "    <tr>\n",
              "      <th>2</th>\n",
              "      <td>2983</td>\n",
              "      <td>270</td>\n",
              "      <td>249</td>\n",
              "      <td>0</td>\n",
              "      <td>294</td>\n",
              "      <td>1</td>\n",
              "      <td>4</td>\n",
              "      <td>2419</td>\n",
              "      <td>1</td>\n",
              "      <td>0</td>\n",
              "      <td>0</td>\n",
              "      <td>0</td>\n",
              "      <td>0</td>\n",
              "      <td>1</td>\n",
              "      <td>0</td>\n",
              "      <td>0</td>\n",
              "    </tr>\n",
              "    <tr>\n",
              "      <th>3</th>\n",
              "      <td>2924</td>\n",
              "      <td>108</td>\n",
              "      <td>154</td>\n",
              "      <td>538</td>\n",
              "      <td>322</td>\n",
              "      <td>2</td>\n",
              "      <td>5</td>\n",
              "      <td>2494</td>\n",
              "      <td>0</td>\n",
              "      <td>0</td>\n",
              "      <td>0</td>\n",
              "      <td>1</td>\n",
              "      <td>0</td>\n",
              "      <td>1</td>\n",
              "      <td>0</td>\n",
              "      <td>0</td>\n",
              "    </tr>\n",
              "    <tr>\n",
              "      <th>4</th>\n",
              "      <td>2924</td>\n",
              "      <td>62</td>\n",
              "      <td>186</td>\n",
              "      <td>455</td>\n",
              "      <td>314</td>\n",
              "      <td>2</td>\n",
              "      <td>5</td>\n",
              "      <td>2548</td>\n",
              "      <td>0</td>\n",
              "      <td>0</td>\n",
              "      <td>0</td>\n",
              "      <td>0</td>\n",
              "      <td>1</td>\n",
              "      <td>1</td>\n",
              "      <td>0</td>\n",
              "      <td>0</td>\n",
              "    </tr>\n",
              "  </tbody>\n",
              "</table>\n",
              "</div>"
            ],
            "text/plain": [
              "   본사정원수  본사휴가자수  본사출장자수  본사시간외근무명령서승인건수  ...  요일_화  공휴일전후_0  공휴일전후_1  공휴일전후_2\n",
              "0   2983      88     182               5  ...     0        1        0        0\n",
              "1   2983     104     212             409  ...     0        1        0        0\n",
              "2   2983     270     249               0  ...     0        1        0        0\n",
              "3   2924     108     154             538  ...     0        1        0        0\n",
              "4   2924      62     186             455  ...     1        1        0        0\n",
              "\n",
              "[5 rows x 16 columns]"
            ]
          },
          "metadata": {
            "tags": []
          },
          "execution_count": 88
        }
      ]
    },
    {
      "cell_type": "code",
      "metadata": {
        "colab": {
          "base_uri": "https://localhost:8080/",
          "height": 221
        },
        "id": "rngLs0ETENLz",
        "outputId": "24947bb6-0096-4d2d-da53-8a8306c1da96"
      },
      "source": [
        "train.head()"
      ],
      "execution_count": null,
      "outputs": [
        {
          "output_type": "execute_result",
          "data": {
            "text/html": [
              "<div>\n",
              "<style scoped>\n",
              "    .dataframe tbody tr th:only-of-type {\n",
              "        vertical-align: middle;\n",
              "    }\n",
              "\n",
              "    .dataframe tbody tr th {\n",
              "        vertical-align: top;\n",
              "    }\n",
              "\n",
              "    .dataframe thead th {\n",
              "        text-align: right;\n",
              "    }\n",
              "</style>\n",
              "<table border=\"1\" class=\"dataframe\">\n",
              "  <thead>\n",
              "    <tr style=\"text-align: right;\">\n",
              "      <th></th>\n",
              "      <th>본사정원수</th>\n",
              "      <th>본사휴가자수</th>\n",
              "      <th>본사출장자수</th>\n",
              "      <th>본사시간외근무명령서승인건수</th>\n",
              "      <th>현본사소속재택근무자수</th>\n",
              "      <th>중식계</th>\n",
              "      <th>석식계</th>\n",
              "      <th>월</th>\n",
              "      <th>주</th>\n",
              "      <th>식사가능자수</th>\n",
              "      <th>중식참여율</th>\n",
              "      <th>석식참여율</th>\n",
              "      <th>요일_금</th>\n",
              "      <th>요일_목</th>\n",
              "      <th>요일_수</th>\n",
              "      <th>요일_월</th>\n",
              "      <th>요일_화</th>\n",
              "      <th>공휴일전후_0</th>\n",
              "      <th>공휴일전후_1</th>\n",
              "      <th>공휴일전후_2</th>\n",
              "    </tr>\n",
              "  </thead>\n",
              "  <tbody>\n",
              "    <tr>\n",
              "      <th>0</th>\n",
              "      <td>2601</td>\n",
              "      <td>50</td>\n",
              "      <td>150</td>\n",
              "      <td>238</td>\n",
              "      <td>0</td>\n",
              "      <td>1039</td>\n",
              "      <td>331</td>\n",
              "      <td>2</td>\n",
              "      <td>5</td>\n",
              "      <td>2551</td>\n",
              "      <td>0.407291</td>\n",
              "      <td>0.129753</td>\n",
              "      <td>0</td>\n",
              "      <td>0</td>\n",
              "      <td>0</td>\n",
              "      <td>1</td>\n",
              "      <td>0</td>\n",
              "      <td>1</td>\n",
              "      <td>0</td>\n",
              "      <td>0</td>\n",
              "    </tr>\n",
              "    <tr>\n",
              "      <th>1</th>\n",
              "      <td>2601</td>\n",
              "      <td>50</td>\n",
              "      <td>173</td>\n",
              "      <td>319</td>\n",
              "      <td>0</td>\n",
              "      <td>867</td>\n",
              "      <td>560</td>\n",
              "      <td>2</td>\n",
              "      <td>5</td>\n",
              "      <td>2551</td>\n",
              "      <td>0.339867</td>\n",
              "      <td>0.219522</td>\n",
              "      <td>0</td>\n",
              "      <td>0</td>\n",
              "      <td>0</td>\n",
              "      <td>0</td>\n",
              "      <td>1</td>\n",
              "      <td>1</td>\n",
              "      <td>0</td>\n",
              "      <td>0</td>\n",
              "    </tr>\n",
              "    <tr>\n",
              "      <th>2</th>\n",
              "      <td>2601</td>\n",
              "      <td>56</td>\n",
              "      <td>180</td>\n",
              "      <td>111</td>\n",
              "      <td>0</td>\n",
              "      <td>1017</td>\n",
              "      <td>573</td>\n",
              "      <td>2</td>\n",
              "      <td>5</td>\n",
              "      <td>2545</td>\n",
              "      <td>0.399607</td>\n",
              "      <td>0.225147</td>\n",
              "      <td>0</td>\n",
              "      <td>0</td>\n",
              "      <td>1</td>\n",
              "      <td>0</td>\n",
              "      <td>0</td>\n",
              "      <td>1</td>\n",
              "      <td>0</td>\n",
              "      <td>0</td>\n",
              "    </tr>\n",
              "    <tr>\n",
              "      <th>3</th>\n",
              "      <td>2601</td>\n",
              "      <td>104</td>\n",
              "      <td>220</td>\n",
              "      <td>355</td>\n",
              "      <td>0</td>\n",
              "      <td>978</td>\n",
              "      <td>525</td>\n",
              "      <td>2</td>\n",
              "      <td>5</td>\n",
              "      <td>2497</td>\n",
              "      <td>0.391670</td>\n",
              "      <td>0.210252</td>\n",
              "      <td>0</td>\n",
              "      <td>1</td>\n",
              "      <td>0</td>\n",
              "      <td>0</td>\n",
              "      <td>0</td>\n",
              "      <td>0</td>\n",
              "      <td>1</td>\n",
              "      <td>0</td>\n",
              "    </tr>\n",
              "    <tr>\n",
              "      <th>4</th>\n",
              "      <td>2601</td>\n",
              "      <td>278</td>\n",
              "      <td>181</td>\n",
              "      <td>34</td>\n",
              "      <td>0</td>\n",
              "      <td>925</td>\n",
              "      <td>330</td>\n",
              "      <td>2</td>\n",
              "      <td>5</td>\n",
              "      <td>2323</td>\n",
              "      <td>0.398192</td>\n",
              "      <td>0.142058</td>\n",
              "      <td>1</td>\n",
              "      <td>0</td>\n",
              "      <td>0</td>\n",
              "      <td>0</td>\n",
              "      <td>0</td>\n",
              "      <td>1</td>\n",
              "      <td>0</td>\n",
              "      <td>0</td>\n",
              "    </tr>\n",
              "  </tbody>\n",
              "</table>\n",
              "</div>"
            ],
            "text/plain": [
              "   본사정원수  본사휴가자수  본사출장자수  본사시간외근무명령서승인건수  ...  요일_화  공휴일전후_0  공휴일전후_1  공휴일전후_2\n",
              "0   2601      50     150             238  ...     0        1        0        0\n",
              "1   2601      50     173             319  ...     1        1        0        0\n",
              "2   2601      56     180             111  ...     0        1        0        0\n",
              "3   2601     104     220             355  ...     0        0        1        0\n",
              "4   2601     278     181              34  ...     0        1        0        0\n",
              "\n",
              "[5 rows x 20 columns]"
            ]
          },
          "metadata": {
            "tags": []
          },
          "execution_count": 86
        }
      ]
    },
    {
      "cell_type": "markdown",
      "metadata": {
        "id": "NjkRjQQNqBf2"
      },
      "source": [
        "### **모델에 사용할 데이터 생성**"
      ]
    },
    {
      "cell_type": "code",
      "metadata": {
        "id": "Hakwvp-Ejoe3"
      },
      "source": [
        "# features는 학습시킬 특성값들, labels는 추론할 대상값들\n",
        "# 본사정원수 제외 (선형성 고려)\n",
        "features = ['본사휴가자수', '본사출장자수', '본사시간외근무명령서승인건수', '현본사소속재택근무자수', '월', '주', '식사가능자수', '요일_월', '요일_화', '요일_수', '요일_목', '요일_금', '공휴일전후_0', '공휴일전후_1', '공휴일전후_2']\n",
        "labels = ['중식계', '석식계'] # '중식참여율', '석식참여율'"
      ],
      "execution_count": null,
      "outputs": []
    },
    {
      "cell_type": "code",
      "metadata": {
        "id": "LVhI2Mr-hAV0"
      },
      "source": [
        "# lunch\n",
        "\n",
        "# train\n",
        "train_x = train[features]\n",
        "train_y_lunch = train['중식계']\n",
        "train_y_dinner = train['석식계']\n",
        "# test\n",
        "test_x = test[features]"
      ],
      "execution_count": null,
      "outputs": []
    },
    {
      "cell_type": "code",
      "metadata": {
        "colab": {
          "base_uri": "https://localhost:8080/",
          "height": 111
        },
        "id": "z5LCIQiHWXkq",
        "outputId": "9e7868ee-ae65-4286-b364-c958918b69fb"
      },
      "source": [
        "train_x.head(2)"
      ],
      "execution_count": null,
      "outputs": [
        {
          "output_type": "execute_result",
          "data": {
            "text/html": [
              "<div>\n",
              "<style scoped>\n",
              "    .dataframe tbody tr th:only-of-type {\n",
              "        vertical-align: middle;\n",
              "    }\n",
              "\n",
              "    .dataframe tbody tr th {\n",
              "        vertical-align: top;\n",
              "    }\n",
              "\n",
              "    .dataframe thead th {\n",
              "        text-align: right;\n",
              "    }\n",
              "</style>\n",
              "<table border=\"1\" class=\"dataframe\">\n",
              "  <thead>\n",
              "    <tr style=\"text-align: right;\">\n",
              "      <th></th>\n",
              "      <th>본사휴가자수</th>\n",
              "      <th>본사출장자수</th>\n",
              "      <th>본사시간외근무명령서승인건수</th>\n",
              "      <th>현본사소속재택근무자수</th>\n",
              "      <th>월</th>\n",
              "      <th>주</th>\n",
              "      <th>식사가능자수</th>\n",
              "      <th>요일_월</th>\n",
              "      <th>요일_화</th>\n",
              "      <th>요일_수</th>\n",
              "      <th>요일_목</th>\n",
              "      <th>요일_금</th>\n",
              "      <th>공휴일전후_0</th>\n",
              "      <th>공휴일전후_1</th>\n",
              "      <th>공휴일전후_2</th>\n",
              "    </tr>\n",
              "  </thead>\n",
              "  <tbody>\n",
              "    <tr>\n",
              "      <th>0</th>\n",
              "      <td>50</td>\n",
              "      <td>150</td>\n",
              "      <td>238</td>\n",
              "      <td>0</td>\n",
              "      <td>2</td>\n",
              "      <td>5</td>\n",
              "      <td>2551</td>\n",
              "      <td>1</td>\n",
              "      <td>0</td>\n",
              "      <td>0</td>\n",
              "      <td>0</td>\n",
              "      <td>0</td>\n",
              "      <td>1</td>\n",
              "      <td>0</td>\n",
              "      <td>0</td>\n",
              "    </tr>\n",
              "    <tr>\n",
              "      <th>1</th>\n",
              "      <td>50</td>\n",
              "      <td>173</td>\n",
              "      <td>319</td>\n",
              "      <td>0</td>\n",
              "      <td>2</td>\n",
              "      <td>5</td>\n",
              "      <td>2551</td>\n",
              "      <td>0</td>\n",
              "      <td>1</td>\n",
              "      <td>0</td>\n",
              "      <td>0</td>\n",
              "      <td>0</td>\n",
              "      <td>1</td>\n",
              "      <td>0</td>\n",
              "      <td>0</td>\n",
              "    </tr>\n",
              "  </tbody>\n",
              "</table>\n",
              "</div>"
            ],
            "text/plain": [
              "   본사휴가자수  본사출장자수  본사시간외근무명령서승인건수  현본사소속재택근무자수  ...  요일_금  공휴일전후_0  공휴일전후_1  공휴일전후_2\n",
              "0      50     150             238            0  ...     0        1        0        0\n",
              "1      50     173             319            0  ...     0        1        0        0\n",
              "\n",
              "[2 rows x 15 columns]"
            ]
          },
          "metadata": {
            "tags": []
          },
          "execution_count": 101
        }
      ]
    },
    {
      "cell_type": "code",
      "metadata": {
        "colab": {
          "base_uri": "https://localhost:8080/"
        },
        "id": "wz0B-JENWbHr",
        "outputId": "ab7ee67b-1f58-4635-c156-a3062c21e295"
      },
      "source": [
        "train_y_lunch.head(2)"
      ],
      "execution_count": null,
      "outputs": [
        {
          "output_type": "execute_result",
          "data": {
            "text/plain": [
              "0    1039\n",
              "1     867\n",
              "Name: 중식계, dtype: int64"
            ]
          },
          "metadata": {
            "tags": []
          },
          "execution_count": 103
        }
      ]
    },
    {
      "cell_type": "code",
      "metadata": {
        "colab": {
          "base_uri": "https://localhost:8080/"
        },
        "id": "bSenNXuHYUxn",
        "outputId": "a6a11a4f-defd-43e2-ebbf-d649e067f214"
      },
      "source": [
        "train_y_dinner.head(2)"
      ],
      "execution_count": null,
      "outputs": [
        {
          "output_type": "execute_result",
          "data": {
            "text/plain": [
              "0    331\n",
              "1    560\n",
              "Name: 석식계, dtype: int64"
            ]
          },
          "metadata": {
            "tags": []
          },
          "execution_count": 104
        }
      ]
    },
    {
      "cell_type": "code",
      "metadata": {
        "colab": {
          "base_uri": "https://localhost:8080/",
          "height": 111
        },
        "id": "cHnmbheWWdAL",
        "outputId": "34effba7-d073-4b4f-ca09-74dbcc97b705"
      },
      "source": [
        "test_x.head(2)"
      ],
      "execution_count": null,
      "outputs": [
        {
          "output_type": "execute_result",
          "data": {
            "text/html": [
              "<div>\n",
              "<style scoped>\n",
              "    .dataframe tbody tr th:only-of-type {\n",
              "        vertical-align: middle;\n",
              "    }\n",
              "\n",
              "    .dataframe tbody tr th {\n",
              "        vertical-align: top;\n",
              "    }\n",
              "\n",
              "    .dataframe thead th {\n",
              "        text-align: right;\n",
              "    }\n",
              "</style>\n",
              "<table border=\"1\" class=\"dataframe\">\n",
              "  <thead>\n",
              "    <tr style=\"text-align: right;\">\n",
              "      <th></th>\n",
              "      <th>본사휴가자수</th>\n",
              "      <th>본사출장자수</th>\n",
              "      <th>본사시간외근무명령서승인건수</th>\n",
              "      <th>현본사소속재택근무자수</th>\n",
              "      <th>월</th>\n",
              "      <th>주</th>\n",
              "      <th>식사가능자수</th>\n",
              "      <th>요일_월</th>\n",
              "      <th>요일_화</th>\n",
              "      <th>요일_수</th>\n",
              "      <th>요일_목</th>\n",
              "      <th>요일_금</th>\n",
              "      <th>공휴일전후_0</th>\n",
              "      <th>공휴일전후_1</th>\n",
              "      <th>공휴일전후_2</th>\n",
              "    </tr>\n",
              "  </thead>\n",
              "  <tbody>\n",
              "    <tr>\n",
              "      <th>0</th>\n",
              "      <td>88</td>\n",
              "      <td>182</td>\n",
              "      <td>5</td>\n",
              "      <td>358</td>\n",
              "      <td>1</td>\n",
              "      <td>4</td>\n",
              "      <td>2537</td>\n",
              "      <td>0</td>\n",
              "      <td>0</td>\n",
              "      <td>1</td>\n",
              "      <td>0</td>\n",
              "      <td>0</td>\n",
              "      <td>1</td>\n",
              "      <td>0</td>\n",
              "      <td>0</td>\n",
              "    </tr>\n",
              "    <tr>\n",
              "      <th>1</th>\n",
              "      <td>104</td>\n",
              "      <td>212</td>\n",
              "      <td>409</td>\n",
              "      <td>348</td>\n",
              "      <td>1</td>\n",
              "      <td>4</td>\n",
              "      <td>2531</td>\n",
              "      <td>0</td>\n",
              "      <td>0</td>\n",
              "      <td>0</td>\n",
              "      <td>1</td>\n",
              "      <td>0</td>\n",
              "      <td>1</td>\n",
              "      <td>0</td>\n",
              "      <td>0</td>\n",
              "    </tr>\n",
              "  </tbody>\n",
              "</table>\n",
              "</div>"
            ],
            "text/plain": [
              "   본사휴가자수  본사출장자수  본사시간외근무명령서승인건수  현본사소속재택근무자수  ...  요일_금  공휴일전후_0  공휴일전후_1  공휴일전후_2\n",
              "0      88     182               5          358  ...     0        1        0        0\n",
              "1     104     212             409          348  ...     0        1        0        0\n",
              "\n",
              "[2 rows x 15 columns]"
            ]
          },
          "metadata": {
            "tags": []
          },
          "execution_count": 105
        }
      ]
    },
    {
      "cell_type": "markdown",
      "metadata": {
        "id": "eU5RVHNplGQx"
      },
      "source": [
        "# **Modeling**"
      ]
    },
    {
      "cell_type": "markdown",
      "metadata": {
        "id": "wbOebU5pFWfJ"
      },
      "source": [
        "### **LGBMRegressor**"
      ]
    },
    {
      "cell_type": "code",
      "metadata": {
        "colab": {
          "base_uri": "https://localhost:8080/"
        },
        "id": "WVg0VJZpkqJh",
        "outputId": "b63cdc58-0689-42f3-9520-6fe8e88ad758"
      },
      "source": [
        "# Simple LGBM Regressor w/o tuning\n",
        "ln_model = LGBMRegressor()\n",
        "ln_model.fit(train_x, train_y_lunch)\n",
        "\n",
        "dn_model = LGBMRegressor()\n",
        "dn_model.fit(train_x, train_y_dinner)"
      ],
      "execution_count": null,
      "outputs": [
        {
          "output_type": "execute_result",
          "data": {
            "text/plain": [
              "LGBMRegressor(boosting_type='gbdt', class_weight=None, colsample_bytree=1.0,\n",
              "              importance_type='split', learning_rate=0.1, max_depth=-1,\n",
              "              min_child_samples=20, min_child_weight=0.001, min_split_gain=0.0,\n",
              "              n_estimators=100, n_jobs=-1, num_leaves=31, objective=None,\n",
              "              random_state=None, reg_alpha=0.0, reg_lambda=0.0, silent=True,\n",
              "              subsample=1.0, subsample_for_bin=200000, subsample_freq=0)"
            ]
          },
          "metadata": {
            "tags": []
          },
          "execution_count": 106
        }
      ]
    },
    {
      "cell_type": "code",
      "metadata": {
        "id": "uPXU9hVFlWtq"
      },
      "source": [
        "# Prediction\n",
        "pred_lunch = ln_model.predict(test_x)\n",
        "pred_dinner = dn_model.predict(test_x)"
      ],
      "execution_count": null,
      "outputs": []
    },
    {
      "cell_type": "markdown",
      "metadata": {
        "id": "Q0Ta4vNRlZxl"
      },
      "source": [
        "# **Inference**"
      ]
    },
    {
      "cell_type": "code",
      "metadata": {
        "id": "oPHcpiM2lZIT"
      },
      "source": [
        "# Inference\n",
        "test_pred_lunch = ln_model.predict(test_x)\n",
        "test_pred_dinner = dn_model.predict(test_x)\n",
        "\n",
        "submission_df = pd.read_csv('/content/drive/MyDrive/Colab Notebooks/dacon_contest1/data/sample_submission.csv')"
      ],
      "execution_count": null,
      "outputs": []
    },
    {
      "cell_type": "code",
      "metadata": {
        "colab": {
          "base_uri": "https://localhost:8080/",
          "height": 204
        },
        "id": "X4zDpHV9lkf-",
        "outputId": "2d7967bf-538d-44e6-cd53-15a6987e4257"
      },
      "source": [
        "submission_df.head()"
      ],
      "execution_count": null,
      "outputs": [
        {
          "output_type": "execute_result",
          "data": {
            "text/html": [
              "<div>\n",
              "<style scoped>\n",
              "    .dataframe tbody tr th:only-of-type {\n",
              "        vertical-align: middle;\n",
              "    }\n",
              "\n",
              "    .dataframe tbody tr th {\n",
              "        vertical-align: top;\n",
              "    }\n",
              "\n",
              "    .dataframe thead th {\n",
              "        text-align: right;\n",
              "    }\n",
              "</style>\n",
              "<table border=\"1\" class=\"dataframe\">\n",
              "  <thead>\n",
              "    <tr style=\"text-align: right;\">\n",
              "      <th></th>\n",
              "      <th>일자</th>\n",
              "      <th>중식계</th>\n",
              "      <th>석식계</th>\n",
              "    </tr>\n",
              "  </thead>\n",
              "  <tbody>\n",
              "    <tr>\n",
              "      <th>0</th>\n",
              "      <td>2021-01-27</td>\n",
              "      <td>0</td>\n",
              "      <td>0</td>\n",
              "    </tr>\n",
              "    <tr>\n",
              "      <th>1</th>\n",
              "      <td>2021-01-28</td>\n",
              "      <td>0</td>\n",
              "      <td>0</td>\n",
              "    </tr>\n",
              "    <tr>\n",
              "      <th>2</th>\n",
              "      <td>2021-01-29</td>\n",
              "      <td>0</td>\n",
              "      <td>0</td>\n",
              "    </tr>\n",
              "    <tr>\n",
              "      <th>3</th>\n",
              "      <td>2021-02-01</td>\n",
              "      <td>0</td>\n",
              "      <td>0</td>\n",
              "    </tr>\n",
              "    <tr>\n",
              "      <th>4</th>\n",
              "      <td>2021-02-02</td>\n",
              "      <td>0</td>\n",
              "      <td>0</td>\n",
              "    </tr>\n",
              "  </tbody>\n",
              "</table>\n",
              "</div>"
            ],
            "text/plain": [
              "           일자  중식계  석식계\n",
              "0  2021-01-27    0    0\n",
              "1  2021-01-28    0    0\n",
              "2  2021-01-29    0    0\n",
              "3  2021-02-01    0    0\n",
              "4  2021-02-02    0    0"
            ]
          },
          "metadata": {
            "tags": []
          },
          "execution_count": 111
        }
      ]
    },
    {
      "cell_type": "code",
      "metadata": {
        "id": "AvCvKfWklmZq"
      },
      "source": [
        "submission_df['중식계'] = test_pred_lunch\n",
        "submission_df['석식계'] = test_pred_dinner"
      ],
      "execution_count": null,
      "outputs": []
    },
    {
      "cell_type": "code",
      "metadata": {
        "id": "G0LBRjuVloEA"
      },
      "source": [
        "# Save\n",
        "\n",
        "submission_df.to_csv('submission_원핫_공휴일.csv', index = False)"
      ],
      "execution_count": null,
      "outputs": []
    },
    {
      "cell_type": "markdown",
      "metadata": {
        "id": "q61A765wIJNS"
      },
      "source": [
        "### **파일 제출**"
      ]
    },
    {
      "cell_type": "code",
      "metadata": {
        "colab": {
          "base_uri": "https://localhost:8080/"
        },
        "id": "po28Nq7NIO0L",
        "outputId": "50f33e31-e911-46b8-9600-55e12aa6dc29"
      },
      "source": [
        "!pip install dacon_submit_api-0.0.4-py3-none-any.whl"
      ],
      "execution_count": null,
      "outputs": [
        {
          "output_type": "stream",
          "text": [
            "\u001b[33mWARNING: Requirement 'dacon_submit_api-0.0.4-py3-none-any.whl' looks like a filename, but the file does not exist\u001b[0m\n",
            "Processing ./dacon_submit_api-0.0.4-py3-none-any.whl\n",
            "\u001b[31mERROR: Could not install packages due to an OSError: [Errno 2] No such file or directory: '/content/dacon_submit_api-0.0.4-py3-none-any.whl'\n",
            "\u001b[0m\n"
          ],
          "name": "stdout"
        }
      ]
    },
    {
      "cell_type": "code",
      "metadata": {
        "id": "eA3lhP0rIKlZ"
      },
      "source": [
        "from dacon_submit_api import dacon_submit_api \n",
        "\n",
        "result = dacon_submit_api.post_submission_file(\n",
        "'파일경로', \n",
        "'3c402589c611d3aef251b15c37459c9b15abf6f4c5edbbbe98e8a6491c8703cf', \n",
        "'대회ID', \n",
        "'팀이름', \n",
        "'submission 메모 내용' )"
      ],
      "execution_count": null,
      "outputs": []
    }
  ]
}
