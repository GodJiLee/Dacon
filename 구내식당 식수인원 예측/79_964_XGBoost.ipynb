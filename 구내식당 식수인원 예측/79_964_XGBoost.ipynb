{
  "nbformat": 4,
  "nbformat_minor": 0,
  "metadata": {
    "colab": {
      "name": "79.9645723333_xgboost.ipynb",
      "provenance": [],
      "collapsed_sections": [
        "LBxUJ7hghBf-",
        "MPsjLyq1hRm_"
      ],
      "include_colab_link": true
    },
    "kernelspec": {
      "name": "python3",
      "display_name": "Python 3"
    },
    "language_info": {
      "name": "python"
    }
  },
  "cells": [
    {
      "cell_type": "markdown",
      "metadata": {
        "id": "view-in-github",
        "colab_type": "text"
      },
      "source": [
        "<a href=\"https://colab.research.google.com/github/GodJiLee/Dacon/blob/main/%EA%B5%AC%EB%82%B4%EC%8B%9D%EB%8B%B9%20%EC%8B%9D%EC%88%98%EC%9D%B8%EC%9B%90%20%EC%98%88%EC%B8%A1/79_9645723333_xgboost.ipynb\" target=\"_parent\"><img src=\"https://colab.research.google.com/assets/colab-badge.svg\" alt=\"Open In Colab\"/></a>"
      ]
    },
    {
      "cell_type": "markdown",
      "metadata": {
        "id": "MPsjLyq1hRm_"
      },
      "source": [
        "## **한글 패치 (matplotlib)**"
      ]
    },
    {
      "cell_type": "code",
      "metadata": {
        "colab": {
          "base_uri": "https://localhost:8080/",
          "height": 1000
        },
        "id": "0nsJZqH6hQQv",
        "outputId": "fbc49532-db0c-4d81-f990-c52bf3ca7c0e"
      },
      "source": [
        "# Step 1. Matplotlib 업그레이드\n",
        "!pip install matplotlib -U\n",
        "\n",
        "# Step 2. 한글 설치 및 사용 설정\n",
        "!sudo apt-get install -y fonts-nanum\n",
        "!sudo fc-cache -fv\n",
        "!rm ~/.cache/matplotlib -rf\n",
        "\n",
        "# Step 3. 런타임 재시작"
      ],
      "execution_count": null,
      "outputs": [
        {
          "output_type": "stream",
          "text": [
            "Requirement already satisfied: matplotlib in /usr/local/lib/python3.7/dist-packages (3.2.2)\n",
            "Collecting matplotlib\n",
            "  Downloading matplotlib-3.4.2-cp37-cp37m-manylinux1_x86_64.whl (10.3 MB)\n",
            "\u001b[K     |████████████████████████████████| 10.3 MB 6.4 MB/s \n",
            "\u001b[?25hRequirement already satisfied: cycler>=0.10 in /usr/local/lib/python3.7/dist-packages (from matplotlib) (0.10.0)\n",
            "Requirement already satisfied: python-dateutil>=2.7 in /usr/local/lib/python3.7/dist-packages (from matplotlib) (2.8.1)\n",
            "Requirement already satisfied: pyparsing>=2.2.1 in /usr/local/lib/python3.7/dist-packages (from matplotlib) (2.4.7)\n",
            "Requirement already satisfied: kiwisolver>=1.0.1 in /usr/local/lib/python3.7/dist-packages (from matplotlib) (1.3.1)\n",
            "Requirement already satisfied: pillow>=6.2.0 in /usr/local/lib/python3.7/dist-packages (from matplotlib) (7.1.2)\n",
            "Requirement already satisfied: numpy>=1.16 in /usr/local/lib/python3.7/dist-packages (from matplotlib) (1.19.5)\n",
            "Requirement already satisfied: six in /usr/local/lib/python3.7/dist-packages (from cycler>=0.10->matplotlib) (1.15.0)\n",
            "Installing collected packages: matplotlib\n",
            "  Attempting uninstall: matplotlib\n",
            "    Found existing installation: matplotlib 3.2.2\n",
            "    Uninstalling matplotlib-3.2.2:\n",
            "      Successfully uninstalled matplotlib-3.2.2\n",
            "\u001b[31mERROR: pip's dependency resolver does not currently take into account all the packages that are installed. This behaviour is the source of the following dependency conflicts.\n",
            "albumentations 0.1.12 requires imgaug<0.2.7,>=0.2.5, but you have imgaug 0.2.9 which is incompatible.\u001b[0m\n",
            "Successfully installed matplotlib-3.4.2\n"
          ],
          "name": "stdout"
        },
        {
          "output_type": "display_data",
          "data": {
            "application/vnd.colab-display-data+json": {
              "pip_warning": {
                "packages": [
                  "matplotlib",
                  "mpl_toolkits"
                ]
              }
            }
          },
          "metadata": {
            "tags": []
          }
        },
        {
          "output_type": "stream",
          "text": [
            "Reading package lists... Done\n",
            "Building dependency tree       \n",
            "Reading state information... Done\n",
            "The following NEW packages will be installed:\n",
            "  fonts-nanum\n",
            "0 upgraded, 1 newly installed, 0 to remove and 40 not upgraded.\n",
            "Need to get 9,604 kB of archives.\n",
            "After this operation, 29.5 MB of additional disk space will be used.\n",
            "Get:1 http://archive.ubuntu.com/ubuntu bionic/universe amd64 fonts-nanum all 20170925-1 [9,604 kB]\n",
            "Fetched 9,604 kB in 1s (7,939 kB/s)\n",
            "debconf: unable to initialize frontend: Dialog\n",
            "debconf: (No usable dialog-like program is installed, so the dialog based frontend cannot be used. at /usr/share/perl5/Debconf/FrontEnd/Dialog.pm line 76, <> line 1.)\n",
            "debconf: falling back to frontend: Readline\n",
            "debconf: unable to initialize frontend: Readline\n",
            "debconf: (This frontend requires a controlling tty.)\n",
            "debconf: falling back to frontend: Teletype\n",
            "dpkg-preconfigure: unable to re-open stdin: \n",
            "Selecting previously unselected package fonts-nanum.\n",
            "(Reading database ... 160837 files and directories currently installed.)\n",
            "Preparing to unpack .../fonts-nanum_20170925-1_all.deb ...\n",
            "Unpacking fonts-nanum (20170925-1) ...\n",
            "Setting up fonts-nanum (20170925-1) ...\n",
            "Processing triggers for fontconfig (2.12.6-0ubuntu2) ...\n",
            "/usr/share/fonts: caching, new cache contents: 0 fonts, 1 dirs\n",
            "/usr/share/fonts/truetype: caching, new cache contents: 0 fonts, 3 dirs\n",
            "/usr/share/fonts/truetype/humor-sans: caching, new cache contents: 1 fonts, 0 dirs\n",
            "/usr/share/fonts/truetype/liberation: caching, new cache contents: 16 fonts, 0 dirs\n",
            "/usr/share/fonts/truetype/nanum: caching, new cache contents: 10 fonts, 0 dirs\n",
            "/usr/local/share/fonts: caching, new cache contents: 0 fonts, 0 dirs\n",
            "/root/.local/share/fonts: skipping, no such directory\n",
            "/root/.fonts: skipping, no such directory\n",
            "/var/cache/fontconfig: cleaning cache directory\n",
            "/root/.cache/fontconfig: not cleaning non-existent cache directory\n",
            "/root/.fontconfig: not cleaning non-existent cache directory\n",
            "fc-cache: succeeded\n"
          ],
          "name": "stdout"
        }
      ]
    },
    {
      "cell_type": "code",
      "metadata": {
        "id": "Ti8krtu0hWgO"
      },
      "source": [
        "# Step 4. 한글 글꼴 설정\n",
        "import matplotlib.pyplot as plt\n",
        "\n",
        "plt.rcParams['font.family']=['NanumGothic', 'sans-serif']\n",
        "plt.rcParams['axes.unicode_minus'] = False"
      ],
      "execution_count": null,
      "outputs": []
    },
    {
      "cell_type": "markdown",
      "metadata": {
        "id": "b6kZDqtpCkGh"
      },
      "source": [
        "# **모듈 임포트**"
      ]
    },
    {
      "cell_type": "code",
      "metadata": {
        "id": "oJzHtG3JheME"
      },
      "source": [
        "import numpy as np\n",
        "import pandas as pd\n",
        "import matplotlib.pyplot as plt\n",
        "import seaborn as sns\n",
        "\n",
        "import warnings\n",
        "# 경고 제어\n",
        "warnings.filterwarnings(action = 'ignore') # 경고를 출력하지 않음"
      ],
      "execution_count": null,
      "outputs": []
    },
    {
      "cell_type": "code",
      "metadata": {
        "id": "O7T7UwtflO4L"
      },
      "source": [
        "from tqdm import tqdm\n",
        "from sklearn.preprocessing import LabelEncoder # 수치형 자료가 아닌 자료에 대해 모델 학습을 위해 정수형으로 바꿔주는 기능\n",
        "from sklearn.model_selection import train_test_split\n",
        "from sklearn.metrics import mean_absolute_error\n",
        "from lightgbm import LGBMRegressor # Tree 기반 학습 알고리즘 (Gradient Boosting 프레임워크)\n",
        "\n",
        "from gensim.models import Word2Vec\n",
        "from gensim.models import KeyedVectors # 워드 벡터를 저장하고 관리하는 기능, 유사성 조회\n",
        "from sklearn.manifold import TSNE # PCA 기반 차원 축소의 문제를 해결하기 위한 방법 (티스니)\n",
        "from sklearn.decomposition import PCA"
      ],
      "execution_count": null,
      "outputs": []
    },
    {
      "cell_type": "markdown",
      "metadata": {
        "id": "4EmraMPChldg"
      },
      "source": [
        "# 4. 데이터 불러오기"
      ]
    },
    {
      "cell_type": "code",
      "metadata": {
        "id": "Pzybxsxkhkqk"
      },
      "source": [
        "train = pd.read_csv('/content/drive/MyDrive/Colab Notebooks/dacon_contest1/data/train.csv')\n",
        "test = pd.read_csv('/content/drive/MyDrive/Colab Notebooks/dacon_contest1/data/test.csv')"
      ],
      "execution_count": null,
      "outputs": []
    },
    {
      "cell_type": "markdown",
      "metadata": {
        "id": "sgzwuR0ohx-7"
      },
      "source": [
        "# 5. 데이터 정제 (Dtype: object)\n",
        "\n",
        "1. 조식, 중식, 석식메뉴는 버리기 (drop)\n",
        "2. 일자, 요일은 라벨 인코딩 (숫자형으로 변환)"
      ]
    },
    {
      "cell_type": "markdown",
      "metadata": {
        "id": "7xvkl4ZKiz_Z"
      },
      "source": [
        "## 1. 조식, 중식, 석식메뉴는 버리기 (drop)"
      ]
    },
    {
      "cell_type": "code",
      "metadata": {
        "id": "J10l4Bynhvsg"
      },
      "source": [
        "drops = ['조식메뉴', '중식메뉴', '석식메뉴']\n",
        "\n",
        "train = train.drop(drops, axis=1)\n",
        "test = test.drop(drops, axis=1)"
      ],
      "execution_count": null,
      "outputs": []
    },
    {
      "cell_type": "code",
      "metadata": {
        "colab": {
          "base_uri": "https://localhost:8080/",
          "height": 204
        },
        "id": "sBhs6ddJiB8A",
        "outputId": "b1f4152d-4b22-47bd-ae2c-59eb508f2ec4"
      },
      "source": [
        "train.head()"
      ],
      "execution_count": null,
      "outputs": [
        {
          "output_type": "execute_result",
          "data": {
            "text/html": [
              "<div>\n",
              "<style scoped>\n",
              "    .dataframe tbody tr th:only-of-type {\n",
              "        vertical-align: middle;\n",
              "    }\n",
              "\n",
              "    .dataframe tbody tr th {\n",
              "        vertical-align: top;\n",
              "    }\n",
              "\n",
              "    .dataframe thead th {\n",
              "        text-align: right;\n",
              "    }\n",
              "</style>\n",
              "<table border=\"1\" class=\"dataframe\">\n",
              "  <thead>\n",
              "    <tr style=\"text-align: right;\">\n",
              "      <th></th>\n",
              "      <th>일자</th>\n",
              "      <th>요일</th>\n",
              "      <th>본사정원수</th>\n",
              "      <th>본사휴가자수</th>\n",
              "      <th>본사출장자수</th>\n",
              "      <th>본사시간외근무명령서승인건수</th>\n",
              "      <th>현본사소속재택근무자수</th>\n",
              "      <th>중식계</th>\n",
              "      <th>석식계</th>\n",
              "    </tr>\n",
              "  </thead>\n",
              "  <tbody>\n",
              "    <tr>\n",
              "      <th>0</th>\n",
              "      <td>2016-02-01</td>\n",
              "      <td>월</td>\n",
              "      <td>2601</td>\n",
              "      <td>50</td>\n",
              "      <td>150</td>\n",
              "      <td>238</td>\n",
              "      <td>0.0</td>\n",
              "      <td>1039.0</td>\n",
              "      <td>331.0</td>\n",
              "    </tr>\n",
              "    <tr>\n",
              "      <th>1</th>\n",
              "      <td>2016-02-02</td>\n",
              "      <td>화</td>\n",
              "      <td>2601</td>\n",
              "      <td>50</td>\n",
              "      <td>173</td>\n",
              "      <td>319</td>\n",
              "      <td>0.0</td>\n",
              "      <td>867.0</td>\n",
              "      <td>560.0</td>\n",
              "    </tr>\n",
              "    <tr>\n",
              "      <th>2</th>\n",
              "      <td>2016-02-03</td>\n",
              "      <td>수</td>\n",
              "      <td>2601</td>\n",
              "      <td>56</td>\n",
              "      <td>180</td>\n",
              "      <td>111</td>\n",
              "      <td>0.0</td>\n",
              "      <td>1017.0</td>\n",
              "      <td>573.0</td>\n",
              "    </tr>\n",
              "    <tr>\n",
              "      <th>3</th>\n",
              "      <td>2016-02-04</td>\n",
              "      <td>목</td>\n",
              "      <td>2601</td>\n",
              "      <td>104</td>\n",
              "      <td>220</td>\n",
              "      <td>355</td>\n",
              "      <td>0.0</td>\n",
              "      <td>978.0</td>\n",
              "      <td>525.0</td>\n",
              "    </tr>\n",
              "    <tr>\n",
              "      <th>4</th>\n",
              "      <td>2016-02-05</td>\n",
              "      <td>금</td>\n",
              "      <td>2601</td>\n",
              "      <td>278</td>\n",
              "      <td>181</td>\n",
              "      <td>34</td>\n",
              "      <td>0.0</td>\n",
              "      <td>925.0</td>\n",
              "      <td>330.0</td>\n",
              "    </tr>\n",
              "  </tbody>\n",
              "</table>\n",
              "</div>"
            ],
            "text/plain": [
              "           일자 요일  본사정원수  본사휴가자수  ...  본사시간외근무명령서승인건수  현본사소속재택근무자수     중식계    석식계\n",
              "0  2016-02-01  월   2601      50  ...             238          0.0  1039.0  331.0\n",
              "1  2016-02-02  화   2601      50  ...             319          0.0   867.0  560.0\n",
              "2  2016-02-03  수   2601      56  ...             111          0.0  1017.0  573.0\n",
              "3  2016-02-04  목   2601     104  ...             355          0.0   978.0  525.0\n",
              "4  2016-02-05  금   2601     278  ...              34          0.0   925.0  330.0\n",
              "\n",
              "[5 rows x 9 columns]"
            ]
          },
          "metadata": {
            "tags": []
          },
          "execution_count": 223
        }
      ]
    },
    {
      "cell_type": "code",
      "metadata": {
        "colab": {
          "base_uri": "https://localhost:8080/",
          "height": 204
        },
        "id": "_jWRSKz3iEIk",
        "outputId": "9a8eec0e-ac03-4c08-ab71-ac07180568a2"
      },
      "source": [
        "test.head()"
      ],
      "execution_count": null,
      "outputs": [
        {
          "output_type": "execute_result",
          "data": {
            "text/html": [
              "<div>\n",
              "<style scoped>\n",
              "    .dataframe tbody tr th:only-of-type {\n",
              "        vertical-align: middle;\n",
              "    }\n",
              "\n",
              "    .dataframe tbody tr th {\n",
              "        vertical-align: top;\n",
              "    }\n",
              "\n",
              "    .dataframe thead th {\n",
              "        text-align: right;\n",
              "    }\n",
              "</style>\n",
              "<table border=\"1\" class=\"dataframe\">\n",
              "  <thead>\n",
              "    <tr style=\"text-align: right;\">\n",
              "      <th></th>\n",
              "      <th>일자</th>\n",
              "      <th>요일</th>\n",
              "      <th>본사정원수</th>\n",
              "      <th>본사휴가자수</th>\n",
              "      <th>본사출장자수</th>\n",
              "      <th>본사시간외근무명령서승인건수</th>\n",
              "      <th>현본사소속재택근무자수</th>\n",
              "    </tr>\n",
              "  </thead>\n",
              "  <tbody>\n",
              "    <tr>\n",
              "      <th>0</th>\n",
              "      <td>2021-01-27</td>\n",
              "      <td>수</td>\n",
              "      <td>2983</td>\n",
              "      <td>88</td>\n",
              "      <td>182</td>\n",
              "      <td>5</td>\n",
              "      <td>358.0</td>\n",
              "    </tr>\n",
              "    <tr>\n",
              "      <th>1</th>\n",
              "      <td>2021-01-28</td>\n",
              "      <td>목</td>\n",
              "      <td>2983</td>\n",
              "      <td>104</td>\n",
              "      <td>212</td>\n",
              "      <td>409</td>\n",
              "      <td>348.0</td>\n",
              "    </tr>\n",
              "    <tr>\n",
              "      <th>2</th>\n",
              "      <td>2021-01-29</td>\n",
              "      <td>금</td>\n",
              "      <td>2983</td>\n",
              "      <td>270</td>\n",
              "      <td>249</td>\n",
              "      <td>0</td>\n",
              "      <td>294.0</td>\n",
              "    </tr>\n",
              "    <tr>\n",
              "      <th>3</th>\n",
              "      <td>2021-02-01</td>\n",
              "      <td>월</td>\n",
              "      <td>2924</td>\n",
              "      <td>108</td>\n",
              "      <td>154</td>\n",
              "      <td>538</td>\n",
              "      <td>322.0</td>\n",
              "    </tr>\n",
              "    <tr>\n",
              "      <th>4</th>\n",
              "      <td>2021-02-02</td>\n",
              "      <td>화</td>\n",
              "      <td>2924</td>\n",
              "      <td>62</td>\n",
              "      <td>186</td>\n",
              "      <td>455</td>\n",
              "      <td>314.0</td>\n",
              "    </tr>\n",
              "  </tbody>\n",
              "</table>\n",
              "</div>"
            ],
            "text/plain": [
              "           일자 요일  본사정원수  본사휴가자수  본사출장자수  본사시간외근무명령서승인건수  현본사소속재택근무자수\n",
              "0  2021-01-27  수   2983      88     182               5        358.0\n",
              "1  2021-01-28  목   2983     104     212             409        348.0\n",
              "2  2021-01-29  금   2983     270     249               0        294.0\n",
              "3  2021-02-01  월   2924     108     154             538        322.0\n",
              "4  2021-02-02  화   2924      62     186             455        314.0"
            ]
          },
          "metadata": {
            "tags": []
          },
          "execution_count": 224
        }
      ]
    },
    {
      "cell_type": "markdown",
      "metadata": {
        "id": "WNrRYx0Ti5C1"
      },
      "source": [
        "## 2. 일자, 요일은 라벨 인코딩 (숫자형으로 변환)"
      ]
    },
    {
      "cell_type": "code",
      "metadata": {
        "id": "BZc74IqEiEok"
      },
      "source": [
        "train['월'] = pd.DatetimeIndex(train['일자']).month\n",
        "test['월'] = pd.DatetimeIndex(test['일자']).month\n",
        "\n",
        "train['일'] = pd.DatetimeIndex(train['일자']).day\n",
        "test['일'] = pd.DatetimeIndex(test['일자']).day"
      ],
      "execution_count": null,
      "outputs": []
    },
    {
      "cell_type": "code",
      "metadata": {
        "id": "PQa99hVhjpBd"
      },
      "source": [
        "weekday = {\n",
        "    '월': 1,\n",
        "    '화': 2,\n",
        "    '수': 3,\n",
        "    '목': 4,\n",
        "    '금': 5\n",
        "}\n",
        "\n",
        "train['요일'] = train['요일'].map(weekday)\n",
        "test['요일'] = test['요일'].map(weekday)"
      ],
      "execution_count": null,
      "outputs": []
    },
    {
      "cell_type": "markdown",
      "metadata": {
        "id": "EO_fy-BbjdH5"
      },
      "source": [
        "정제한 데이터를 정리하면,\n",
        "### **요일 컬럼 처리**"
      ]
    },
    {
      "cell_type": "markdown",
      "metadata": {
        "id": "FaRIXz2LD4TR"
      },
      "source": [
        "### **Label Encoder로 범주형 자료 (요일, 요일(석식)) 수치형으로 바꾸기**"
      ]
    },
    {
      "cell_type": "code",
      "metadata": {
        "id": "wyXQYFYaDRRh"
      },
      "source": [
        "# 수치형으로 바꾸지 않은 상태에서 encoder 적용\n",
        "cat_features = ['요일']"
      ],
      "execution_count": null,
      "outputs": []
    },
    {
      "cell_type": "code",
      "metadata": {
        "id": "G1iqCgo9DDPZ"
      },
      "source": [
        "for feature in cat_features:\n",
        "    le = LabelEncoder()\n",
        "    le.fit(train[feature])\n",
        "    train[feature] = le.transform(train[feature])\n",
        "    test[feature] = le.transform(test[feature])"
      ],
      "execution_count": null,
      "outputs": []
    },
    {
      "cell_type": "markdown",
      "metadata": {
        "id": "ZJBf2AZ9kTli"
      },
      "source": [
        "# 6. 데이터 정제 (아이디어)\n",
        "\n",
        "* 휴가자, 재택근무자는 중식/석식에 참여하지 않을 것이므로 본사정원수에서 차감한다.\n",
        "* 즉, **본사정원수 - 휴가자 - 재택근무자**\n",
        "\n",
        "* 식사참여율 = 식사계 / 식사가능자수"
      ]
    },
    {
      "cell_type": "code",
      "metadata": {
        "id": "EO7yYSm-kErh"
      },
      "source": [
        "train['식사가능자수'] = train['본사정원수'] - train['본사휴가자수'] - train['현본사소속재택근무자수']\n",
        "test['식사가능자수'] = test['본사정원수'] - test['본사휴가자수'] - test['현본사소속재택근무자수']"
      ],
      "execution_count": null,
      "outputs": []
    },
    {
      "cell_type": "code",
      "metadata": {
        "id": "g30wOPvAZqTC"
      },
      "source": [
        "train['중식참여율'] = train['중식계'] / train['식사가능자수']\n",
        "train['석식참여율'] = train['석식계'] / train['식사가능자수']"
      ],
      "execution_count": null,
      "outputs": []
    },
    {
      "cell_type": "code",
      "metadata": {
        "id": "sSdtKy1lAPvQ"
      },
      "source": [
        "# 식사가능자수 float -> int로 변경\n",
        "train['식사가능자수'] = train['식사가능자수'].astype('int')\n",
        "test['식사가능자수'] = test['식사가능자수'].astype('int')"
      ],
      "execution_count": null,
      "outputs": []
    },
    {
      "cell_type": "code",
      "metadata": {
        "id": "ONhzM2CFxiGM"
      },
      "source": [
        "# 현본사소속재택근무자수 float -> int로 변경\n",
        "train['현본사소속재택근무자수'] = train['현본사소속재택근무자수'].astype('int')\n",
        "test['현본사소속재택근무자수'] = test['현본사소속재택근무자수'].astype('int')"
      ],
      "execution_count": null,
      "outputs": []
    },
    {
      "cell_type": "code",
      "metadata": {
        "id": "paMTuLFfx2pM"
      },
      "source": [
        "# 중식계/석식계 float -> int로 변경\n",
        "train['중식계'] = train['중식계'].astype('int')\n",
        "train['석식계'] = train['석식계'].astype('int')"
      ],
      "execution_count": null,
      "outputs": []
    },
    {
      "cell_type": "markdown",
      "metadata": {
        "id": "M71uvOrd7OKI"
      },
      "source": [
        "### **공휴일 전후 데이터 추가**\n",
        "* 테스트 데이터에 설날 연휴, 어린이날 존재\n",
        "* 연휴 전날 1로 인코딩 나머지 0"
      ]
    },
    {
      "cell_type": "code",
      "metadata": {
        "id": "xpWtW95o5wBu"
      },
      "source": [
        "# 새로운 column 생성\n",
        "train['공휴일전후'] = 0\n",
        "test['공휴일전후'] = 0"
      ],
      "execution_count": null,
      "outputs": []
    },
    {
      "cell_type": "code",
      "metadata": {
        "id": "jaty5uu37ZC7"
      },
      "source": [
        "# 한땀한땀 공휴일 지정..\n",
        "train['공휴일전후'][17] = 1\n",
        "train['공휴일전후'][3] = 1\n",
        "train['공휴일전후'][62] = 1\n",
        "# train['공휴일전후'][67] = 1\n",
        "# train['공휴일전후'][82] = 1\n",
        "train['공휴일전후'][131] = 1\n",
        "# train['공휴일전후'][130] = 1\n",
        "train['공휴일전후'][152] = 1\n",
        "train['공휴일전후'][226] = 1\n",
        "train['공휴일전후'][221] = 1\n",
        "train['공휴일전후'][224] = 1\n",
        "# train['공휴일전후'][244] = 1\n",
        "train['공휴일전후'][245] = 1\n",
        "# train['공휴일전후'][267] = 1\n",
        "train['공휴일전후'][310] = 2\n",
        "train['공휴일전후'][311] = 1\n",
        "train['공휴일전후'][309] = 1\n",
        "train['공휴일전후'][330] = 1\n",
        "train['공휴일전후'][379] = 1\n",
        "train['공휴일전후'][467] = 1\n",
        "# train['공휴일전후'][469] = 1\n",
        "train['공휴일전후'][470] = 1\n",
        "train['공휴일전후'][502] = 2\n",
        "# train['공휴일전후'][501] = 1\n",
        "# train['공휴일전후'][511] = 1\n",
        "train['공휴일전후'][565] = 1\n",
        "train['공휴일전후'][623] = 1\n",
        "train['공휴일전후'][651] = 1\n",
        "# train['공휴일전후'][650] = 1\n",
        "train['공휴일전후'][705] = 1\n",
        "# train['공휴일전후'][707] = 1\n",
        "train['공휴일전후'][709] = 1\n",
        "# train['공휴일전후'][733] = 1\n",
        "# train['공휴일전후'][748] = 1\n",
        "# train['공휴일전후'][792] = 1\n",
        "train['공휴일전후'][815] = 1\n",
        "train['공휴일전후'][864] = 1\n",
        "# train['공휴일전후'][863] = 1\n",
        "train['공휴일전후'][950] = 1\n",
        "train['공휴일전후'][951] = 1\n",
        "train['공휴일전후'][953] = 1\n",
        "train['공휴일전후'][954] = 1\n",
        "train['공휴일전후'][955] = 1\n",
        "train['공휴일전후'][971] = 2\n",
        "# train['공휴일전후'][970] = 1\n",
        "# train['공휴일전후'][1037] = 1\n",
        "train['공휴일전후'][1038] = 1\n",
        "train['공휴일전후'][1099] = 1\n",
        "train['공휴일전후'][1129] = 1\n",
        "# train['공휴일전후'][1128] = 1\n",
        "train['공휴일전후'][1187] = 1\n",
        "# train['공휴일전후'][1186] = 1\n",
        "\n",
        "test['공휴일전후'][10] = 2\n",
        "test['공휴일전후'][20] = 1"
      ],
      "execution_count": null,
      "outputs": []
    },
    {
      "cell_type": "markdown",
      "metadata": {
        "id": "XO1j33ot7_Vm"
      },
      "source": [
        "**원-핫 인코딩**"
      ]
    },
    {
      "cell_type": "code",
      "metadata": {
        "id": "dRt6ju6r758F"
      },
      "source": [
        "# 변수간 관계성 삭제 (더미화, 가변수화)\n",
        "train = pd.get_dummies(train, columns = ['공휴일전후'])\n",
        "test = pd.get_dummies(test, columns = ['공휴일전후'])"
      ],
      "execution_count": null,
      "outputs": []
    },
    {
      "cell_type": "code",
      "metadata": {
        "id": "IwRQykiy8Pla"
      },
      "source": [
        "test['공휴일전후_0'][20] = 1\n",
        "test['공휴일전후_1'][20] = 0"
      ],
      "execution_count": null,
      "outputs": []
    },
    {
      "cell_type": "markdown",
      "metadata": {
        "id": "SjEe8kH4k9yv"
      },
      "source": [
        "정제한 데이터를 정리하면,"
      ]
    },
    {
      "cell_type": "code",
      "metadata": {
        "id": "GgR_Cii9k5q1"
      },
      "source": [
        "features = ['월', '일', '요일', '식사가능자수', '본사휴가자수', '현본사소속재택근무자수', '본사출장자수', '본사시간외근무명령서승인건수', '공휴일전후_0', '공휴일전후_1', '공휴일전후_2']\n",
        "labels = ['중식계',\t'석식계']\n",
        "\n",
        "train = train[features+labels]\n",
        "test = test[features]"
      ],
      "execution_count": null,
      "outputs": []
    },
    {
      "cell_type": "markdown",
      "metadata": {
        "id": "NjkRjQQNqBf2"
      },
      "source": [
        "### **모델에 사용할 데이터 생성**"
      ]
    },
    {
      "cell_type": "code",
      "metadata": {
        "id": "LVhI2Mr-hAV0"
      },
      "source": [
        "# lunch\n",
        "\n",
        "# train\n",
        "train_x = train[features]\n",
        "train_y_lunch = train['중식계']\n",
        "train_y_dinner = train['석식계']\n",
        "# test\n",
        "test_x = test[features]"
      ],
      "execution_count": null,
      "outputs": []
    },
    {
      "cell_type": "code",
      "metadata": {
        "colab": {
          "base_uri": "https://localhost:8080/",
          "height": 111
        },
        "id": "xRA_Lxkz33lM",
        "outputId": "b3407059-993f-43d8-ab08-5d403880aed9"
      },
      "source": [
        "train_x.head(2)"
      ],
      "execution_count": null,
      "outputs": [
        {
          "output_type": "execute_result",
          "data": {
            "text/html": [
              "<div>\n",
              "<style scoped>\n",
              "    .dataframe tbody tr th:only-of-type {\n",
              "        vertical-align: middle;\n",
              "    }\n",
              "\n",
              "    .dataframe tbody tr th {\n",
              "        vertical-align: top;\n",
              "    }\n",
              "\n",
              "    .dataframe thead th {\n",
              "        text-align: right;\n",
              "    }\n",
              "</style>\n",
              "<table border=\"1\" class=\"dataframe\">\n",
              "  <thead>\n",
              "    <tr style=\"text-align: right;\">\n",
              "      <th></th>\n",
              "      <th>월</th>\n",
              "      <th>일</th>\n",
              "      <th>요일</th>\n",
              "      <th>식사가능자수</th>\n",
              "      <th>본사휴가자수</th>\n",
              "      <th>현본사소속재택근무자수</th>\n",
              "      <th>본사출장자수</th>\n",
              "      <th>본사시간외근무명령서승인건수</th>\n",
              "      <th>공휴일전후_0</th>\n",
              "      <th>공휴일전후_1</th>\n",
              "      <th>공휴일전후_2</th>\n",
              "    </tr>\n",
              "  </thead>\n",
              "  <tbody>\n",
              "    <tr>\n",
              "      <th>0</th>\n",
              "      <td>2</td>\n",
              "      <td>1</td>\n",
              "      <td>0</td>\n",
              "      <td>2551</td>\n",
              "      <td>50</td>\n",
              "      <td>0</td>\n",
              "      <td>150</td>\n",
              "      <td>238</td>\n",
              "      <td>1</td>\n",
              "      <td>0</td>\n",
              "      <td>0</td>\n",
              "    </tr>\n",
              "    <tr>\n",
              "      <th>1</th>\n",
              "      <td>2</td>\n",
              "      <td>2</td>\n",
              "      <td>1</td>\n",
              "      <td>2551</td>\n",
              "      <td>50</td>\n",
              "      <td>0</td>\n",
              "      <td>173</td>\n",
              "      <td>319</td>\n",
              "      <td>1</td>\n",
              "      <td>0</td>\n",
              "      <td>0</td>\n",
              "    </tr>\n",
              "  </tbody>\n",
              "</table>\n",
              "</div>"
            ],
            "text/plain": [
              "   월  일  요일  식사가능자수  본사휴가자수  ...  본사출장자수  본사시간외근무명령서승인건수  공휴일전후_0  공휴일전후_1  공휴일전후_2\n",
              "0  2  1   0    2551      50  ...     150             238        1        0        0\n",
              "1  2  2   1    2551      50  ...     173             319        1        0        0\n",
              "\n",
              "[2 rows x 11 columns]"
            ]
          },
          "metadata": {
            "tags": []
          },
          "execution_count": 240
        }
      ]
    },
    {
      "cell_type": "code",
      "metadata": {
        "colab": {
          "base_uri": "https://localhost:8080/"
        },
        "id": "IzpleAFZAKAz",
        "outputId": "9f4fe3b4-1e10-42ea-daa2-d4ad3f3bf7ef"
      },
      "source": [
        "train_y_lunch.head(2)"
      ],
      "execution_count": null,
      "outputs": [
        {
          "output_type": "execute_result",
          "data": {
            "text/plain": [
              "0    1039\n",
              "1     867\n",
              "Name: 중식계, dtype: int64"
            ]
          },
          "metadata": {
            "tags": []
          },
          "execution_count": 254
        }
      ]
    },
    {
      "cell_type": "markdown",
      "metadata": {
        "id": "SVsxamOudW5w"
      },
      "source": [
        "## **모델링**"
      ]
    },
    {
      "cell_type": "code",
      "metadata": {
        "colab": {
          "base_uri": "https://localhost:8080/",
          "height": 204
        },
        "id": "ZI1C6Skm-TX-",
        "outputId": "64487825-b84f-4b91-c207-b061b6250a4a"
      },
      "source": [
        "submit = pd.read_csv('/content/drive/MyDrive/Colab Notebooks/dacon_contest1/data/sample_submission.csv')\n",
        "submit.head()"
      ],
      "execution_count": null,
      "outputs": [
        {
          "output_type": "execute_result",
          "data": {
            "text/html": [
              "<div>\n",
              "<style scoped>\n",
              "    .dataframe tbody tr th:only-of-type {\n",
              "        vertical-align: middle;\n",
              "    }\n",
              "\n",
              "    .dataframe tbody tr th {\n",
              "        vertical-align: top;\n",
              "    }\n",
              "\n",
              "    .dataframe thead th {\n",
              "        text-align: right;\n",
              "    }\n",
              "</style>\n",
              "<table border=\"1\" class=\"dataframe\">\n",
              "  <thead>\n",
              "    <tr style=\"text-align: right;\">\n",
              "      <th></th>\n",
              "      <th>일자</th>\n",
              "      <th>중식계</th>\n",
              "      <th>석식계</th>\n",
              "    </tr>\n",
              "  </thead>\n",
              "  <tbody>\n",
              "    <tr>\n",
              "      <th>0</th>\n",
              "      <td>2021-01-27</td>\n",
              "      <td>0</td>\n",
              "      <td>0</td>\n",
              "    </tr>\n",
              "    <tr>\n",
              "      <th>1</th>\n",
              "      <td>2021-01-28</td>\n",
              "      <td>0</td>\n",
              "      <td>0</td>\n",
              "    </tr>\n",
              "    <tr>\n",
              "      <th>2</th>\n",
              "      <td>2021-01-29</td>\n",
              "      <td>0</td>\n",
              "      <td>0</td>\n",
              "    </tr>\n",
              "    <tr>\n",
              "      <th>3</th>\n",
              "      <td>2021-02-01</td>\n",
              "      <td>0</td>\n",
              "      <td>0</td>\n",
              "    </tr>\n",
              "    <tr>\n",
              "      <th>4</th>\n",
              "      <td>2021-02-02</td>\n",
              "      <td>0</td>\n",
              "      <td>0</td>\n",
              "    </tr>\n",
              "  </tbody>\n",
              "</table>\n",
              "</div>"
            ],
            "text/plain": [
              "           일자  중식계  석식계\n",
              "0  2021-01-27    0    0\n",
              "1  2021-01-28    0    0\n",
              "2  2021-01-29    0    0\n",
              "3  2021-02-01    0    0\n",
              "4  2021-02-02    0    0"
            ]
          },
          "metadata": {
            "tags": []
          },
          "execution_count": 242
        }
      ]
    },
    {
      "cell_type": "markdown",
      "metadata": {
        "id": "kLw7yYyNe-Hd"
      },
      "source": [
        "### **1. XGBoost**"
      ]
    },
    {
      "cell_type": "code",
      "metadata": {
        "id": "DGSI5hPUdc15"
      },
      "source": [
        "from sklearn.model_selection import GridSearchCV\n",
        "from xgboost import XGBRegressor\n",
        "\n",
        "params = {\n",
        "    'learning_rate': [0.0, 0.1, 0.09, 0.089, 0.08],\n",
        "    'boosting_type': ['gbtree', 'gblinear', 'dart'],\n",
        "    \n",
        "}\n",
        "\n",
        "lunch_r = XGBRegressor(objective='reg:squarederror')\n",
        "dinner_r = XGBRegressor(objective='reg:squarederror')\n",
        "\n",
        "lunch_model = GridSearchCV(lunch_r, params, scoring='neg_mean_absolute_error')\n",
        "dinner_model = GridSearchCV(dinner_r, params, scoring='neg_mean_absolute_error')"
      ],
      "execution_count": null,
      "outputs": []
    },
    {
      "cell_type": "markdown",
      "metadata": {
        "id": "irPMwr60pF3F"
      },
      "source": [
        "### **중식**"
      ]
    },
    {
      "cell_type": "code",
      "metadata": {
        "colab": {
          "base_uri": "https://localhost:8080/"
        },
        "id": "tYvHq8ZcoAx_",
        "outputId": "1a9e36b4-2d6c-415f-de9d-c92d8446a283"
      },
      "source": [
        "lunch_model.fit(train_x, train_y_lunch)\n",
        "print(lunch_model.best_score_, lunch_model.best_params_)\n",
        "lunch_model = lunch_model.best_estimator_"
      ],
      "execution_count": null,
      "outputs": [
        {
          "output_type": "stream",
          "text": [
            "-75.53545068764588 {'boosting_type': 'gbtree', 'learning_rate': 0.1}\n"
          ],
          "name": "stdout"
        }
      ]
    },
    {
      "cell_type": "code",
      "metadata": {
        "id": "2cPdl1uookfx"
      },
      "source": [
        "y_pred = lunch_model.predict(test_x)"
      ],
      "execution_count": null,
      "outputs": []
    },
    {
      "cell_type": "code",
      "metadata": {
        "id": "6KGCSBlxpaHq"
      },
      "source": [
        "submit['중식계'] = y_pred"
      ],
      "execution_count": null,
      "outputs": []
    },
    {
      "cell_type": "markdown",
      "metadata": {
        "id": "jFG-31i7pHIp"
      },
      "source": [
        "### **석식**"
      ]
    },
    {
      "cell_type": "code",
      "metadata": {
        "colab": {
          "base_uri": "https://localhost:8080/"
        },
        "id": "yZfF8saipHlt",
        "outputId": "c2adadbd-b3e0-4130-c8e1-32d3ccb98725"
      },
      "source": [
        "dinner_model.fit(train_x, train_y_dinner)\n",
        "print(dinner_model.best_score_, dinner_model.best_params_)\n",
        "dinner_model = dinner_model.best_estimator_"
      ],
      "execution_count": null,
      "outputs": [
        {
          "output_type": "stream",
          "text": [
            "-70.37959823924972 {'boosting_type': 'gbtree', 'learning_rate': 0.089}\n"
          ],
          "name": "stdout"
        }
      ]
    },
    {
      "cell_type": "code",
      "metadata": {
        "id": "hvt4mtNepN5X"
      },
      "source": [
        "y_pred = dinner_model.predict(test_x)"
      ],
      "execution_count": null,
      "outputs": []
    },
    {
      "cell_type": "code",
      "metadata": {
        "id": "oFu9-iYspdI3"
      },
      "source": [
        "submit['석식계'] = y_pred"
      ],
      "execution_count": null,
      "outputs": []
    },
    {
      "cell_type": "markdown",
      "metadata": {
        "id": "qBqkDDoPpe8y"
      },
      "source": [
        "### **제출 파일 다운로드**"
      ]
    },
    {
      "cell_type": "code",
      "metadata": {
        "colab": {
          "base_uri": "https://localhost:8080/",
          "height": 17
        },
        "id": "-SMYyBqCph7b",
        "outputId": "a4aa860d-c866-4efb-af34-99fb6287868f"
      },
      "source": [
        "submit.to_csv('submit_feature_add_xgboost.csv', index=False)\n",
        "\n",
        "from google.colab import files\n",
        "\n",
        "files.download('submit_feature_add_xgboost.csv')"
      ],
      "execution_count": null,
      "outputs": [
        {
          "output_type": "display_data",
          "data": {
            "application/javascript": [
              "\n",
              "    async function download(id, filename, size) {\n",
              "      if (!google.colab.kernel.accessAllowed) {\n",
              "        return;\n",
              "      }\n",
              "      const div = document.createElement('div');\n",
              "      const label = document.createElement('label');\n",
              "      label.textContent = `Downloading \"${filename}\": `;\n",
              "      div.appendChild(label);\n",
              "      const progress = document.createElement('progress');\n",
              "      progress.max = size;\n",
              "      div.appendChild(progress);\n",
              "      document.body.appendChild(div);\n",
              "\n",
              "      const buffers = [];\n",
              "      let downloaded = 0;\n",
              "\n",
              "      const channel = await google.colab.kernel.comms.open(id);\n",
              "      // Send a message to notify the kernel that we're ready.\n",
              "      channel.send({})\n",
              "\n",
              "      for await (const message of channel.messages) {\n",
              "        // Send a message to notify the kernel that we're ready.\n",
              "        channel.send({})\n",
              "        if (message.buffers) {\n",
              "          for (const buffer of message.buffers) {\n",
              "            buffers.push(buffer);\n",
              "            downloaded += buffer.byteLength;\n",
              "            progress.value = downloaded;\n",
              "          }\n",
              "        }\n",
              "      }\n",
              "      const blob = new Blob(buffers, {type: 'application/binary'});\n",
              "      const a = document.createElement('a');\n",
              "      a.href = window.URL.createObjectURL(blob);\n",
              "      a.download = filename;\n",
              "      div.appendChild(a);\n",
              "      a.click();\n",
              "      div.remove();\n",
              "    }\n",
              "  "
            ],
            "text/plain": [
              "<IPython.core.display.Javascript object>"
            ]
          },
          "metadata": {
            "tags": []
          }
        },
        {
          "output_type": "display_data",
          "data": {
            "application/javascript": [
              "download(\"download_03720037-52da-44cd-97b1-2d9cc50a170d\", \"submit_feature_add_xgboost.csv\", 1517)"
            ],
            "text/plain": [
              "<IPython.core.display.Javascript object>"
            ]
          },
          "metadata": {
            "tags": []
          }
        }
      ]
    },
    {
      "cell_type": "markdown",
      "metadata": {
        "id": "ckty68ywq0MI"
      },
      "source": [
        "* 1차 시도\n",
        "  * feature = ['요일', '식사가능자수', '본사출장자수', '본사시간외근무명령서승인건수']\n",
        "  * score = 94.3871666667\n",
        "\n",
        "* 2차 시도\n",
        "  * feature = 1차 시도 + '월'\n",
        "  * score = 82.6756666667"
      ]
    },
    {
      "cell_type": "markdown",
      "metadata": {
        "id": "wAZ9WnOArfmR"
      },
      "source": [
        "* 3차 시도\n",
        "  * weekday rank에 맞춰 매핑\n",
        "    * 중식,\n",
        "    * 석식 구분.\n",
        "  * score = \t81.3001666667"
      ]
    },
    {
      "cell_type": "markdown",
      "metadata": {
        "id": "QpFsC_6YcN5w"
      },
      "source": [
        "* 4차 시도\n",
        "  * feature에 '일' 추가\n",
        "    * both 중식 and 석식\n",
        "  * score = 80.9271666667"
      ]
    },
    {
      "cell_type": "markdown",
      "metadata": {
        "id": "X4xR_hnpYQ94"
      },
      "source": [
        "  * 5차 시도\n",
        "    * XGBoost + GridSearch\n",
        "    * score = 79.828006"
      ]
    },
    {
      "cell_type": "markdown",
      "metadata": {
        "id": "toMyAlK6g7iK"
      },
      "source": [
        "* 6차 시도 (예정)\n",
        "  * train 데이터에서 석식계가 0인 날 제외 (test에는 석식계 0 없음 확인 필)"
      ]
    },
    {
      "cell_type": "code",
      "metadata": {
        "id": "Wv7ZNe5phAzy"
      },
      "source": [
        ""
      ],
      "execution_count": null,
      "outputs": []
    }
  ]
}
