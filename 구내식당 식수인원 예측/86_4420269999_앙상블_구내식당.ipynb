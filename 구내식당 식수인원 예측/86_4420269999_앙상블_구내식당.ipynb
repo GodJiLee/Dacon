{
  "nbformat": 4,
  "nbformat_minor": 0,
  "metadata": {
    "colab": {
      "name": "86.4420269999_앙상블_구내식당.ipynb",
      "provenance": [],
      "collapsed_sections": [],
      "mount_file_id": "1PMbP3nN9ykn2-R7XTY0MQ3yemZbH_tsT",
      "authorship_tag": "ABX9TyOi39tvHZqQdE3y/5mRS2pr",
      "include_colab_link": true
    },
    "kernelspec": {
      "display_name": "Python 3",
      "name": "python3"
    },
    "language_info": {
      "name": "python"
    }
  },
  "cells": [
    {
      "cell_type": "markdown",
      "metadata": {
        "id": "view-in-github",
        "colab_type": "text"
      },
      "source": [
        "<a href=\"https://colab.research.google.com/github/GodJiLee/Dacon/blob/main/%EA%B5%AC%EB%82%B4%EC%8B%9D%EB%8B%B9%20%EC%8B%9D%EC%88%98%EC%9D%B8%EC%9B%90%20%EC%98%88%EC%B8%A1/86_4420269999_%EC%95%99%EC%83%81%EB%B8%94_%EA%B5%AC%EB%82%B4%EC%8B%9D%EB%8B%B9.ipynb\" target=\"_parent\"><img src=\"https://colab.research.google.com/assets/colab-badge.svg\" alt=\"Open In Colab\"/></a>"
      ]
    },
    {
      "cell_type": "markdown",
      "metadata": {
        "id": "Lu4YASlIFAMs"
      },
      "source": [
        "# **드라이브 마운트**"
      ]
    },
    {
      "cell_type": "markdown",
      "metadata": {
        "id": "zDfx46WnFGAi"
      },
      "source": [
        "# **필요 모듈 설치 및 Import**"
      ]
    },
    {
      "cell_type": "code",
      "metadata": {
        "colab": {
          "base_uri": "https://localhost:8080/"
        },
        "id": "iTQHRjdEC5Lc",
        "outputId": "af1a7a01-9af3-4b3a-db9a-0318fe4f4e11"
      },
      "source": [
        "!pip install catboost\n",
        "!pip install pycaret\n",
        "from tqdm.notebook import tqdm\n",
        "import pandas as pd\n",
        "import numpy as np\n",
        "import datetime as dt\n",
        "from pycaret.regression import *"
      ],
      "execution_count": null,
      "outputs": [
        {
          "output_type": "stream",
          "text": [
            "Collecting catboost\n",
            "\u001b[?25l  Downloading https://files.pythonhosted.org/packages/5a/41/24e14322b9986cf72a8763e0a0a69cc256cf963cf9502c8f0044a62c1ae8/catboost-0.26-cp37-none-manylinux1_x86_64.whl (69.2MB)\n",
            "\u001b[K     |████████████████████████████████| 69.2MB 41kB/s \n",
            "\u001b[?25hRequirement already satisfied: scipy in /usr/local/lib/python3.7/dist-packages (from catboost) (1.4.1)\n",
            "Requirement already satisfied: six in /usr/local/lib/python3.7/dist-packages (from catboost) (1.15.0)\n",
            "Requirement already satisfied: graphviz in /usr/local/lib/python3.7/dist-packages (from catboost) (0.10.1)\n",
            "Requirement already satisfied: numpy>=1.16.0 in /usr/local/lib/python3.7/dist-packages (from catboost) (1.19.5)\n",
            "Requirement already satisfied: matplotlib in /usr/local/lib/python3.7/dist-packages (from catboost) (3.2.2)\n",
            "Requirement already satisfied: plotly in /usr/local/lib/python3.7/dist-packages (from catboost) (4.4.1)\n",
            "Requirement already satisfied: pandas>=0.24.0 in /usr/local/lib/python3.7/dist-packages (from catboost) (1.1.5)\n",
            "Requirement already satisfied: pyparsing!=2.0.4,!=2.1.2,!=2.1.6,>=2.0.1 in /usr/local/lib/python3.7/dist-packages (from matplotlib->catboost) (2.4.7)\n",
            "Requirement already satisfied: kiwisolver>=1.0.1 in /usr/local/lib/python3.7/dist-packages (from matplotlib->catboost) (1.3.1)\n",
            "Requirement already satisfied: cycler>=0.10 in /usr/local/lib/python3.7/dist-packages (from matplotlib->catboost) (0.10.0)\n",
            "Requirement already satisfied: python-dateutil>=2.1 in /usr/local/lib/python3.7/dist-packages (from matplotlib->catboost) (2.8.1)\n",
            "Requirement already satisfied: retrying>=1.3.3 in /usr/local/lib/python3.7/dist-packages (from plotly->catboost) (1.3.3)\n",
            "Requirement already satisfied: pytz>=2017.2 in /usr/local/lib/python3.7/dist-packages (from pandas>=0.24.0->catboost) (2018.9)\n",
            "Installing collected packages: catboost\n",
            "Successfully installed catboost-0.26\n",
            "Collecting pycaret\n",
            "\u001b[?25l  Downloading https://files.pythonhosted.org/packages/bc/b6/9d620a23a038b3abdc249472ffd9be217f6b1877d2d952bfb3f653622a28/pycaret-2.3.2-py3-none-any.whl (263kB)\n",
            "\u001b[K     |████████████████████████████████| 266kB 4.1MB/s \n",
            "\u001b[?25hRequirement already satisfied: IPython in /usr/local/lib/python3.7/dist-packages (from pycaret) (5.5.0)\n",
            "Collecting mlflow\n",
            "\u001b[?25l  Downloading https://files.pythonhosted.org/packages/f3/c9/190a45e667b63edb76112deefa70629c2d9985603a85cb1968015fe0f327/mlflow-1.18.0-py3-none-any.whl (14.2MB)\n",
            "\u001b[K     |████████████████████████████████| 14.2MB 216kB/s \n",
            "\u001b[?25hCollecting pyod\n",
            "\u001b[?25l  Downloading https://files.pythonhosted.org/packages/71/8a/faa04a753bc32aeef00b9acf8e23d0b914b03844b89dcc6062b28e7ab1c5/pyod-0.9.0.tar.gz (105kB)\n",
            "\u001b[K     |████████████████████████████████| 112kB 44.2MB/s \n",
            "\u001b[?25hRequirement already satisfied: gensim<4.0.0 in /usr/local/lib/python3.7/dist-packages (from pycaret) (3.6.0)\n",
            "Collecting scikit-plot\n",
            "  Downloading https://files.pythonhosted.org/packages/7c/47/32520e259340c140a4ad27c1b97050dd3254fdc517b1d59974d47037510e/scikit_plot-0.3.7-py3-none-any.whl\n",
            "Requirement already satisfied: spacy<2.4.0 in /usr/local/lib/python3.7/dist-packages (from pycaret) (2.2.4)\n",
            "Collecting mlxtend>=0.17.0\n",
            "\u001b[?25l  Downloading https://files.pythonhosted.org/packages/86/30/781c0b962a70848db83339567ecab656638c62f05adb064cb33c0ae49244/mlxtend-0.18.0-py2.py3-none-any.whl (1.3MB)\n",
            "\u001b[K     |████████████████████████████████| 1.4MB 36.4MB/s \n",
            "\u001b[?25hRequirement already satisfied: scipy<=1.5.4 in /usr/local/lib/python3.7/dist-packages (from pycaret) (1.4.1)\n",
            "Requirement already satisfied: cufflinks>=0.17.0 in /usr/local/lib/python3.7/dist-packages (from pycaret) (0.17.3)\n",
            "Requirement already satisfied: plotly>=4.4.1 in /usr/local/lib/python3.7/dist-packages (from pycaret) (4.4.1)\n",
            "Collecting kmodes>=0.10.1\n",
            "  Downloading https://files.pythonhosted.org/packages/9b/34/fffc601aa4d44b94e945a7cc72f477e09dffa7dce888898f2ffd9f4e343e/kmodes-0.11.0-py2.py3-none-any.whl\n",
            "Collecting Boruta\n",
            "\u001b[?25l  Downloading https://files.pythonhosted.org/packages/b2/11/583f4eac99d802c79af9217e1eff56027742a69e6c866b295cce6a5a8fc2/Boruta-0.3-py3-none-any.whl (56kB)\n",
            "\u001b[K     |████████████████████████████████| 61kB 6.0MB/s \n",
            "\u001b[?25hCollecting scikit-learn==0.23.2\n",
            "\u001b[?25l  Downloading https://files.pythonhosted.org/packages/f4/cb/64623369f348e9bfb29ff898a57ac7c91ed4921f228e9726546614d63ccb/scikit_learn-0.23.2-cp37-cp37m-manylinux1_x86_64.whl (6.8MB)\n",
            "\u001b[K     |████████████████████████████████| 6.8MB 21.8MB/s \n",
            "\u001b[?25hRequirement already satisfied: seaborn in /usr/local/lib/python3.7/dist-packages (from pycaret) (0.11.1)\n",
            "Collecting yellowbrick>=1.0.1\n",
            "\u001b[?25l  Downloading https://files.pythonhosted.org/packages/3a/15/58feb940b6a2f52d3335cccf9e5d00704ec5ba62782da83f7e2abeca5e4b/yellowbrick-1.3.post1-py3-none-any.whl (271kB)\n",
            "\u001b[K     |████████████████████████████████| 276kB 36.8MB/s \n",
            "\u001b[?25hRequirement already satisfied: pandas in /usr/local/lib/python3.7/dist-packages (from pycaret) (1.1.5)\n",
            "Requirement already satisfied: numpy==1.19.5 in /usr/local/lib/python3.7/dist-packages (from pycaret) (1.19.5)\n",
            "Requirement already satisfied: matplotlib in /usr/local/lib/python3.7/dist-packages (from pycaret) (3.2.2)\n",
            "Collecting imbalanced-learn==0.7.0\n",
            "\u001b[?25l  Downloading https://files.pythonhosted.org/packages/c8/81/8db4d87b03b998fda7c6f835d807c9ae4e3b141f978597b8d7f31600be15/imbalanced_learn-0.7.0-py3-none-any.whl (167kB)\n",
            "\u001b[K     |████████████████████████████████| 174kB 38.3MB/s \n",
            "\u001b[?25hCollecting lightgbm>=2.3.1\n",
            "\u001b[?25l  Downloading https://files.pythonhosted.org/packages/18/b2/fff8370f48549ce223f929fe8cab4ee6bf285a41f86037d91312b48ed95b/lightgbm-3.2.1-py3-none-manylinux1_x86_64.whl (2.0MB)\n",
            "\u001b[K     |████████████████████████████████| 2.0MB 32.9MB/s \n",
            "\u001b[?25hRequirement already satisfied: ipywidgets in /usr/local/lib/python3.7/dist-packages (from pycaret) (7.6.3)\n",
            "Requirement already satisfied: nltk in /usr/local/lib/python3.7/dist-packages (from pycaret) (3.2.5)\n",
            "Requirement already satisfied: joblib in /usr/local/lib/python3.7/dist-packages (from pycaret) (1.0.1)\n",
            "Requirement already satisfied: textblob in /usr/local/lib/python3.7/dist-packages (from pycaret) (0.15.3)\n",
            "Collecting pyLDAvis\n",
            "\u001b[?25l  Downloading https://files.pythonhosted.org/packages/03/a5/15a0da6b0150b8b68610cc78af80364a80a9a4c8b6dd5ee549b8989d4b60/pyLDAvis-3.3.1.tar.gz (1.7MB)\n",
            "\u001b[K     |████████████████████████████████| 1.7MB 37.9MB/s \n",
            "\u001b[?25h  Installing build dependencies ... \u001b[?25l\u001b[?25hdone\n",
            "  Getting requirements to build wheel ... \u001b[?25l\u001b[?25hdone\n",
            "  Installing backend dependencies ... \u001b[?25l\u001b[?25hdone\n",
            "    Preparing wheel metadata ... \u001b[?25l\u001b[?25hdone\n",
            "Collecting umap-learn\n",
            "\u001b[?25l  Downloading https://files.pythonhosted.org/packages/75/69/85e7f950bb75792ad5d666d86c5f3e62eedbb942848e7e3126513af9999c/umap-learn-0.5.1.tar.gz (80kB)\n",
            "\u001b[K     |████████████████████████████████| 81kB 8.9MB/s \n",
            "\u001b[?25hRequirement already satisfied: wordcloud in /usr/local/lib/python3.7/dist-packages (from pycaret) (1.5.0)\n",
            "Collecting pandas-profiling>=2.8.0\n",
            "\u001b[?25l  Downloading https://files.pythonhosted.org/packages/3b/a3/34519d16e5ebe69bad30c5526deea2c3912634ced7f9b5e6e0bb9dbbd567/pandas_profiling-3.0.0-py2.py3-none-any.whl (248kB)\n",
            "\u001b[K     |████████████████████████████████| 256kB 36.3MB/s \n",
            "\u001b[?25hRequirement already satisfied: pexpect; sys_platform != \"win32\" in /usr/local/lib/python3.7/dist-packages (from IPython->pycaret) (4.8.0)\n",
            "Requirement already satisfied: pygments in /usr/local/lib/python3.7/dist-packages (from IPython->pycaret) (2.6.1)\n",
            "Requirement already satisfied: decorator in /usr/local/lib/python3.7/dist-packages (from IPython->pycaret) (4.4.2)\n",
            "Requirement already satisfied: traitlets>=4.2 in /usr/local/lib/python3.7/dist-packages (from IPython->pycaret) (5.0.5)\n",
            "Requirement already satisfied: setuptools>=18.5 in /usr/local/lib/python3.7/dist-packages (from IPython->pycaret) (57.0.0)\n",
            "Requirement already satisfied: simplegeneric>0.8 in /usr/local/lib/python3.7/dist-packages (from IPython->pycaret) (0.8.1)\n",
            "Requirement already satisfied: prompt-toolkit<2.0.0,>=1.0.4 in /usr/local/lib/python3.7/dist-packages (from IPython->pycaret) (1.0.18)\n",
            "Requirement already satisfied: pickleshare in /usr/local/lib/python3.7/dist-packages (from IPython->pycaret) (0.7.5)\n",
            "Collecting alembic<=1.4.1\n",
            "\u001b[?25l  Downloading https://files.pythonhosted.org/packages/e0/e9/359dbb77c35c419df0aedeb1d53e71e7e3f438ff64a8fdb048c907404de3/alembic-1.4.1.tar.gz (1.1MB)\n",
            "\u001b[K     |████████████████████████████████| 1.1MB 35.7MB/s \n",
            "\u001b[?25hCollecting pyyaml>=5.1\n",
            "\u001b[?25l  Downloading https://files.pythonhosted.org/packages/7a/a5/393c087efdc78091afa2af9f1378762f9821c9c1d7a22c5753fb5ac5f97a/PyYAML-5.4.1-cp37-cp37m-manylinux1_x86_64.whl (636kB)\n",
            "\u001b[K     |████████████████████████████████| 645kB 34.2MB/s \n",
            "\u001b[?25hCollecting docker>=4.0.0\n",
            "\u001b[?25l  Downloading https://files.pythonhosted.org/packages/b2/5a/f988909dfed18c1ac42ad8d9e611e6c5657e270aa6eb68559985dbb69c13/docker-5.0.0-py2.py3-none-any.whl (146kB)\n",
            "\u001b[K     |████████████████████████████████| 153kB 41.7MB/s \n",
            "\u001b[?25hRequirement already satisfied: entrypoints in /usr/local/lib/python3.7/dist-packages (from mlflow->pycaret) (0.3)\n",
            "Requirement already satisfied: protobuf>=3.7.0 in /usr/local/lib/python3.7/dist-packages (from mlflow->pycaret) (3.17.3)\n",
            "Requirement already satisfied: Flask in /usr/local/lib/python3.7/dist-packages (from mlflow->pycaret) (1.1.4)\n",
            "Requirement already satisfied: sqlalchemy in /usr/local/lib/python3.7/dist-packages (from mlflow->pycaret) (1.4.20)\n",
            "Collecting gitpython>=2.1.0\n",
            "\u001b[?25l  Downloading https://files.pythonhosted.org/packages/bc/91/b38c4fabb6e5092ab23492ded4f318ab7299b19263272b703478038c0fbc/GitPython-3.1.18-py3-none-any.whl (170kB)\n",
            "\u001b[K     |████████████████████████████████| 174kB 44.0MB/s \n",
            "\u001b[?25hRequirement already satisfied: click>=7.0 in /usr/local/lib/python3.7/dist-packages (from mlflow->pycaret) (7.1.2)\n",
            "Requirement already satisfied: pytz in /usr/local/lib/python3.7/dist-packages (from mlflow->pycaret) (2018.9)\n",
            "Collecting prometheus-flask-exporter\n",
            "  Downloading https://files.pythonhosted.org/packages/f3/c1/2cc385fadf18dc75fe24c18899269eda4dcc60221d61eff7da4a6cc5c01d/prometheus_flask_exporter-0.18.2.tar.gz\n",
            "Requirement already satisfied: cloudpickle in /usr/local/lib/python3.7/dist-packages (from mlflow->pycaret) (1.3.0)\n",
            "Collecting databricks-cli>=0.8.7\n",
            "\u001b[?25l  Downloading https://files.pythonhosted.org/packages/bc/af/631375abc29e59cedfa4467a5f7755503ba19898890751e1f2636ef02f92/databricks-cli-0.14.3.tar.gz (54kB)\n",
            "\u001b[K     |████████████████████████████████| 61kB 6.6MB/s \n",
            "\u001b[?25hRequirement already satisfied: requests>=2.17.3 in /usr/local/lib/python3.7/dist-packages (from mlflow->pycaret) (2.23.0)\n",
            "Requirement already satisfied: sqlparse>=0.3.1 in /usr/local/lib/python3.7/dist-packages (from mlflow->pycaret) (0.4.1)\n",
            "Requirement already satisfied: packaging in /usr/local/lib/python3.7/dist-packages (from mlflow->pycaret) (20.9)\n",
            "Collecting gunicorn; platform_system != \"Windows\"\n",
            "\u001b[?25l  Downloading https://files.pythonhosted.org/packages/e4/dd/5b190393e6066286773a67dfcc2f9492058e9b57c4867a95f1ba5caf0a83/gunicorn-20.1.0-py3-none-any.whl (79kB)\n",
            "\u001b[K     |████████████████████████████████| 81kB 7.0MB/s \n",
            "\u001b[?25hCollecting querystring-parser\n",
            "  Downloading https://files.pythonhosted.org/packages/88/6b/572b2590fd55114118bf08bde63c0a421dcc82d593700f3e2ad89908a8a9/querystring_parser-1.2.4-py2.py3-none-any.whl\n",
            "Requirement already satisfied: numba>=0.35 in /usr/local/lib/python3.7/dist-packages (from pyod->pycaret) (0.51.2)\n",
            "Requirement already satisfied: six in /usr/local/lib/python3.7/dist-packages (from pyod->pycaret) (1.15.0)\n",
            "Requirement already satisfied: statsmodels in /usr/local/lib/python3.7/dist-packages (from pyod->pycaret) (0.10.2)\n",
            "Requirement already satisfied: smart-open>=1.2.1 in /usr/local/lib/python3.7/dist-packages (from gensim<4.0.0->pycaret) (5.1.0)\n",
            "Requirement already satisfied: cymem<2.1.0,>=2.0.2 in /usr/local/lib/python3.7/dist-packages (from spacy<2.4.0->pycaret) (2.0.5)\n",
            "Requirement already satisfied: murmurhash<1.1.0,>=0.28.0 in /usr/local/lib/python3.7/dist-packages (from spacy<2.4.0->pycaret) (1.0.5)\n",
            "Requirement already satisfied: thinc==7.4.0 in /usr/local/lib/python3.7/dist-packages (from spacy<2.4.0->pycaret) (7.4.0)\n",
            "Requirement already satisfied: wasabi<1.1.0,>=0.4.0 in /usr/local/lib/python3.7/dist-packages (from spacy<2.4.0->pycaret) (0.8.2)\n",
            "Requirement already satisfied: preshed<3.1.0,>=3.0.2 in /usr/local/lib/python3.7/dist-packages (from spacy<2.4.0->pycaret) (3.0.5)\n",
            "Requirement already satisfied: tqdm<5.0.0,>=4.38.0 in /usr/local/lib/python3.7/dist-packages (from spacy<2.4.0->pycaret) (4.41.1)\n",
            "Requirement already satisfied: blis<0.5.0,>=0.4.0 in /usr/local/lib/python3.7/dist-packages (from spacy<2.4.0->pycaret) (0.4.1)\n",
            "Requirement already satisfied: srsly<1.1.0,>=1.0.2 in /usr/local/lib/python3.7/dist-packages (from spacy<2.4.0->pycaret) (1.0.5)\n",
            "Requirement already satisfied: plac<1.2.0,>=0.9.6 in /usr/local/lib/python3.7/dist-packages (from spacy<2.4.0->pycaret) (1.1.3)\n",
            "Requirement already satisfied: catalogue<1.1.0,>=0.0.7 in /usr/local/lib/python3.7/dist-packages (from spacy<2.4.0->pycaret) (1.0.0)\n",
            "Requirement already satisfied: colorlover>=0.2.1 in /usr/local/lib/python3.7/dist-packages (from cufflinks>=0.17.0->pycaret) (0.3.0)\n",
            "Requirement already satisfied: retrying>=1.3.3 in /usr/local/lib/python3.7/dist-packages (from plotly>=4.4.1->pycaret) (1.3.3)\n",
            "Collecting threadpoolctl>=2.0.0\n",
            "  Downloading https://files.pythonhosted.org/packages/c6/e8/c216b9b60cbba4642d3ca1bae7a53daa0c24426f662e0e3ce3dc7f6caeaa/threadpoolctl-2.2.0-py3-none-any.whl\n",
            "Requirement already satisfied: cycler>=0.10.0 in /usr/local/lib/python3.7/dist-packages (from yellowbrick>=1.0.1->pycaret) (0.10.0)\n",
            "Requirement already satisfied: python-dateutil>=2.7.3 in /usr/local/lib/python3.7/dist-packages (from pandas->pycaret) (2.8.1)\n",
            "Requirement already satisfied: pyparsing!=2.0.4,!=2.1.2,!=2.1.6,>=2.0.1 in /usr/local/lib/python3.7/dist-packages (from matplotlib->pycaret) (2.4.7)\n",
            "Requirement already satisfied: kiwisolver>=1.0.1 in /usr/local/lib/python3.7/dist-packages (from matplotlib->pycaret) (1.3.1)\n",
            "Requirement already satisfied: wheel in /usr/local/lib/python3.7/dist-packages (from lightgbm>=2.3.1->pycaret) (0.36.2)\n",
            "Requirement already satisfied: ipykernel>=4.5.1 in /usr/local/lib/python3.7/dist-packages (from ipywidgets->pycaret) (4.10.1)\n",
            "Requirement already satisfied: widgetsnbextension~=3.5.0 in /usr/local/lib/python3.7/dist-packages (from ipywidgets->pycaret) (3.5.1)\n",
            "Requirement already satisfied: jupyterlab-widgets>=1.0.0; python_version >= \"3.6\" in /usr/local/lib/python3.7/dist-packages (from ipywidgets->pycaret) (1.0.0)\n",
            "Requirement already satisfied: nbformat>=4.2.0 in /usr/local/lib/python3.7/dist-packages (from ipywidgets->pycaret) (5.1.3)\n",
            "Requirement already satisfied: future in /usr/local/lib/python3.7/dist-packages (from pyLDAvis->pycaret) (0.16.0)\n",
            "Requirement already satisfied: numexpr in /usr/local/lib/python3.7/dist-packages (from pyLDAvis->pycaret) (2.7.3)\n",
            "Requirement already satisfied: sklearn in /usr/local/lib/python3.7/dist-packages (from pyLDAvis->pycaret) (0.0)\n",
            "Collecting funcy\n",
            "  Downloading https://files.pythonhosted.org/packages/44/52/5cf7401456a461e4b481650dfb8279bc000f31a011d0918904f86e755947/funcy-1.16-py2.py3-none-any.whl\n",
            "Requirement already satisfied: jinja2 in /usr/local/lib/python3.7/dist-packages (from pyLDAvis->pycaret) (2.11.3)\n",
            "Collecting pynndescent>=0.5\n",
            "\u001b[?25l  Downloading https://files.pythonhosted.org/packages/b1/8d/44bf1c9e69dd9bf0697a3b9375b0729942525c0eee7b7859f563439d676a/pynndescent-0.5.4.tar.gz (1.1MB)\n",
            "\u001b[K     |████████████████████████████████| 1.1MB 38.4MB/s \n",
            "\u001b[?25hRequirement already satisfied: pillow in /usr/local/lib/python3.7/dist-packages (from wordcloud->pycaret) (7.1.2)\n",
            "Collecting pydantic>=1.8.1\n",
            "\u001b[?25l  Downloading https://files.pythonhosted.org/packages/9f/f2/2d5425efe57f6c4e06cbe5e587c1fd16929dcf0eb90bd4d3d1e1c97d1151/pydantic-1.8.2-cp37-cp37m-manylinux2014_x86_64.whl (10.1MB)\n",
            "\u001b[K     |████████████████████████████████| 10.1MB 31.4MB/s \n",
            "\u001b[?25hCollecting phik>=0.11.1\n",
            "\u001b[?25l  Downloading https://files.pythonhosted.org/packages/b7/ce/193e8ddf62d4be643b9b4b20e8e9c63b2f6a20f92778c0410c629f89bdaa/phik-0.11.2.tar.gz (1.1MB)\n",
            "\u001b[K     |████████████████████████████████| 1.1MB 32.4MB/s \n",
            "\u001b[?25hRequirement already satisfied: missingno>=0.4.2 in /usr/local/lib/python3.7/dist-packages (from pandas-profiling>=2.8.0->pycaret) (0.4.2)\n",
            "Collecting htmlmin>=0.1.12\n",
            "  Downloading https://files.pythonhosted.org/packages/b3/e7/fcd59e12169de19f0131ff2812077f964c6b960e7c09804d30a7bf2ab461/htmlmin-0.1.12.tar.gz\n",
            "Collecting tangled-up-in-unicode==0.1.0\n",
            "\u001b[?25l  Downloading https://files.pythonhosted.org/packages/93/3e/cb354fb2097fcf2fd5b5a342b10ae2a6e9363ba435b64e3e00c414064bc7/tangled_up_in_unicode-0.1.0-py3-none-any.whl (3.1MB)\n",
            "\u001b[K     |████████████████████████████████| 3.1MB 26.6MB/s \n",
            "\u001b[?25hCollecting visions[type_image_path]==0.7.1\n",
            "\u001b[?25l  Downloading https://files.pythonhosted.org/packages/80/96/01e4ba22cef96ae5035dbcf0451c2f4f859f8f17393b98406b23f0034279/visions-0.7.1-py3-none-any.whl (102kB)\n",
            "\u001b[K     |████████████████████████████████| 112kB 38.6MB/s \n",
            "\u001b[?25hRequirement already satisfied: ptyprocess>=0.5 in /usr/local/lib/python3.7/dist-packages (from pexpect; sys_platform != \"win32\"->IPython->pycaret) (0.7.0)\n",
            "Requirement already satisfied: ipython-genutils in /usr/local/lib/python3.7/dist-packages (from traitlets>=4.2->IPython->pycaret) (0.2.0)\n",
            "Requirement already satisfied: wcwidth in /usr/local/lib/python3.7/dist-packages (from prompt-toolkit<2.0.0,>=1.0.4->IPython->pycaret) (0.2.5)\n",
            "Collecting Mako\n",
            "\u001b[?25l  Downloading https://files.pythonhosted.org/packages/f3/54/dbc07fbb20865d3b78fdb7cf7fa713e2cba4f87f71100074ef2dc9f9d1f7/Mako-1.1.4-py2.py3-none-any.whl (75kB)\n",
            "\u001b[K     |████████████████████████████████| 81kB 8.4MB/s \n",
            "\u001b[?25hCollecting python-editor>=0.3\n",
            "  Downloading https://files.pythonhosted.org/packages/c6/d3/201fc3abe391bbae6606e6f1d598c15d367033332bd54352b12f35513717/python_editor-1.0.4-py3-none-any.whl\n",
            "Collecting websocket-client>=0.32.0\n",
            "\u001b[?25l  Downloading https://files.pythonhosted.org/packages/ca/5f/3c211d168b2e9f9342cfb53bcfc26aab0eac63b998015e7af7bcae66119d/websocket_client-1.1.0-py2.py3-none-any.whl (68kB)\n",
            "\u001b[K     |████████████████████████████████| 71kB 7.4MB/s \n",
            "\u001b[?25hRequirement already satisfied: itsdangerous<2.0,>=0.24 in /usr/local/lib/python3.7/dist-packages (from Flask->mlflow->pycaret) (1.1.0)\n",
            "Requirement already satisfied: Werkzeug<2.0,>=0.15 in /usr/local/lib/python3.7/dist-packages (from Flask->mlflow->pycaret) (1.0.1)\n",
            "Requirement already satisfied: greenlet!=0.4.17; python_version >= \"3\" in /usr/local/lib/python3.7/dist-packages (from sqlalchemy->mlflow->pycaret) (1.1.0)\n",
            "Requirement already satisfied: importlib-metadata; python_version < \"3.8\" in /usr/local/lib/python3.7/dist-packages (from sqlalchemy->mlflow->pycaret) (4.6.0)\n",
            "Collecting gitdb<5,>=4.0.1\n",
            "\u001b[?25l  Downloading https://files.pythonhosted.org/packages/ea/e8/f414d1a4f0bbc668ed441f74f44c116d9816833a48bf81d22b697090dba8/gitdb-4.0.7-py3-none-any.whl (63kB)\n",
            "\u001b[K     |████████████████████████████████| 71kB 7.0MB/s \n",
            "\u001b[?25hRequirement already satisfied: typing-extensions>=3.7.4.0; python_version < \"3.8\" in /usr/local/lib/python3.7/dist-packages (from gitpython>=2.1.0->mlflow->pycaret) (3.7.4.3)\n",
            "Requirement already satisfied: prometheus_client in /usr/local/lib/python3.7/dist-packages (from prometheus-flask-exporter->mlflow->pycaret) (0.11.0)\n",
            "Requirement already satisfied: tabulate>=0.7.7 in /usr/local/lib/python3.7/dist-packages (from databricks-cli>=0.8.7->mlflow->pycaret) (0.8.9)\n",
            "Requirement already satisfied: urllib3!=1.25.0,!=1.25.1,<1.26,>=1.21.1 in /usr/local/lib/python3.7/dist-packages (from requests>=2.17.3->mlflow->pycaret) (1.24.3)\n",
            "Requirement already satisfied: certifi>=2017.4.17 in /usr/local/lib/python3.7/dist-packages (from requests>=2.17.3->mlflow->pycaret) (2021.5.30)\n",
            "Requirement already satisfied: idna<3,>=2.5 in /usr/local/lib/python3.7/dist-packages (from requests>=2.17.3->mlflow->pycaret) (2.10)\n",
            "Requirement already satisfied: chardet<4,>=3.0.2 in /usr/local/lib/python3.7/dist-packages (from requests>=2.17.3->mlflow->pycaret) (3.0.4)\n",
            "Requirement already satisfied: llvmlite<0.35,>=0.34.0.dev0 in /usr/local/lib/python3.7/dist-packages (from numba>=0.35->pyod->pycaret) (0.34.0)\n",
            "Requirement already satisfied: patsy>=0.4.0 in /usr/local/lib/python3.7/dist-packages (from statsmodels->pyod->pycaret) (0.5.1)\n",
            "Requirement already satisfied: tornado>=4.0 in /usr/local/lib/python3.7/dist-packages (from ipykernel>=4.5.1->ipywidgets->pycaret) (5.1.1)\n",
            "Requirement already satisfied: jupyter-client in /usr/local/lib/python3.7/dist-packages (from ipykernel>=4.5.1->ipywidgets->pycaret) (5.3.5)\n",
            "Requirement already satisfied: notebook>=4.4.1 in /usr/local/lib/python3.7/dist-packages (from widgetsnbextension~=3.5.0->ipywidgets->pycaret) (5.3.1)\n",
            "Requirement already satisfied: jupyter-core in /usr/local/lib/python3.7/dist-packages (from nbformat>=4.2.0->ipywidgets->pycaret) (4.7.1)\n",
            "Requirement already satisfied: jsonschema!=2.5.0,>=2.4 in /usr/local/lib/python3.7/dist-packages (from nbformat>=4.2.0->ipywidgets->pycaret) (2.6.0)\n",
            "Requirement already satisfied: MarkupSafe>=0.23 in /usr/local/lib/python3.7/dist-packages (from jinja2->pyLDAvis->pycaret) (2.0.1)\n",
            "Collecting multimethod==1.4\n",
            "  Downloading https://files.pythonhosted.org/packages/7a/d0/ce5ad0392aa12645b7ad91a5983d6b625b704b021d9cd48c587630c1a9ac/multimethod-1.4-py2.py3-none-any.whl\n",
            "Requirement already satisfied: bottleneck in /usr/local/lib/python3.7/dist-packages (from visions[type_image_path]==0.7.1->pandas-profiling>=2.8.0->pycaret) (1.3.2)\n",
            "Requirement already satisfied: attrs>=19.3.0 in /usr/local/lib/python3.7/dist-packages (from visions[type_image_path]==0.7.1->pandas-profiling>=2.8.0->pycaret) (21.2.0)\n",
            "Requirement already satisfied: networkx>=2.4 in /usr/local/lib/python3.7/dist-packages (from visions[type_image_path]==0.7.1->pandas-profiling>=2.8.0->pycaret) (2.5.1)\n",
            "Collecting imagehash; extra == \"type_image_path\"\n",
            "\u001b[?25l  Downloading https://files.pythonhosted.org/packages/8e/18/9dbb772b5ef73a3069c66bb5bf29b9fb4dd57af0d5790c781c3f559bcca6/ImageHash-4.2.0-py2.py3-none-any.whl (295kB)\n",
            "\u001b[K     |████████████████████████████████| 296kB 17.8MB/s \n",
            "\u001b[?25hRequirement already satisfied: zipp>=0.5 in /usr/local/lib/python3.7/dist-packages (from importlib-metadata; python_version < \"3.8\"->sqlalchemy->mlflow->pycaret) (3.4.1)\n",
            "Collecting smmap<5,>=3.0.1\n",
            "  Downloading https://files.pythonhosted.org/packages/68/ee/d540eb5e5996eb81c26ceffac6ee49041d473bc5125f2aa995cf51ec1cf1/smmap-4.0.0-py2.py3-none-any.whl\n",
            "Requirement already satisfied: pyzmq>=13 in /usr/local/lib/python3.7/dist-packages (from jupyter-client->ipykernel>=4.5.1->ipywidgets->pycaret) (22.1.0)\n",
            "Requirement already satisfied: Send2Trash in /usr/local/lib/python3.7/dist-packages (from notebook>=4.4.1->widgetsnbextension~=3.5.0->ipywidgets->pycaret) (1.7.1)\n",
            "Requirement already satisfied: terminado>=0.8.1 in /usr/local/lib/python3.7/dist-packages (from notebook>=4.4.1->widgetsnbextension~=3.5.0->ipywidgets->pycaret) (0.10.1)\n",
            "Requirement already satisfied: nbconvert in /usr/local/lib/python3.7/dist-packages (from notebook>=4.4.1->widgetsnbextension~=3.5.0->ipywidgets->pycaret) (5.6.1)\n",
            "Requirement already satisfied: PyWavelets in /usr/local/lib/python3.7/dist-packages (from imagehash; extra == \"type_image_path\"->visions[type_image_path]==0.7.1->pandas-profiling>=2.8.0->pycaret) (1.1.1)\n",
            "Requirement already satisfied: defusedxml in /usr/local/lib/python3.7/dist-packages (from nbconvert->notebook>=4.4.1->widgetsnbextension~=3.5.0->ipywidgets->pycaret) (0.7.1)\n",
            "Requirement already satisfied: testpath in /usr/local/lib/python3.7/dist-packages (from nbconvert->notebook>=4.4.1->widgetsnbextension~=3.5.0->ipywidgets->pycaret) (0.5.0)\n",
            "Requirement already satisfied: pandocfilters>=1.4.1 in /usr/local/lib/python3.7/dist-packages (from nbconvert->notebook>=4.4.1->widgetsnbextension~=3.5.0->ipywidgets->pycaret) (1.4.3)\n",
            "Requirement already satisfied: bleach in /usr/local/lib/python3.7/dist-packages (from nbconvert->notebook>=4.4.1->widgetsnbextension~=3.5.0->ipywidgets->pycaret) (3.3.0)\n",
            "Requirement already satisfied: mistune<2,>=0.8.1 in /usr/local/lib/python3.7/dist-packages (from nbconvert->notebook>=4.4.1->widgetsnbextension~=3.5.0->ipywidgets->pycaret) (0.8.4)\n",
            "Requirement already satisfied: webencodings in /usr/local/lib/python3.7/dist-packages (from bleach->nbconvert->notebook>=4.4.1->widgetsnbextension~=3.5.0->ipywidgets->pycaret) (0.5.1)\n",
            "Building wheels for collected packages: pyLDAvis\n",
            "  Building wheel for pyLDAvis (PEP 517) ... \u001b[?25l\u001b[?25hdone\n",
            "  Created wheel for pyLDAvis: filename=pyLDAvis-3.3.1-cp37-none-any.whl size=136897 sha256=36d39f2c11220066ffe23373f8672892b5e06994508c4e0dc603e6bd262f6386\n",
            "  Stored in directory: /root/.cache/pip/wheels/a0/9c/fc/c6e00689d35c82cf96a8adc70edfe7ba7904374fdac3240ac2\n",
            "Successfully built pyLDAvis\n",
            "Building wheels for collected packages: pyod, umap-learn, alembic, prometheus-flask-exporter, databricks-cli, pynndescent, phik, htmlmin\n",
            "  Building wheel for pyod (setup.py) ... \u001b[?25l\u001b[?25hdone\n",
            "  Created wheel for pyod: filename=pyod-0.9.0-cp37-none-any.whl size=122561 sha256=86b6b2a5ebc8a6e2b0032ce5eaa41c8fbd6ae7566cb15dcd0ce28585a2afa3c6\n",
            "  Stored in directory: /root/.cache/pip/wheels/db/15/54/88660e3bfac7c88e81b7d719c66ee876e26b6abc46376f78b3\n",
            "  Building wheel for umap-learn (setup.py) ... \u001b[?25l\u001b[?25hdone\n",
            "  Created wheel for umap-learn: filename=umap_learn-0.5.1-cp37-none-any.whl size=76569 sha256=6fac38f08cd0c23d3d089ab9ce22544fa77ad45f60bc2a385d6743e4088d627e\n",
            "  Stored in directory: /root/.cache/pip/wheels/ad/df/d5/a3691296ff779f25cd1cf415a3af954b987fb53111e3392cf4\n",
            "  Building wheel for alembic (setup.py) ... \u001b[?25l\u001b[?25hdone\n",
            "  Created wheel for alembic: filename=alembic-1.4.1-py2.py3-none-any.whl size=158170 sha256=3f55120b630e68092b1538e3da3ca6dd1015f45a865c24a9b84e53134edfc102\n",
            "  Stored in directory: /root/.cache/pip/wheels/84/07/f7/12f7370ca47a66030c2edeedcc23dec26ea0ac22dcb4c4a0f3\n",
            "  Building wheel for prometheus-flask-exporter (setup.py) ... \u001b[?25l\u001b[?25hdone\n",
            "  Created wheel for prometheus-flask-exporter: filename=prometheus_flask_exporter-0.18.2-cp37-none-any.whl size=17415 sha256=574d8d3f22697560e364b54c976dafcfd695f7c167adc0effdcc4a7d5be6b2fa\n",
            "  Stored in directory: /root/.cache/pip/wheels/c0/e2/9c/4f3ee23964802940f81a8b476d0b9be6fb6348cb12df2e2226\n",
            "  Building wheel for databricks-cli (setup.py) ... \u001b[?25l\u001b[?25hdone\n",
            "  Created wheel for databricks-cli: filename=databricks_cli-0.14.3-cp37-none-any.whl size=100560 sha256=9e5ed89d8139d3b93985d60e80adb8e4f5134f9d4596813a1e124cf11ff9eedf\n",
            "  Stored in directory: /root/.cache/pip/wheels/5b/24/f3/34d8e3964dac4ba849d844273c49a679111b00d5799ebb934a\n",
            "  Building wheel for pynndescent (setup.py) ... \u001b[?25l\u001b[?25hdone\n",
            "  Created wheel for pynndescent: filename=pynndescent-0.5.4-cp37-none-any.whl size=52374 sha256=4d9c52032b4b07cf5d32d5c86c63003592d2dc6690504a6c051a3562fda98eef\n",
            "  Stored in directory: /root/.cache/pip/wheels/42/4b/8c/f6f119c67cf6583bb192431fa8f7278cf95e5b943055077d94\n",
            "  Building wheel for phik (setup.py) ... \u001b[?25l\u001b[?25hdone\n",
            "  Created wheel for phik: filename=phik-0.11.2-cp37-none-any.whl size=1107437 sha256=7e94fb1dde0c5929f8adda7f97e9c3ef9b5059b943b7ada2275a1b354f16ca05\n",
            "  Stored in directory: /root/.cache/pip/wheels/c0/a3/b0/f27b1cfe32ea131a3715169132ff6d85653789e80e966c3bf6\n",
            "  Building wheel for htmlmin (setup.py) ... \u001b[?25l\u001b[?25hdone\n",
            "  Created wheel for htmlmin: filename=htmlmin-0.1.12-cp37-none-any.whl size=27099 sha256=455c8dd889aeae4832c30307b9611af5bd59e78522d948b0fa311de769b3e40b\n",
            "  Stored in directory: /root/.cache/pip/wheels/43/07/ac/7c5a9d708d65247ac1f94066cf1db075540b85716c30255459\n",
            "Successfully built pyod umap-learn alembic prometheus-flask-exporter databricks-cli pynndescent phik htmlmin\n",
            "\u001b[31mERROR: pandas-profiling 3.0.0 has requirement requests>=2.24.0, but you'll have requests 2.23.0 which is incompatible.\u001b[0m\n",
            "\u001b[31mERROR: pandas-profiling 3.0.0 has requirement tqdm>=4.48.2, but you'll have tqdm 4.41.1 which is incompatible.\u001b[0m\n",
            "\u001b[31mERROR: pyldavis 3.3.1 has requirement numpy>=1.20.0, but you'll have numpy 1.19.5 which is incompatible.\u001b[0m\n",
            "\u001b[31mERROR: pyldavis 3.3.1 has requirement pandas>=1.2.0, but you'll have pandas 1.1.5 which is incompatible.\u001b[0m\n",
            "\u001b[31mERROR: phik 0.11.2 has requirement scipy>=1.5.2, but you'll have scipy 1.4.1 which is incompatible.\u001b[0m\n",
            "Installing collected packages: Mako, python-editor, alembic, pyyaml, websocket-client, docker, smmap, gitdb, gitpython, prometheus-flask-exporter, databricks-cli, gunicorn, querystring-parser, mlflow, threadpoolctl, scikit-learn, pyod, scikit-plot, mlxtend, kmodes, Boruta, yellowbrick, imbalanced-learn, lightgbm, funcy, pyLDAvis, pynndescent, umap-learn, pydantic, phik, htmlmin, tangled-up-in-unicode, multimethod, imagehash, visions, pandas-profiling, pycaret\n",
            "  Found existing installation: PyYAML 3.13\n",
            "    Uninstalling PyYAML-3.13:\n",
            "      Successfully uninstalled PyYAML-3.13\n",
            "  Found existing installation: scikit-learn 0.22.2.post1\n",
            "    Uninstalling scikit-learn-0.22.2.post1:\n",
            "      Successfully uninstalled scikit-learn-0.22.2.post1\n",
            "  Found existing installation: mlxtend 0.14.0\n",
            "    Uninstalling mlxtend-0.14.0:\n",
            "      Successfully uninstalled mlxtend-0.14.0\n",
            "  Found existing installation: yellowbrick 0.9.1\n",
            "    Uninstalling yellowbrick-0.9.1:\n",
            "      Successfully uninstalled yellowbrick-0.9.1\n",
            "  Found existing installation: imbalanced-learn 0.4.3\n",
            "    Uninstalling imbalanced-learn-0.4.3:\n",
            "      Successfully uninstalled imbalanced-learn-0.4.3\n",
            "  Found existing installation: lightgbm 2.2.3\n",
            "    Uninstalling lightgbm-2.2.3:\n",
            "      Successfully uninstalled lightgbm-2.2.3\n"
          ],
          "name": "stdout"
        }
      ]
    },
    {
      "cell_type": "markdown",
      "metadata": {
        "id": "_QOIAVb14BKh"
      },
      "source": [
        "# **데이터 로드 및 피쳐 생성**"
      ]
    },
    {
      "cell_type": "code",
      "metadata": {
        "id": "v8OIZkiwFt7t"
      },
      "source": [
        "train = pd.read_csv('/content/drive/MyDrive/Colab Notebooks/dacon_contest1/data/train.csv')\n",
        "test = pd.read_csv('/content/drive/MyDrive/Colab Notebooks/dacon_contest1/data/test.csv')"
      ],
      "execution_count": null,
      "outputs": []
    },
    {
      "cell_type": "code",
      "metadata": {
        "id": "e7Dxwvtn4Xrh"
      },
      "source": [
        "# 정수형으로 타입 변경\n",
        "train[['현본사소속재택근무자수', '중식계', '석식계']] = train[['현본사소속재택근무자수', '중식계', '석식계']].astype('int')\n",
        "test['현본사소속재택근무자수'] = test['현본사소속재택근무자수'].astype('int')\n",
        "\n",
        "print('done')"
      ],
      "execution_count": null,
      "outputs": []
    },
    {
      "cell_type": "code",
      "metadata": {
        "id": "HvzHln-C5PV9"
      },
      "source": [
        "# datetime으로 변경\n",
        "train['일자'] = pd.to_datetime(train['일자'])\n",
        "test['일자'] = pd.to_datetime(test['일자'])\n",
        "\n",
        "print('done')"
      ],
      "execution_count": null,
      "outputs": []
    },
    {
      "cell_type": "code",
      "metadata": {
        "id": "hcB5Yzh6apyA"
      },
      "source": [
        "# datetime 쪼개기\n",
        "train['년'] = train['일자'].dt.year\n",
        "train['월'] = train['일자'].dt.month\n",
        "train['일'] = train['일자'].dt.day\n",
        "train['주'] = train['일자'].dt.week\n",
        "train['요일'] = train['일자'].dt.weekday\n",
        "\n",
        "print('done')"
      ],
      "execution_count": null,
      "outputs": []
    },
    {
      "cell_type": "code",
      "metadata": {
        "id": "WEPzUkYua-bd"
      },
      "source": [
        "# 데이터 간 연산으로 새로운 column 생성\n",
        "train['출근'] = train['본사정원수'] - (train['본사휴가자수'] + train['본사출장자수'] + train['현본사소속재택근무자수'])\n",
        "train['휴가비율'] = train['본사휴가자수'] / train['본사정원수']\n",
        "train['출장비율'] = train['본사출장자수'] / train['본사정원수']\n",
        "train['야근비율'] = train['본사시간외근무명령서승인건수'] / train['출근']\n",
        "train['재택비율'] = train['현본사소속재택근무자수'] / train['본사정원수']\n",
        "\n",
        "print('done')"
      ],
      "execution_count": null,
      "outputs": []
    },
    {
      "cell_type": "code",
      "metadata": {
        "id": "d9blp6hGbfiR"
      },
      "source": [
        "# test dataset에 대해서도 똑같이 처리\n",
        "test['년'] = test['일자'].dt.year\n",
        "test['월'] = test['일자'].dt.month\n",
        "test['일'] = test['일자'].dt.day\n",
        "test['주'] = test['일자'].dt.week\n",
        "test['요일'] = test['일자'].dt.weekday\n",
        "\n",
        "print('done')"
      ],
      "execution_count": null,
      "outputs": []
    },
    {
      "cell_type": "code",
      "metadata": {
        "id": "ACtMeP0bcOVt"
      },
      "source": [
        "# test dataset에 대해서도 똑같이 처리\n",
        "test['출근'] = test['본사정원수'] - (test['본사휴가자수'] + test['본사출장자수'] + test['현본사소속재택근무자수'])\n",
        "test['휴가비율'] = test['본사휴가자수'] / test['본사정원수'] \n",
        "test['출장비율'] = test['본사출장자수'] / test['본사정원수'] \n",
        "test['야근비율'] = test['본사시간외근무명령서승인건수'] / test['출근']\n",
        "test['재택비율'] = test['현본사소속재택근무자수'] / test['본사정원수']\n",
        "\n",
        "print('done')"
      ],
      "execution_count": null,
      "outputs": []
    },
    {
      "cell_type": "markdown",
      "metadata": {
        "id": "TG-miEl3dTlV"
      },
      "source": [
        "# **변수 간 관계 시각화**"
      ]
    },
    {
      "cell_type": "markdown",
      "metadata": {
        "id": "WIEbfhnidX0o"
      },
      "source": [
        "**일-석식계 간 관계**"
      ]
    },
    {
      "cell_type": "code",
      "metadata": {
        "id": "eoSa2NmNcuEg"
      },
      "source": [
        "import matplotlib.pyplot as plt\n",
        "import seaborn as sns\n",
        "plt.figure(figsize = (12, 6))\n",
        "sns.boxplot(train['일'], train['석식계'])"
      ],
      "execution_count": null,
      "outputs": []
    },
    {
      "cell_type": "markdown",
      "metadata": {
        "id": "H84Ssk4veYcY"
      },
      "source": [
        "**주-석식계 간 관계**"
      ]
    },
    {
      "cell_type": "code",
      "metadata": {
        "colab": {
          "background_save": true
        },
        "id": "8YuAmV7edj0r",
        "outputId": "f50b8463-790c-410b-f85c-412b3a1dc9bd"
      },
      "source": [
        "plt.figure(figsize = (20, 6))\n",
        "sns.boxplot(train['주'], train['석식계'])"
      ],
      "execution_count": null,
      "outputs": [
        {
          "output_type": "execute_result",
          "data": {
            "text/plain": [
              "<matplotlib.axes._subplots.AxesSubplot at 0x7f48e4474bd0>"
            ]
          },
          "metadata": {
            "tags": []
          },
          "execution_count": 0
        },
        {
          "output_type": "display_data",
          "data": {
            "image/png": "[encoded data removed]",
            "text/plain": [
              "<Figure size 1440x432 with 1 Axes>"
            ]
          },
          "metadata": {
            "tags": []
          }
        }
      ]
    },
    {
      "cell_type": "markdown",
      "metadata": {
        "id": "8Wk3hFaZepYV"
      },
      "source": [
        "**월-석식계 간 관계**"
      ]
    },
    {
      "cell_type": "code",
      "metadata": {
        "colab": {
          "background_save": true
        },
        "id": "Ct6OeaAHeh9p",
        "outputId": "246feee5-501d-4606-9e8f-363eaa6faa3a"
      },
      "source": [
        "plt.figure(figsize = (12, 6))\n",
        "sns.boxplot(train['월'], train['석식계'])"
      ],
      "execution_count": null,
      "outputs": [
        {
          "output_type": "execute_result",
          "data": {
            "text/plain": [
              "<matplotlib.axes._subplots.AxesSubplot at 0x7f48e2ed6f90>"
            ]
          },
          "metadata": {
            "tags": []
          },
          "execution_count": 0
        },
        {
          "output_type": "display_data",
          "data": {
            "image/png": "[encoded data removed]",
            "text/plain": [
              "<Figure size 864x432 with 1 Axes>"
            ]
          },
          "metadata": {
            "tags": []
          }
        }
      ]
    },
    {
      "cell_type": "markdown",
      "metadata": {
        "id": "dQ1DpGVVezWq"
      },
      "source": [
        "**년도-석식계 간 관계**"
      ]
    },
    {
      "cell_type": "code",
      "metadata": {
        "colab": {
          "background_save": true
        },
        "id": "9otjFM2EewDH",
        "outputId": "e71c9676-89b6-4889-9921-d71495cccf4f"
      },
      "source": [
        "plt.figure(figsize = (12, 6))\n",
        "sns.boxplot(train['년'], train['석식계'])"
      ],
      "execution_count": null,
      "outputs": [
        {
          "output_type": "execute_result",
          "data": {
            "text/plain": [
              "<matplotlib.axes._subplots.AxesSubplot at 0x7f48e3068bd0>"
            ]
          },
          "metadata": {
            "tags": []
          },
          "execution_count": 0
        },
        {
          "output_type": "display_data",
          "data": {
            "image/png": "[encoded data removed]",
            "text/plain": [
              "<Figure size 864x432 with 1 Axes>"
            ]
          },
          "metadata": {
            "tags": []
          }
        }
      ]
    },
    {
      "cell_type": "markdown",
      "metadata": {
        "id": "pk6XNgbVkqHZ"
      },
      "source": [
        "**야근인원수-석식계 간 관계**   \n",
        "본사시간외근무명령서승인건수=**야근**"
      ]
    },
    {
      "cell_type": "code",
      "metadata": {
        "colab": {
          "background_save": true
        },
        "id": "WJodUPBre7KM",
        "outputId": "1687cc62-dd24-4e14-bd46-e4c55a55ed67"
      },
      "source": [
        "plt.figure(figsize=(12,6))\n",
        "sns.relplot(train['석식계'], train['본사시간외근무명령서승인건수'])"
      ],
      "execution_count": null,
      "outputs": [
        {
          "output_type": "execute_result",
          "data": {
            "text/plain": [
              "<seaborn.axisgrid.FacetGrid at 0x7f48e2cdb050>"
            ]
          },
          "metadata": {
            "tags": []
          },
          "execution_count": 0
        },
        {
          "output_type": "display_data",
          "data": {
            "text/plain": [
              "<Figure size 864x432 with 0 Axes>"
            ]
          },
          "metadata": {
            "tags": []
          }
        },
        {
          "output_type": "display_data",
          "data": {
            "image/png": "[encoded data removed]",
            "text/plain": [
              "<Figure size 360x360 with 1 Axes>"
            ]
          },
          "metadata": {
            "tags": []
          }
        }
      ]
    },
    {
      "cell_type": "markdown",
      "metadata": {
        "id": "4bX28d8VmV8K"
      },
      "source": [
        "# **NLP**"
      ]
    },
    {
      "cell_type": "markdown",
      "metadata": {
        "id": "oNMNNG8BmZjY"
      },
      "source": [
        "- 메뉴의 종류를 원-핫 인코딩으로 분류시켜 학습하니 성능 상승\n",
        "- '주' 및 '월' 데이터를 추가해서 연초 연말 월초 월말 알아서 학습하도록 유도"
      ]
    },
    {
      "cell_type": "markdown",
      "metadata": {
        "id": "etndCeDIm0Ua"
      },
      "source": [
        "**메뉴 임베딩**"
      ]
    },
    {
      "cell_type": "code",
      "metadata": {
        "colab": {
          "background_save": true
        },
        "id": "UEVks--Ek2KS"
      },
      "source": [
        "# 중식메뉴, 석식메뉴 split\n",
        "def get_food_embedding(x):\n",
        "    x_ = []\n",
        "    x = x.split(' ')\n",
        "    for i in x:\n",
        "        if '(' in i and ')' in i:\n",
        "            continue\n",
        "        if '/' in i:\n",
        "            x_.extend(i.split('/')) # 리스트 내 값을 풀어서 할당\n",
        "        else:\n",
        "            x_.append(i) # 값 그대로 할당\n",
        "    \n",
        "    x_ = list(set(x_)) # 중복 제거 후 다시 리스트로\n",
        "    x_.remove('') # 비어있는 값 제거\n",
        "    return x_\n",
        "\n",
        "train['중식메뉴_split'] = train['중식메뉴'].apply(lambda x: get_food_embedding(x))\n",
        "train['석식메뉴_split'] = train['석식메뉴'].apply(lambda x: get_food_embedding(x))    "
      ],
      "execution_count": null,
      "outputs": []
    },
    {
      "cell_type": "code",
      "metadata": {
        "colab": {
          "background_save": true
        },
        "id": "Uyrk58KIptA8",
        "outputId": "3b05b650-03d9-4002-e13a-58341d7ab882"
      },
      "source": [
        "train.head()"
      ],
      "execution_count": null,
      "outputs": [
        {
          "output_type": "execute_result",
          "data": {
            "text/html": [
              "<div>\n",
              "<style scoped>\n",
              "    .dataframe tbody tr th:only-of-type {\n",
              "        vertical-align: middle;\n",
              "    }\n",
              "\n",
              "    .dataframe tbody tr th {\n",
              "        vertical-align: top;\n",
              "    }\n",
              "\n",
              "    .dataframe thead th {\n",
              "        text-align: right;\n",
              "    }\n",
              "</style>\n",
              "<table border=\"1\" class=\"dataframe\">\n",
              "  <thead>\n",
              "    <tr style=\"text-align: right;\">\n",
              "      <th></th>\n",
              "      <th>일자</th>\n",
              "      <th>요일</th>\n",
              "      <th>본사정원수</th>\n",
              "      <th>본사휴가자수</th>\n",
              "      <th>본사출장자수</th>\n",
              "      <th>본사시간외근무명령서승인건수</th>\n",
              "      <th>현본사소속재택근무자수</th>\n",
              "      <th>조식메뉴</th>\n",
              "      <th>중식메뉴</th>\n",
              "      <th>석식메뉴</th>\n",
              "      <th>중식계</th>\n",
              "      <th>석식계</th>\n",
              "      <th>년</th>\n",
              "      <th>월</th>\n",
              "      <th>일</th>\n",
              "      <th>주</th>\n",
              "      <th>출근</th>\n",
              "      <th>휴가비율</th>\n",
              "      <th>출장비율</th>\n",
              "      <th>야근비율</th>\n",
              "      <th>재택비율</th>\n",
              "      <th>중식메뉴_split</th>\n",
              "      <th>석식메뉴_split</th>\n",
              "    </tr>\n",
              "  </thead>\n",
              "  <tbody>\n",
              "    <tr>\n",
              "      <th>0</th>\n",
              "      <td>2016-02-01</td>\n",
              "      <td>0</td>\n",
              "      <td>2601</td>\n",
              "      <td>50</td>\n",
              "      <td>150</td>\n",
              "      <td>238</td>\n",
              "      <td>0</td>\n",
              "      <td>모닝롤/찐빵  우유/두유/주스 계란후라이  호두죽/쌀밥 (쌀:국내산) 된장찌개  쥐...</td>\n",
              "      <td>쌀밥/잡곡밥 (쌀,현미흑미:국내산) 오징어찌개  쇠불고기 (쇠고기:호주산) 계란찜 ...</td>\n",
              "      <td>쌀밥/잡곡밥 (쌀,현미흑미:국내산) 육개장  자반고등어구이  두부조림  건파래무침 ...</td>\n",
              "      <td>1039</td>\n",
              "      <td>331</td>\n",
              "      <td>2016</td>\n",
              "      <td>2</td>\n",
              "      <td>1</td>\n",
              "      <td>5</td>\n",
              "      <td>2401</td>\n",
              "      <td>0.019223</td>\n",
              "      <td>0.057670</td>\n",
              "      <td>0.099125</td>\n",
              "      <td>0.0</td>\n",
              "      <td>[쇠불고기, 오징어찌개, 쌀밥, 포기김치, 청포묵무침, 잡곡밥, 계란찜, 요구르트]</td>\n",
              "      <td>[육개장, 건파래무침, 두부조림, 쌀밥, 포기김치, 잡곡밥, 자반고등어구이]</td>\n",
              "    </tr>\n",
              "    <tr>\n",
              "      <th>1</th>\n",
              "      <td>2016-02-02</td>\n",
              "      <td>1</td>\n",
              "      <td>2601</td>\n",
              "      <td>50</td>\n",
              "      <td>173</td>\n",
              "      <td>319</td>\n",
              "      <td>0</td>\n",
              "      <td>모닝롤/단호박샌드  우유/두유/주스 계란후라이  팥죽/쌀밥 (쌀:국내산) 호박젓국찌...</td>\n",
              "      <td>쌀밥/잡곡밥 (쌀,현미흑미:국내산) 김치찌개  가자미튀김  모둠소세지구이  마늘쫑무...</td>\n",
              "      <td>콩나물밥*양념장 (쌀,현미흑미:국내산) 어묵국  유산슬 (쇠고기:호주산) 아삭고추무...</td>\n",
              "      <td>867</td>\n",
              "      <td>560</td>\n",
              "      <td>2016</td>\n",
              "      <td>2</td>\n",
              "      <td>2</td>\n",
              "      <td>5</td>\n",
              "      <td>2378</td>\n",
              "      <td>0.019223</td>\n",
              "      <td>0.066513</td>\n",
              "      <td>0.134146</td>\n",
              "      <td>0.0</td>\n",
              "      <td>[김치찌개, 쌀밥, 가자미튀김, 모둠소세지구이, 마늘쫑무침, 배추겉절이, 잡곡밥, ...</td>\n",
              "      <td>[콩나물밥*양념장, 포기김치, 바나나, 아삭고추무침, 어묵국, 유산슬]</td>\n",
              "    </tr>\n",
              "    <tr>\n",
              "      <th>2</th>\n",
              "      <td>2016-02-03</td>\n",
              "      <td>2</td>\n",
              "      <td>2601</td>\n",
              "      <td>56</td>\n",
              "      <td>180</td>\n",
              "      <td>111</td>\n",
              "      <td>0</td>\n",
              "      <td>모닝롤/베이글  우유/두유/주스 계란후라이  표고버섯죽/쌀밥 (쌀:국내산) 콩나물국...</td>\n",
              "      <td>카레덮밥 (쌀,현미흑미:국내산) 팽이장국  치킨핑거 (닭고기:국내산) 쫄면야채무침 ...</td>\n",
              "      <td>쌀밥/잡곡밥 (쌀,현미흑미:국내산) 청국장찌개  황태양념구이 (황태:러시아산) 고기...</td>\n",
              "      <td>1017</td>\n",
              "      <td>573</td>\n",
              "      <td>2016</td>\n",
              "      <td>2</td>\n",
              "      <td>3</td>\n",
              "      <td>5</td>\n",
              "      <td>2365</td>\n",
              "      <td>0.021530</td>\n",
              "      <td>0.069204</td>\n",
              "      <td>0.046934</td>\n",
              "      <td>0.0</td>\n",
              "      <td>[카레덮밥, 팽이장국, 치킨핑거, 포기김치, 쫄면야채무침, 견과류조림, 요구르트]</td>\n",
              "      <td>[쌀밥, 청국장찌개, 황태양념구이, 포기김치, 새송이버섯볶음, 잡곡밥, 고기전]</td>\n",
              "    </tr>\n",
              "    <tr>\n",
              "      <th>3</th>\n",
              "      <td>2016-02-04</td>\n",
              "      <td>3</td>\n",
              "      <td>2601</td>\n",
              "      <td>104</td>\n",
              "      <td>220</td>\n",
              "      <td>355</td>\n",
              "      <td>0</td>\n",
              "      <td>모닝롤/토마토샌드  우유/두유/주스 계란후라이  닭죽/쌀밥 (쌀,닭:국내산) 근대국...</td>\n",
              "      <td>쌀밥/잡곡밥 (쌀,현미흑미:국내산) 쇠고기무국  주꾸미볶음  부추전  시금치나물  ...</td>\n",
              "      <td>미니김밥*겨자장 (쌀,현미흑미:국내산) 우동  멕시칸샐러드  군고구마  무피클  포...</td>\n",
              "      <td>978</td>\n",
              "      <td>525</td>\n",
              "      <td>2016</td>\n",
              "      <td>2</td>\n",
              "      <td>4</td>\n",
              "      <td>5</td>\n",
              "      <td>2277</td>\n",
              "      <td>0.039985</td>\n",
              "      <td>0.084583</td>\n",
              "      <td>0.155907</td>\n",
              "      <td>0.0</td>\n",
              "      <td>[주꾸미볶음, 쌀밥, 포기김치, 쇠고기무국, 시금치나물, 잡곡밥, 부추전, 요구르트]</td>\n",
              "      <td>[무피클, 우동, 포기김치, 군고구마, 멕시칸샐러드, 미니김밥*겨자장]</td>\n",
              "    </tr>\n",
              "    <tr>\n",
              "      <th>4</th>\n",
              "      <td>2016-02-05</td>\n",
              "      <td>4</td>\n",
              "      <td>2601</td>\n",
              "      <td>278</td>\n",
              "      <td>181</td>\n",
              "      <td>34</td>\n",
              "      <td>0</td>\n",
              "      <td>모닝롤/와플  우유/두유/주스 계란후라이  쇠고기죽/쌀밥 (쌀:국내산) 재첩국  방...</td>\n",
              "      <td>쌀밥/잡곡밥 (쌀,현미흑미:국내산) 떡국  돈육씨앗강정 (돼지고기:국내산) 우엉잡채...</td>\n",
              "      <td>쌀밥/잡곡밥 (쌀,현미흑미:국내산) 차돌박이찌개 (쇠고기:호주산) 닭갈비 (닭고기:...</td>\n",
              "      <td>925</td>\n",
              "      <td>330</td>\n",
              "      <td>2016</td>\n",
              "      <td>2</td>\n",
              "      <td>5</td>\n",
              "      <td>5</td>\n",
              "      <td>2142</td>\n",
              "      <td>0.106882</td>\n",
              "      <td>0.069589</td>\n",
              "      <td>0.015873</td>\n",
              "      <td>0.0</td>\n",
              "      <td>[돈육씨앗강정, 쌀밥, 포기김치, 우엉잡채, 청경채무침, 떡국, 잡곡밥, 요구르트]</td>\n",
              "      <td>[차돌박이찌개, 감자소세지볶음, 쌀밥, 닭갈비, 포기김치, 콩나물무침, 잡곡밥]</td>\n",
              "    </tr>\n",
              "  </tbody>\n",
              "</table>\n",
              "</div>"
            ],
            "text/plain": [
              "          일자  요일  본사정원수  본사휴가자수  본사출장자수  본사시간외근무명령서승인건수  현본사소속재택근무자수  \\\n",
              "0 2016-02-01   0   2601      50     150             238            0   \n",
              "1 2016-02-02   1   2601      50     173             319            0   \n",
              "2 2016-02-03   2   2601      56     180             111            0   \n",
              "3 2016-02-04   3   2601     104     220             355            0   \n",
              "4 2016-02-05   4   2601     278     181              34            0   \n",
              "\n",
              "                                                조식메뉴  \\\n",
              "0  모닝롤/찐빵  우유/두유/주스 계란후라이  호두죽/쌀밥 (쌀:국내산) 된장찌개  쥐...   \n",
              "1  모닝롤/단호박샌드  우유/두유/주스 계란후라이  팥죽/쌀밥 (쌀:국내산) 호박젓국찌...   \n",
              "2  모닝롤/베이글  우유/두유/주스 계란후라이  표고버섯죽/쌀밥 (쌀:국내산) 콩나물국...   \n",
              "3  모닝롤/토마토샌드  우유/두유/주스 계란후라이  닭죽/쌀밥 (쌀,닭:국내산) 근대국...   \n",
              "4  모닝롤/와플  우유/두유/주스 계란후라이  쇠고기죽/쌀밥 (쌀:국내산) 재첩국  방...   \n",
              "\n",
              "                                                중식메뉴  \\\n",
              "0  쌀밥/잡곡밥 (쌀,현미흑미:국내산) 오징어찌개  쇠불고기 (쇠고기:호주산) 계란찜 ...   \n",
              "1  쌀밥/잡곡밥 (쌀,현미흑미:국내산) 김치찌개  가자미튀김  모둠소세지구이  마늘쫑무...   \n",
              "2  카레덮밥 (쌀,현미흑미:국내산) 팽이장국  치킨핑거 (닭고기:국내산) 쫄면야채무침 ...   \n",
              "3  쌀밥/잡곡밥 (쌀,현미흑미:국내산) 쇠고기무국  주꾸미볶음  부추전  시금치나물  ...   \n",
              "4  쌀밥/잡곡밥 (쌀,현미흑미:국내산) 떡국  돈육씨앗강정 (돼지고기:국내산) 우엉잡채...   \n",
              "\n",
              "                                                석식메뉴   중식계  석식계     년  월  일  \\\n",
              "0  쌀밥/잡곡밥 (쌀,현미흑미:국내산) 육개장  자반고등어구이  두부조림  건파래무침 ...  1039  331  2016  2  1   \n",
              "1  콩나물밥*양념장 (쌀,현미흑미:국내산) 어묵국  유산슬 (쇠고기:호주산) 아삭고추무...   867  560  2016  2  2   \n",
              "2  쌀밥/잡곡밥 (쌀,현미흑미:국내산) 청국장찌개  황태양념구이 (황태:러시아산) 고기...  1017  573  2016  2  3   \n",
              "3  미니김밥*겨자장 (쌀,현미흑미:국내산) 우동  멕시칸샐러드  군고구마  무피클  포...   978  525  2016  2  4   \n",
              "4  쌀밥/잡곡밥 (쌀,현미흑미:국내산) 차돌박이찌개 (쇠고기:호주산) 닭갈비 (닭고기:...   925  330  2016  2  5   \n",
              "\n",
              "   주    출근      휴가비율      출장비율      야근비율  재택비율  \\\n",
              "0  5  2401  0.019223  0.057670  0.099125   0.0   \n",
              "1  5  2378  0.019223  0.066513  0.134146   0.0   \n",
              "2  5  2365  0.021530  0.069204  0.046934   0.0   \n",
              "3  5  2277  0.039985  0.084583  0.155907   0.0   \n",
              "4  5  2142  0.106882  0.069589  0.015873   0.0   \n",
              "\n",
              "                                          중식메뉴_split  \\\n",
              "0     [쇠불고기, 오징어찌개, 쌀밥, 포기김치, 청포묵무침, 잡곡밥, 계란찜, 요구르트]   \n",
              "1  [김치찌개, 쌀밥, 가자미튀김, 모둠소세지구이, 마늘쫑무침, 배추겉절이, 잡곡밥, ...   \n",
              "2      [카레덮밥, 팽이장국, 치킨핑거, 포기김치, 쫄면야채무침, 견과류조림, 요구르트]   \n",
              "3    [주꾸미볶음, 쌀밥, 포기김치, 쇠고기무국, 시금치나물, 잡곡밥, 부추전, 요구르트]   \n",
              "4     [돈육씨앗강정, 쌀밥, 포기김치, 우엉잡채, 청경채무침, 떡국, 잡곡밥, 요구르트]   \n",
              "\n",
              "                                     석식메뉴_split  \n",
              "0    [육개장, 건파래무침, 두부조림, 쌀밥, 포기김치, 잡곡밥, 자반고등어구이]  \n",
              "1       [콩나물밥*양념장, 포기김치, 바나나, 아삭고추무침, 어묵국, 유산슬]  \n",
              "2  [쌀밥, 청국장찌개, 황태양념구이, 포기김치, 새송이버섯볶음, 잡곡밥, 고기전]  \n",
              "3       [무피클, 우동, 포기김치, 군고구마, 멕시칸샐러드, 미니김밥*겨자장]  \n",
              "4  [차돌박이찌개, 감자소세지볶음, 쌀밥, 닭갈비, 포기김치, 콩나물무침, 잡곡밥]  "
            ]
          },
          "metadata": {
            "tags": []
          },
          "execution_count": 0
        }
      ]
    },
    {
      "cell_type": "code",
      "metadata": {
        "colab": {
          "background_save": true
        },
        "id": "y1JTtFRQp8t-"
      },
      "source": [
        "# test set에도 동일하게 적용\n",
        "test['중식메뉴_split'] = test['중식메뉴'].apply(lambda x: get_food_embedding(x))\n",
        "test['석식메뉴_split'] = test['석식메뉴'].apply(lambda x: get_food_embedding(x))"
      ],
      "execution_count": null,
      "outputs": []
    },
    {
      "cell_type": "code",
      "metadata": {
        "colab": {
          "background_save": true
        },
        "id": "FJ9XtY60ra0A",
        "outputId": "c0d2d5f7-22a2-43ad-f7a4-9ad02d98a8ba"
      },
      "source": [
        "train['중식메뉴_split'][0]"
      ],
      "execution_count": null,
      "outputs": [
        {
          "output_type": "execute_result",
          "data": {
            "text/plain": [
              "['쇠불고기', '오징어찌개', '쌀밥', '포기김치', '청포묵무침', '잡곡밥', '계란찜', '요구르트']"
            ]
          },
          "metadata": {
            "tags": []
          },
          "execution_count": 0
        }
      ]
    },
    {
      "cell_type": "code",
      "metadata": {
        "colab": {
          "background_save": true,
          "referenced_widgets": [
            "b7e5007d50e64059bc7e77e76495714c"
          ]
        },
        "id": "eHY0iMZerc_S",
        "outputId": "19520ab6-ad46-4ce6-bfa1-f3e7e9a13718"
      },
      "source": [
        "# 중식계\n",
        "lunch_lst = []\n",
        "lunch_count = []\n",
        "pref = 0\n",
        "for i in tqdm(range(1205)): # 진행상황 반환 (1205는 train set 데이터 개수)\n",
        "    try:\n",
        "        if train['중식계'][i] >= 880: # 880은 중식계 평균값\n",
        "            pref = 1\n",
        "        else:\n",
        "            pref = 0\n",
        "        \n",
        "        lunch_lst.append(train['중식메뉴_split'][i])\n",
        "        lunch_count.append(pref)\n",
        "\n",
        "    except:\n",
        "        pass\n",
        "\n",
        "# for i in range(len(lunch_lst)):\n",
        "    # lunch_lst[i] = lunch_lst[i].replace(',', ' ')\n",
        "\n",
        "print('done')"
      ],
      "execution_count": null,
      "outputs": [
        {
          "output_type": "display_data",
          "data": {
            "application/vnd.jupyter.widget-view+json": {
              "model_id": "b7e5007d50e64059bc7e77e76495714c",
              "version_major": 2,
              "version_minor": 0
            },
            "text/plain": [
              "HBox(children=(FloatProgress(value=0.0, max=1205.0), HTML(value='')))"
            ]
          },
          "metadata": {
            "tags": []
          }
        },
        {
          "output_type": "stream",
          "text": [
            "\n",
            "done\n"
          ],
          "name": "stdout"
        }
      ]
    },
    {
      "cell_type": "code",
      "metadata": {
        "colab": {
          "background_save": true
        },
        "id": "AU-Y5MKHHLZd",
        "outputId": "147fe589-00f6-4351-da30-0cb3c56b0b79"
      },
      "source": [
        "is_comma = 0\n",
        "\n",
        "for j in range(len(dinner_lst_test)):\n",
        "    for i in range(len(dinner_lst_test[j])):\n",
        "        if ',' not in dinner_lst_test[i]:\n",
        "            is_comma += 0\n",
        "        else:\n",
        "            is_comma += 1"
      ],
      "execution_count": null,
      "outputs": [
        {
          "output_type": "error",
          "ename": "NameError",
          "evalue": "ignored",
          "traceback": [
            "\u001b[0;31m---------------------------------------------------------------------------\u001b[0m",
            "\u001b[0;31mNameError\u001b[0m                                 Traceback (most recent call last)",
            "\u001b[0;32m<ipython-input-22-fc8763285a2b>\u001b[0m in \u001b[0;36m<module>\u001b[0;34m()\u001b[0m\n\u001b[1;32m      1\u001b[0m \u001b[0mis_comma\u001b[0m \u001b[0;34m=\u001b[0m \u001b[0;36m0\u001b[0m\u001b[0;34m\u001b[0m\u001b[0;34m\u001b[0m\u001b[0m\n\u001b[1;32m      2\u001b[0m \u001b[0;34m\u001b[0m\u001b[0m\n\u001b[0;32m----> 3\u001b[0;31m \u001b[0;32mfor\u001b[0m \u001b[0mj\u001b[0m \u001b[0;32min\u001b[0m \u001b[0mrange\u001b[0m\u001b[0;34m(\u001b[0m\u001b[0mlen\u001b[0m\u001b[0;34m(\u001b[0m\u001b[0mdinner_lst_test\u001b[0m\u001b[0;34m)\u001b[0m\u001b[0;34m)\u001b[0m\u001b[0;34m:\u001b[0m\u001b[0;34m\u001b[0m\u001b[0;34m\u001b[0m\u001b[0m\n\u001b[0m\u001b[1;32m      4\u001b[0m     \u001b[0;32mfor\u001b[0m \u001b[0mi\u001b[0m \u001b[0;32min\u001b[0m \u001b[0mrange\u001b[0m\u001b[0;34m(\u001b[0m\u001b[0mlen\u001b[0m\u001b[0;34m(\u001b[0m\u001b[0mdinner_lst_test\u001b[0m\u001b[0;34m[\u001b[0m\u001b[0mj\u001b[0m\u001b[0;34m]\u001b[0m\u001b[0;34m)\u001b[0m\u001b[0;34m)\u001b[0m\u001b[0;34m:\u001b[0m\u001b[0;34m\u001b[0m\u001b[0;34m\u001b[0m\u001b[0m\n\u001b[1;32m      5\u001b[0m         \u001b[0;32mif\u001b[0m \u001b[0;34m','\u001b[0m \u001b[0;32mnot\u001b[0m \u001b[0;32min\u001b[0m \u001b[0mdinner_lst_test\u001b[0m\u001b[0;34m[\u001b[0m\u001b[0mi\u001b[0m\u001b[0;34m]\u001b[0m\u001b[0;34m:\u001b[0m\u001b[0;34m\u001b[0m\u001b[0;34m\u001b[0m\u001b[0m\n",
            "\u001b[0;31mNameError\u001b[0m: name 'dinner_lst_test' is not defined"
          ]
        }
      ]
    },
    {
      "cell_type": "code",
      "metadata": {
        "colab": {
          "background_save": true
        },
        "id": "mR53mynsITwQ"
      },
      "source": [
        "is_comma"
      ],
      "execution_count": null,
      "outputs": []
    },
    {
      "cell_type": "code",
      "metadata": {
        "colab": {
          "background_save": true
        },
        "id": "bVh1vxC9t9jO"
      },
      "source": [
        "# 석식계에 대해서도 마찬가지로 처리\n",
        "dinner_lst = []\n",
        "dinner_count = []\n",
        "pref_d = 0\n",
        "for i in tqdm(range(1205)):\n",
        "    try:\n",
        "        if train['석식계'][i] > 476:\n",
        "            pref_d = 1\n",
        "        else:\n",
        "            pref_d = 0\n",
        "        \n",
        "        dinner_lst.append(train['석식메뉴_split'][i])\n",
        "        dinner_count.append(pref_d)\n",
        "    except:\n",
        "        pass\n",
        "\n",
        "# for i in range(len(dinner_lst)):\n",
        "    # dinner_lst[i] = dinner_lst[i].replace(',', ' ')\n",
        "print('done')"
      ],
      "execution_count": null,
      "outputs": []
    },
    {
      "cell_type": "code",
      "metadata": {
        "colab": {
          "background_save": true
        },
        "id": "kMxPhrB7vY9i"
      },
      "source": [
        "#test set에 대해서도 같은 작업\n",
        "lunch_lst_test = []\n",
        "lunch_count_test = []\n",
        "for i in tqdm(range(50)):\n",
        "    try:\n",
        "        lunch_lst_test.append(test['중식메뉴_split'][i])\n",
        "        lunch_count_test.append(0)\n",
        "    except:\n",
        "        pass\n",
        "\n",
        "# for i in range(len(lunch_lst_test)):\n",
        "    # lunch_lst_test[i] = lunch_lst_test[i].replace(',', ' ')\n",
        "\n",
        "print('done')"
      ],
      "execution_count": null,
      "outputs": []
    },
    {
      "cell_type": "code",
      "metadata": {
        "colab": {
          "background_save": true
        },
        "id": "Wbwbs1f4w7y1"
      },
      "source": [
        "# test set에 대해서도 같은 작업\n",
        "dinner_lst_test = []\n",
        "dinner_count_test = []\n",
        "for i in tqdm(range(50)):\n",
        "    try:\n",
        "        dinner_lst_test.append(test['석식메뉴_split'][i])\n",
        "        dinner_count_test.append(0)\n",
        "    except:\n",
        "        pass\n",
        "\n",
        "# for i in range(len(dinner_lst_test)):\n",
        "    # dinner_lst_test[i] = dinner_lst_test[i].replace(',', ' ')\n",
        "\n",
        "print('done')"
      ],
      "execution_count": null,
      "outputs": []
    },
    {
      "cell_type": "code",
      "metadata": {
        "colab": {
          "background_save": true
        },
        "id": "wuMNpC_bxmc3"
      },
      "source": [
        "# 데이터프레임화\n",
        "lunch_df = pd.DataFrame({'중식메뉴':lunch_lst})\n",
        "dinner_df = pd.DataFrame({'석식메뉴':dinner_lst})\n",
        "lunch_df_t = pd.DataFrame({'중식메뉴':lunch_lst_test})\n",
        "dinner_df_t = pd.DataFrame({'석식메뉴':dinner_lst_test})"
      ],
      "execution_count": null,
      "outputs": []
    },
    {
      "cell_type": "code",
      "metadata": {
        "colab": {
          "background_save": true
        },
        "id": "s2n5zDRd4jio"
      },
      "source": [
        "lunch_df"
      ],
      "execution_count": null,
      "outputs": []
    },
    {
      "cell_type": "markdown",
      "metadata": {
        "id": "q0rKSURo2Cw9"
      },
      "source": [
        "# **모든 메뉴의 분류**"
      ]
    },
    {
      "cell_type": "code",
      "metadata": {
        "colab": {
          "background_save": true
        },
        "id": "wPRblpX0x7p8"
      },
      "source": [
        "# 메뉴리스트 만들기\n",
        "# menu = pd.read_csv('', encoding = 'cp949') # cp949는 EUC-KR 개선 버전"
      ],
      "execution_count": null,
      "outputs": []
    },
    {
      "cell_type": "code",
      "metadata": {
        "colab": {
          "base_uri": "https://localhost:8080/",
          "height": 35
        },
        "id": "mdj8pZ4QP5h9",
        "outputId": "31c6ea4c-f120-46f8-ab82-a8a0f0e44c20"
      },
      "source": [
        "lunch_df.iloc[1][0][1]"
      ],
      "execution_count": null,
      "outputs": [
        {
          "output_type": "execute_result",
          "data": {
            "application/vnd.google.colaboratory.intrinsic+json": {
              "type": "string"
            },
            "text/plain": [
              "'쌀밥'"
            ]
          },
          "metadata": {
            "tags": []
          },
          "execution_count": 69
        }
      ]
    },
    {
      "cell_type": "code",
      "metadata": {
        "colab": {
          "base_uri": "https://localhost:8080/",
          "height": 244
        },
        "id": "HDZA6AJU2cob",
        "outputId": "968afd70-31fa-4f02-ec81-9af37ba8151d"
      },
      "source": [
        "food = list(menu['메뉴'])\n",
        "result_lunch = []\n",
        "result_dinner = []\n",
        "\n",
        "for k in range(len(lunch_df)):\n",
        "    trigger = np.zero(34, dtype = 'int') # 빈 배열 trigger에 할당\n",
        "\n",
        "    for i in range(len(lunch_df.iloc[k][0])): # 행번호 기준 데이터 읽기 \n",
        "        if lunch_df.iloc[k][0][i] in food:\n",
        "            trigger += np.array(menu[menu['메뉴'] == lunch_df.iloc[k][0][i]].iloc[0][1:-1], dtype = 'int')\n",
        "    trigger = trigger / trigger.sum()\n",
        "    result_lunch.append(trigger)"
      ],
      "execution_count": null,
      "outputs": [
        {
          "output_type": "error",
          "ename": "NameError",
          "evalue": "ignored",
          "traceback": [
            "\u001b[0;31m---------------------------------------------------------------------------\u001b[0m",
            "\u001b[0;31mNameError\u001b[0m                                 Traceback (most recent call last)",
            "\u001b[0;32m<ipython-input-65-631f09107d98>\u001b[0m in \u001b[0;36m<module>\u001b[0;34m()\u001b[0m\n\u001b[0;32m----> 1\u001b[0;31m \u001b[0mfood\u001b[0m \u001b[0;34m=\u001b[0m \u001b[0mlist\u001b[0m\u001b[0;34m(\u001b[0m\u001b[0mmenu\u001b[0m\u001b[0;34m[\u001b[0m\u001b[0;34m'메뉴'\u001b[0m\u001b[0;34m]\u001b[0m\u001b[0;34m)\u001b[0m\u001b[0;34m\u001b[0m\u001b[0;34m\u001b[0m\u001b[0m\n\u001b[0m\u001b[1;32m      2\u001b[0m \u001b[0mresult_lunch\u001b[0m \u001b[0;34m=\u001b[0m \u001b[0;34m[\u001b[0m\u001b[0;34m]\u001b[0m\u001b[0;34m\u001b[0m\u001b[0;34m\u001b[0m\u001b[0m\n\u001b[1;32m      3\u001b[0m \u001b[0mresult_dinner\u001b[0m \u001b[0;34m=\u001b[0m \u001b[0;34m[\u001b[0m\u001b[0;34m]\u001b[0m\u001b[0;34m\u001b[0m\u001b[0;34m\u001b[0m\u001b[0m\n\u001b[1;32m      4\u001b[0m \u001b[0;34m\u001b[0m\u001b[0m\n\u001b[1;32m      5\u001b[0m \u001b[0;32mfor\u001b[0m \u001b[0mk\u001b[0m \u001b[0;32min\u001b[0m \u001b[0mrange\u001b[0m\u001b[0;34m(\u001b[0m\u001b[0mlen\u001b[0m\u001b[0;34m(\u001b[0m\u001b[0mlunch_df\u001b[0m\u001b[0;34m)\u001b[0m\u001b[0;34m)\u001b[0m\u001b[0;34m:\u001b[0m\u001b[0;34m\u001b[0m\u001b[0;34m\u001b[0m\u001b[0m\n",
            "\u001b[0;31mNameError\u001b[0m: name 'menu' is not defined"
          ]
        }
      ]
    },
    {
      "cell_type": "code",
      "metadata": {
        "id": "g2DpyeZJ5g1F"
      },
      "source": [
        "# 석식계에 대해서도 동일하게 적용\n",
        "for k in range(len(dinner_df)):\n",
        "    trigger = np.zeros(34, dtype = 'int')\n",
        "\n",
        "    for i in range(len(dinner_df.iloc[k][0])):\n",
        "        if dinner_df.iloc[k][0][i] in food:\n",
        "            trigger += np.array(menu[menu['메뉴'] == dinner_df.iloc[k][0][i].iloc[0][1:-1], dtype = 'int')\n",
        "    \n",
        "    trigger = trigger / trigger.sum()\n",
        "    result_dinner.append(tigger)"
      ],
      "execution_count": null,
      "outputs": []
    },
    {
      "cell_type": "code",
      "metadata": {
        "id": "a2hDFnBz6IN4"
      },
      "source": [
        "# test set에 대해서도 동일하게 적용\n",
        "result_lunch_t = []\n",
        "result_dinner_t = []\n",
        "\n",
        "for k in range(len(lunch_df_t)):\n",
        "    trigger = np.zeros(34, dtype = 'int')\n",
        "    for i in range(len(lunch_df_t.iloc[k][0])):\n",
        "        if lunch_df_t.iloc[k][0][i] in food:\n",
        "            trigger += np.array(menu[menu['메뉴'] == lunch_df_t.iloc[k][0][i]].iloc[0][1:-1], dtype = 'int')\n",
        "    trigger = trigger / trigger.sum()\n",
        "    result_lunch_t.append(trigger"
      ],
      "execution_count": null,
      "outputs": []
    },
    {
      "cell_type": "code",
      "metadata": {
        "colab": {
          "base_uri": "https://localhost:8080/",
          "height": 244
        },
        "id": "XKcHI3XQ8MhE",
        "outputId": "6b6750d8-5261-452b-d358-6df9569a5a4a"
      },
      "source": [
        "# test set에 대해서도 동일하게 적용\n",
        "for k in range(len(dinner_df_t)):\n",
        "    trigger = np.zeros(34, dtype = 'int')\n",
        "    for i in range(len(dinner_df_t.iloc[k][0])):\n",
        "        if dinner_df_t.iloc[k][0][i] in food:\n",
        "            trigger += np.array(menu[menu['메뉴'] == dinner_df_t.iloc[k][0][i]].iloc[0][1:-1], dtype = 'int')\n",
        "            \n",
        "    trigger = trigger / trigger.sum()\n",
        "    result_dinner_t.append(trigger)"
      ],
      "execution_count": null,
      "outputs": [
        {
          "output_type": "error",
          "ename": "NameError",
          "evalue": "ignored",
          "traceback": [
            "\u001b[0;31m---------------------------------------------------------------------------\u001b[0m",
            "\u001b[0;31mNameError\u001b[0m                                 Traceback (most recent call last)",
            "\u001b[0;32m<ipython-input-66-4ed6622e982a>\u001b[0m in \u001b[0;36m<module>\u001b[0;34m()\u001b[0m\n\u001b[1;32m      3\u001b[0m     \u001b[0mtrigger\u001b[0m \u001b[0;34m=\u001b[0m \u001b[0mnp\u001b[0m\u001b[0;34m.\u001b[0m\u001b[0mzeros\u001b[0m\u001b[0;34m(\u001b[0m\u001b[0;36m34\u001b[0m\u001b[0;34m,\u001b[0m \u001b[0mdtype\u001b[0m \u001b[0;34m=\u001b[0m \u001b[0;34m'int'\u001b[0m\u001b[0;34m)\u001b[0m\u001b[0;34m\u001b[0m\u001b[0;34m\u001b[0m\u001b[0m\n\u001b[1;32m      4\u001b[0m     \u001b[0;32mfor\u001b[0m \u001b[0mi\u001b[0m \u001b[0;32min\u001b[0m \u001b[0mrange\u001b[0m\u001b[0;34m(\u001b[0m\u001b[0mlen\u001b[0m\u001b[0;34m(\u001b[0m\u001b[0mdinner_df_t\u001b[0m\u001b[0;34m.\u001b[0m\u001b[0miloc\u001b[0m\u001b[0;34m[\u001b[0m\u001b[0mk\u001b[0m\u001b[0;34m]\u001b[0m\u001b[0;34m[\u001b[0m\u001b[0;36m0\u001b[0m\u001b[0;34m]\u001b[0m\u001b[0;34m)\u001b[0m\u001b[0;34m)\u001b[0m\u001b[0;34m:\u001b[0m\u001b[0;34m\u001b[0m\u001b[0;34m\u001b[0m\u001b[0m\n\u001b[0;32m----> 5\u001b[0;31m         \u001b[0;32mif\u001b[0m \u001b[0mdinner_df_t\u001b[0m\u001b[0;34m.\u001b[0m\u001b[0miloc\u001b[0m\u001b[0;34m[\u001b[0m\u001b[0mk\u001b[0m\u001b[0;34m]\u001b[0m\u001b[0;34m[\u001b[0m\u001b[0;36m0\u001b[0m\u001b[0;34m]\u001b[0m\u001b[0;34m[\u001b[0m\u001b[0mi\u001b[0m\u001b[0;34m]\u001b[0m \u001b[0;32min\u001b[0m \u001b[0mfood\u001b[0m\u001b[0;34m:\u001b[0m\u001b[0;34m\u001b[0m\u001b[0;34m\u001b[0m\u001b[0m\n\u001b[0m\u001b[1;32m      6\u001b[0m             \u001b[0mtrigger\u001b[0m \u001b[0;34m+=\u001b[0m \u001b[0mnp\u001b[0m\u001b[0;34m.\u001b[0m\u001b[0marray\u001b[0m\u001b[0;34m(\u001b[0m\u001b[0mmenu\u001b[0m\u001b[0;34m[\u001b[0m\u001b[0mmenu\u001b[0m\u001b[0;34m[\u001b[0m\u001b[0;34m'메뉴'\u001b[0m\u001b[0;34m]\u001b[0m \u001b[0;34m==\u001b[0m \u001b[0mdinner_df_t\u001b[0m\u001b[0;34m.\u001b[0m\u001b[0miloc\u001b[0m\u001b[0;34m[\u001b[0m\u001b[0mk\u001b[0m\u001b[0;34m]\u001b[0m\u001b[0;34m[\u001b[0m\u001b[0;36m0\u001b[0m\u001b[0;34m]\u001b[0m\u001b[0;34m[\u001b[0m\u001b[0mi\u001b[0m\u001b[0;34m]\u001b[0m\u001b[0;34m]\u001b[0m\u001b[0;34m.\u001b[0m\u001b[0miloc\u001b[0m\u001b[0;34m[\u001b[0m\u001b[0;36m0\u001b[0m\u001b[0;34m]\u001b[0m\u001b[0;34m[\u001b[0m\u001b[0;36m1\u001b[0m\u001b[0;34m:\u001b[0m\u001b[0;34m-\u001b[0m\u001b[0;36m1\u001b[0m\u001b[0;34m]\u001b[0m\u001b[0;34m,\u001b[0m \u001b[0mdtype\u001b[0m \u001b[0;34m=\u001b[0m \u001b[0;34m'int'\u001b[0m\u001b[0;34m)\u001b[0m\u001b[0;34m\u001b[0m\u001b[0;34m\u001b[0m\u001b[0m\n\u001b[1;32m      7\u001b[0m \u001b[0;34m\u001b[0m\u001b[0m\n",
            "\u001b[0;31mNameError\u001b[0m: name 'food' is not defined"
          ]
        }
      ]
    },
    {
      "cell_type": "markdown",
      "metadata": {
        "id": "j-xGipPLjm7b"
      },
      "source": [
        "**메뉴 데이터 생성**"
      ]
    },
    {
      "cell_type": "code",
      "metadata": {
        "id": "rsv4T2_u8meA"
      },
      "source": [
        "column = list(menu.column[1:-1])\n",
        "lunch_sort = pd.DataFrame(result_lunch, columns = column)\n",
        "dinner_sort = pd.DataFrame(result_dinner, columns = column)\n",
        "lunch_sort_t = pd.DataFrame(result_lunch_t, columns = column)\n",
        "dinner_sort_t = pd.DataFrame(result_dinner_t, columns = column)"
      ],
      "execution_count": null,
      "outputs": []
    },
    {
      "cell_type": "markdown",
      "metadata": {
        "id": "4yKyKqlHlvcn"
      },
      "source": [
        "# **- Feature Engineering**"
      ]
    },
    {
      "cell_type": "markdown",
      "metadata": {
        "id": "CZRN_qxul0DZ"
      },
      "source": [
        "**문화의 날**\n",
        "* 매달 마지막 주 수요일 문화의 날 지정\n",
        "* 석식 0명인 Feature 발견\n",
        "* 따로 지정하지 않아도 일, 주 데이터로 학습이 됨"
      ]
    },
    {
      "cell_type": "code",
      "metadata": {
        "id": "MsN2KmSPlzgd"
      },
      "source": [
        "train = train[train['석식계'] != 0]"
      ],
      "execution_count": null,
      "outputs": []
    },
    {
      "cell_type": "code",
      "metadata": {
        "id": "qtcj4QB1mBXM"
      },
      "source": [
        "train['문화의날'] = 0\n",
        "test['문화의날'] = 0"
      ],
      "execution_count": null,
      "outputs": []
    },
    {
      "cell_type": "code",
      "metadata": {
        "id": "gr26jS7anXSQ"
      },
      "source": [
        "# 매달 마지막 주 수요일 문화의 날 지정\n",
        "a = train[(train['일'] > 25) & (train['요일'] == 2)].index\n",
        "a = list(a)"
      ],
      "execution_count": null,
      "outputs": []
    },
    {
      "cell_type": "code",
      "metadata": {
        "id": "urybQjq9n0mB"
      },
      "source": [
        "# test set에 대해서도 마찬가지로 지정\n",
        "b = test[(test['일'] > 25) & (test['요일'] == 2)].index\n",
        "b = list(b)"
      ],
      "execution_count": null,
      "outputs": []
    },
    {
      "cell_type": "code",
      "metadata": {
        "id": "MLsqCo1Gn1Wd"
      },
      "source": [
        "# 데이터셋에 문화의날 반영\n",
        "train['문화의날'][a] = 1\n",
        "test['문화의날'][b] = 1"
      ],
      "execution_count": null,
      "outputs": []
    },
    {
      "cell_type": "markdown",
      "metadata": {
        "id": "8GjvWRLToXJi"
      },
      "source": [
        "**강수량 및 기온 Feature Generating**\n",
        "* 외부 데이터(기상청) 사용\n",
        "* 기온 및 강수량에 따라 중식계 영향을 미칠 것으로 예상\n",
        "* 본거지가 진주가 아닌 사원들이 많아 기숙사 생활 인원이 많음\n",
        "* 따라서 강수량 및 기온은 크게 영향을 미치지 않을 것으로 추정"
      ]
    },
    {
      "cell_type": "code",
      "metadata": {
        "colab": {
          "base_uri": "https://localhost:8080/",
          "height": 466
        },
        "id": "80vUg5h9oBns",
        "outputId": "1e57b9e4-5c5a-4901-f334-bf5200d43c0a"
      },
      "source": [
        "# 기상청 강수량, 기온 데이터 불러오기\n",
        "rain_2016 = pd.read_csv('')\n",
        "rain_2017 = pd.read_csv('')\n",
        "rain_2018 = pd.read_csv('')\n",
        "rain_2019 = pd.read_csv('')\n",
        "rain_2020 = pd.read_csv('')\n",
        "rain_2021 = pd.read_csv('')\n",
        "\n",
        "tem_2016 = pd.read_csv('')\n",
        "tem_2017 = pd.read_csv('')\n",
        "tem_2018 = pd.read_csv('')\n",
        "tem_2019 = pd.read_csv('')\n",
        "tem_2020 = pd.read_csv('')\n",
        "tem_2021 = pd.read_csv('')"
      ],
      "execution_count": null,
      "outputs": [
        {
          "output_type": "error",
          "ename": "FileNotFoundError",
          "evalue": "ignored",
          "traceback": [
            "\u001b[0;31m---------------------------------------------------------------------------\u001b[0m",
            "\u001b[0;31mFileNotFoundError\u001b[0m                         Traceback (most recent call last)",
            "\u001b[0;32m<ipython-input-76-cc328c1ceb04>\u001b[0m in \u001b[0;36m<module>\u001b[0;34m()\u001b[0m\n\u001b[1;32m      1\u001b[0m \u001b[0;31m# 기상청 강수량, 기온 데이터 불러오기\u001b[0m\u001b[0;34m\u001b[0m\u001b[0;34m\u001b[0m\u001b[0;34m\u001b[0m\u001b[0m\n\u001b[0;32m----> 2\u001b[0;31m \u001b[0mrain_2016\u001b[0m \u001b[0;34m=\u001b[0m \u001b[0mpd\u001b[0m\u001b[0;34m.\u001b[0m\u001b[0mread_csv\u001b[0m\u001b[0;34m(\u001b[0m\u001b[0;34m''\u001b[0m\u001b[0;34m)\u001b[0m\u001b[0;34m\u001b[0m\u001b[0;34m\u001b[0m\u001b[0m\n\u001b[0m\u001b[1;32m      3\u001b[0m \u001b[0mrain_2017\u001b[0m \u001b[0;34m=\u001b[0m \u001b[0mpd\u001b[0m\u001b[0;34m.\u001b[0m\u001b[0mread_csv\u001b[0m\u001b[0;34m(\u001b[0m\u001b[0;34m''\u001b[0m\u001b[0;34m)\u001b[0m\u001b[0;34m\u001b[0m\u001b[0;34m\u001b[0m\u001b[0m\n\u001b[1;32m      4\u001b[0m \u001b[0mrain_2018\u001b[0m \u001b[0;34m=\u001b[0m \u001b[0mpd\u001b[0m\u001b[0;34m.\u001b[0m\u001b[0mread_csv\u001b[0m\u001b[0;34m(\u001b[0m\u001b[0;34m''\u001b[0m\u001b[0;34m)\u001b[0m\u001b[0;34m\u001b[0m\u001b[0;34m\u001b[0m\u001b[0m\n\u001b[1;32m      5\u001b[0m \u001b[0mrain_2019\u001b[0m \u001b[0;34m=\u001b[0m \u001b[0mpd\u001b[0m\u001b[0;34m.\u001b[0m\u001b[0mread_csv\u001b[0m\u001b[0;34m(\u001b[0m\u001b[0;34m''\u001b[0m\u001b[0;34m)\u001b[0m\u001b[0;34m\u001b[0m\u001b[0;34m\u001b[0m\u001b[0m\n",
            "\u001b[0;32m/usr/local/lib/python3.7/dist-packages/pandas/io/parsers.py\u001b[0m in \u001b[0;36mread_csv\u001b[0;34m(filepath_or_buffer, sep, delimiter, header, names, index_col, usecols, squeeze, prefix, mangle_dupe_cols, dtype, engine, converters, true_values, false_values, skipinitialspace, skiprows, skipfooter, nrows, na_values, keep_default_na, na_filter, verbose, skip_blank_lines, parse_dates, infer_datetime_format, keep_date_col, date_parser, dayfirst, cache_dates, iterator, chunksize, compression, thousands, decimal, lineterminator, quotechar, quoting, doublequote, escapechar, comment, encoding, dialect, error_bad_lines, warn_bad_lines, delim_whitespace, low_memory, memory_map, float_precision)\u001b[0m\n\u001b[1;32m    686\u001b[0m     )\n\u001b[1;32m    687\u001b[0m \u001b[0;34m\u001b[0m\u001b[0m\n\u001b[0;32m--> 688\u001b[0;31m     \u001b[0;32mreturn\u001b[0m \u001b[0m_read\u001b[0m\u001b[0;34m(\u001b[0m\u001b[0mfilepath_or_buffer\u001b[0m\u001b[0;34m,\u001b[0m \u001b[0mkwds\u001b[0m\u001b[0;34m)\u001b[0m\u001b[0;34m\u001b[0m\u001b[0;34m\u001b[0m\u001b[0m\n\u001b[0m\u001b[1;32m    689\u001b[0m \u001b[0;34m\u001b[0m\u001b[0m\n\u001b[1;32m    690\u001b[0m \u001b[0;34m\u001b[0m\u001b[0m\n",
            "\u001b[0;32m/usr/local/lib/python3.7/dist-packages/pandas/io/parsers.py\u001b[0m in \u001b[0;36m_read\u001b[0;34m(filepath_or_buffer, kwds)\u001b[0m\n\u001b[1;32m    452\u001b[0m \u001b[0;34m\u001b[0m\u001b[0m\n\u001b[1;32m    453\u001b[0m     \u001b[0;31m# Create the parser.\u001b[0m\u001b[0;34m\u001b[0m\u001b[0;34m\u001b[0m\u001b[0;34m\u001b[0m\u001b[0m\n\u001b[0;32m--> 454\u001b[0;31m     \u001b[0mparser\u001b[0m \u001b[0;34m=\u001b[0m \u001b[0mTextFileReader\u001b[0m\u001b[0;34m(\u001b[0m\u001b[0mfp_or_buf\u001b[0m\u001b[0;34m,\u001b[0m \u001b[0;34m**\u001b[0m\u001b[0mkwds\u001b[0m\u001b[0;34m)\u001b[0m\u001b[0;34m\u001b[0m\u001b[0;34m\u001b[0m\u001b[0m\n\u001b[0m\u001b[1;32m    455\u001b[0m \u001b[0;34m\u001b[0m\u001b[0m\n\u001b[1;32m    456\u001b[0m     \u001b[0;32mif\u001b[0m \u001b[0mchunksize\u001b[0m \u001b[0;32mor\u001b[0m \u001b[0miterator\u001b[0m\u001b[0;34m:\u001b[0m\u001b[0;34m\u001b[0m\u001b[0;34m\u001b[0m\u001b[0m\n",
            "\u001b[0;32m/usr/local/lib/python3.7/dist-packages/pandas/io/parsers.py\u001b[0m in \u001b[0;36m__init__\u001b[0;34m(self, f, engine, **kwds)\u001b[0m\n\u001b[1;32m    946\u001b[0m             \u001b[0mself\u001b[0m\u001b[0;34m.\u001b[0m\u001b[0moptions\u001b[0m\u001b[0;34m[\u001b[0m\u001b[0;34m\"has_index_names\"\u001b[0m\u001b[0;34m]\u001b[0m \u001b[0;34m=\u001b[0m \u001b[0mkwds\u001b[0m\u001b[0;34m[\u001b[0m\u001b[0;34m\"has_index_names\"\u001b[0m\u001b[0;34m]\u001b[0m\u001b[0;34m\u001b[0m\u001b[0;34m\u001b[0m\u001b[0m\n\u001b[1;32m    947\u001b[0m \u001b[0;34m\u001b[0m\u001b[0m\n\u001b[0;32m--> 948\u001b[0;31m         \u001b[0mself\u001b[0m\u001b[0;34m.\u001b[0m\u001b[0m_make_engine\u001b[0m\u001b[0;34m(\u001b[0m\u001b[0mself\u001b[0m\u001b[0;34m.\u001b[0m\u001b[0mengine\u001b[0m\u001b[0;34m)\u001b[0m\u001b[0;34m\u001b[0m\u001b[0;34m\u001b[0m\u001b[0m\n\u001b[0m\u001b[1;32m    949\u001b[0m \u001b[0;34m\u001b[0m\u001b[0m\n\u001b[1;32m    950\u001b[0m     \u001b[0;32mdef\u001b[0m \u001b[0mclose\u001b[0m\u001b[0;34m(\u001b[0m\u001b[0mself\u001b[0m\u001b[0;34m)\u001b[0m\u001b[0;34m:\u001b[0m\u001b[0;34m\u001b[0m\u001b[0;34m\u001b[0m\u001b[0m\n",
            "\u001b[0;32m/usr/local/lib/python3.7/dist-packages/pandas/io/parsers.py\u001b[0m in \u001b[0;36m_make_engine\u001b[0;34m(self, engine)\u001b[0m\n\u001b[1;32m   1178\u001b[0m     \u001b[0;32mdef\u001b[0m \u001b[0m_make_engine\u001b[0m\u001b[0;34m(\u001b[0m\u001b[0mself\u001b[0m\u001b[0;34m,\u001b[0m \u001b[0mengine\u001b[0m\u001b[0;34m=\u001b[0m\u001b[0;34m\"c\"\u001b[0m\u001b[0;34m)\u001b[0m\u001b[0;34m:\u001b[0m\u001b[0;34m\u001b[0m\u001b[0;34m\u001b[0m\u001b[0m\n\u001b[1;32m   1179\u001b[0m         \u001b[0;32mif\u001b[0m \u001b[0mengine\u001b[0m \u001b[0;34m==\u001b[0m \u001b[0;34m\"c\"\u001b[0m\u001b[0;34m:\u001b[0m\u001b[0;34m\u001b[0m\u001b[0;34m\u001b[0m\u001b[0m\n\u001b[0;32m-> 1180\u001b[0;31m             \u001b[0mself\u001b[0m\u001b[0;34m.\u001b[0m\u001b[0m_engine\u001b[0m \u001b[0;34m=\u001b[0m \u001b[0mCParserWrapper\u001b[0m\u001b[0;34m(\u001b[0m\u001b[0mself\u001b[0m\u001b[0;34m.\u001b[0m\u001b[0mf\u001b[0m\u001b[0;34m,\u001b[0m \u001b[0;34m**\u001b[0m\u001b[0mself\u001b[0m\u001b[0;34m.\u001b[0m\u001b[0moptions\u001b[0m\u001b[0;34m)\u001b[0m\u001b[0;34m\u001b[0m\u001b[0;34m\u001b[0m\u001b[0m\n\u001b[0m\u001b[1;32m   1181\u001b[0m         \u001b[0;32melse\u001b[0m\u001b[0;34m:\u001b[0m\u001b[0;34m\u001b[0m\u001b[0;34m\u001b[0m\u001b[0m\n\u001b[1;32m   1182\u001b[0m             \u001b[0;32mif\u001b[0m \u001b[0mengine\u001b[0m \u001b[0;34m==\u001b[0m \u001b[0;34m\"python\"\u001b[0m\u001b[0;34m:\u001b[0m\u001b[0;34m\u001b[0m\u001b[0;34m\u001b[0m\u001b[0m\n",
            "\u001b[0;32m/usr/local/lib/python3.7/dist-packages/pandas/io/parsers.py\u001b[0m in \u001b[0;36m__init__\u001b[0;34m(self, src, **kwds)\u001b[0m\n\u001b[1;32m   2008\u001b[0m         \u001b[0mkwds\u001b[0m\u001b[0;34m[\u001b[0m\u001b[0;34m\"usecols\"\u001b[0m\u001b[0;34m]\u001b[0m \u001b[0;34m=\u001b[0m \u001b[0mself\u001b[0m\u001b[0;34m.\u001b[0m\u001b[0musecols\u001b[0m\u001b[0;34m\u001b[0m\u001b[0;34m\u001b[0m\u001b[0m\n\u001b[1;32m   2009\u001b[0m \u001b[0;34m\u001b[0m\u001b[0m\n\u001b[0;32m-> 2010\u001b[0;31m         \u001b[0mself\u001b[0m\u001b[0;34m.\u001b[0m\u001b[0m_reader\u001b[0m \u001b[0;34m=\u001b[0m \u001b[0mparsers\u001b[0m\u001b[0;34m.\u001b[0m\u001b[0mTextReader\u001b[0m\u001b[0;34m(\u001b[0m\u001b[0msrc\u001b[0m\u001b[0;34m,\u001b[0m \u001b[0;34m**\u001b[0m\u001b[0mkwds\u001b[0m\u001b[0;34m)\u001b[0m\u001b[0;34m\u001b[0m\u001b[0;34m\u001b[0m\u001b[0m\n\u001b[0m\u001b[1;32m   2011\u001b[0m         \u001b[0mself\u001b[0m\u001b[0;34m.\u001b[0m\u001b[0munnamed_cols\u001b[0m \u001b[0;34m=\u001b[0m \u001b[0mself\u001b[0m\u001b[0;34m.\u001b[0m\u001b[0m_reader\u001b[0m\u001b[0;34m.\u001b[0m\u001b[0munnamed_cols\u001b[0m\u001b[0;34m\u001b[0m\u001b[0;34m\u001b[0m\u001b[0m\n\u001b[1;32m   2012\u001b[0m \u001b[0;34m\u001b[0m\u001b[0m\n",
            "\u001b[0;32mpandas/_libs/parsers.pyx\u001b[0m in \u001b[0;36mpandas._libs.parsers.TextReader.__cinit__\u001b[0;34m()\u001b[0m\n",
            "\u001b[0;32mpandas/_libs/parsers.pyx\u001b[0m in \u001b[0;36mpandas._libs.parsers.TextReader._setup_parser_source\u001b[0;34m()\u001b[0m\n",
            "\u001b[0;31mFileNotFoundError\u001b[0m: [Errno 2] No such file or directory: ''"
          ]
        }
      ]
    },
    {
      "cell_type": "code",
      "metadata": {
        "id": "M-tBGIj3pLeN"
      },
      "source": [
        "def rain_chart_maker(df, n):\n",
        "    key = {}\n",
        "    lst_rain = []\n",
        "\n",
        "    c = df[(df['hour'] == 1100) * (df[df.columns[2]] > 5)] # maybe 주말, 퇴근후?\n",
        "    for i in range(len(c.index)): # index = 위치 찾는 함수\n",
        "        mother_r = str(int((c.index[i] // 24) / 30) + 2)\n",
        "\n",
        "        try:\n",
        "            day_r = df[' format: day'][c.index[i]].lstrip() # lstrip() 함수는 인자로 전달된 문자를 왼쪽부터 제거\n",
        "\n",
        "        except:\n",
        "            pass\n",
        "\n",
        "        year = str(n)\n",
        "\n",
        "        try:\n",
        "            if (int((c.index[i] // 24) / 30) + 2) < 10 and (int(df[' format: day'][c.index[i]]) < 10):\n",
        "                key[pd.to_datetime(year + '-0' + month_r + '-0' + day_r)] = df[df.columns[2]][c.index[i]]\n",
        "                lst_rain.append(pd.to_datetime(year + '-0' + month_r + '-0' + day_r))\n",
        "                # key.append({year + '-0' + month_r + '-0' + day_r : df[df.columns[2]][c.index[i]]})\n",
        "\n",
        "            if (int((c.index[i] // 24) / 30) + 2) >= 10 and (int(df[' format: day'][c.index[i]]) < 10):\n",
        "                key[pd.to_datetime(year + '-' + month_r + '-0' + day_r)] = df[df.columns[2]][c.index[i]]\n",
        "                lst_rain.append(pd.to_datetime(year + '-' + month_r + '-0' + day_r))\n",
        "                # key.append({year + '-' + month_r + '-0' + day_r : df[df.columns[2]][c.index[i]]]})\n",
        "            \n",
        "            if(int((c.index[i] // 24) / 30) + 2) < 10 and (int(df[' format: day'][c.index[i]]) >= 10):\n",
        "                key[pd.to_datetime(year + '-0' + month_r + '-' + day_r)] = df[df.columns[2]][c.index[i]]\n",
        "                lst_rain.append(pd.to_datetime(year + '-0' + month_r + '-' + day_r))\n",
        "                # key.append({year + '-0' + month_r + '-' + day_r : df[df.columns[2]][c.index[i]]})\n",
        "\n",
        "            if(int((c.index[i] // 24) / 30) + 2) >= 10 and (int(df[' format: day'][c.index[i]]) >= 10):\n",
        "                lst_rain.append(pd.to_datetime(year + '-' + month_r + '-' + day_r))\n",
        "                key[pd.to_datetime(year + '-' + month_r + '-' + day_r)] = df[df.columns[2]][c.index[i]]\n",
        "                # key.append({year + '-' + month_r + '-' + day_r:df[df.columns[2]][c.index[i]]})\n",
        "\n",
        "        except:\n",
        "            pass\n",
        "        \n",
        "    return key, lst_rain"
      ],
      "execution_count": null,
      "outputs": []
    },
    {
      "cell_type": "code",
      "metadata": {
        "colab": {
          "base_uri": "https://localhost:8080/",
          "height": 244
        },
        "id": "8Lno3bcvzPOj",
        "outputId": "a5251a25-d181-46d0-bce0-deee210f21f9"
      },
      "source": [
        "# 연도별 강수량, 기온 key, lst 생성\n",
        "# 'rain_연도'는 df, '연도'는 n(year)로 함수에 들어감\n",
        "key_2016, lst_2016 = rain_chart_maker(rain_2016, 2016)\n",
        "key_2017, lst_2017 = rain_chart_maker(rain_2017, 2017)\n",
        "key_2018, lst_2018 = rain_chart_maker(rain_2018, 2018)\n",
        "key_2019, lst_2019 = rain_chart_maker(rain_2019, 2019)\n",
        "key_2020, lst_2020 = rain_chart_maker(rain_2020, 2020)\n",
        "key_2021, lst_2021 = rain_chart_maker(rain_2021, 2021)\n",
        "\n",
        "key_t_2016, lst_t_2016 = rain_chart_maker(tem_2016, 2016)\n",
        "key_t_2017, lst_t_2017 = rain_chart_maker(tem_2017, 2017)\n",
        "key_t_2018, lst_t_2018 = rain_chart_maker(tem_2018, 2018)\n",
        "key_t_2019, lst_t_2019 = rain_chart_maker(tem_2019, 2019)\n",
        "key_t_2020, lst_t_2020 = rain_chart_maker(tem_2020, 2020)\n",
        "key_t_2021, lst_t_2021 = rain_chart_maker(tem_2021, 2021)"
      ],
      "execution_count": null,
      "outputs": [
        {
          "output_type": "error",
          "ename": "NameError",
          "evalue": "ignored",
          "traceback": [
            "\u001b[0;31m---------------------------------------------------------------------------\u001b[0m",
            "\u001b[0;31mNameError\u001b[0m                                 Traceback (most recent call last)",
            "\u001b[0;32m<ipython-input-78-fc7abbf0d7cd>\u001b[0m in \u001b[0;36m<module>\u001b[0;34m()\u001b[0m\n\u001b[1;32m      1\u001b[0m \u001b[0;31m# 연도별 강수량, 기온 key, lst 생성\u001b[0m\u001b[0;34m\u001b[0m\u001b[0;34m\u001b[0m\u001b[0;34m\u001b[0m\u001b[0m\n\u001b[1;32m      2\u001b[0m \u001b[0;31m# 'rain_연도'는 df, '연도'는 n(year)로 함수에 들어감\u001b[0m\u001b[0;34m\u001b[0m\u001b[0;34m\u001b[0m\u001b[0;34m\u001b[0m\u001b[0m\n\u001b[0;32m----> 3\u001b[0;31m \u001b[0mkey_2016\u001b[0m\u001b[0;34m,\u001b[0m \u001b[0mlst_2016\u001b[0m \u001b[0;34m=\u001b[0m \u001b[0mrain_chart_maker\u001b[0m\u001b[0;34m(\u001b[0m\u001b[0mrain_2016\u001b[0m\u001b[0;34m,\u001b[0m \u001b[0;36m2016\u001b[0m\u001b[0;34m)\u001b[0m\u001b[0;34m\u001b[0m\u001b[0;34m\u001b[0m\u001b[0m\n\u001b[0m\u001b[1;32m      4\u001b[0m \u001b[0mkey_2017\u001b[0m\u001b[0;34m,\u001b[0m \u001b[0mlst_2017\u001b[0m \u001b[0;34m=\u001b[0m \u001b[0mrain_chart_maker\u001b[0m\u001b[0;34m(\u001b[0m\u001b[0mrain_2017\u001b[0m\u001b[0;34m,\u001b[0m \u001b[0;36m2017\u001b[0m\u001b[0;34m)\u001b[0m\u001b[0;34m\u001b[0m\u001b[0;34m\u001b[0m\u001b[0m\n\u001b[1;32m      5\u001b[0m \u001b[0mkey_2018\u001b[0m\u001b[0;34m,\u001b[0m \u001b[0mlst_2018\u001b[0m \u001b[0;34m=\u001b[0m \u001b[0mrain_chart_maker\u001b[0m\u001b[0;34m(\u001b[0m\u001b[0mrain_2018\u001b[0m\u001b[0;34m,\u001b[0m \u001b[0;36m2018\u001b[0m\u001b[0;34m)\u001b[0m\u001b[0;34m\u001b[0m\u001b[0;34m\u001b[0m\u001b[0m\n",
            "\u001b[0;31mNameError\u001b[0m: name 'rain_2016' is not defined"
          ]
        }
      ]
    },
    {
      "cell_type": "code",
      "metadata": {
        "id": "l9FXL66R2Ges"
      },
      "source": [
        "# '강수량', '기온' column 생성 후 초기화\n",
        "train['강수량'] = 0\n",
        "test['강수량'] = 0\n",
        "train['기온'] = 0\n",
        "test['기온'] = 0"
      ],
      "execution_count": null,
      "outputs": []
    },
    {
      "cell_type": "code",
      "metadata": {
        "colab": {
          "base_uri": "https://localhost:8080/",
          "height": 244
        },
        "id": "JJuVl8bc2thT",
        "outputId": "4ccf67c7-ab2a-477c-87b1-6f79a4f431cf"
      },
      "source": [
        "# 연도별 기온 반영\n",
        "for i in lst_t_2021:\n",
        "  for k in train['일자']:\n",
        "      if i == k:\n",
        "        train['기온'][train[train['일자']==k].index[0]] = key_t_2021[i]\n",
        "for i in lst_t_2020:\n",
        "  for k in train['일자']:\n",
        "      if i == k:\n",
        "        train['기온'][train[train['일자']==k].index[0]] = key_t_2020[i]\n",
        "for i in lst_t_2019:\n",
        "  for k in train['일자']:\n",
        "      if i == k:\n",
        "        train['기온'][train[train['일자']==k].index[0]] = key_t_2019[i]\n",
        "for i in lst_t_2018:\n",
        "  for k in train['일자']:\n",
        "      if i == k:\n",
        "        train['기온'][train[train['일자']==k].index[0]] = key_t_2018[i]\n",
        "for i in lst_t_2017:\n",
        "  for k in train['일자']:\n",
        "      if i == k:\n",
        "        train['기온'][train[train['일자']==k].index[0]] = key_t_2017[i]\n",
        "for i in lst_t_2016:\n",
        "  for k in train['일자']:\n",
        "      if i == k:\n",
        "        train['기온'][train[train['일자']==k].index[0]] = key_t_2016[i]\n",
        "for i in lst_t_2021:\n",
        "  for k in test['일자']:\n",
        "      if i == k:\n",
        "        test['기온'][test[test['일자']==k].index[0]] = key_t_2021[i]\n",
        "print('done')"
      ],
      "execution_count": null,
      "outputs": [
        {
          "output_type": "error",
          "ename": "NameError",
          "evalue": "ignored",
          "traceback": [
            "\u001b[0;31m---------------------------------------------------------------------------\u001b[0m",
            "\u001b[0;31mNameError\u001b[0m                                 Traceback (most recent call last)",
            "\u001b[0;32m<ipython-input-80-096be569a85e>\u001b[0m in \u001b[0;36m<module>\u001b[0;34m()\u001b[0m\n\u001b[1;32m      1\u001b[0m \u001b[0;31m# 연도별 기온 반영\u001b[0m\u001b[0;34m\u001b[0m\u001b[0;34m\u001b[0m\u001b[0;34m\u001b[0m\u001b[0m\n\u001b[0;32m----> 2\u001b[0;31m \u001b[0;32mfor\u001b[0m \u001b[0mi\u001b[0m \u001b[0;32min\u001b[0m \u001b[0mlst_t_2021\u001b[0m\u001b[0;34m:\u001b[0m\u001b[0;34m\u001b[0m\u001b[0;34m\u001b[0m\u001b[0m\n\u001b[0m\u001b[1;32m      3\u001b[0m   \u001b[0;32mfor\u001b[0m \u001b[0mk\u001b[0m \u001b[0;32min\u001b[0m \u001b[0mtrain\u001b[0m\u001b[0;34m[\u001b[0m\u001b[0;34m'일자'\u001b[0m\u001b[0;34m]\u001b[0m\u001b[0;34m:\u001b[0m\u001b[0;34m\u001b[0m\u001b[0;34m\u001b[0m\u001b[0m\n\u001b[1;32m      4\u001b[0m       \u001b[0;32mif\u001b[0m \u001b[0mi\u001b[0m \u001b[0;34m==\u001b[0m \u001b[0mk\u001b[0m\u001b[0;34m:\u001b[0m\u001b[0;34m\u001b[0m\u001b[0;34m\u001b[0m\u001b[0m\n\u001b[1;32m      5\u001b[0m         \u001b[0mtrain\u001b[0m\u001b[0;34m[\u001b[0m\u001b[0;34m'기온'\u001b[0m\u001b[0;34m]\u001b[0m\u001b[0;34m[\u001b[0m\u001b[0mtrain\u001b[0m\u001b[0;34m[\u001b[0m\u001b[0mtrain\u001b[0m\u001b[0;34m[\u001b[0m\u001b[0;34m'일자'\u001b[0m\u001b[0;34m]\u001b[0m\u001b[0;34m==\u001b[0m\u001b[0mk\u001b[0m\u001b[0;34m]\u001b[0m\u001b[0;34m.\u001b[0m\u001b[0mindex\u001b[0m\u001b[0;34m[\u001b[0m\u001b[0;36m0\u001b[0m\u001b[0;34m]\u001b[0m\u001b[0;34m]\u001b[0m \u001b[0;34m=\u001b[0m \u001b[0mkey_t_2021\u001b[0m\u001b[0;34m[\u001b[0m\u001b[0mi\u001b[0m\u001b[0;34m]\u001b[0m\u001b[0;34m\u001b[0m\u001b[0;34m\u001b[0m\u001b[0m\n",
            "\u001b[0;31mNameError\u001b[0m: name 'lst_t_2021' is not defined"
          ]
        }
      ]
    },
    {
      "cell_type": "code",
      "metadata": {
        "colab": {
          "base_uri": "https://localhost:8080/",
          "height": 244
        },
        "id": "X5KbIBa04d_6",
        "outputId": "04aebcec-da2d-4a9c-d5fd-1e8ce20aecb4"
      },
      "source": [
        "# 연도별 강수량 반영\n",
        "for i in lst_2021:\n",
        "  for k in train['일자']:\n",
        "      if i == k:\n",
        "        train['강수량'][train[train['일자']==k].index[0]] = key_2021[i]\n",
        "for i in lst_2020:\n",
        "  for k in train['일자']:\n",
        "      if i == k:\n",
        "        train['강수량'][train[train['일자']==k].index[0]] = key_2020[i]\n",
        "for i in lst_2019:\n",
        "  for k in train['일자']:\n",
        "      if i == k:\n",
        "        train['강수량'][train[train['일자']==k].index[0]] = key_2019[i]\n",
        "for i in lst_2018:\n",
        "  for k in train['일자']:\n",
        "      if i == k:\n",
        "        train['강수량'][train[train['일자']==k].index[0]] = key_2018[i]\n",
        "for i in lst_2017:\n",
        "  for k in train['일자']:\n",
        "      if i == k:\n",
        "        train['강수량'][train[train['일자']==k].index[0]] = key_2017[i]\n",
        "for i in lst_2016:\n",
        "  for k in train['일자']:\n",
        "      if i == k:\n",
        "        train['강수량'][train[train['일자']==k].index[0]] = key_2016[i]\n",
        "for i in lst_2021:\n",
        "  for k in test['일자']:\n",
        "      if i == k:\n",
        "        test['강수량'][test[test['일자']==k].index[0]] = key_2021[i]\n",
        "print('done')"
      ],
      "execution_count": null,
      "outputs": [
        {
          "output_type": "error",
          "ename": "NameError",
          "evalue": "ignored",
          "traceback": [
            "\u001b[0;31m---------------------------------------------------------------------------\u001b[0m",
            "\u001b[0;31mNameError\u001b[0m                                 Traceback (most recent call last)",
            "\u001b[0;32m<ipython-input-81-6e513b5a882d>\u001b[0m in \u001b[0;36m<module>\u001b[0;34m()\u001b[0m\n\u001b[1;32m      1\u001b[0m \u001b[0;31m# 연도별 강수량 반영\u001b[0m\u001b[0;34m\u001b[0m\u001b[0;34m\u001b[0m\u001b[0;34m\u001b[0m\u001b[0m\n\u001b[0;32m----> 2\u001b[0;31m \u001b[0;32mfor\u001b[0m \u001b[0mi\u001b[0m \u001b[0;32min\u001b[0m \u001b[0mlst_2021\u001b[0m\u001b[0;34m:\u001b[0m\u001b[0;34m\u001b[0m\u001b[0;34m\u001b[0m\u001b[0m\n\u001b[0m\u001b[1;32m      3\u001b[0m   \u001b[0;32mfor\u001b[0m \u001b[0mk\u001b[0m \u001b[0;32min\u001b[0m \u001b[0mtrain\u001b[0m\u001b[0;34m[\u001b[0m\u001b[0;34m'일자'\u001b[0m\u001b[0;34m]\u001b[0m\u001b[0;34m:\u001b[0m\u001b[0;34m\u001b[0m\u001b[0;34m\u001b[0m\u001b[0m\n\u001b[1;32m      4\u001b[0m       \u001b[0;32mif\u001b[0m \u001b[0mi\u001b[0m \u001b[0;34m==\u001b[0m \u001b[0mk\u001b[0m\u001b[0;34m:\u001b[0m\u001b[0;34m\u001b[0m\u001b[0;34m\u001b[0m\u001b[0m\n\u001b[1;32m      5\u001b[0m         \u001b[0mtrain\u001b[0m\u001b[0;34m[\u001b[0m\u001b[0;34m'강수량'\u001b[0m\u001b[0;34m]\u001b[0m\u001b[0;34m[\u001b[0m\u001b[0mtrain\u001b[0m\u001b[0;34m[\u001b[0m\u001b[0mtrain\u001b[0m\u001b[0;34m[\u001b[0m\u001b[0;34m'일자'\u001b[0m\u001b[0;34m]\u001b[0m\u001b[0;34m==\u001b[0m\u001b[0mk\u001b[0m\u001b[0;34m]\u001b[0m\u001b[0;34m.\u001b[0m\u001b[0mindex\u001b[0m\u001b[0;34m[\u001b[0m\u001b[0;36m0\u001b[0m\u001b[0;34m]\u001b[0m\u001b[0;34m]\u001b[0m \u001b[0;34m=\u001b[0m \u001b[0mkey_2021\u001b[0m\u001b[0;34m[\u001b[0m\u001b[0mi\u001b[0m\u001b[0;34m]\u001b[0m\u001b[0;34m\u001b[0m\u001b[0;34m\u001b[0m\u001b[0m\n",
            "\u001b[0;31mNameError\u001b[0m: name 'lst_2021' is not defined"
          ]
        }
      ]
    },
    {
      "cell_type": "markdown",
      "metadata": {
        "id": "M71uvOrd7OKI"
      },
      "source": [
        "**공휴일 전후 데이터 추가**\n",
        "* 테스트 데이터에 설날 연휴, 어린이날 존재\n",
        "* 연휴 전날 1로 인코딩 나머지 0"
      ]
    },
    {
      "cell_type": "code",
      "metadata": {
        "id": "xpWtW95o5wBu"
      },
      "source": [
        "# 새로운 column 생성\n",
        "train['공휴일전후'] = 0\n",
        "test['공휴일전후'] = 0"
      ],
      "execution_count": null,
      "outputs": []
    },
    {
      "cell_type": "code",
      "metadata": {
        "id": "jaty5uu37ZC7"
      },
      "source": [
        "# 한땀한땀 공휴일 지정..\n",
        "train['공휴일전후'][17] = 1\n",
        "train['공휴일전후'][3] = 1\n",
        "train['공휴일전후'][62] = 1\n",
        "# train['공휴일전후'][67] = 1\n",
        "# train['공휴일전후'][82] = 1\n",
        "train['공휴일전후'][131] = 1\n",
        "# train['공휴일전후'][130] = 1\n",
        "train['공휴일전후'][152] = 1\n",
        "train['공휴일전후'][226] = 1\n",
        "train['공휴일전후'][221] = 1\n",
        "train['공휴일전후'][224] = 1\n",
        "# train['공휴일전후'][244] = 1\n",
        "train['공휴일전후'][245] = 1\n",
        "# train['공휴일전후'][267] = 1\n",
        "train['공휴일전후'][310] = 2\n",
        "train['공휴일전후'][311] = 1\n",
        "train['공휴일전후'][309] = 1\n",
        "train['공휴일전후'][330] = 1\n",
        "train['공휴일전후'][379] = 1\n",
        "train['공휴일전후'][467] = 1\n",
        "# train['공휴일전후'][469] = 1\n",
        "train['공휴일전후'][470] = 1\n",
        "train['공휴일전후'][502] = 2\n",
        "# train['공휴일전후'][501] = 1\n",
        "# train['공휴일전후'][511] = 1\n",
        "train['공휴일전후'][565] = 1\n",
        "train['공휴일전후'][623] = 1\n",
        "train['공휴일전후'][651] = 1\n",
        "# train['공휴일전후'][650] = 1\n",
        "train['공휴일전후'][705] = 1\n",
        "# train['공휴일전후'][707] = 1\n",
        "train['공휴일전후'][709] = 1\n",
        "# train['공휴일전후'][733] = 1\n",
        "# train['공휴일전후'][748] = 1\n",
        "# train['공휴일전후'][792] = 1\n",
        "train['공휴일전후'][815] = 1\n",
        "train['공휴일전후'][864] = 1\n",
        "# train['공휴일전후'][863] = 1\n",
        "train['공휴일전후'][950] = 1\n",
        "train['공휴일전후'][951] = 1\n",
        "train['공휴일전후'][953] = 1\n",
        "train['공휴일전후'][954] = 1\n",
        "train['공휴일전후'][955] = 1\n",
        "train['공휴일전후'][971] = 2\n",
        "# train['공휴일전후'][970] = 1\n",
        "# train['공휴일전후'][1037] = 1\n",
        "train['공휴일전후'][1038] = 1\n",
        "train['공휴일전후'][1099] = 1\n",
        "train['공휴일전후'][1129] = 1\n",
        "# train['공휴일전후'][1128] = 1\n",
        "train['공휴일전후'][1187] = 1\n",
        "# train['공휴일전후'][1186] = 1\n",
        "\n",
        "test['공휴일전후'][10] = 2\n",
        "test['공휴일전후'][20] = 1"
      ],
      "execution_count": null,
      "outputs": []
    },
    {
      "cell_type": "markdown",
      "metadata": {
        "id": "XO1j33ot7_Vm"
      },
      "source": [
        "**원-핫 인코딩**"
      ]
    },
    {
      "cell_type": "code",
      "metadata": {
        "id": "dRt6ju6r758F"
      },
      "source": [
        "# 변수간 관계성 삭제 (더미화, 가변수화)\n",
        "train = pd.get_dummies(train, columns = ['공휴일전후'])\n",
        "test = pd.get_dummies(test, columns = ['공휴일전후'])"
      ],
      "execution_count": null,
      "outputs": []
    },
    {
      "cell_type": "code",
      "metadata": {
        "id": "IwRQykiy8Pla"
      },
      "source": [
        "test['공휴일전후_0'][20] = 1\n",
        "test['공휴일전후_1'][20] = 0"
      ],
      "execution_count": null,
      "outputs": []
    },
    {
      "cell_type": "code",
      "metadata": {
        "colab": {
          "base_uri": "https://localhost:8080/",
          "height": 663
        },
        "id": "kWQHIcnz8XPJ",
        "outputId": "6bc691f2-badb-46de-f7c1-b51bc0545ea9"
      },
      "source": [
        "test.head()"
      ],
      "execution_count": null,
      "outputs": [
        {
          "output_type": "execute_result",
          "data": {
            "text/html": [
              "<div>\n",
              "<style scoped>\n",
              "    .dataframe tbody tr th:only-of-type {\n",
              "        vertical-align: middle;\n",
              "    }\n",
              "\n",
              "    .dataframe tbody tr th {\n",
              "        vertical-align: top;\n",
              "    }\n",
              "\n",
              "    .dataframe thead th {\n",
              "        text-align: right;\n",
              "    }\n",
              "</style>\n",
              "<table border=\"1\" class=\"dataframe\">\n",
              "  <thead>\n",
              "    <tr style=\"text-align: right;\">\n",
              "      <th></th>\n",
              "      <th>일자</th>\n",
              "      <th>요일</th>\n",
              "      <th>본사정원수</th>\n",
              "      <th>본사휴가자수</th>\n",
              "      <th>본사출장자수</th>\n",
              "      <th>본사시간외근무명령서승인건수</th>\n",
              "      <th>현본사소속재택근무자수</th>\n",
              "      <th>조식메뉴</th>\n",
              "      <th>중식메뉴</th>\n",
              "      <th>석식메뉴</th>\n",
              "      <th>년</th>\n",
              "      <th>월</th>\n",
              "      <th>일</th>\n",
              "      <th>주</th>\n",
              "      <th>출근</th>\n",
              "      <th>휴가비율</th>\n",
              "      <th>출장비율</th>\n",
              "      <th>야근비율</th>\n",
              "      <th>재택비율</th>\n",
              "      <th>중식메뉴_split</th>\n",
              "      <th>석식메뉴_split</th>\n",
              "      <th>문화의날</th>\n",
              "      <th>강수량</th>\n",
              "      <th>기온</th>\n",
              "      <th>공휴일전후_0</th>\n",
              "      <th>공휴일전후_1</th>\n",
              "      <th>공휴일전후_2</th>\n",
              "    </tr>\n",
              "  </thead>\n",
              "  <tbody>\n",
              "    <tr>\n",
              "      <th>0</th>\n",
              "      <td>2021-01-27</td>\n",
              "      <td>2</td>\n",
              "      <td>2983</td>\n",
              "      <td>88</td>\n",
              "      <td>182</td>\n",
              "      <td>5</td>\n",
              "      <td>358</td>\n",
              "      <td>모닝롤/연유버터베이글 우유/주스 계란후라이/찐계란 단호박죽/흑미밥 우거지국 고기완자...</td>\n",
              "      <td>쌀밥/흑미밥/찰현미밥 대구지리 매운돈갈비찜 오꼬노미계란말이 상추무침 포기김치 양상추...</td>\n",
              "      <td>흑미밥 얼큰순두부찌개 쇠고기우엉볶음 버섯햄볶음 (New)아삭이고추무절임 포기김치</td>\n",
              "      <td>2021</td>\n",
              "      <td>1</td>\n",
              "      <td>27</td>\n",
              "      <td>4</td>\n",
              "      <td>2355</td>\n",
              "      <td>0.029501</td>\n",
              "      <td>0.061012</td>\n",
              "      <td>0.002123</td>\n",
              "      <td>0.120013</td>\n",
              "      <td>[상추무침, 양상추샐러드*딸기D, 쌀밥, 오꼬노미계란말이, 찰현미밥, 대구지리, 매...</td>\n",
              "      <td>[버섯햄볶음, 포기김치, 얼큰순두부찌개, 흑미밥, 쇠고기우엉볶음]</td>\n",
              "      <td>1</td>\n",
              "      <td>0</td>\n",
              "      <td>0</td>\n",
              "      <td>1</td>\n",
              "      <td>0</td>\n",
              "      <td>0</td>\n",
              "    </tr>\n",
              "    <tr>\n",
              "      <th>1</th>\n",
              "      <td>2021-01-28</td>\n",
              "      <td>3</td>\n",
              "      <td>2983</td>\n",
              "      <td>104</td>\n",
              "      <td>212</td>\n",
              "      <td>409</td>\n",
              "      <td>348</td>\n",
              "      <td>모닝롤/대만샌드위치 우유/주스 계란후라이/찐계란 누룽지탕/흑미밥 황태국 시래기지짐 ...</td>\n",
              "      <td>쌀밥/보리밥/찰현미밥 우렁된장찌개 오리주물럭 청양부추전 수제삼색무쌈 겉절이김치 양상...</td>\n",
              "      <td>충무김밥 우동국물 오징어무침 꽃맛살샐러드 얼갈이쌈장무침 석박지</td>\n",
              "      <td>2021</td>\n",
              "      <td>1</td>\n",
              "      <td>28</td>\n",
              "      <td>4</td>\n",
              "      <td>2319</td>\n",
              "      <td>0.034864</td>\n",
              "      <td>0.071069</td>\n",
              "      <td>0.176369</td>\n",
              "      <td>0.116661</td>\n",
              "      <td>[수제삼색무쌈, 겉절이김치, 쌀밥, 우렁된장찌개, 찰현미밥, 청양부추전, 보리밥, ...</td>\n",
              "      <td>[꽃맛살샐러드, 오징어무침, 우동국물, 얼갈이쌈장무침, 충무김밥, 석박지]</td>\n",
              "      <td>0</td>\n",
              "      <td>0</td>\n",
              "      <td>0</td>\n",
              "      <td>1</td>\n",
              "      <td>0</td>\n",
              "      <td>0</td>\n",
              "    </tr>\n",
              "    <tr>\n",
              "      <th>2</th>\n",
              "      <td>2021-01-29</td>\n",
              "      <td>4</td>\n",
              "      <td>2983</td>\n",
              "      <td>270</td>\n",
              "      <td>249</td>\n",
              "      <td>0</td>\n",
              "      <td>294</td>\n",
              "      <td>모닝롤/핫케익 우유/주스 계란후라이/찐계란 오곡죽/흑미밥 매생이굴국 고구마순볶음 양...</td>\n",
              "      <td>쌀밥/흑미밥/찰현미밥 팽이장국 수제돈까스*소스 가자미조림 동초나물무침 포기김치 양상...</td>\n",
              "      <td>흑미밥 물만둣국 카레찜닭 숯불양념꼬지어묵 꼬시래기무침 포기김치</td>\n",
              "      <td>2021</td>\n",
              "      <td>1</td>\n",
              "      <td>29</td>\n",
              "      <td>4</td>\n",
              "      <td>2170</td>\n",
              "      <td>0.090513</td>\n",
              "      <td>0.083473</td>\n",
              "      <td>0.000000</td>\n",
              "      <td>0.098558</td>\n",
              "      <td>[수제돈까스*소스, 쌀밥, 가자미조림, 팽이장국, 찰현미밥, 양상추샐러드*파인요거트...</td>\n",
              "      <td>[숯불양념꼬지어묵, 꼬시래기무침, 물만둣국, 포기김치, 흑미밥, 카레찜닭]</td>\n",
              "      <td>0</td>\n",
              "      <td>0</td>\n",
              "      <td>0</td>\n",
              "      <td>1</td>\n",
              "      <td>0</td>\n",
              "      <td>0</td>\n",
              "    </tr>\n",
              "    <tr>\n",
              "      <th>3</th>\n",
              "      <td>2021-02-01</td>\n",
              "      <td>0</td>\n",
              "      <td>2924</td>\n",
              "      <td>108</td>\n",
              "      <td>154</td>\n",
              "      <td>538</td>\n",
              "      <td>322</td>\n",
              "      <td>모닝롤/촉촉한치즈케익 우유/주스 계란후라이/찐계란 누룽지탕/흑미밥 두부김칫국 새우완...</td>\n",
              "      <td>쌀밥/흑미밥/찰현미밥 배추들깨국 오리대패불고기 시금치프리타타 부추고추장무침 포기김치...</td>\n",
              "      <td>흑미밥 동태탕 돈육꽈리고추장조림 당면채소무침 모자반무침 포기김치</td>\n",
              "      <td>2021</td>\n",
              "      <td>2</td>\n",
              "      <td>1</td>\n",
              "      <td>5</td>\n",
              "      <td>2340</td>\n",
              "      <td>0.036936</td>\n",
              "      <td>0.052668</td>\n",
              "      <td>0.229915</td>\n",
              "      <td>0.110123</td>\n",
              "      <td>[부추고추장무침, 양상추샐러드*망고D, 쌀밥, 찰현미밥, 오리대패불고기, 배추들깨국...</td>\n",
              "      <td>[모자반무침, 당면채소무침, 동태탕, 포기김치, 흑미밥, 돈육꽈리고추장조림]</td>\n",
              "      <td>0</td>\n",
              "      <td>0</td>\n",
              "      <td>0</td>\n",
              "      <td>1</td>\n",
              "      <td>0</td>\n",
              "      <td>0</td>\n",
              "    </tr>\n",
              "    <tr>\n",
              "      <th>4</th>\n",
              "      <td>2021-02-02</td>\n",
              "      <td>1</td>\n",
              "      <td>2924</td>\n",
              "      <td>62</td>\n",
              "      <td>186</td>\n",
              "      <td>455</td>\n",
              "      <td>314</td>\n",
              "      <td>모닝롤/토마토샌드 우유/주스 계란후라이/찐계란 채소죽/흑미밥 호박맑은국 오이생채 양...</td>\n",
              "      <td>쌀밥/팥밥/찰현미밥 부대찌개 닭살데리야끼조림 버섯탕수 세발나물무침 알타리김치/사과푸...</td>\n",
              "      <td>흑미밥 바지락살국 쇠고기청경채볶음 두부구이*볶은김치 머위된장무침 백김치</td>\n",
              "      <td>2021</td>\n",
              "      <td>2</td>\n",
              "      <td>2</td>\n",
              "      <td>5</td>\n",
              "      <td>2362</td>\n",
              "      <td>0.021204</td>\n",
              "      <td>0.063611</td>\n",
              "      <td>0.192633</td>\n",
              "      <td>0.107387</td>\n",
              "      <td>[사과푸딩, 쌀밥, 버섯탕수, 알타리김치, 찰현미밥, 양상추샐러드*오리엔탈D, 팥밥...</td>\n",
              "      <td>[쇠고기청경채볶음, 머위된장무침, 두부구이*볶은김치, 바지락살국, 백김치, 흑미밥]</td>\n",
              "      <td>0</td>\n",
              "      <td>0</td>\n",
              "      <td>0</td>\n",
              "      <td>1</td>\n",
              "      <td>0</td>\n",
              "      <td>0</td>\n",
              "    </tr>\n",
              "  </tbody>\n",
              "</table>\n",
              "</div>"
            ],
            "text/plain": [
              "          일자  요일  본사정원수  본사휴가자수  본사출장자수  본사시간외근무명령서승인건수  현본사소속재택근무자수  \\\n",
              "0 2021-01-27   2   2983      88     182               5          358   \n",
              "1 2021-01-28   3   2983     104     212             409          348   \n",
              "2 2021-01-29   4   2983     270     249               0          294   \n",
              "3 2021-02-01   0   2924     108     154             538          322   \n",
              "4 2021-02-02   1   2924      62     186             455          314   \n",
              "\n",
              "                                                조식메뉴  \\\n",
              "0  모닝롤/연유버터베이글 우유/주스 계란후라이/찐계란 단호박죽/흑미밥 우거지국 고기완자...   \n",
              "1  모닝롤/대만샌드위치 우유/주스 계란후라이/찐계란 누룽지탕/흑미밥 황태국 시래기지짐 ...   \n",
              "2  모닝롤/핫케익 우유/주스 계란후라이/찐계란 오곡죽/흑미밥 매생이굴국 고구마순볶음 양...   \n",
              "3  모닝롤/촉촉한치즈케익 우유/주스 계란후라이/찐계란 누룽지탕/흑미밥 두부김칫국 새우완...   \n",
              "4  모닝롤/토마토샌드 우유/주스 계란후라이/찐계란 채소죽/흑미밥 호박맑은국 오이생채 양...   \n",
              "\n",
              "                                                중식메뉴  \\\n",
              "0  쌀밥/흑미밥/찰현미밥 대구지리 매운돈갈비찜 오꼬노미계란말이 상추무침 포기김치 양상추...   \n",
              "1  쌀밥/보리밥/찰현미밥 우렁된장찌개 오리주물럭 청양부추전 수제삼색무쌈 겉절이김치 양상...   \n",
              "2  쌀밥/흑미밥/찰현미밥 팽이장국 수제돈까스*소스 가자미조림 동초나물무침 포기김치 양상...   \n",
              "3  쌀밥/흑미밥/찰현미밥 배추들깨국 오리대패불고기 시금치프리타타 부추고추장무침 포기김치...   \n",
              "4  쌀밥/팥밥/찰현미밥 부대찌개 닭살데리야끼조림 버섯탕수 세발나물무침 알타리김치/사과푸...   \n",
              "\n",
              "                                            석식메뉴     년  월   일  주    출근  \\\n",
              "0  흑미밥 얼큰순두부찌개 쇠고기우엉볶음 버섯햄볶음 (New)아삭이고추무절임 포기김치   2021  1  27  4  2355   \n",
              "1            충무김밥 우동국물 오징어무침 꽃맛살샐러드 얼갈이쌈장무침 석박지   2021  1  28  4  2319   \n",
              "2            흑미밥 물만둣국 카레찜닭 숯불양념꼬지어묵 꼬시래기무침 포기김치   2021  1  29  4  2170   \n",
              "3           흑미밥 동태탕 돈육꽈리고추장조림 당면채소무침 모자반무침 포기김치   2021  2   1  5  2340   \n",
              "4       흑미밥 바지락살국 쇠고기청경채볶음 두부구이*볶은김치 머위된장무침 백김치   2021  2   2  5  2362   \n",
              "\n",
              "       휴가비율      출장비율      야근비율      재택비율  \\\n",
              "0  0.029501  0.061012  0.002123  0.120013   \n",
              "1  0.034864  0.071069  0.176369  0.116661   \n",
              "2  0.090513  0.083473  0.000000  0.098558   \n",
              "3  0.036936  0.052668  0.229915  0.110123   \n",
              "4  0.021204  0.063611  0.192633  0.107387   \n",
              "\n",
              "                                          중식메뉴_split  \\\n",
              "0  [상추무침, 양상추샐러드*딸기D, 쌀밥, 오꼬노미계란말이, 찰현미밥, 대구지리, 매...   \n",
              "1  [수제삼색무쌈, 겉절이김치, 쌀밥, 우렁된장찌개, 찰현미밥, 청양부추전, 보리밥, ...   \n",
              "2  [수제돈까스*소스, 쌀밥, 가자미조림, 팽이장국, 찰현미밥, 양상추샐러드*파인요거트...   \n",
              "3  [부추고추장무침, 양상추샐러드*망고D, 쌀밥, 찰현미밥, 오리대패불고기, 배추들깨국...   \n",
              "4  [사과푸딩, 쌀밥, 버섯탕수, 알타리김치, 찰현미밥, 양상추샐러드*오리엔탈D, 팥밥...   \n",
              "\n",
              "                                       석식메뉴_split  문화의날  강수량  기온  공휴일전후_0  \\\n",
              "0            [버섯햄볶음, 포기김치, 얼큰순두부찌개, 흑미밥, 쇠고기우엉볶음]     1    0   0        1   \n",
              "1       [꽃맛살샐러드, 오징어무침, 우동국물, 얼갈이쌈장무침, 충무김밥, 석박지]     0    0   0        1   \n",
              "2       [숯불양념꼬지어묵, 꼬시래기무침, 물만둣국, 포기김치, 흑미밥, 카레찜닭]     0    0   0        1   \n",
              "3      [모자반무침, 당면채소무침, 동태탕, 포기김치, 흑미밥, 돈육꽈리고추장조림]     0    0   0        1   \n",
              "4  [쇠고기청경채볶음, 머위된장무침, 두부구이*볶은김치, 바지락살국, 백김치, 흑미밥]     0    0   0        1   \n",
              "\n",
              "   공휴일전후_1  공휴일전후_2  \n",
              "0        0        0  \n",
              "1        0        0  \n",
              "2        0        0  \n",
              "3        0        0  \n",
              "4        0        0  "
            ]
          },
          "metadata": {
            "tags": []
          },
          "execution_count": 87
        }
      ]
    },
    {
      "cell_type": "code",
      "metadata": {
        "colab": {
          "base_uri": "https://localhost:8080/",
          "height": 578
        },
        "id": "kh4efLmD5u8P",
        "outputId": "4ef8c371-c7f4-4918-f80f-359e9aa6818a"
      },
      "source": [
        "train.head()"
      ],
      "execution_count": null,
      "outputs": [
        {
          "output_type": "execute_result",
          "data": {
            "text/html": [
              "<div>\n",
              "<style scoped>\n",
              "    .dataframe tbody tr th:only-of-type {\n",
              "        vertical-align: middle;\n",
              "    }\n",
              "\n",
              "    .dataframe tbody tr th {\n",
              "        vertical-align: top;\n",
              "    }\n",
              "\n",
              "    .dataframe thead th {\n",
              "        text-align: right;\n",
              "    }\n",
              "</style>\n",
              "<table border=\"1\" class=\"dataframe\">\n",
              "  <thead>\n",
              "    <tr style=\"text-align: right;\">\n",
              "      <th></th>\n",
              "      <th>일자</th>\n",
              "      <th>요일</th>\n",
              "      <th>본사정원수</th>\n",
              "      <th>본사휴가자수</th>\n",
              "      <th>본사출장자수</th>\n",
              "      <th>본사시간외근무명령서승인건수</th>\n",
              "      <th>현본사소속재택근무자수</th>\n",
              "      <th>조식메뉴</th>\n",
              "      <th>중식메뉴</th>\n",
              "      <th>석식메뉴</th>\n",
              "      <th>중식계</th>\n",
              "      <th>석식계</th>\n",
              "      <th>년</th>\n",
              "      <th>월</th>\n",
              "      <th>일</th>\n",
              "      <th>주</th>\n",
              "      <th>출근</th>\n",
              "      <th>휴가비율</th>\n",
              "      <th>출장비율</th>\n",
              "      <th>야근비율</th>\n",
              "      <th>재택비율</th>\n",
              "      <th>중식메뉴_split</th>\n",
              "      <th>석식메뉴_split</th>\n",
              "      <th>문화의날</th>\n",
              "      <th>강수량</th>\n",
              "      <th>기온</th>\n",
              "    </tr>\n",
              "  </thead>\n",
              "  <tbody>\n",
              "    <tr>\n",
              "      <th>0</th>\n",
              "      <td>2016-02-01</td>\n",
              "      <td>0</td>\n",
              "      <td>2601</td>\n",
              "      <td>50</td>\n",
              "      <td>150</td>\n",
              "      <td>238</td>\n",
              "      <td>0</td>\n",
              "      <td>모닝롤/찐빵  우유/두유/주스 계란후라이  호두죽/쌀밥 (쌀:국내산) 된장찌개  쥐...</td>\n",
              "      <td>쌀밥/잡곡밥 (쌀,현미흑미:국내산) 오징어찌개  쇠불고기 (쇠고기:호주산) 계란찜 ...</td>\n",
              "      <td>쌀밥/잡곡밥 (쌀,현미흑미:국내산) 육개장  자반고등어구이  두부조림  건파래무침 ...</td>\n",
              "      <td>1039</td>\n",
              "      <td>331</td>\n",
              "      <td>2016</td>\n",
              "      <td>2</td>\n",
              "      <td>1</td>\n",
              "      <td>5</td>\n",
              "      <td>2401</td>\n",
              "      <td>0.019223</td>\n",
              "      <td>0.057670</td>\n",
              "      <td>0.099125</td>\n",
              "      <td>0.0</td>\n",
              "      <td>[청포묵무침, 쌀밥, 오징어찌개, 계란찜, 요구르트, 포기김치, 쇠불고기, 잡곡밥]</td>\n",
              "      <td>[쌀밥, 건파래무침, 자반고등어구이, 두부조림, 육개장, 포기김치, 잡곡밥]</td>\n",
              "      <td>0</td>\n",
              "      <td>0</td>\n",
              "      <td>0</td>\n",
              "    </tr>\n",
              "    <tr>\n",
              "      <th>1</th>\n",
              "      <td>2016-02-02</td>\n",
              "      <td>1</td>\n",
              "      <td>2601</td>\n",
              "      <td>50</td>\n",
              "      <td>173</td>\n",
              "      <td>319</td>\n",
              "      <td>0</td>\n",
              "      <td>모닝롤/단호박샌드  우유/두유/주스 계란후라이  팥죽/쌀밥 (쌀:국내산) 호박젓국찌...</td>\n",
              "      <td>쌀밥/잡곡밥 (쌀,현미흑미:국내산) 김치찌개  가자미튀김  모둠소세지구이  마늘쫑무...</td>\n",
              "      <td>콩나물밥*양념장 (쌀,현미흑미:국내산) 어묵국  유산슬 (쇠고기:호주산) 아삭고추무...</td>\n",
              "      <td>867</td>\n",
              "      <td>560</td>\n",
              "      <td>2016</td>\n",
              "      <td>2</td>\n",
              "      <td>2</td>\n",
              "      <td>5</td>\n",
              "      <td>2378</td>\n",
              "      <td>0.019223</td>\n",
              "      <td>0.066513</td>\n",
              "      <td>0.134146</td>\n",
              "      <td>0.0</td>\n",
              "      <td>[배추겉절이, 쌀밥, 마늘쫑무침, 요구르트, 가자미튀김, 모둠소세지구이, 잡곡밥, ...</td>\n",
              "      <td>[어묵국, 바나나, 아삭고추무침, 유산슬, 포기김치, 콩나물밥*양념장]</td>\n",
              "      <td>0</td>\n",
              "      <td>0</td>\n",
              "      <td>0</td>\n",
              "    </tr>\n",
              "    <tr>\n",
              "      <th>2</th>\n",
              "      <td>2016-02-03</td>\n",
              "      <td>2</td>\n",
              "      <td>2601</td>\n",
              "      <td>56</td>\n",
              "      <td>180</td>\n",
              "      <td>111</td>\n",
              "      <td>0</td>\n",
              "      <td>모닝롤/베이글  우유/두유/주스 계란후라이  표고버섯죽/쌀밥 (쌀:국내산) 콩나물국...</td>\n",
              "      <td>카레덮밥 (쌀,현미흑미:국내산) 팽이장국  치킨핑거 (닭고기:국내산) 쫄면야채무침 ...</td>\n",
              "      <td>쌀밥/잡곡밥 (쌀,현미흑미:국내산) 청국장찌개  황태양념구이 (황태:러시아산) 고기...</td>\n",
              "      <td>1017</td>\n",
              "      <td>573</td>\n",
              "      <td>2016</td>\n",
              "      <td>2</td>\n",
              "      <td>3</td>\n",
              "      <td>5</td>\n",
              "      <td>2365</td>\n",
              "      <td>0.021530</td>\n",
              "      <td>0.069204</td>\n",
              "      <td>0.046934</td>\n",
              "      <td>0.0</td>\n",
              "      <td>[쫄면야채무침, 팽이장국, 카레덮밥, 요구르트, 치킨핑거, 포기김치, 견과류조림]</td>\n",
              "      <td>[새송이버섯볶음, 쌀밥, 고기전, 청국장찌개, 포기김치, 황태양념구이, 잡곡밥]</td>\n",
              "      <td>0</td>\n",
              "      <td>0</td>\n",
              "      <td>0</td>\n",
              "    </tr>\n",
              "    <tr>\n",
              "      <th>3</th>\n",
              "      <td>2016-02-04</td>\n",
              "      <td>3</td>\n",
              "      <td>2601</td>\n",
              "      <td>104</td>\n",
              "      <td>220</td>\n",
              "      <td>355</td>\n",
              "      <td>0</td>\n",
              "      <td>모닝롤/토마토샌드  우유/두유/주스 계란후라이  닭죽/쌀밥 (쌀,닭:국내산) 근대국...</td>\n",
              "      <td>쌀밥/잡곡밥 (쌀,현미흑미:국내산) 쇠고기무국  주꾸미볶음  부추전  시금치나물  ...</td>\n",
              "      <td>미니김밥*겨자장 (쌀,현미흑미:국내산) 우동  멕시칸샐러드  군고구마  무피클  포...</td>\n",
              "      <td>978</td>\n",
              "      <td>525</td>\n",
              "      <td>2016</td>\n",
              "      <td>2</td>\n",
              "      <td>4</td>\n",
              "      <td>5</td>\n",
              "      <td>2277</td>\n",
              "      <td>0.039985</td>\n",
              "      <td>0.084583</td>\n",
              "      <td>0.155907</td>\n",
              "      <td>0.0</td>\n",
              "      <td>[쇠고기무국, 쌀밥, 시금치나물, 주꾸미볶음, 부추전, 요구르트, 포기김치, 잡곡밥]</td>\n",
              "      <td>[멕시칸샐러드, 우동, 포기김치, 미니김밥*겨자장, 무피클, 군고구마]</td>\n",
              "      <td>0</td>\n",
              "      <td>0</td>\n",
              "      <td>0</td>\n",
              "    </tr>\n",
              "    <tr>\n",
              "      <th>4</th>\n",
              "      <td>2016-02-05</td>\n",
              "      <td>4</td>\n",
              "      <td>2601</td>\n",
              "      <td>278</td>\n",
              "      <td>181</td>\n",
              "      <td>34</td>\n",
              "      <td>0</td>\n",
              "      <td>모닝롤/와플  우유/두유/주스 계란후라이  쇠고기죽/쌀밥 (쌀:국내산) 재첩국  방...</td>\n",
              "      <td>쌀밥/잡곡밥 (쌀,현미흑미:국내산) 떡국  돈육씨앗강정 (돼지고기:국내산) 우엉잡채...</td>\n",
              "      <td>쌀밥/잡곡밥 (쌀,현미흑미:국내산) 차돌박이찌개 (쇠고기:호주산) 닭갈비 (닭고기:...</td>\n",
              "      <td>925</td>\n",
              "      <td>330</td>\n",
              "      <td>2016</td>\n",
              "      <td>2</td>\n",
              "      <td>5</td>\n",
              "      <td>5</td>\n",
              "      <td>2142</td>\n",
              "      <td>0.106882</td>\n",
              "      <td>0.069589</td>\n",
              "      <td>0.015873</td>\n",
              "      <td>0.0</td>\n",
              "      <td>[쌀밥, 청경채무침, 우엉잡채, 요구르트, 포기김치, 돈육씨앗강정, 잡곡밥, 떡국]</td>\n",
              "      <td>[콩나물무침, 차돌박이찌개, 쌀밥, 감자소세지볶음, 포기김치, 잡곡밥, 닭갈비]</td>\n",
              "      <td>0</td>\n",
              "      <td>0</td>\n",
              "      <td>0</td>\n",
              "    </tr>\n",
              "  </tbody>\n",
              "</table>\n",
              "</div>"
            ],
            "text/plain": [
              "          일자  요일  본사정원수  본사휴가자수  본사출장자수  본사시간외근무명령서승인건수  현본사소속재택근무자수  \\\n",
              "0 2016-02-01   0   2601      50     150             238            0   \n",
              "1 2016-02-02   1   2601      50     173             319            0   \n",
              "2 2016-02-03   2   2601      56     180             111            0   \n",
              "3 2016-02-04   3   2601     104     220             355            0   \n",
              "4 2016-02-05   4   2601     278     181              34            0   \n",
              "\n",
              "                                                조식메뉴  \\\n",
              "0  모닝롤/찐빵  우유/두유/주스 계란후라이  호두죽/쌀밥 (쌀:국내산) 된장찌개  쥐...   \n",
              "1  모닝롤/단호박샌드  우유/두유/주스 계란후라이  팥죽/쌀밥 (쌀:국내산) 호박젓국찌...   \n",
              "2  모닝롤/베이글  우유/두유/주스 계란후라이  표고버섯죽/쌀밥 (쌀:국내산) 콩나물국...   \n",
              "3  모닝롤/토마토샌드  우유/두유/주스 계란후라이  닭죽/쌀밥 (쌀,닭:국내산) 근대국...   \n",
              "4  모닝롤/와플  우유/두유/주스 계란후라이  쇠고기죽/쌀밥 (쌀:국내산) 재첩국  방...   \n",
              "\n",
              "                                                중식메뉴  \\\n",
              "0  쌀밥/잡곡밥 (쌀,현미흑미:국내산) 오징어찌개  쇠불고기 (쇠고기:호주산) 계란찜 ...   \n",
              "1  쌀밥/잡곡밥 (쌀,현미흑미:국내산) 김치찌개  가자미튀김  모둠소세지구이  마늘쫑무...   \n",
              "2  카레덮밥 (쌀,현미흑미:국내산) 팽이장국  치킨핑거 (닭고기:국내산) 쫄면야채무침 ...   \n",
              "3  쌀밥/잡곡밥 (쌀,현미흑미:국내산) 쇠고기무국  주꾸미볶음  부추전  시금치나물  ...   \n",
              "4  쌀밥/잡곡밥 (쌀,현미흑미:국내산) 떡국  돈육씨앗강정 (돼지고기:국내산) 우엉잡채...   \n",
              "\n",
              "                                                석식메뉴   중식계  석식계     년  월  일  \\\n",
              "0  쌀밥/잡곡밥 (쌀,현미흑미:국내산) 육개장  자반고등어구이  두부조림  건파래무침 ...  1039  331  2016  2  1   \n",
              "1  콩나물밥*양념장 (쌀,현미흑미:국내산) 어묵국  유산슬 (쇠고기:호주산) 아삭고추무...   867  560  2016  2  2   \n",
              "2  쌀밥/잡곡밥 (쌀,현미흑미:국내산) 청국장찌개  황태양념구이 (황태:러시아산) 고기...  1017  573  2016  2  3   \n",
              "3  미니김밥*겨자장 (쌀,현미흑미:국내산) 우동  멕시칸샐러드  군고구마  무피클  포...   978  525  2016  2  4   \n",
              "4  쌀밥/잡곡밥 (쌀,현미흑미:국내산) 차돌박이찌개 (쇠고기:호주산) 닭갈비 (닭고기:...   925  330  2016  2  5   \n",
              "\n",
              "   주    출근      휴가비율      출장비율      야근비율  재택비율  \\\n",
              "0  5  2401  0.019223  0.057670  0.099125   0.0   \n",
              "1  5  2378  0.019223  0.066513  0.134146   0.0   \n",
              "2  5  2365  0.021530  0.069204  0.046934   0.0   \n",
              "3  5  2277  0.039985  0.084583  0.155907   0.0   \n",
              "4  5  2142  0.106882  0.069589  0.015873   0.0   \n",
              "\n",
              "                                          중식메뉴_split  \\\n",
              "0     [청포묵무침, 쌀밥, 오징어찌개, 계란찜, 요구르트, 포기김치, 쇠불고기, 잡곡밥]   \n",
              "1  [배추겉절이, 쌀밥, 마늘쫑무침, 요구르트, 가자미튀김, 모둠소세지구이, 잡곡밥, ...   \n",
              "2      [쫄면야채무침, 팽이장국, 카레덮밥, 요구르트, 치킨핑거, 포기김치, 견과류조림]   \n",
              "3    [쇠고기무국, 쌀밥, 시금치나물, 주꾸미볶음, 부추전, 요구르트, 포기김치, 잡곡밥]   \n",
              "4     [쌀밥, 청경채무침, 우엉잡채, 요구르트, 포기김치, 돈육씨앗강정, 잡곡밥, 떡국]   \n",
              "\n",
              "                                     석식메뉴_split  문화의날  강수량  기온  \n",
              "0    [쌀밥, 건파래무침, 자반고등어구이, 두부조림, 육개장, 포기김치, 잡곡밥]     0    0   0  \n",
              "1       [어묵국, 바나나, 아삭고추무침, 유산슬, 포기김치, 콩나물밥*양념장]     0    0   0  \n",
              "2  [새송이버섯볶음, 쌀밥, 고기전, 청국장찌개, 포기김치, 황태양념구이, 잡곡밥]     0    0   0  \n",
              "3       [멕시칸샐러드, 우동, 포기김치, 미니김밥*겨자장, 무피클, 군고구마]     0    0   0  \n",
              "4  [콩나물무침, 차돌박이찌개, 쌀밥, 감자소세지볶음, 포기김치, 잡곡밥, 닭갈비]     0    0   0  "
            ]
          },
          "metadata": {
            "tags": []
          },
          "execution_count": 82
        }
      ]
    },
    {
      "cell_type": "markdown",
      "metadata": {
        "id": "HvT7UKFY9bQ4"
      },
      "source": [
        "# **- Train Data Set & Test Data Set**\n",
        "**데이터 지정**\n",
        "* 중식은 주 52시간 탄력근무제에 영향받지 않음\n",
        "* 석식은 591번째 데이터 이후 (2018.07.01) 이후부터 정의\n",
        "* 메뉴 데이터 포함\n",
        "* 탄력근무제 반영하지 않은 FULL 석식 데이터에서 더 높은 성능을 보임"
      ]
    },
    {
      "cell_type": "code",
      "metadata": {
        "id": "aBDdFzQk9Inx"
      },
      "source": [
        "# FULL DATA ('년' 삭제)\n",
        "train_lunch = train[['요일', '공휴일전후_0', '휴가비율', '출장비율', '재택비율', '공휴일전후_2', '공휴일전후_1', '출근', '본사출장자수', '현본사소속재택근무자수', '본사휴가자수', '일', '주', '월', '중식계']]\n",
        "test_lunch = test[['요일', '공휴일전후_0', '휴가비율', '출장비율', '재택비율', '공휴일전후_2', '공휴일전후_1', '출근', '본사출장자수', '현본사소속재택근무자수', '본사휴가자수', '일', '주', '월']]\n",
        "\n",
        "train_dinner = train[['요일', '공휴일전후_0', '휴가비율', '출장비율', '재택비율', '공휴일전후_2', '공휴일전후_1', '출근', '본사휴가자수', '현본사소속재택근무자수', '본사시간외근무명령서승인건수', '본사출장자수', '석식계', '일', '주', '월']]\n",
        "test_dinner = test[['요일', '공휴일전후_0', '휴가비율', '출장비율', '재택비율', '공휴일전후_2', '공휴일전후_1', '출근', '본사휴가자수', '현본사소속재택근무자수', '본사시간외근무명령서승인건수', '본사출장자수', '일', '주', '월']]"
      ],
      "execution_count": null,
      "outputs": []
    },
    {
      "cell_type": "code",
      "metadata": {
        "id": "uAY322NQAPcW",
        "colab": {
          "base_uri": "https://localhost:8080/",
          "height": 244
        },
        "outputId": "446aba80-646f-4e59-cbb0-bbf3c5e54b9e"
      },
      "source": [
        "#AFTER 2018.07.01 DATA\n",
        "train_1 = train[['요일','공휴일전후_0','휴가비율','출장비율','재택비율', '공휴일전후_2', '공휴일전후_1','출근', '본사출장자수','현본사소속재택근무자수', '본사휴가자수','일', '주', '월', '년', '중식계']][591:]\n",
        "test_1 = test[['요일','공휴일전후_0','휴가비율','출장비율','재택비율', '공휴일전후_2', '공휴일전후_1','출근', '본사출장자수','현본사소속재택근무자수', '본사휴가자수','일', '주', '월', '년']]\n",
        "\n",
        "train_2 = train[['요일','공휴일전후_0','휴가비율','출장비율','재택비율', '공휴일전후_2', '공휴일전후_1','출근', '본사휴가자수','현본사소속재택근무자수', '본사시간외근무명령서승인건수','본사출장자수', '석식계','일', '주', '월', '년']][591:]\n",
        "test_2 = test[['요일','공휴일전후_0','휴가비율','출장비율','재택비율', '공휴일전후_2', '공휴일전후_1','출근', '본사휴가자수','현본사소속재택근무자수', '본사시간외근무명령서승인건수','본사출장자수','일', '주', '월', '년']]"
      ],
      "execution_count": null,
      "outputs": [
        {
          "output_type": "error",
          "ename": "NameError",
          "evalue": "ignored",
          "traceback": [
            "\u001b[0;31m---------------------------------------------------------------------------\u001b[0m",
            "\u001b[0;31mNameError\u001b[0m                                 Traceback (most recent call last)",
            "\u001b[0;32m<ipython-input-1-bc714e5ac7db>\u001b[0m in \u001b[0;36m<module>\u001b[0;34m()\u001b[0m\n\u001b[1;32m      1\u001b[0m \u001b[0;31m#AFTER 2018.07.01 DATA\u001b[0m\u001b[0;34m\u001b[0m\u001b[0;34m\u001b[0m\u001b[0;34m\u001b[0m\u001b[0m\n\u001b[0;32m----> 2\u001b[0;31m \u001b[0mtrain_1\u001b[0m \u001b[0;34m=\u001b[0m \u001b[0mtrain\u001b[0m\u001b[0;34m[\u001b[0m\u001b[0;34m[\u001b[0m\u001b[0;34m'요일'\u001b[0m\u001b[0;34m,\u001b[0m\u001b[0;34m'공휴일전후_0'\u001b[0m\u001b[0;34m,\u001b[0m\u001b[0;34m'휴가비율'\u001b[0m\u001b[0;34m,\u001b[0m\u001b[0;34m'출장비율'\u001b[0m\u001b[0;34m,\u001b[0m\u001b[0;34m'재택비율'\u001b[0m\u001b[0;34m,\u001b[0m \u001b[0;34m'공휴일전후_2'\u001b[0m\u001b[0;34m,\u001b[0m \u001b[0;34m'공휴일전후_1'\u001b[0m\u001b[0;34m,\u001b[0m\u001b[0;34m'출근'\u001b[0m\u001b[0;34m,\u001b[0m \u001b[0;34m'본사출장자수'\u001b[0m\u001b[0;34m,\u001b[0m\u001b[0;34m'현본사소속재택근무자수'\u001b[0m\u001b[0;34m,\u001b[0m \u001b[0;34m'본사휴가자수'\u001b[0m\u001b[0;34m,\u001b[0m\u001b[0;34m'일'\u001b[0m\u001b[0;34m,\u001b[0m \u001b[0;34m'주'\u001b[0m\u001b[0;34m,\u001b[0m \u001b[0;34m'월'\u001b[0m\u001b[0;34m,\u001b[0m \u001b[0;34m'년'\u001b[0m\u001b[0;34m,\u001b[0m \u001b[0;34m'중식계'\u001b[0m\u001b[0;34m]\u001b[0m\u001b[0;34m]\u001b[0m\u001b[0;34m[\u001b[0m\u001b[0;36m591\u001b[0m\u001b[0;34m:\u001b[0m\u001b[0;34m]\u001b[0m\u001b[0;34m\u001b[0m\u001b[0;34m\u001b[0m\u001b[0m\n\u001b[0m\u001b[1;32m      3\u001b[0m \u001b[0mtest_1\u001b[0m \u001b[0;34m=\u001b[0m \u001b[0mtest\u001b[0m\u001b[0;34m[\u001b[0m\u001b[0;34m[\u001b[0m\u001b[0;34m'요일'\u001b[0m\u001b[0;34m,\u001b[0m\u001b[0;34m'공휴일전후_0'\u001b[0m\u001b[0;34m,\u001b[0m\u001b[0;34m'휴가비율'\u001b[0m\u001b[0;34m,\u001b[0m\u001b[0;34m'출장비율'\u001b[0m\u001b[0;34m,\u001b[0m\u001b[0;34m'재택비율'\u001b[0m\u001b[0;34m,\u001b[0m \u001b[0;34m'공휴일전후_2'\u001b[0m\u001b[0;34m,\u001b[0m \u001b[0;34m'공휴일전후_1'\u001b[0m\u001b[0;34m,\u001b[0m\u001b[0;34m'출근'\u001b[0m\u001b[0;34m,\u001b[0m \u001b[0;34m'본사출장자수'\u001b[0m\u001b[0;34m,\u001b[0m\u001b[0;34m'현본사소속재택근무자수'\u001b[0m\u001b[0;34m,\u001b[0m \u001b[0;34m'본사휴가자수'\u001b[0m\u001b[0;34m,\u001b[0m\u001b[0;34m'일'\u001b[0m\u001b[0;34m,\u001b[0m \u001b[0;34m'주'\u001b[0m\u001b[0;34m,\u001b[0m \u001b[0;34m'월'\u001b[0m\u001b[0;34m,\u001b[0m \u001b[0;34m'년'\u001b[0m\u001b[0;34m]\u001b[0m\u001b[0;34m]\u001b[0m\u001b[0;34m\u001b[0m\u001b[0;34m\u001b[0m\u001b[0m\n\u001b[1;32m      4\u001b[0m \u001b[0;34m\u001b[0m\u001b[0m\n\u001b[1;32m      5\u001b[0m \u001b[0mtrain_2\u001b[0m \u001b[0;34m=\u001b[0m \u001b[0mtrain\u001b[0m\u001b[0;34m[\u001b[0m\u001b[0;34m[\u001b[0m\u001b[0;34m'요일'\u001b[0m\u001b[0;34m,\u001b[0m\u001b[0;34m'공휴일전후_0'\u001b[0m\u001b[0;34m,\u001b[0m\u001b[0;34m'휴가비율'\u001b[0m\u001b[0;34m,\u001b[0m\u001b[0;34m'출장비율'\u001b[0m\u001b[0;34m,\u001b[0m\u001b[0;34m'재택비율'\u001b[0m\u001b[0;34m,\u001b[0m \u001b[0;34m'공휴일전후_2'\u001b[0m\u001b[0;34m,\u001b[0m \u001b[0;34m'공휴일전후_1'\u001b[0m\u001b[0;34m,\u001b[0m\u001b[0;34m'출근'\u001b[0m\u001b[0;34m,\u001b[0m \u001b[0;34m'본사휴가자수'\u001b[0m\u001b[0;34m,\u001b[0m\u001b[0;34m'현본사소속재택근무자수'\u001b[0m\u001b[0;34m,\u001b[0m \u001b[0;34m'본사시간외근무명령서승인건수'\u001b[0m\u001b[0;34m,\u001b[0m\u001b[0;34m'본사출장자수'\u001b[0m\u001b[0;34m,\u001b[0m \u001b[0;34m'석식계'\u001b[0m\u001b[0;34m,\u001b[0m\u001b[0;34m'일'\u001b[0m\u001b[0;34m,\u001b[0m \u001b[0;34m'주'\u001b[0m\u001b[0;34m,\u001b[0m \u001b[0;34m'월'\u001b[0m\u001b[0;34m,\u001b[0m \u001b[0;34m'년'\u001b[0m\u001b[0;34m]\u001b[0m\u001b[0;34m]\u001b[0m\u001b[0;34m[\u001b[0m\u001b[0;36m591\u001b[0m\u001b[0;34m:\u001b[0m\u001b[0;34m]\u001b[0m\u001b[0;34m\u001b[0m\u001b[0;34m\u001b[0m\u001b[0m\n",
            "\u001b[0;31mNameError\u001b[0m: name 'train' is not defined"
          ]
        }
      ]
    },
    {
      "cell_type": "code",
      "metadata": {
        "colab": {
          "base_uri": "https://localhost:8080/",
          "height": 172
        },
        "id": "5lGYD8nHTA91",
        "outputId": "d53fc2ef-4284-4776-a621-da73bce504ad"
      },
      "source": [
        "train_1.tail()"
      ],
      "execution_count": null,
      "outputs": [
        {
          "output_type": "error",
          "ename": "NameError",
          "evalue": "ignored",
          "traceback": [
            "\u001b[0;31m---------------------------------------------------------------------------\u001b[0m",
            "\u001b[0;31mNameError\u001b[0m                                 Traceback (most recent call last)",
            "\u001b[0;32m<ipython-input-2-d9bc3cdfbf03>\u001b[0m in \u001b[0;36m<module>\u001b[0;34m()\u001b[0m\n\u001b[0;32m----> 1\u001b[0;31m \u001b[0mtrain_1\u001b[0m\u001b[0;34m.\u001b[0m\u001b[0mtail\u001b[0m\u001b[0;34m(\u001b[0m\u001b[0;34m)\u001b[0m\u001b[0;34m\u001b[0m\u001b[0;34m\u001b[0m\u001b[0m\n\u001b[0m",
            "\u001b[0;31mNameError\u001b[0m: name 'train_1' is not defined"
          ]
        }
      ]
    },
    {
      "cell_type": "markdown",
      "metadata": {
        "id": "TZWFbSwGAbDb"
      },
      "source": [
        "**중식 모델링**"
      ]
    },
    {
      "cell_type": "code",
      "metadata": {
        "id": "5cKYLHqxAZ6F"
      },
      "source": [
        "reg = setup(data = train_1, # training 환경 초기화\n",
        "            target = '중식계',\n",
        "            numeric_imputation = 'mean', # 결측치 대체\n",
        "            normalize = True,\n",
        "            silent = True)"
      ],
      "execution_count": null,
      "outputs": []
    },
    {
      "cell_type": "code",
      "metadata": {
        "colab": {
          "base_uri": "https://localhost:8080/",
          "height": 607
        },
        "id": "G2js_svTA7T9",
        "outputId": "a7ce990b-4fba-4252-cd2a-bbad9e764904"
      },
      "source": [
        "best_5_l = compare_models(sort = 'MAE', n_select = 5)"
      ],
      "execution_count": null,
      "outputs": [
        {
          "output_type": "display_data",
          "data": {
            "text/html": [
              "<div>\n",
              "<style scoped>\n",
              "    .dataframe tbody tr th:only-of-type {\n",
              "        vertical-align: middle;\n",
              "    }\n",
              "\n",
              "    .dataframe tbody tr th {\n",
              "        vertical-align: top;\n",
              "    }\n",
              "\n",
              "    .dataframe thead th {\n",
              "        text-align: right;\n",
              "    }\n",
              "</style>\n",
              "<table border=\"1\" class=\"dataframe\">\n",
              "  <thead>\n",
              "    <tr style=\"text-align: right;\">\n",
              "      <th></th>\n",
              "      <th>Model</th>\n",
              "      <th>MAE</th>\n",
              "      <th>MSE</th>\n",
              "      <th>RMSE</th>\n",
              "      <th>R2</th>\n",
              "      <th>RMSLE</th>\n",
              "      <th>MAPE</th>\n",
              "      <th>TT (Sec)</th>\n",
              "    </tr>\n",
              "  </thead>\n",
              "  <tbody>\n",
              "    <tr>\n",
              "      <th>catboost</th>\n",
              "      <td>CatBoost Regressor</td>\n",
              "      <td>6.683070e+01</td>\n",
              "      <td>8.223425e+03</td>\n",
              "      <td>8.981450e+01</td>\n",
              "      <td>8.338000e-01</td>\n",
              "      <td>0.1177</td>\n",
              "      <td>0.0852</td>\n",
              "      <td>2.283</td>\n",
              "    </tr>\n",
              "    <tr>\n",
              "      <th>gbr</th>\n",
              "      <td>Gradient Boosting Regressor</td>\n",
              "      <td>6.873250e+01</td>\n",
              "      <td>8.832351e+03</td>\n",
              "      <td>9.277890e+01</td>\n",
              "      <td>8.217000e-01</td>\n",
              "      <td>0.1169</td>\n",
              "      <td>0.0851</td>\n",
              "      <td>0.100</td>\n",
              "    </tr>\n",
              "    <tr>\n",
              "      <th>lightgbm</th>\n",
              "      <td>Light Gradient Boosting Machine</td>\n",
              "      <td>7.388610e+01</td>\n",
              "      <td>9.932013e+03</td>\n",
              "      <td>9.886800e+01</td>\n",
              "      <td>8.023000e-01</td>\n",
              "      <td>0.1286</td>\n",
              "      <td>0.0940</td>\n",
              "      <td>0.093</td>\n",
              "    </tr>\n",
              "    <tr>\n",
              "      <th>et</th>\n",
              "      <td>Extra Trees Regressor</td>\n",
              "      <td>7.640490e+01</td>\n",
              "      <td>1.105518e+04</td>\n",
              "      <td>1.043149e+02</td>\n",
              "      <td>7.715000e-01</td>\n",
              "      <td>0.1308</td>\n",
              "      <td>0.0944</td>\n",
              "      <td>0.482</td>\n",
              "    </tr>\n",
              "    <tr>\n",
              "      <th>huber</th>\n",
              "      <td>Huber Regressor</td>\n",
              "      <td>7.726430e+01</td>\n",
              "      <td>1.176281e+04</td>\n",
              "      <td>1.073427e+02</td>\n",
              "      <td>7.614000e-01</td>\n",
              "      <td>0.1352</td>\n",
              "      <td>0.0959</td>\n",
              "      <td>0.046</td>\n",
              "    </tr>\n",
              "    <tr>\n",
              "      <th>rf</th>\n",
              "      <td>Random Forest Regressor</td>\n",
              "      <td>7.776690e+01</td>\n",
              "      <td>1.086614e+04</td>\n",
              "      <td>1.033213e+02</td>\n",
              "      <td>7.795000e-01</td>\n",
              "      <td>0.1323</td>\n",
              "      <td>0.0981</td>\n",
              "      <td>0.554</td>\n",
              "    </tr>\n",
              "    <tr>\n",
              "      <th>lasso</th>\n",
              "      <td>Lasso Regression</td>\n",
              "      <td>7.901530e+01</td>\n",
              "      <td>1.137468e+04</td>\n",
              "      <td>1.057446e+02</td>\n",
              "      <td>7.688000e-01</td>\n",
              "      <td>0.1339</td>\n",
              "      <td>0.0985</td>\n",
              "      <td>0.017</td>\n",
              "    </tr>\n",
              "    <tr>\n",
              "      <th>lr</th>\n",
              "      <td>Linear Regression</td>\n",
              "      <td>7.906450e+01</td>\n",
              "      <td>1.145154e+04</td>\n",
              "      <td>1.062691e+02</td>\n",
              "      <td>7.674000e-01</td>\n",
              "      <td>0.1382</td>\n",
              "      <td>0.0989</td>\n",
              "      <td>0.397</td>\n",
              "    </tr>\n",
              "    <tr>\n",
              "      <th>ridge</th>\n",
              "      <td>Ridge Regression</td>\n",
              "      <td>7.910610e+01</td>\n",
              "      <td>1.136664e+04</td>\n",
              "      <td>1.058679e+02</td>\n",
              "      <td>7.690000e-01</td>\n",
              "      <td>0.1365</td>\n",
              "      <td>0.0987</td>\n",
              "      <td>0.015</td>\n",
              "    </tr>\n",
              "    <tr>\n",
              "      <th>br</th>\n",
              "      <td>Bayesian Ridge</td>\n",
              "      <td>7.923690e+01</td>\n",
              "      <td>1.135114e+04</td>\n",
              "      <td>1.057877e+02</td>\n",
              "      <td>7.692000e-01</td>\n",
              "      <td>0.1355</td>\n",
              "      <td>0.0988</td>\n",
              "      <td>0.016</td>\n",
              "    </tr>\n",
              "    <tr>\n",
              "      <th>par</th>\n",
              "      <td>Passive Aggressive Regressor</td>\n",
              "      <td>8.004130e+01</td>\n",
              "      <td>1.234478e+04</td>\n",
              "      <td>1.104262e+02</td>\n",
              "      <td>7.471000e-01</td>\n",
              "      <td>0.1718</td>\n",
              "      <td>0.0991</td>\n",
              "      <td>0.017</td>\n",
              "    </tr>\n",
              "    <tr>\n",
              "      <th>llar</th>\n",
              "      <td>Lasso Least Angle Regression</td>\n",
              "      <td>8.798770e+01</td>\n",
              "      <td>1.405291e+04</td>\n",
              "      <td>1.177062e+02</td>\n",
              "      <td>7.185000e-01</td>\n",
              "      <td>0.1492</td>\n",
              "      <td>0.1125</td>\n",
              "      <td>0.017</td>\n",
              "    </tr>\n",
              "    <tr>\n",
              "      <th>ada</th>\n",
              "      <td>AdaBoost Regressor</td>\n",
              "      <td>8.851790e+01</td>\n",
              "      <td>1.274000e+04</td>\n",
              "      <td>1.125658e+02</td>\n",
              "      <td>7.407000e-01</td>\n",
              "      <td>0.1428</td>\n",
              "      <td>0.1138</td>\n",
              "      <td>0.108</td>\n",
              "    </tr>\n",
              "    <tr>\n",
              "      <th>knn</th>\n",
              "      <td>K Neighbors Regressor</td>\n",
              "      <td>8.908760e+01</td>\n",
              "      <td>1.374698e+04</td>\n",
              "      <td>1.165075e+02</td>\n",
              "      <td>7.222000e-01</td>\n",
              "      <td>0.1442</td>\n",
              "      <td>0.1117</td>\n",
              "      <td>0.063</td>\n",
              "    </tr>\n",
              "    <tr>\n",
              "      <th>dt</th>\n",
              "      <td>Decision Tree Regressor</td>\n",
              "      <td>1.031857e+02</td>\n",
              "      <td>1.918921e+04</td>\n",
              "      <td>1.377443e+02</td>\n",
              "      <td>6.113000e-01</td>\n",
              "      <td>0.1709</td>\n",
              "      <td>0.1273</td>\n",
              "      <td>0.020</td>\n",
              "    </tr>\n",
              "    <tr>\n",
              "      <th>omp</th>\n",
              "      <td>Orthogonal Matching Pursuit</td>\n",
              "      <td>1.038390e+02</td>\n",
              "      <td>1.817132e+04</td>\n",
              "      <td>1.339146e+02</td>\n",
              "      <td>6.380000e-01</td>\n",
              "      <td>0.1761</td>\n",
              "      <td>0.1325</td>\n",
              "      <td>0.015</td>\n",
              "    </tr>\n",
              "    <tr>\n",
              "      <th>en</th>\n",
              "      <td>Elastic Net</td>\n",
              "      <td>1.090517e+02</td>\n",
              "      <td>1.865052e+04</td>\n",
              "      <td>1.359951e+02</td>\n",
              "      <td>6.246000e-01</td>\n",
              "      <td>0.1678</td>\n",
              "      <td>0.1372</td>\n",
              "      <td>0.016</td>\n",
              "    </tr>\n",
              "    <tr>\n",
              "      <th>lar</th>\n",
              "      <td>Least Angle Regression</td>\n",
              "      <td>3.102495e+08</td>\n",
              "      <td>3.849588e+19</td>\n",
              "      <td>1.962058e+09</td>\n",
              "      <td>-9.651936e+14</td>\n",
              "      <td>2.3590</td>\n",
              "      <td>452917.1705</td>\n",
              "      <td>0.022</td>\n",
              "    </tr>\n",
              "  </tbody>\n",
              "</table>\n",
              "</div>"
            ],
            "text/plain": [
              "                                    Model           MAE           MSE  \\\n",
              "catboost               CatBoost Regressor  6.683070e+01  8.223425e+03   \n",
              "gbr           Gradient Boosting Regressor  6.873250e+01  8.832351e+03   \n",
              "lightgbm  Light Gradient Boosting Machine  7.388610e+01  9.932013e+03   \n",
              "et                  Extra Trees Regressor  7.640490e+01  1.105518e+04   \n",
              "huber                     Huber Regressor  7.726430e+01  1.176281e+04   \n",
              "rf                Random Forest Regressor  7.776690e+01  1.086614e+04   \n",
              "lasso                    Lasso Regression  7.901530e+01  1.137468e+04   \n",
              "lr                      Linear Regression  7.906450e+01  1.145154e+04   \n",
              "ridge                    Ridge Regression  7.910610e+01  1.136664e+04   \n",
              "br                         Bayesian Ridge  7.923690e+01  1.135114e+04   \n",
              "par          Passive Aggressive Regressor  8.004130e+01  1.234478e+04   \n",
              "llar         Lasso Least Angle Regression  8.798770e+01  1.405291e+04   \n",
              "ada                    AdaBoost Regressor  8.851790e+01  1.274000e+04   \n",
              "knn                 K Neighbors Regressor  8.908760e+01  1.374698e+04   \n",
              "dt                Decision Tree Regressor  1.031857e+02  1.918921e+04   \n",
              "omp           Orthogonal Matching Pursuit  1.038390e+02  1.817132e+04   \n",
              "en                            Elastic Net  1.090517e+02  1.865052e+04   \n",
              "lar                Least Angle Regression  3.102495e+08  3.849588e+19   \n",
              "\n",
              "                  RMSE            R2   RMSLE         MAPE  TT (Sec)  \n",
              "catboost  8.981450e+01  8.338000e-01  0.1177       0.0852     2.283  \n",
              "gbr       9.277890e+01  8.217000e-01  0.1169       0.0851     0.100  \n",
              "lightgbm  9.886800e+01  8.023000e-01  0.1286       0.0940     0.093  \n",
              "et        1.043149e+02  7.715000e-01  0.1308       0.0944     0.482  \n",
              "huber     1.073427e+02  7.614000e-01  0.1352       0.0959     0.046  \n",
              "rf        1.033213e+02  7.795000e-01  0.1323       0.0981     0.554  \n",
              "lasso     1.057446e+02  7.688000e-01  0.1339       0.0985     0.017  \n",
              "lr        1.062691e+02  7.674000e-01  0.1382       0.0989     0.397  \n",
              "ridge     1.058679e+02  7.690000e-01  0.1365       0.0987     0.015  \n",
              "br        1.057877e+02  7.692000e-01  0.1355       0.0988     0.016  \n",
              "par       1.104262e+02  7.471000e-01  0.1718       0.0991     0.017  \n",
              "llar      1.177062e+02  7.185000e-01  0.1492       0.1125     0.017  \n",
              "ada       1.125658e+02  7.407000e-01  0.1428       0.1138     0.108  \n",
              "knn       1.165075e+02  7.222000e-01  0.1442       0.1117     0.063  \n",
              "dt        1.377443e+02  6.113000e-01  0.1709       0.1273     0.020  \n",
              "omp       1.339146e+02  6.380000e-01  0.1761       0.1325     0.015  \n",
              "en        1.359951e+02  6.246000e-01  0.1678       0.1372     0.016  \n",
              "lar       1.962058e+09 -9.651936e+14  2.3590  452917.1705     0.022  "
            ]
          },
          "metadata": {
            "tags": []
          }
        }
      ]
    },
    {
      "cell_type": "markdown",
      "metadata": {
        "id": "dUCRsqBzCt_8"
      },
      "source": [
        "**앙상블 모델**"
      ]
    },
    {
      "cell_type": "code",
      "metadata": {
        "colab": {
          "base_uri": "https://localhost:8080/",
          "height": 329
        },
        "id": "0dtpS3PSBXi3",
        "outputId": "a94cef35-2083-4d0b-8d8b-567c3a80c274"
      },
      "source": [
        "blended_l = blend_models(estimator_list = best_5_l, fold = 5, optimize = 'MAE')\n",
        "pred_holdout = predict_model(blended_l)\n",
        "final_model_l = finalize_model(blended_l)\n",
        "pred_esb_l = predict_model(final_model_l, test_1)"
      ],
      "execution_count": null,
      "outputs": [
        {
          "output_type": "display_data",
          "data": {
            "text/html": [
              "<div>\n",
              "<style scoped>\n",
              "    .dataframe tbody tr th:only-of-type {\n",
              "        vertical-align: middle;\n",
              "    }\n",
              "\n",
              "    .dataframe tbody tr th {\n",
              "        vertical-align: top;\n",
              "    }\n",
              "\n",
              "    .dataframe thead th {\n",
              "        text-align: right;\n",
              "    }\n",
              "</style>\n",
              "<table border=\"1\" class=\"dataframe\">\n",
              "  <thead>\n",
              "    <tr style=\"text-align: right;\">\n",
              "      <th></th>\n",
              "      <th>MAE</th>\n",
              "      <th>MSE</th>\n",
              "      <th>RMSE</th>\n",
              "      <th>R2</th>\n",
              "      <th>RMSLE</th>\n",
              "      <th>MAPE</th>\n",
              "    </tr>\n",
              "  </thead>\n",
              "  <tbody>\n",
              "    <tr>\n",
              "      <th>0</th>\n",
              "      <td>73.8873</td>\n",
              "      <td>9327.0054</td>\n",
              "      <td>96.5764</td>\n",
              "      <td>0.7998</td>\n",
              "      <td>0.1120</td>\n",
              "      <td>0.0852</td>\n",
              "    </tr>\n",
              "    <tr>\n",
              "      <th>1</th>\n",
              "      <td>62.7890</td>\n",
              "      <td>6876.0662</td>\n",
              "      <td>82.9220</td>\n",
              "      <td>0.8646</td>\n",
              "      <td>0.1129</td>\n",
              "      <td>0.0819</td>\n",
              "    </tr>\n",
              "    <tr>\n",
              "      <th>2</th>\n",
              "      <td>71.7414</td>\n",
              "      <td>9311.1639</td>\n",
              "      <td>96.4944</td>\n",
              "      <td>0.8339</td>\n",
              "      <td>0.1416</td>\n",
              "      <td>0.1006</td>\n",
              "    </tr>\n",
              "    <tr>\n",
              "      <th>3</th>\n",
              "      <td>67.1360</td>\n",
              "      <td>10551.7196</td>\n",
              "      <td>102.7216</td>\n",
              "      <td>0.7675</td>\n",
              "      <td>0.1152</td>\n",
              "      <td>0.0771</td>\n",
              "    </tr>\n",
              "    <tr>\n",
              "      <th>4</th>\n",
              "      <td>62.6304</td>\n",
              "      <td>6858.5198</td>\n",
              "      <td>82.8162</td>\n",
              "      <td>0.8795</td>\n",
              "      <td>0.1002</td>\n",
              "      <td>0.0735</td>\n",
              "    </tr>\n",
              "    <tr>\n",
              "      <th>Mean</th>\n",
              "      <td>67.6368</td>\n",
              "      <td>8584.8950</td>\n",
              "      <td>92.3061</td>\n",
              "      <td>0.8291</td>\n",
              "      <td>0.1164</td>\n",
              "      <td>0.0836</td>\n",
              "    </tr>\n",
              "    <tr>\n",
              "      <th>SD</th>\n",
              "      <td>4.5767</td>\n",
              "      <td>1472.8924</td>\n",
              "      <td>8.0297</td>\n",
              "      <td>0.0412</td>\n",
              "      <td>0.0137</td>\n",
              "      <td>0.0094</td>\n",
              "    </tr>\n",
              "  </tbody>\n",
              "</table>\n",
              "</div>"
            ],
            "text/plain": [
              "          MAE         MSE      RMSE      R2   RMSLE    MAPE\n",
              "0     73.8873   9327.0054   96.5764  0.7998  0.1120  0.0852\n",
              "1     62.7890   6876.0662   82.9220  0.8646  0.1129  0.0819\n",
              "2     71.7414   9311.1639   96.4944  0.8339  0.1416  0.1006\n",
              "3     67.1360  10551.7196  102.7216  0.7675  0.1152  0.0771\n",
              "4     62.6304   6858.5198   82.8162  0.8795  0.1002  0.0735\n",
              "Mean  67.6368   8584.8950   92.3061  0.8291  0.1164  0.0836\n",
              "SD     4.5767   1472.8924    8.0297  0.0412  0.0137  0.0094"
            ]
          },
          "metadata": {
            "tags": []
          }
        },
        {
          "output_type": "display_data",
          "data": {
            "text/html": [
              "<div>\n",
              "<style scoped>\n",
              "    .dataframe tbody tr th:only-of-type {\n",
              "        vertical-align: middle;\n",
              "    }\n",
              "\n",
              "    .dataframe tbody tr th {\n",
              "        vertical-align: top;\n",
              "    }\n",
              "\n",
              "    .dataframe thead th {\n",
              "        text-align: right;\n",
              "    }\n",
              "</style>\n",
              "<table border=\"1\" class=\"dataframe\">\n",
              "  <thead>\n",
              "    <tr style=\"text-align: right;\">\n",
              "      <th></th>\n",
              "      <th>Model</th>\n",
              "      <th>MAE</th>\n",
              "      <th>MSE</th>\n",
              "      <th>RMSE</th>\n",
              "      <th>R2</th>\n",
              "      <th>RMSLE</th>\n",
              "      <th>MAPE</th>\n",
              "    </tr>\n",
              "  </thead>\n",
              "  <tbody>\n",
              "    <tr>\n",
              "      <th>0</th>\n",
              "      <td>Voting Regressor</td>\n",
              "      <td>68.0064</td>\n",
              "      <td>8343.7612</td>\n",
              "      <td>91.3442</td>\n",
              "      <td>0.8072</td>\n",
              "      <td>0.1144</td>\n",
              "      <td>0.0844</td>\n",
              "    </tr>\n",
              "  </tbody>\n",
              "</table>\n",
              "</div>"
            ],
            "text/plain": [
              "              Model      MAE        MSE     RMSE      R2   RMSLE    MAPE\n",
              "0  Voting Regressor  68.0064  8343.7612  91.3442  0.8072  0.1144  0.0844"
            ]
          },
          "metadata": {
            "tags": []
          }
        }
      ]
    },
    {
      "cell_type": "code",
      "metadata": {
        "colab": {
          "base_uri": "https://localhost:8080/"
        },
        "id": "SxvBBEd9DDK4",
        "outputId": "7d4f1b94-b682-4293-e6bb-5320f800b320"
      },
      "source": [
        "pred_esb_l['Label']"
      ],
      "execution_count": null,
      "outputs": [
        {
          "output_type": "execute_result",
          "data": {
            "text/plain": [
              "0      999.352064\n",
              "1      894.316442\n",
              "2      600.401220\n",
              "3     1258.541776\n",
              "4     1031.659019\n",
              "5     1005.525329\n",
              "6      924.658481\n",
              "7      625.979491\n",
              "8     1270.494329\n",
              "9     1068.443711\n",
              "10     834.004766\n",
              "11    1277.966499\n",
              "12    1096.737054\n",
              "13    1103.957913\n",
              "14     886.295523\n",
              "15     675.147651\n",
              "16    1247.526147\n",
              "17    1064.706752\n",
              "18     951.918744\n",
              "19     858.333586\n",
              "20     624.901120\n",
              "21    1049.420550\n",
              "22    1046.866577\n",
              "23     926.578717\n",
              "24     659.040365\n",
              "25    1262.672532\n",
              "26    1056.065351\n",
              "27    1037.791077\n",
              "28     936.984705\n",
              "29     723.840540\n",
              "30    1263.102899\n",
              "31    1034.317378\n",
              "32    1045.618103\n",
              "33     914.552054\n",
              "34     661.678334\n",
              "35    1216.863194\n",
              "36    1005.486698\n",
              "37     926.168063\n",
              "38     846.736688\n",
              "39     577.394611\n",
              "40    1195.575518\n",
              "41    1001.287716\n",
              "42     937.669479\n",
              "43     817.042595\n",
              "44     606.751416\n",
              "45    1215.793304\n",
              "46    1024.850888\n",
              "47     935.447676\n",
              "48     878.500844\n",
              "49     631.249803\n",
              "Name: Label, dtype: float64"
            ]
          },
          "metadata": {
            "tags": []
          },
          "execution_count": 94
        }
      ]
    },
    {
      "cell_type": "code",
      "metadata": {
        "id": "6b0oA-OnDxJs"
      },
      "source": [
        "submission_esb = pd.read_csv('/content/drive/MyDrive/Colab Notebooks/dacon_contest1/data/sample_submission.csv')\n",
        "submission_esb['중식계'] = pred_esb_l['Label']"
      ],
      "execution_count": null,
      "outputs": []
    },
    {
      "cell_type": "code",
      "metadata": {
        "colab": {
          "base_uri": "https://localhost:8080/",
          "height": 204
        },
        "id": "28z7L4UnZjKj",
        "outputId": "9218ca65-193d-4df0-94cb-99c686f82ccc"
      },
      "source": [
        "submission_esb.head()"
      ],
      "execution_count": null,
      "outputs": [
        {
          "output_type": "execute_result",
          "data": {
            "text/html": [
              "<div>\n",
              "<style scoped>\n",
              "    .dataframe tbody tr th:only-of-type {\n",
              "        vertical-align: middle;\n",
              "    }\n",
              "\n",
              "    .dataframe tbody tr th {\n",
              "        vertical-align: top;\n",
              "    }\n",
              "\n",
              "    .dataframe thead th {\n",
              "        text-align: right;\n",
              "    }\n",
              "</style>\n",
              "<table border=\"1\" class=\"dataframe\">\n",
              "  <thead>\n",
              "    <tr style=\"text-align: right;\">\n",
              "      <th></th>\n",
              "      <th>일자</th>\n",
              "      <th>중식계</th>\n",
              "      <th>석식계</th>\n",
              "    </tr>\n",
              "  </thead>\n",
              "  <tbody>\n",
              "    <tr>\n",
              "      <th>0</th>\n",
              "      <td>2021-01-27</td>\n",
              "      <td>999.352064</td>\n",
              "      <td>0</td>\n",
              "    </tr>\n",
              "    <tr>\n",
              "      <th>1</th>\n",
              "      <td>2021-01-28</td>\n",
              "      <td>894.316442</td>\n",
              "      <td>0</td>\n",
              "    </tr>\n",
              "    <tr>\n",
              "      <th>2</th>\n",
              "      <td>2021-01-29</td>\n",
              "      <td>600.401220</td>\n",
              "      <td>0</td>\n",
              "    </tr>\n",
              "    <tr>\n",
              "      <th>3</th>\n",
              "      <td>2021-02-01</td>\n",
              "      <td>1258.541776</td>\n",
              "      <td>0</td>\n",
              "    </tr>\n",
              "    <tr>\n",
              "      <th>4</th>\n",
              "      <td>2021-02-02</td>\n",
              "      <td>1031.659019</td>\n",
              "      <td>0</td>\n",
              "    </tr>\n",
              "  </tbody>\n",
              "</table>\n",
              "</div>"
            ],
            "text/plain": [
              "           일자          중식계  석식계\n",
              "0  2021-01-27   999.352064    0\n",
              "1  2021-01-28   894.316442    0\n",
              "2  2021-01-29   600.401220    0\n",
              "3  2021-02-01  1258.541776    0\n",
              "4  2021-02-02  1031.659019    0"
            ]
          },
          "metadata": {
            "tags": []
          },
          "execution_count": 100
        }
      ]
    },
    {
      "cell_type": "markdown",
      "metadata": {
        "id": "gvxg7ermEGpF"
      },
      "source": [
        "**석식 모델링**"
      ]
    },
    {
      "cell_type": "code",
      "metadata": {
        "colab": {
          "base_uri": "https://localhost:8080/",
          "height": 1000
        },
        "id": "N4pM_jxQEDfn",
        "outputId": "307a19a0-32af-4a77-a065-67b765387f3f"
      },
      "source": [
        "reg = setup(data = train_2, \n",
        "            target = '석식계',\n",
        "            numeric_imputation = 'mean',\n",
        "            normalize = True,\n",
        "            silent = True)"
      ],
      "execution_count": null,
      "outputs": [
        {
          "output_type": "display_data",
          "data": {
            "text/html": [
              "<div>\n",
              "<style scoped>\n",
              "    .dataframe tbody tr th:only-of-type {\n",
              "        vertical-align: middle;\n",
              "    }\n",
              "\n",
              "    .dataframe tbody tr th {\n",
              "        vertical-align: top;\n",
              "    }\n",
              "\n",
              "    .dataframe thead th {\n",
              "        text-align: right;\n",
              "    }\n",
              "</style>\n",
              "<table border=\"1\" class=\"dataframe\">\n",
              "  <thead>\n",
              "    <tr style=\"text-align: right;\">\n",
              "      <th></th>\n",
              "      <th>Description</th>\n",
              "      <th>Value</th>\n",
              "    </tr>\n",
              "  </thead>\n",
              "  <tbody>\n",
              "    <tr>\n",
              "      <th>0</th>\n",
              "      <td>session_id</td>\n",
              "      <td>3971</td>\n",
              "    </tr>\n",
              "    <tr>\n",
              "      <th>1</th>\n",
              "      <td>Target</td>\n",
              "      <td>석식계</td>\n",
              "    </tr>\n",
              "    <tr>\n",
              "      <th>2</th>\n",
              "      <td>Original Data</td>\n",
              "      <td>(571, 17)</td>\n",
              "    </tr>\n",
              "    <tr>\n",
              "      <th>3</th>\n",
              "      <td>Missing Values</td>\n",
              "      <td>False</td>\n",
              "    </tr>\n",
              "    <tr>\n",
              "      <th>4</th>\n",
              "      <td>Numeric Features</td>\n",
              "      <td>13</td>\n",
              "    </tr>\n",
              "    <tr>\n",
              "      <th>5</th>\n",
              "      <td>Categorical Features</td>\n",
              "      <td>3</td>\n",
              "    </tr>\n",
              "    <tr>\n",
              "      <th>6</th>\n",
              "      <td>Ordinal Features</td>\n",
              "      <td>False</td>\n",
              "    </tr>\n",
              "    <tr>\n",
              "      <th>7</th>\n",
              "      <td>High Cardinality Features</td>\n",
              "      <td>False</td>\n",
              "    </tr>\n",
              "    <tr>\n",
              "      <th>8</th>\n",
              "      <td>High Cardinality Method</td>\n",
              "      <td>None</td>\n",
              "    </tr>\n",
              "    <tr>\n",
              "      <th>9</th>\n",
              "      <td>Transformed Train Set</td>\n",
              "      <td>(399, 31)</td>\n",
              "    </tr>\n",
              "    <tr>\n",
              "      <th>10</th>\n",
              "      <td>Transformed Test Set</td>\n",
              "      <td>(172, 31)</td>\n",
              "    </tr>\n",
              "    <tr>\n",
              "      <th>11</th>\n",
              "      <td>Shuffle Train-Test</td>\n",
              "      <td>True</td>\n",
              "    </tr>\n",
              "    <tr>\n",
              "      <th>12</th>\n",
              "      <td>Stratify Train-Test</td>\n",
              "      <td>False</td>\n",
              "    </tr>\n",
              "    <tr>\n",
              "      <th>13</th>\n",
              "      <td>Fold Generator</td>\n",
              "      <td>KFold</td>\n",
              "    </tr>\n",
              "    <tr>\n",
              "      <th>14</th>\n",
              "      <td>Fold Number</td>\n",
              "      <td>10</td>\n",
              "    </tr>\n",
              "    <tr>\n",
              "      <th>15</th>\n",
              "      <td>CPU Jobs</td>\n",
              "      <td>-1</td>\n",
              "    </tr>\n",
              "    <tr>\n",
              "      <th>16</th>\n",
              "      <td>Use GPU</td>\n",
              "      <td>False</td>\n",
              "    </tr>\n",
              "    <tr>\n",
              "      <th>17</th>\n",
              "      <td>Log Experiment</td>\n",
              "      <td>False</td>\n",
              "    </tr>\n",
              "    <tr>\n",
              "      <th>18</th>\n",
              "      <td>Experiment Name</td>\n",
              "      <td>reg-default-name</td>\n",
              "    </tr>\n",
              "    <tr>\n",
              "      <th>19</th>\n",
              "      <td>USI</td>\n",
              "      <td>c6d9</td>\n",
              "    </tr>\n",
              "    <tr>\n",
              "      <th>20</th>\n",
              "      <td>Imputation Type</td>\n",
              "      <td>simple</td>\n",
              "    </tr>\n",
              "    <tr>\n",
              "      <th>21</th>\n",
              "      <td>Iterative Imputation Iteration</td>\n",
              "      <td>None</td>\n",
              "    </tr>\n",
              "    <tr>\n",
              "      <th>22</th>\n",
              "      <td>Numeric Imputer</td>\n",
              "      <td>mean</td>\n",
              "    </tr>\n",
              "    <tr>\n",
              "      <th>23</th>\n",
              "      <td>Iterative Imputation Numeric Model</td>\n",
              "      <td>None</td>\n",
              "    </tr>\n",
              "    <tr>\n",
              "      <th>24</th>\n",
              "      <td>Categorical Imputer</td>\n",
              "      <td>constant</td>\n",
              "    </tr>\n",
              "    <tr>\n",
              "      <th>25</th>\n",
              "      <td>Iterative Imputation Categorical Model</td>\n",
              "      <td>None</td>\n",
              "    </tr>\n",
              "    <tr>\n",
              "      <th>26</th>\n",
              "      <td>Unknown Categoricals Handling</td>\n",
              "      <td>least_frequent</td>\n",
              "    </tr>\n",
              "    <tr>\n",
              "      <th>27</th>\n",
              "      <td>Normalize</td>\n",
              "      <td>True</td>\n",
              "    </tr>\n",
              "    <tr>\n",
              "      <th>28</th>\n",
              "      <td>Normalize Method</td>\n",
              "      <td>zscore</td>\n",
              "    </tr>\n",
              "    <tr>\n",
              "      <th>29</th>\n",
              "      <td>Transformation</td>\n",
              "      <td>False</td>\n",
              "    </tr>\n",
              "    <tr>\n",
              "      <th>30</th>\n",
              "      <td>Transformation Method</td>\n",
              "      <td>None</td>\n",
              "    </tr>\n",
              "    <tr>\n",
              "      <th>31</th>\n",
              "      <td>PCA</td>\n",
              "      <td>False</td>\n",
              "    </tr>\n",
              "    <tr>\n",
              "      <th>32</th>\n",
              "      <td>PCA Method</td>\n",
              "      <td>None</td>\n",
              "    </tr>\n",
              "    <tr>\n",
              "      <th>33</th>\n",
              "      <td>PCA Components</td>\n",
              "      <td>None</td>\n",
              "    </tr>\n",
              "    <tr>\n",
              "      <th>34</th>\n",
              "      <td>Ignore Low Variance</td>\n",
              "      <td>False</td>\n",
              "    </tr>\n",
              "    <tr>\n",
              "      <th>35</th>\n",
              "      <td>Combine Rare Levels</td>\n",
              "      <td>False</td>\n",
              "    </tr>\n",
              "    <tr>\n",
              "      <th>36</th>\n",
              "      <td>Rare Level Threshold</td>\n",
              "      <td>None</td>\n",
              "    </tr>\n",
              "    <tr>\n",
              "      <th>37</th>\n",
              "      <td>Numeric Binning</td>\n",
              "      <td>False</td>\n",
              "    </tr>\n",
              "    <tr>\n",
              "      <th>38</th>\n",
              "      <td>Remove Outliers</td>\n",
              "      <td>False</td>\n",
              "    </tr>\n",
              "    <tr>\n",
              "      <th>39</th>\n",
              "      <td>Outliers Threshold</td>\n",
              "      <td>None</td>\n",
              "    </tr>\n",
              "    <tr>\n",
              "      <th>40</th>\n",
              "      <td>Remove Multicollinearity</td>\n",
              "      <td>False</td>\n",
              "    </tr>\n",
              "    <tr>\n",
              "      <th>41</th>\n",
              "      <td>Multicollinearity Threshold</td>\n",
              "      <td>None</td>\n",
              "    </tr>\n",
              "    <tr>\n",
              "      <th>42</th>\n",
              "      <td>Clustering</td>\n",
              "      <td>False</td>\n",
              "    </tr>\n",
              "    <tr>\n",
              "      <th>43</th>\n",
              "      <td>Clustering Iteration</td>\n",
              "      <td>None</td>\n",
              "    </tr>\n",
              "    <tr>\n",
              "      <th>44</th>\n",
              "      <td>Polynomial Features</td>\n",
              "      <td>False</td>\n",
              "    </tr>\n",
              "    <tr>\n",
              "      <th>45</th>\n",
              "      <td>Polynomial Degree</td>\n",
              "      <td>None</td>\n",
              "    </tr>\n",
              "    <tr>\n",
              "      <th>46</th>\n",
              "      <td>Trignometry Features</td>\n",
              "      <td>False</td>\n",
              "    </tr>\n",
              "    <tr>\n",
              "      <th>47</th>\n",
              "      <td>Polynomial Threshold</td>\n",
              "      <td>None</td>\n",
              "    </tr>\n",
              "    <tr>\n",
              "      <th>48</th>\n",
              "      <td>Group Features</td>\n",
              "      <td>False</td>\n",
              "    </tr>\n",
              "    <tr>\n",
              "      <th>49</th>\n",
              "      <td>Feature Selection</td>\n",
              "      <td>False</td>\n",
              "    </tr>\n",
              "    <tr>\n",
              "      <th>50</th>\n",
              "      <td>Feature Selection Method</td>\n",
              "      <td>classic</td>\n",
              "    </tr>\n",
              "    <tr>\n",
              "      <th>51</th>\n",
              "      <td>Features Selection Threshold</td>\n",
              "      <td>None</td>\n",
              "    </tr>\n",
              "    <tr>\n",
              "      <th>52</th>\n",
              "      <td>Feature Interaction</td>\n",
              "      <td>False</td>\n",
              "    </tr>\n",
              "    <tr>\n",
              "      <th>53</th>\n",
              "      <td>Feature Ratio</td>\n",
              "      <td>False</td>\n",
              "    </tr>\n",
              "    <tr>\n",
              "      <th>54</th>\n",
              "      <td>Interaction Threshold</td>\n",
              "      <td>None</td>\n",
              "    </tr>\n",
              "    <tr>\n",
              "      <th>55</th>\n",
              "      <td>Transform Target</td>\n",
              "      <td>False</td>\n",
              "    </tr>\n",
              "    <tr>\n",
              "      <th>56</th>\n",
              "      <td>Transform Target Method</td>\n",
              "      <td>box-cox</td>\n",
              "    </tr>\n",
              "  </tbody>\n",
              "</table>\n",
              "</div>"
            ],
            "text/plain": [
              "                               Description             Value\n",
              "0                               session_id              3971\n",
              "1                                   Target               석식계\n",
              "2                            Original Data         (571, 17)\n",
              "3                           Missing Values             False\n",
              "4                         Numeric Features                13\n",
              "5                     Categorical Features                 3\n",
              "6                         Ordinal Features             False\n",
              "7                High Cardinality Features             False\n",
              "8                  High Cardinality Method              None\n",
              "9                    Transformed Train Set         (399, 31)\n",
              "10                    Transformed Test Set         (172, 31)\n",
              "11                      Shuffle Train-Test              True\n",
              "12                     Stratify Train-Test             False\n",
              "13                          Fold Generator             KFold\n",
              "14                             Fold Number                10\n",
              "15                                CPU Jobs                -1\n",
              "16                                 Use GPU             False\n",
              "17                          Log Experiment             False\n",
              "18                         Experiment Name  reg-default-name\n",
              "19                                     USI              c6d9\n",
              "20                         Imputation Type            simple\n",
              "21          Iterative Imputation Iteration              None\n",
              "22                         Numeric Imputer              mean\n",
              "23      Iterative Imputation Numeric Model              None\n",
              "24                     Categorical Imputer          constant\n",
              "25  Iterative Imputation Categorical Model              None\n",
              "26           Unknown Categoricals Handling    least_frequent\n",
              "27                               Normalize              True\n",
              "28                        Normalize Method            zscore\n",
              "29                          Transformation             False\n",
              "30                   Transformation Method              None\n",
              "31                                     PCA             False\n",
              "32                              PCA Method              None\n",
              "33                          PCA Components              None\n",
              "34                     Ignore Low Variance             False\n",
              "35                     Combine Rare Levels             False\n",
              "36                    Rare Level Threshold              None\n",
              "37                         Numeric Binning             False\n",
              "38                         Remove Outliers             False\n",
              "39                      Outliers Threshold              None\n",
              "40                Remove Multicollinearity             False\n",
              "41             Multicollinearity Threshold              None\n",
              "42                              Clustering             False\n",
              "43                    Clustering Iteration              None\n",
              "44                     Polynomial Features             False\n",
              "45                       Polynomial Degree              None\n",
              "46                    Trignometry Features             False\n",
              "47                    Polynomial Threshold              None\n",
              "48                          Group Features             False\n",
              "49                       Feature Selection             False\n",
              "50                Feature Selection Method           classic\n",
              "51            Features Selection Threshold              None\n",
              "52                     Feature Interaction             False\n",
              "53                           Feature Ratio             False\n",
              "54                   Interaction Threshold              None\n",
              "55                        Transform Target             False\n",
              "56                 Transform Target Method           box-cox"
            ]
          },
          "metadata": {
            "tags": []
          }
        }
      ]
    },
    {
      "cell_type": "code",
      "metadata": {
        "colab": {
          "base_uri": "https://localhost:8080/",
          "height": 576
        },
        "id": "V9YlXoEZEF92",
        "outputId": "80724700-e158-453c-e041-1b2edb6b8422"
      },
      "source": [
        "best_5_d = compare_models(sort = 'MAE', n_select = 5)"
      ],
      "execution_count": null,
      "outputs": [
        {
          "output_type": "display_data",
          "data": {
            "text/html": [
              "<div>\n",
              "<style scoped>\n",
              "    .dataframe tbody tr th:only-of-type {\n",
              "        vertical-align: middle;\n",
              "    }\n",
              "\n",
              "    .dataframe tbody tr th {\n",
              "        vertical-align: top;\n",
              "    }\n",
              "\n",
              "    .dataframe thead th {\n",
              "        text-align: right;\n",
              "    }\n",
              "</style>\n",
              "<table border=\"1\" class=\"dataframe\">\n",
              "  <thead>\n",
              "    <tr style=\"text-align: right;\">\n",
              "      <th></th>\n",
              "      <th>Model</th>\n",
              "      <th>MAE</th>\n",
              "      <th>MSE</th>\n",
              "      <th>RMSE</th>\n",
              "      <th>R2</th>\n",
              "      <th>RMSLE</th>\n",
              "      <th>MAPE</th>\n",
              "      <th>TT (Sec)</th>\n",
              "    </tr>\n",
              "  </thead>\n",
              "  <tbody>\n",
              "    <tr>\n",
              "      <th>gbr</th>\n",
              "      <td>Gradient Boosting Regressor</td>\n",
              "      <td>45.5947</td>\n",
              "      <td>3596.9063</td>\n",
              "      <td>58.9507</td>\n",
              "      <td>0.7429</td>\n",
              "      <td>0.1556</td>\n",
              "      <td>0.1190</td>\n",
              "      <td>0.105</td>\n",
              "    </tr>\n",
              "    <tr>\n",
              "      <th>huber</th>\n",
              "      <td>Huber Regressor</td>\n",
              "      <td>45.6445</td>\n",
              "      <td>3810.6544</td>\n",
              "      <td>60.9874</td>\n",
              "      <td>0.7229</td>\n",
              "      <td>0.1533</td>\n",
              "      <td>0.1145</td>\n",
              "      <td>0.045</td>\n",
              "    </tr>\n",
              "    <tr>\n",
              "      <th>catboost</th>\n",
              "      <td>CatBoost Regressor</td>\n",
              "      <td>45.6952</td>\n",
              "      <td>3741.1837</td>\n",
              "      <td>60.1457</td>\n",
              "      <td>0.7281</td>\n",
              "      <td>0.1614</td>\n",
              "      <td>0.1216</td>\n",
              "      <td>2.759</td>\n",
              "    </tr>\n",
              "    <tr>\n",
              "      <th>ridge</th>\n",
              "      <td>Ridge Regression</td>\n",
              "      <td>46.1440</td>\n",
              "      <td>3713.8651</td>\n",
              "      <td>60.3232</td>\n",
              "      <td>0.7292</td>\n",
              "      <td>0.1512</td>\n",
              "      <td>0.1155</td>\n",
              "      <td>0.017</td>\n",
              "    </tr>\n",
              "    <tr>\n",
              "      <th>br</th>\n",
              "      <td>Bayesian Ridge</td>\n",
              "      <td>46.2366</td>\n",
              "      <td>3734.4730</td>\n",
              "      <td>60.5063</td>\n",
              "      <td>0.7280</td>\n",
              "      <td>0.1526</td>\n",
              "      <td>0.1166</td>\n",
              "      <td>0.017</td>\n",
              "    </tr>\n",
              "    <tr>\n",
              "      <th>lr</th>\n",
              "      <td>Linear Regression</td>\n",
              "      <td>46.5177</td>\n",
              "      <td>3758.8191</td>\n",
              "      <td>60.6245</td>\n",
              "      <td>0.7256</td>\n",
              "      <td>0.1514</td>\n",
              "      <td>0.1160</td>\n",
              "      <td>0.016</td>\n",
              "    </tr>\n",
              "    <tr>\n",
              "      <th>lightgbm</th>\n",
              "      <td>Light Gradient Boosting Machine</td>\n",
              "      <td>46.6304</td>\n",
              "      <td>3922.2672</td>\n",
              "      <td>61.6194</td>\n",
              "      <td>0.7183</td>\n",
              "      <td>0.1633</td>\n",
              "      <td>0.1227</td>\n",
              "      <td>0.093</td>\n",
              "    </tr>\n",
              "    <tr>\n",
              "      <th>et</th>\n",
              "      <td>Extra Trees Regressor</td>\n",
              "      <td>47.4057</td>\n",
              "      <td>3791.2102</td>\n",
              "      <td>60.6056</td>\n",
              "      <td>0.7259</td>\n",
              "      <td>0.1564</td>\n",
              "      <td>0.1210</td>\n",
              "      <td>0.467</td>\n",
              "    </tr>\n",
              "    <tr>\n",
              "      <th>par</th>\n",
              "      <td>Passive Aggressive Regressor</td>\n",
              "      <td>48.2711</td>\n",
              "      <td>4153.7618</td>\n",
              "      <td>63.9817</td>\n",
              "      <td>0.6952</td>\n",
              "      <td>0.1629</td>\n",
              "      <td>0.1225</td>\n",
              "      <td>0.018</td>\n",
              "    </tr>\n",
              "    <tr>\n",
              "      <th>lasso</th>\n",
              "      <td>Lasso Regression</td>\n",
              "      <td>48.4935</td>\n",
              "      <td>4198.2932</td>\n",
              "      <td>64.1268</td>\n",
              "      <td>0.6986</td>\n",
              "      <td>0.1671</td>\n",
              "      <td>0.1270</td>\n",
              "      <td>0.018</td>\n",
              "    </tr>\n",
              "    <tr>\n",
              "      <th>rf</th>\n",
              "      <td>Random Forest Regressor</td>\n",
              "      <td>48.7762</td>\n",
              "      <td>4195.6217</td>\n",
              "      <td>63.9008</td>\n",
              "      <td>0.6969</td>\n",
              "      <td>0.1700</td>\n",
              "      <td>0.1281</td>\n",
              "      <td>0.554</td>\n",
              "    </tr>\n",
              "    <tr>\n",
              "      <th>knn</th>\n",
              "      <td>K Neighbors Regressor</td>\n",
              "      <td>51.4953</td>\n",
              "      <td>5143.2036</td>\n",
              "      <td>70.4660</td>\n",
              "      <td>0.6296</td>\n",
              "      <td>0.1857</td>\n",
              "      <td>0.1402</td>\n",
              "      <td>0.064</td>\n",
              "    </tr>\n",
              "    <tr>\n",
              "      <th>ada</th>\n",
              "      <td>AdaBoost Regressor</td>\n",
              "      <td>56.4819</td>\n",
              "      <td>5201.3073</td>\n",
              "      <td>71.6037</td>\n",
              "      <td>0.6248</td>\n",
              "      <td>0.1881</td>\n",
              "      <td>0.1489</td>\n",
              "      <td>0.109</td>\n",
              "    </tr>\n",
              "    <tr>\n",
              "      <th>en</th>\n",
              "      <td>Elastic Net</td>\n",
              "      <td>59.9813</td>\n",
              "      <td>6150.8568</td>\n",
              "      <td>77.8522</td>\n",
              "      <td>0.5582</td>\n",
              "      <td>0.2031</td>\n",
              "      <td>0.1616</td>\n",
              "      <td>0.016</td>\n",
              "    </tr>\n",
              "    <tr>\n",
              "      <th>omp</th>\n",
              "      <td>Orthogonal Matching Pursuit</td>\n",
              "      <td>62.9067</td>\n",
              "      <td>6510.3786</td>\n",
              "      <td>79.7586</td>\n",
              "      <td>0.5342</td>\n",
              "      <td>0.2049</td>\n",
              "      <td>0.1647</td>\n",
              "      <td>0.017</td>\n",
              "    </tr>\n",
              "    <tr>\n",
              "      <th>llar</th>\n",
              "      <td>Lasso Least Angle Regression</td>\n",
              "      <td>65.7813</td>\n",
              "      <td>7035.9517</td>\n",
              "      <td>82.9446</td>\n",
              "      <td>0.5005</td>\n",
              "      <td>0.2161</td>\n",
              "      <td>0.1764</td>\n",
              "      <td>0.274</td>\n",
              "    </tr>\n",
              "    <tr>\n",
              "      <th>dt</th>\n",
              "      <td>Decision Tree Regressor</td>\n",
              "      <td>68.7226</td>\n",
              "      <td>8312.4449</td>\n",
              "      <td>90.2136</td>\n",
              "      <td>0.3942</td>\n",
              "      <td>0.2345</td>\n",
              "      <td>0.1727</td>\n",
              "      <td>0.019</td>\n",
              "    </tr>\n",
              "  </tbody>\n",
              "</table>\n",
              "</div>"
            ],
            "text/plain": [
              "                                    Model      MAE        MSE     RMSE  \\\n",
              "gbr           Gradient Boosting Regressor  45.5947  3596.9063  58.9507   \n",
              "huber                     Huber Regressor  45.6445  3810.6544  60.9874   \n",
              "catboost               CatBoost Regressor  45.6952  3741.1837  60.1457   \n",
              "ridge                    Ridge Regression  46.1440  3713.8651  60.3232   \n",
              "br                         Bayesian Ridge  46.2366  3734.4730  60.5063   \n",
              "lr                      Linear Regression  46.5177  3758.8191  60.6245   \n",
              "lightgbm  Light Gradient Boosting Machine  46.6304  3922.2672  61.6194   \n",
              "et                  Extra Trees Regressor  47.4057  3791.2102  60.6056   \n",
              "par          Passive Aggressive Regressor  48.2711  4153.7618  63.9817   \n",
              "lasso                    Lasso Regression  48.4935  4198.2932  64.1268   \n",
              "rf                Random Forest Regressor  48.7762  4195.6217  63.9008   \n",
              "knn                 K Neighbors Regressor  51.4953  5143.2036  70.4660   \n",
              "ada                    AdaBoost Regressor  56.4819  5201.3073  71.6037   \n",
              "en                            Elastic Net  59.9813  6150.8568  77.8522   \n",
              "omp           Orthogonal Matching Pursuit  62.9067  6510.3786  79.7586   \n",
              "llar         Lasso Least Angle Regression  65.7813  7035.9517  82.9446   \n",
              "dt                Decision Tree Regressor  68.7226  8312.4449  90.2136   \n",
              "\n",
              "              R2   RMSLE    MAPE  TT (Sec)  \n",
              "gbr       0.7429  0.1556  0.1190     0.105  \n",
              "huber     0.7229  0.1533  0.1145     0.045  \n",
              "catboost  0.7281  0.1614  0.1216     2.759  \n",
              "ridge     0.7292  0.1512  0.1155     0.017  \n",
              "br        0.7280  0.1526  0.1166     0.017  \n",
              "lr        0.7256  0.1514  0.1160     0.016  \n",
              "lightgbm  0.7183  0.1633  0.1227     0.093  \n",
              "et        0.7259  0.1564  0.1210     0.467  \n",
              "par       0.6952  0.1629  0.1225     0.018  \n",
              "lasso     0.6986  0.1671  0.1270     0.018  \n",
              "rf        0.6969  0.1700  0.1281     0.554  \n",
              "knn       0.6296  0.1857  0.1402     0.064  \n",
              "ada       0.6248  0.1881  0.1489     0.109  \n",
              "en        0.5582  0.2031  0.1616     0.016  \n",
              "omp       0.5342  0.2049  0.1647     0.017  \n",
              "llar      0.5005  0.2161  0.1764     0.274  \n",
              "dt        0.3942  0.2345  0.1727     0.019  "
            ]
          },
          "metadata": {
            "tags": []
          }
        }
      ]
    },
    {
      "cell_type": "markdown",
      "metadata": {
        "id": "9H51mYQSEa08"
      },
      "source": [
        "**앙상블모델**"
      ]
    },
    {
      "cell_type": "code",
      "metadata": {
        "colab": {
          "base_uri": "https://localhost:8080/",
          "height": 329
        },
        "id": "Ueet0UclEZgA",
        "outputId": "7871e778-c73b-4401-fd85-1fdae522f1e2"
      },
      "source": [
        "blended_d = blend_models(estimator_list = best_5_d, fold = 5, optimize = 'MAE')\n",
        "pred_holdout = predict_model(blended_d)\n",
        "final_model_d = finalize_model(blended_d)\n",
        "pred_esb_d = predict_model(final_model_d, test_2)"
      ],
      "execution_count": null,
      "outputs": [
        {
          "output_type": "display_data",
          "data": {
            "text/html": [
              "<div>\n",
              "<style scoped>\n",
              "    .dataframe tbody tr th:only-of-type {\n",
              "        vertical-align: middle;\n",
              "    }\n",
              "\n",
              "    .dataframe tbody tr th {\n",
              "        vertical-align: top;\n",
              "    }\n",
              "\n",
              "    .dataframe thead th {\n",
              "        text-align: right;\n",
              "    }\n",
              "</style>\n",
              "<table border=\"1\" class=\"dataframe\">\n",
              "  <thead>\n",
              "    <tr style=\"text-align: right;\">\n",
              "      <th></th>\n",
              "      <th>MAE</th>\n",
              "      <th>MSE</th>\n",
              "      <th>RMSE</th>\n",
              "      <th>R2</th>\n",
              "      <th>RMSLE</th>\n",
              "      <th>MAPE</th>\n",
              "    </tr>\n",
              "  </thead>\n",
              "  <tbody>\n",
              "    <tr>\n",
              "      <th>0</th>\n",
              "      <td>44.9917</td>\n",
              "      <td>3495.8213</td>\n",
              "      <td>59.1255</td>\n",
              "      <td>0.7650</td>\n",
              "      <td>0.1583</td>\n",
              "      <td>0.1204</td>\n",
              "    </tr>\n",
              "    <tr>\n",
              "      <th>1</th>\n",
              "      <td>45.8607</td>\n",
              "      <td>3259.8370</td>\n",
              "      <td>57.0950</td>\n",
              "      <td>0.7134</td>\n",
              "      <td>0.1291</td>\n",
              "      <td>0.1046</td>\n",
              "    </tr>\n",
              "    <tr>\n",
              "      <th>2</th>\n",
              "      <td>41.6958</td>\n",
              "      <td>3228.1918</td>\n",
              "      <td>56.8172</td>\n",
              "      <td>0.7502</td>\n",
              "      <td>0.1356</td>\n",
              "      <td>0.1004</td>\n",
              "    </tr>\n",
              "    <tr>\n",
              "      <th>3</th>\n",
              "      <td>48.6845</td>\n",
              "      <td>4393.9072</td>\n",
              "      <td>66.2866</td>\n",
              "      <td>0.7080</td>\n",
              "      <td>0.1835</td>\n",
              "      <td>0.1278</td>\n",
              "    </tr>\n",
              "    <tr>\n",
              "      <th>4</th>\n",
              "      <td>39.9479</td>\n",
              "      <td>2679.9975</td>\n",
              "      <td>51.7687</td>\n",
              "      <td>0.8318</td>\n",
              "      <td>0.1515</td>\n",
              "      <td>0.1094</td>\n",
              "    </tr>\n",
              "    <tr>\n",
              "      <th>Mean</th>\n",
              "      <td>44.2361</td>\n",
              "      <td>3411.5510</td>\n",
              "      <td>58.2186</td>\n",
              "      <td>0.7537</td>\n",
              "      <td>0.1516</td>\n",
              "      <td>0.1125</td>\n",
              "    </tr>\n",
              "    <tr>\n",
              "      <th>SD</th>\n",
              "      <td>3.0932</td>\n",
              "      <td>559.2734</td>\n",
              "      <td>4.7062</td>\n",
              "      <td>0.0446</td>\n",
              "      <td>0.0191</td>\n",
              "      <td>0.0101</td>\n",
              "    </tr>\n",
              "  </tbody>\n",
              "</table>\n",
              "</div>"
            ],
            "text/plain": [
              "          MAE        MSE     RMSE      R2   RMSLE    MAPE\n",
              "0     44.9917  3495.8213  59.1255  0.7650  0.1583  0.1204\n",
              "1     45.8607  3259.8370  57.0950  0.7134  0.1291  0.1046\n",
              "2     41.6958  3228.1918  56.8172  0.7502  0.1356  0.1004\n",
              "3     48.6845  4393.9072  66.2866  0.7080  0.1835  0.1278\n",
              "4     39.9479  2679.9975  51.7687  0.8318  0.1515  0.1094\n",
              "Mean  44.2361  3411.5510  58.2186  0.7537  0.1516  0.1125\n",
              "SD     3.0932   559.2734   4.7062  0.0446  0.0191  0.0101"
            ]
          },
          "metadata": {
            "tags": []
          }
        },
        {
          "output_type": "display_data",
          "data": {
            "text/html": [
              "<div>\n",
              "<style scoped>\n",
              "    .dataframe tbody tr th:only-of-type {\n",
              "        vertical-align: middle;\n",
              "    }\n",
              "\n",
              "    .dataframe tbody tr th {\n",
              "        vertical-align: top;\n",
              "    }\n",
              "\n",
              "    .dataframe thead th {\n",
              "        text-align: right;\n",
              "    }\n",
              "</style>\n",
              "<table border=\"1\" class=\"dataframe\">\n",
              "  <thead>\n",
              "    <tr style=\"text-align: right;\">\n",
              "      <th></th>\n",
              "      <th>Model</th>\n",
              "      <th>MAE</th>\n",
              "      <th>MSE</th>\n",
              "      <th>RMSE</th>\n",
              "      <th>R2</th>\n",
              "      <th>RMSLE</th>\n",
              "      <th>MAPE</th>\n",
              "    </tr>\n",
              "  </thead>\n",
              "  <tbody>\n",
              "    <tr>\n",
              "      <th>0</th>\n",
              "      <td>Voting Regressor</td>\n",
              "      <td>52.115</td>\n",
              "      <td>4799.5006</td>\n",
              "      <td>69.2784</td>\n",
              "      <td>0.7046</td>\n",
              "      <td>0.1798</td>\n",
              "      <td>0.1359</td>\n",
              "    </tr>\n",
              "  </tbody>\n",
              "</table>\n",
              "</div>"
            ],
            "text/plain": [
              "              Model     MAE        MSE     RMSE      R2   RMSLE    MAPE\n",
              "0  Voting Regressor  52.115  4799.5006  69.2784  0.7046  0.1798  0.1359"
            ]
          },
          "metadata": {
            "tags": []
          }
        }
      ]
    },
    {
      "cell_type": "code",
      "metadata": {
        "colab": {
          "base_uri": "https://localhost:8080/",
          "height": 322
        },
        "id": "OaRMwiA3E-oZ",
        "outputId": "0b458209-71aa-4526-d92a-dde130200d37"
      },
      "source": [
        "pred_esb_d = predict_model(final_model_d, test_dinner)"
      ],
      "execution_count": null,
      "outputs": [
        {
          "output_type": "error",
          "ename": "KeyError",
          "evalue": "ignored",
          "traceback": [
            "\u001b[0;31m---------------------------------------------------------------------------\u001b[0m",
            "\u001b[0;31mKeyError\u001b[0m                                  Traceback (most recent call last)",
            "\u001b[0;32m<ipython-input-101-6606aeff1119>\u001b[0m in \u001b[0;36m<module>\u001b[0;34m()\u001b[0m\n\u001b[0;32m----> 1\u001b[0;31m \u001b[0mpred_esb_d\u001b[0m \u001b[0;34m=\u001b[0m \u001b[0mpredict_model\u001b[0m\u001b[0;34m(\u001b[0m\u001b[0mfinal_model_d\u001b[0m\u001b[0;34m,\u001b[0m \u001b[0mtest_dinner\u001b[0m\u001b[0;34m)\u001b[0m\u001b[0;34m\u001b[0m\u001b[0;34m\u001b[0m\u001b[0m\n\u001b[0m",
            "\u001b[0;32m/usr/local/lib/python3.7/dist-packages/pycaret/regression.py\u001b[0m in \u001b[0;36mpredict_model\u001b[0;34m(estimator, data, round, verbose)\u001b[0m\n\u001b[1;32m   1716\u001b[0m         \u001b[0mround\u001b[0m\u001b[0;34m=\u001b[0m\u001b[0mround\u001b[0m\u001b[0;34m,\u001b[0m\u001b[0;34m\u001b[0m\u001b[0;34m\u001b[0m\u001b[0m\n\u001b[1;32m   1717\u001b[0m         \u001b[0mverbose\u001b[0m\u001b[0;34m=\u001b[0m\u001b[0mverbose\u001b[0m\u001b[0;34m,\u001b[0m\u001b[0;34m\u001b[0m\u001b[0;34m\u001b[0m\u001b[0m\n\u001b[0;32m-> 1718\u001b[0;31m         \u001b[0mml_usecase\u001b[0m\u001b[0;34m=\u001b[0m\u001b[0mMLUsecase\u001b[0m\u001b[0;34m.\u001b[0m\u001b[0mREGRESSION\u001b[0m\u001b[0;34m,\u001b[0m\u001b[0;34m\u001b[0m\u001b[0;34m\u001b[0m\u001b[0m\n\u001b[0m\u001b[1;32m   1719\u001b[0m     )\n\u001b[1;32m   1720\u001b[0m \u001b[0;34m\u001b[0m\u001b[0m\n",
            "\u001b[0;32m/usr/local/lib/python3.7/dist-packages/pycaret/internal/tabular.py\u001b[0m in \u001b[0;36mpredict_model\u001b[0;34m(estimator, data, probability_threshold, encoded_labels, raw_score, round, verbose, ml_usecase, display)\u001b[0m\n\u001b[1;32m   8403\u001b[0m     \u001b[0;31m# prediction starts here\u001b[0m\u001b[0;34m\u001b[0m\u001b[0;34m\u001b[0m\u001b[0;34m\u001b[0m\u001b[0m\n\u001b[1;32m   8404\u001b[0m \u001b[0;34m\u001b[0m\u001b[0m\n\u001b[0;32m-> 8405\u001b[0;31m     \u001b[0mpred\u001b[0m \u001b[0;34m=\u001b[0m \u001b[0mnp\u001b[0m\u001b[0;34m.\u001b[0m\u001b[0mnan_to_num\u001b[0m\u001b[0;34m(\u001b[0m\u001b[0mestimator\u001b[0m\u001b[0;34m.\u001b[0m\u001b[0mpredict\u001b[0m\u001b[0;34m(\u001b[0m\u001b[0mX_test_\u001b[0m\u001b[0;34m)\u001b[0m\u001b[0;34m)\u001b[0m\u001b[0;34m\u001b[0m\u001b[0;34m\u001b[0m\u001b[0m\n\u001b[0m\u001b[1;32m   8406\u001b[0m \u001b[0;34m\u001b[0m\u001b[0m\n\u001b[1;32m   8407\u001b[0m     \u001b[0;32mtry\u001b[0m\u001b[0;34m:\u001b[0m\u001b[0;34m\u001b[0m\u001b[0;34m\u001b[0m\u001b[0m\n",
            "\u001b[0;32m/usr/local/lib/python3.7/dist-packages/sklearn/utils/metaestimators.py\u001b[0m in \u001b[0;36m<lambda>\u001b[0;34m(*args, **kwargs)\u001b[0m\n\u001b[1;32m    117\u001b[0m \u001b[0;34m\u001b[0m\u001b[0m\n\u001b[1;32m    118\u001b[0m         \u001b[0;31m# lambda, but not partial, allows help() to work with update_wrapper\u001b[0m\u001b[0;34m\u001b[0m\u001b[0;34m\u001b[0m\u001b[0;34m\u001b[0m\u001b[0m\n\u001b[0;32m--> 119\u001b[0;31m         \u001b[0mout\u001b[0m \u001b[0;34m=\u001b[0m \u001b[0;32mlambda\u001b[0m \u001b[0;34m*\u001b[0m\u001b[0margs\u001b[0m\u001b[0;34m,\u001b[0m \u001b[0;34m**\u001b[0m\u001b[0mkwargs\u001b[0m\u001b[0;34m:\u001b[0m \u001b[0mself\u001b[0m\u001b[0;34m.\u001b[0m\u001b[0mfn\u001b[0m\u001b[0;34m(\u001b[0m\u001b[0mobj\u001b[0m\u001b[0;34m,\u001b[0m \u001b[0;34m*\u001b[0m\u001b[0margs\u001b[0m\u001b[0;34m,\u001b[0m \u001b[0;34m**\u001b[0m\u001b[0mkwargs\u001b[0m\u001b[0;34m)\u001b[0m\u001b[0;34m\u001b[0m\u001b[0;34m\u001b[0m\u001b[0m\n\u001b[0m\u001b[1;32m    120\u001b[0m         \u001b[0;31m# update the docstring of the returned function\u001b[0m\u001b[0;34m\u001b[0m\u001b[0;34m\u001b[0m\u001b[0;34m\u001b[0m\u001b[0m\n\u001b[1;32m    121\u001b[0m         \u001b[0mupdate_wrapper\u001b[0m\u001b[0;34m(\u001b[0m\u001b[0mout\u001b[0m\u001b[0;34m,\u001b[0m \u001b[0mself\u001b[0m\u001b[0;34m.\u001b[0m\u001b[0mfn\u001b[0m\u001b[0;34m)\u001b[0m\u001b[0;34m\u001b[0m\u001b[0;34m\u001b[0m\u001b[0m\n",
            "\u001b[0;32m/usr/local/lib/python3.7/dist-packages/sklearn/pipeline.py\u001b[0m in \u001b[0;36mpredict\u001b[0;34m(self, X, **predict_params)\u001b[0m\n\u001b[1;32m    405\u001b[0m         \u001b[0mXt\u001b[0m \u001b[0;34m=\u001b[0m \u001b[0mX\u001b[0m\u001b[0;34m\u001b[0m\u001b[0;34m\u001b[0m\u001b[0m\n\u001b[1;32m    406\u001b[0m         \u001b[0;32mfor\u001b[0m \u001b[0m_\u001b[0m\u001b[0;34m,\u001b[0m \u001b[0mname\u001b[0m\u001b[0;34m,\u001b[0m \u001b[0mtransform\u001b[0m \u001b[0;32min\u001b[0m \u001b[0mself\u001b[0m\u001b[0;34m.\u001b[0m\u001b[0m_iter\u001b[0m\u001b[0;34m(\u001b[0m\u001b[0mwith_final\u001b[0m\u001b[0;34m=\u001b[0m\u001b[0;32mFalse\u001b[0m\u001b[0;34m)\u001b[0m\u001b[0;34m:\u001b[0m\u001b[0;34m\u001b[0m\u001b[0;34m\u001b[0m\u001b[0m\n\u001b[0;32m--> 407\u001b[0;31m             \u001b[0mXt\u001b[0m \u001b[0;34m=\u001b[0m \u001b[0mtransform\u001b[0m\u001b[0;34m.\u001b[0m\u001b[0mtransform\u001b[0m\u001b[0;34m(\u001b[0m\u001b[0mXt\u001b[0m\u001b[0;34m)\u001b[0m\u001b[0;34m\u001b[0m\u001b[0;34m\u001b[0m\u001b[0m\n\u001b[0m\u001b[1;32m    408\u001b[0m         \u001b[0;32mreturn\u001b[0m \u001b[0mself\u001b[0m\u001b[0;34m.\u001b[0m\u001b[0msteps\u001b[0m\u001b[0;34m[\u001b[0m\u001b[0;34m-\u001b[0m\u001b[0;36m1\u001b[0m\u001b[0;34m]\u001b[0m\u001b[0;34m[\u001b[0m\u001b[0;34m-\u001b[0m\u001b[0;36m1\u001b[0m\u001b[0;34m]\u001b[0m\u001b[0;34m.\u001b[0m\u001b[0mpredict\u001b[0m\u001b[0;34m(\u001b[0m\u001b[0mXt\u001b[0m\u001b[0;34m,\u001b[0m \u001b[0;34m**\u001b[0m\u001b[0mpredict_params\u001b[0m\u001b[0;34m)\u001b[0m\u001b[0;34m\u001b[0m\u001b[0;34m\u001b[0m\u001b[0m\n\u001b[1;32m    409\u001b[0m \u001b[0;34m\u001b[0m\u001b[0m\n",
            "\u001b[0;32m/usr/local/lib/python3.7/dist-packages/pycaret/internal/preprocess.py\u001b[0m in \u001b[0;36mtransform\u001b[0;34m(self, dataset, y)\u001b[0m\n\u001b[1;32m    362\u001b[0m         \u001b[0;31m# drop any columns that were asked to drop\u001b[0m\u001b[0;34m\u001b[0m\u001b[0;34m\u001b[0m\u001b[0;34m\u001b[0m\u001b[0m\n\u001b[1;32m    363\u001b[0m         \u001b[0mdata\u001b[0m\u001b[0;34m.\u001b[0m\u001b[0mdrop\u001b[0m\u001b[0;34m(\u001b[0m\u001b[0mcolumns\u001b[0m\u001b[0;34m=\u001b[0m\u001b[0mself\u001b[0m\u001b[0;34m.\u001b[0m\u001b[0mfeatures_todrop\u001b[0m\u001b[0;34m,\u001b[0m \u001b[0merrors\u001b[0m\u001b[0;34m=\u001b[0m\u001b[0;34m\"ignore\"\u001b[0m\u001b[0;34m,\u001b[0m \u001b[0minplace\u001b[0m\u001b[0;34m=\u001b[0m\u001b[0;32mTrue\u001b[0m\u001b[0;34m)\u001b[0m\u001b[0;34m\u001b[0m\u001b[0;34m\u001b[0m\u001b[0m\n\u001b[0;32m--> 364\u001b[0;31m         \u001b[0mdata\u001b[0m \u001b[0;34m=\u001b[0m \u001b[0mdata\u001b[0m\u001b[0;34m[\u001b[0m\u001b[0mself\u001b[0m\u001b[0;34m.\u001b[0m\u001b[0mfinal_training_columns\u001b[0m\u001b[0;34m]\u001b[0m\u001b[0;34m\u001b[0m\u001b[0;34m\u001b[0m\u001b[0m\n\u001b[0m\u001b[1;32m    365\u001b[0m \u001b[0;34m\u001b[0m\u001b[0m\n\u001b[1;32m    366\u001b[0m         \u001b[0;31m# also make sure that all the column names are string\u001b[0m\u001b[0;34m\u001b[0m\u001b[0;34m\u001b[0m\u001b[0;34m\u001b[0m\u001b[0m\n",
            "\u001b[0;32m/usr/local/lib/python3.7/dist-packages/pandas/core/frame.py\u001b[0m in \u001b[0;36m__getitem__\u001b[0;34m(self, key)\u001b[0m\n\u001b[1;32m   2910\u001b[0m             \u001b[0;32mif\u001b[0m \u001b[0mis_iterator\u001b[0m\u001b[0;34m(\u001b[0m\u001b[0mkey\u001b[0m\u001b[0;34m)\u001b[0m\u001b[0;34m:\u001b[0m\u001b[0;34m\u001b[0m\u001b[0;34m\u001b[0m\u001b[0m\n\u001b[1;32m   2911\u001b[0m                 \u001b[0mkey\u001b[0m \u001b[0;34m=\u001b[0m \u001b[0mlist\u001b[0m\u001b[0;34m(\u001b[0m\u001b[0mkey\u001b[0m\u001b[0;34m)\u001b[0m\u001b[0;34m\u001b[0m\u001b[0;34m\u001b[0m\u001b[0m\n\u001b[0;32m-> 2912\u001b[0;31m             \u001b[0mindexer\u001b[0m \u001b[0;34m=\u001b[0m \u001b[0mself\u001b[0m\u001b[0;34m.\u001b[0m\u001b[0mloc\u001b[0m\u001b[0;34m.\u001b[0m\u001b[0m_get_listlike_indexer\u001b[0m\u001b[0;34m(\u001b[0m\u001b[0mkey\u001b[0m\u001b[0;34m,\u001b[0m \u001b[0maxis\u001b[0m\u001b[0;34m=\u001b[0m\u001b[0;36m1\u001b[0m\u001b[0;34m,\u001b[0m \u001b[0mraise_missing\u001b[0m\u001b[0;34m=\u001b[0m\u001b[0;32mTrue\u001b[0m\u001b[0;34m)\u001b[0m\u001b[0;34m[\u001b[0m\u001b[0;36m1\u001b[0m\u001b[0;34m]\u001b[0m\u001b[0;34m\u001b[0m\u001b[0;34m\u001b[0m\u001b[0m\n\u001b[0m\u001b[1;32m   2913\u001b[0m \u001b[0;34m\u001b[0m\u001b[0m\n\u001b[1;32m   2914\u001b[0m         \u001b[0;31m# take() does not accept boolean indexers\u001b[0m\u001b[0;34m\u001b[0m\u001b[0;34m\u001b[0m\u001b[0;34m\u001b[0m\u001b[0m\n",
            "\u001b[0;32m/usr/local/lib/python3.7/dist-packages/pandas/core/indexing.py\u001b[0m in \u001b[0;36m_get_listlike_indexer\u001b[0;34m(self, key, axis, raise_missing)\u001b[0m\n\u001b[1;32m   1252\u001b[0m             \u001b[0mkeyarr\u001b[0m\u001b[0;34m,\u001b[0m \u001b[0mindexer\u001b[0m\u001b[0;34m,\u001b[0m \u001b[0mnew_indexer\u001b[0m \u001b[0;34m=\u001b[0m \u001b[0max\u001b[0m\u001b[0;34m.\u001b[0m\u001b[0m_reindex_non_unique\u001b[0m\u001b[0;34m(\u001b[0m\u001b[0mkeyarr\u001b[0m\u001b[0;34m)\u001b[0m\u001b[0;34m\u001b[0m\u001b[0;34m\u001b[0m\u001b[0m\n\u001b[1;32m   1253\u001b[0m \u001b[0;34m\u001b[0m\u001b[0m\n\u001b[0;32m-> 1254\u001b[0;31m         \u001b[0mself\u001b[0m\u001b[0;34m.\u001b[0m\u001b[0m_validate_read_indexer\u001b[0m\u001b[0;34m(\u001b[0m\u001b[0mkeyarr\u001b[0m\u001b[0;34m,\u001b[0m \u001b[0mindexer\u001b[0m\u001b[0;34m,\u001b[0m \u001b[0maxis\u001b[0m\u001b[0;34m,\u001b[0m \u001b[0mraise_missing\u001b[0m\u001b[0;34m=\u001b[0m\u001b[0mraise_missing\u001b[0m\u001b[0;34m)\u001b[0m\u001b[0;34m\u001b[0m\u001b[0;34m\u001b[0m\u001b[0m\n\u001b[0m\u001b[1;32m   1255\u001b[0m         \u001b[0;32mreturn\u001b[0m \u001b[0mkeyarr\u001b[0m\u001b[0;34m,\u001b[0m \u001b[0mindexer\u001b[0m\u001b[0;34m\u001b[0m\u001b[0;34m\u001b[0m\u001b[0m\n\u001b[1;32m   1256\u001b[0m \u001b[0;34m\u001b[0m\u001b[0m\n",
            "\u001b[0;32m/usr/local/lib/python3.7/dist-packages/pandas/core/indexing.py\u001b[0m in \u001b[0;36m_validate_read_indexer\u001b[0;34m(self, key, indexer, axis, raise_missing)\u001b[0m\n\u001b[1;32m   1302\u001b[0m             \u001b[0;32mif\u001b[0m \u001b[0mraise_missing\u001b[0m\u001b[0;34m:\u001b[0m\u001b[0;34m\u001b[0m\u001b[0;34m\u001b[0m\u001b[0m\n\u001b[1;32m   1303\u001b[0m                 \u001b[0mnot_found\u001b[0m \u001b[0;34m=\u001b[0m \u001b[0mlist\u001b[0m\u001b[0;34m(\u001b[0m\u001b[0mset\u001b[0m\u001b[0;34m(\u001b[0m\u001b[0mkey\u001b[0m\u001b[0;34m)\u001b[0m \u001b[0;34m-\u001b[0m \u001b[0mset\u001b[0m\u001b[0;34m(\u001b[0m\u001b[0max\u001b[0m\u001b[0;34m)\u001b[0m\u001b[0;34m)\u001b[0m\u001b[0;34m\u001b[0m\u001b[0;34m\u001b[0m\u001b[0m\n\u001b[0;32m-> 1304\u001b[0;31m                 \u001b[0;32mraise\u001b[0m \u001b[0mKeyError\u001b[0m\u001b[0;34m(\u001b[0m\u001b[0;34mf\"{not_found} not in index\"\u001b[0m\u001b[0;34m)\u001b[0m\u001b[0;34m\u001b[0m\u001b[0;34m\u001b[0m\u001b[0m\n\u001b[0m\u001b[1;32m   1305\u001b[0m \u001b[0;34m\u001b[0m\u001b[0m\n\u001b[1;32m   1306\u001b[0m             \u001b[0;31m# we skip the warning on Categorical\u001b[0m\u001b[0;34m\u001b[0m\u001b[0;34m\u001b[0m\u001b[0;34m\u001b[0m\u001b[0m\n",
            "\u001b[0;31mKeyError\u001b[0m: \"['년'] not in index\""
          ]
        }
      ]
    },
    {
      "cell_type": "code",
      "metadata": {
        "colab": {
          "base_uri": "https://localhost:8080/",
          "height": 1000
        },
        "id": "rR7rf9GeFB2P",
        "outputId": "d3227beb-fcca-4e8c-849f-fa0527bcb52b"
      },
      "source": [
        "submission_esb['석식계'] = pred_esb_d['Label']\n",
        "submission_esb"
      ],
      "execution_count": null,
      "outputs": [
        {
          "output_type": "execute_result",
          "data": {
            "text/html": [
              "<div>\n",
              "<style scoped>\n",
              "    .dataframe tbody tr th:only-of-type {\n",
              "        vertical-align: middle;\n",
              "    }\n",
              "\n",
              "    .dataframe tbody tr th {\n",
              "        vertical-align: top;\n",
              "    }\n",
              "\n",
              "    .dataframe thead th {\n",
              "        text-align: right;\n",
              "    }\n",
              "</style>\n",
              "<table border=\"1\" class=\"dataframe\">\n",
              "  <thead>\n",
              "    <tr style=\"text-align: right;\">\n",
              "      <th></th>\n",
              "      <th>일자</th>\n",
              "      <th>중식계</th>\n",
              "      <th>석식계</th>\n",
              "    </tr>\n",
              "  </thead>\n",
              "  <tbody>\n",
              "    <tr>\n",
              "      <th>0</th>\n",
              "      <td>2021-01-27</td>\n",
              "      <td>999.352064</td>\n",
              "      <td>350.726800</td>\n",
              "    </tr>\n",
              "    <tr>\n",
              "      <th>1</th>\n",
              "      <td>2021-01-28</td>\n",
              "      <td>894.316442</td>\n",
              "      <td>398.721598</td>\n",
              "    </tr>\n",
              "    <tr>\n",
              "      <th>2</th>\n",
              "      <td>2021-01-29</td>\n",
              "      <td>600.401220</td>\n",
              "      <td>252.592545</td>\n",
              "    </tr>\n",
              "    <tr>\n",
              "      <th>3</th>\n",
              "      <td>2021-02-01</td>\n",
              "      <td>1258.541776</td>\n",
              "      <td>491.883583</td>\n",
              "    </tr>\n",
              "    <tr>\n",
              "      <th>4</th>\n",
              "      <td>2021-02-02</td>\n",
              "      <td>1031.659019</td>\n",
              "      <td>446.472779</td>\n",
              "    </tr>\n",
              "    <tr>\n",
              "      <th>5</th>\n",
              "      <td>2021-02-03</td>\n",
              "      <td>1005.525329</td>\n",
              "      <td>384.677263</td>\n",
              "    </tr>\n",
              "    <tr>\n",
              "      <th>6</th>\n",
              "      <td>2021-02-04</td>\n",
              "      <td>924.658481</td>\n",
              "      <td>445.124173</td>\n",
              "    </tr>\n",
              "    <tr>\n",
              "      <th>7</th>\n",
              "      <td>2021-02-05</td>\n",
              "      <td>625.979491</td>\n",
              "      <td>330.712384</td>\n",
              "    </tr>\n",
              "    <tr>\n",
              "      <th>8</th>\n",
              "      <td>2021-02-08</td>\n",
              "      <td>1270.494329</td>\n",
              "      <td>561.688624</td>\n",
              "    </tr>\n",
              "    <tr>\n",
              "      <th>9</th>\n",
              "      <td>2021-02-09</td>\n",
              "      <td>1068.443711</td>\n",
              "      <td>496.569585</td>\n",
              "    </tr>\n",
              "    <tr>\n",
              "      <th>10</th>\n",
              "      <td>2021-02-10</td>\n",
              "      <td>834.004766</td>\n",
              "      <td>222.217358</td>\n",
              "    </tr>\n",
              "    <tr>\n",
              "      <th>11</th>\n",
              "      <td>2021-02-15</td>\n",
              "      <td>1277.966499</td>\n",
              "      <td>652.920781</td>\n",
              "    </tr>\n",
              "    <tr>\n",
              "      <th>12</th>\n",
              "      <td>2021-02-16</td>\n",
              "      <td>1096.737054</td>\n",
              "      <td>619.025046</td>\n",
              "    </tr>\n",
              "    <tr>\n",
              "      <th>13</th>\n",
              "      <td>2021-02-17</td>\n",
              "      <td>1103.957913</td>\n",
              "      <td>419.550588</td>\n",
              "    </tr>\n",
              "    <tr>\n",
              "      <th>14</th>\n",
              "      <td>2021-02-18</td>\n",
              "      <td>886.295523</td>\n",
              "      <td>504.987772</td>\n",
              "    </tr>\n",
              "    <tr>\n",
              "      <th>15</th>\n",
              "      <td>2021-02-19</td>\n",
              "      <td>675.147651</td>\n",
              "      <td>347.944079</td>\n",
              "    </tr>\n",
              "    <tr>\n",
              "      <th>16</th>\n",
              "      <td>2021-02-22</td>\n",
              "      <td>1247.526147</td>\n",
              "      <td>617.036452</td>\n",
              "    </tr>\n",
              "    <tr>\n",
              "      <th>17</th>\n",
              "      <td>2021-02-23</td>\n",
              "      <td>1064.706752</td>\n",
              "      <td>594.505886</td>\n",
              "    </tr>\n",
              "    <tr>\n",
              "      <th>18</th>\n",
              "      <td>2021-02-24</td>\n",
              "      <td>951.918744</td>\n",
              "      <td>377.690369</td>\n",
              "    </tr>\n",
              "    <tr>\n",
              "      <th>19</th>\n",
              "      <td>2021-02-25</td>\n",
              "      <td>858.333586</td>\n",
              "      <td>495.215270</td>\n",
              "    </tr>\n",
              "    <tr>\n",
              "      <th>20</th>\n",
              "      <td>2021-02-26</td>\n",
              "      <td>624.901120</td>\n",
              "      <td>313.109255</td>\n",
              "    </tr>\n",
              "    <tr>\n",
              "      <th>21</th>\n",
              "      <td>2021-03-02</td>\n",
              "      <td>1049.420550</td>\n",
              "      <td>619.550327</td>\n",
              "    </tr>\n",
              "    <tr>\n",
              "      <th>22</th>\n",
              "      <td>2021-03-03</td>\n",
              "      <td>1046.866577</td>\n",
              "      <td>424.941949</td>\n",
              "    </tr>\n",
              "    <tr>\n",
              "      <th>23</th>\n",
              "      <td>2021-03-04</td>\n",
              "      <td>926.578717</td>\n",
              "      <td>557.978554</td>\n",
              "    </tr>\n",
              "    <tr>\n",
              "      <th>24</th>\n",
              "      <td>2021-03-05</td>\n",
              "      <td>659.040365</td>\n",
              "      <td>360.574059</td>\n",
              "    </tr>\n",
              "    <tr>\n",
              "      <th>25</th>\n",
              "      <td>2021-03-08</td>\n",
              "      <td>1262.672532</td>\n",
              "      <td>662.468064</td>\n",
              "    </tr>\n",
              "    <tr>\n",
              "      <th>26</th>\n",
              "      <td>2021-03-09</td>\n",
              "      <td>1056.065351</td>\n",
              "      <td>669.355164</td>\n",
              "    </tr>\n",
              "    <tr>\n",
              "      <th>27</th>\n",
              "      <td>2021-03-10</td>\n",
              "      <td>1037.791077</td>\n",
              "      <td>409.776757</td>\n",
              "    </tr>\n",
              "    <tr>\n",
              "      <th>28</th>\n",
              "      <td>2021-03-11</td>\n",
              "      <td>936.984705</td>\n",
              "      <td>535.696905</td>\n",
              "    </tr>\n",
              "    <tr>\n",
              "      <th>29</th>\n",
              "      <td>2021-03-12</td>\n",
              "      <td>723.840540</td>\n",
              "      <td>336.602500</td>\n",
              "    </tr>\n",
              "    <tr>\n",
              "      <th>30</th>\n",
              "      <td>2021-03-15</td>\n",
              "      <td>1263.102899</td>\n",
              "      <td>662.884964</td>\n",
              "    </tr>\n",
              "    <tr>\n",
              "      <th>31</th>\n",
              "      <td>2021-03-16</td>\n",
              "      <td>1034.317378</td>\n",
              "      <td>567.607452</td>\n",
              "    </tr>\n",
              "    <tr>\n",
              "      <th>32</th>\n",
              "      <td>2021-03-17</td>\n",
              "      <td>1045.618103</td>\n",
              "      <td>413.376170</td>\n",
              "    </tr>\n",
              "    <tr>\n",
              "      <th>33</th>\n",
              "      <td>2021-03-18</td>\n",
              "      <td>914.552054</td>\n",
              "      <td>486.161809</td>\n",
              "    </tr>\n",
              "    <tr>\n",
              "      <th>34</th>\n",
              "      <td>2021-03-19</td>\n",
              "      <td>661.678334</td>\n",
              "      <td>319.366455</td>\n",
              "    </tr>\n",
              "    <tr>\n",
              "      <th>35</th>\n",
              "      <td>2021-03-22</td>\n",
              "      <td>1216.863194</td>\n",
              "      <td>597.892313</td>\n",
              "    </tr>\n",
              "    <tr>\n",
              "      <th>36</th>\n",
              "      <td>2021-03-23</td>\n",
              "      <td>1005.486698</td>\n",
              "      <td>563.603861</td>\n",
              "    </tr>\n",
              "    <tr>\n",
              "      <th>37</th>\n",
              "      <td>2021-03-24</td>\n",
              "      <td>926.168063</td>\n",
              "      <td>375.860181</td>\n",
              "    </tr>\n",
              "    <tr>\n",
              "      <th>38</th>\n",
              "      <td>2021-03-25</td>\n",
              "      <td>846.736688</td>\n",
              "      <td>437.421385</td>\n",
              "    </tr>\n",
              "    <tr>\n",
              "      <th>39</th>\n",
              "      <td>2021-03-26</td>\n",
              "      <td>577.394611</td>\n",
              "      <td>305.857062</td>\n",
              "    </tr>\n",
              "    <tr>\n",
              "      <th>40</th>\n",
              "      <td>2021-03-29</td>\n",
              "      <td>1195.575518</td>\n",
              "      <td>577.768109</td>\n",
              "    </tr>\n",
              "    <tr>\n",
              "      <th>41</th>\n",
              "      <td>2021-03-30</td>\n",
              "      <td>1001.287716</td>\n",
              "      <td>548.226567</td>\n",
              "    </tr>\n",
              "    <tr>\n",
              "      <th>42</th>\n",
              "      <td>2021-03-31</td>\n",
              "      <td>937.669479</td>\n",
              "      <td>381.907746</td>\n",
              "    </tr>\n",
              "    <tr>\n",
              "      <th>43</th>\n",
              "      <td>2021-04-01</td>\n",
              "      <td>817.042595</td>\n",
              "      <td>401.468123</td>\n",
              "    </tr>\n",
              "    <tr>\n",
              "      <th>44</th>\n",
              "      <td>2021-04-02</td>\n",
              "      <td>606.751416</td>\n",
              "      <td>280.540111</td>\n",
              "    </tr>\n",
              "    <tr>\n",
              "      <th>45</th>\n",
              "      <td>2021-04-05</td>\n",
              "      <td>1215.793304</td>\n",
              "      <td>561.786211</td>\n",
              "    </tr>\n",
              "    <tr>\n",
              "      <th>46</th>\n",
              "      <td>2021-04-06</td>\n",
              "      <td>1024.850888</td>\n",
              "      <td>536.976711</td>\n",
              "    </tr>\n",
              "    <tr>\n",
              "      <th>47</th>\n",
              "      <td>2021-04-07</td>\n",
              "      <td>935.447676</td>\n",
              "      <td>356.691869</td>\n",
              "    </tr>\n",
              "    <tr>\n",
              "      <th>48</th>\n",
              "      <td>2021-04-08</td>\n",
              "      <td>878.500844</td>\n",
              "      <td>444.999340</td>\n",
              "    </tr>\n",
              "    <tr>\n",
              "      <th>49</th>\n",
              "      <td>2021-04-09</td>\n",
              "      <td>631.249803</td>\n",
              "      <td>286.065444</td>\n",
              "    </tr>\n",
              "  </tbody>\n",
              "</table>\n",
              "</div>"
            ],
            "text/plain": [
              "            일자          중식계         석식계\n",
              "0   2021-01-27   999.352064  350.726800\n",
              "1   2021-01-28   894.316442  398.721598\n",
              "2   2021-01-29   600.401220  252.592545\n",
              "3   2021-02-01  1258.541776  491.883583\n",
              "4   2021-02-02  1031.659019  446.472779\n",
              "5   2021-02-03  1005.525329  384.677263\n",
              "6   2021-02-04   924.658481  445.124173\n",
              "7   2021-02-05   625.979491  330.712384\n",
              "8   2021-02-08  1270.494329  561.688624\n",
              "9   2021-02-09  1068.443711  496.569585\n",
              "10  2021-02-10   834.004766  222.217358\n",
              "11  2021-02-15  1277.966499  652.920781\n",
              "12  2021-02-16  1096.737054  619.025046\n",
              "13  2021-02-17  1103.957913  419.550588\n",
              "14  2021-02-18   886.295523  504.987772\n",
              "15  2021-02-19   675.147651  347.944079\n",
              "16  2021-02-22  1247.526147  617.036452\n",
              "17  2021-02-23  1064.706752  594.505886\n",
              "18  2021-02-24   951.918744  377.690369\n",
              "19  2021-02-25   858.333586  495.215270\n",
              "20  2021-02-26   624.901120  313.109255\n",
              "21  2021-03-02  1049.420550  619.550327\n",
              "22  2021-03-03  1046.866577  424.941949\n",
              "23  2021-03-04   926.578717  557.978554\n",
              "24  2021-03-05   659.040365  360.574059\n",
              "25  2021-03-08  1262.672532  662.468064\n",
              "26  2021-03-09  1056.065351  669.355164\n",
              "27  2021-03-10  1037.791077  409.776757\n",
              "28  2021-03-11   936.984705  535.696905\n",
              "29  2021-03-12   723.840540  336.602500\n",
              "30  2021-03-15  1263.102899  662.884964\n",
              "31  2021-03-16  1034.317378  567.607452\n",
              "32  2021-03-17  1045.618103  413.376170\n",
              "33  2021-03-18   914.552054  486.161809\n",
              "34  2021-03-19   661.678334  319.366455\n",
              "35  2021-03-22  1216.863194  597.892313\n",
              "36  2021-03-23  1005.486698  563.603861\n",
              "37  2021-03-24   926.168063  375.860181\n",
              "38  2021-03-25   846.736688  437.421385\n",
              "39  2021-03-26   577.394611  305.857062\n",
              "40  2021-03-29  1195.575518  577.768109\n",
              "41  2021-03-30  1001.287716  548.226567\n",
              "42  2021-03-31   937.669479  381.907746\n",
              "43  2021-04-01   817.042595  401.468123\n",
              "44  2021-04-02   606.751416  280.540111\n",
              "45  2021-04-05  1215.793304  561.786211\n",
              "46  2021-04-06  1024.850888  536.976711\n",
              "47  2021-04-07   935.447676  356.691869\n",
              "48  2021-04-08   878.500844  444.999340\n",
              "49  2021-04-09   631.249803  286.065444"
            ]
          },
          "metadata": {
            "tags": []
          },
          "execution_count": 102
        }
      ]
    },
    {
      "cell_type": "code",
      "metadata": {
        "id": "xjmRpRt0FIfa"
      },
      "source": [
        "submission_esb.to_csv('submission_after.csv', index = False)"
      ],
      "execution_count": null,
      "outputs": []
    },
    {
      "cell_type": "markdown",
      "metadata": {
        "id": "HjIB6ehZFPbJ"
      },
      "source": [
        "# **간단한 시각화**"
      ]
    },
    {
      "cell_type": "code",
      "metadata": {
        "colab": {
          "base_uri": "https://localhost:8080/",
          "height": 283
        },
        "id": "zuq2DXh5FOTx",
        "outputId": "6dd790b4-99ea-4aa3-a9e5-537c308ae703"
      },
      "source": [
        "submission_esb['중식계'].plot()"
      ],
      "execution_count": null,
      "outputs": [
        {
          "output_type": "execute_result",
          "data": {
            "text/plain": [
              "<matplotlib.axes._subplots.AxesSubplot at 0x7f5a15eb6710>"
            ]
          },
          "metadata": {
            "tags": []
          },
          "execution_count": 81
        },
        {
          "output_type": "display_data",
          "data": {
            "image/png": "[encoded data removed]",
            "text/plain": [
              "<Figure size 432x288 with 1 Axes>"
            ]
          },
          "metadata": {
            "tags": []
          }
        }
      ]
    },
    {
      "cell_type": "code",
      "metadata": {
        "colab": {
          "base_uri": "https://localhost:8080/",
          "height": 283
        },
        "id": "2NuceRbXFVA0",
        "outputId": "9bf797eb-3926-4c8a-aad3-0d8cb41838a3"
      },
      "source": [
        "submission_esb['석식계'].plot()"
      ],
      "execution_count": null,
      "outputs": [
        {
          "output_type": "execute_result",
          "data": {
            "text/plain": [
              "<matplotlib.axes._subplots.AxesSubplot at 0x7f5a14c6d5d0>"
            ]
          },
          "metadata": {
            "tags": []
          },
          "execution_count": 82
        },
        {
          "output_type": "display_data",
          "data": {
            "image/png": "[encoded data removed]",
            "text/plain": [
              "<Figure size 432x288 with 1 Axes>"
            ]
          },
          "metadata": {
            "tags": []
          }
        }
      ]
    },
    {
      "cell_type": "code",
      "metadata": {
        "id": "_XyU2uWSFYA4"
      },
      "source": [
        ""
      ],
      "execution_count": null,
      "outputs": []
    }
  ]
}