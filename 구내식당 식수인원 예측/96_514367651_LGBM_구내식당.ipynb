{
  "nbformat": 4,
  "nbformat_minor": 0,
  "metadata": {
    "colab": {
      "name": "96.514367651_LGBM_구내식당.ipynb",
      "provenance": [],
      "collapsed_sections": [],
      "mount_file_id": "1uMoSDv6lZekqEH3VEyGQ4SAhDLmMiE3x",
      "authorship_tag": "ABX9TyP63apcgoNd4Yjy7w37a0hH",
      "include_colab_link": true
    },
    "kernelspec": {
      "name": "python3",
      "display_name": "Python 3"
    },
    "language_info": {
      "name": "python"
    }
  },
  "cells": [
    {
      "cell_type": "markdown",
      "metadata": {
        "id": "view-in-github",
        "colab_type": "text"
      },
      "source": [
        "<a href=\"https://colab.research.google.com/github/GodJiLee/Dacon/blob/main/%EA%B5%AC%EB%82%B4%EC%8B%9D%EB%8B%B9%20%EC%8B%9D%EC%88%98%EC%9D%B8%EC%9B%90%20%EC%98%88%EC%B8%A1/96_514367651_LGBM_%EA%B5%AC%EB%82%B4%EC%8B%9D%EB%8B%B9.ipynb\" target=\"_parent\"><img src=\"https://colab.research.google.com/assets/colab-badge.svg\" alt=\"Open In Colab\"/></a>"
      ]
    },
    {
      "cell_type": "markdown",
      "metadata": {
        "id": "ZNjSFqSKrkno"
      },
      "source": [
        "# **To Do List**\n",
        "1. 요일 등 변수 팩터화 (0~4) \n",
        "> https://teddylee777.github.io/scikit-learn/labelencoder-%EC%82%AC%EC%9A%A9%EB%B2%95   \n",
        "> get_dummies, label_encoder, astype(‘category’).cat.codes\n",
        "2. LGBMRegressor 성능 최적화 방법 찾기\n",
        "> 1. GridSearch로 파라미터 최적화   \n",
        "> 2. 논문 찾기   \n",
        "> 3. xgb, lgbm 결합하기\n",
        "3. 공유코드 1, 3과도 결합지점 찾기 (1. 앙상블)\n",
        "> https://www.kaggle.com/janged/xgb-lgb\n",
        "4. 시각화 자료보고 인사이트 얻기\n",
        "5. random_state 바꿔보기\n",
        "6. LGBMRegressor에 공유코드 2,4 결합 data 학습\n",
        "7. 주/연도 정보도 feature에 추가하기 (O)"
      ]
    },
    {
      "cell_type": "markdown",
      "metadata": {
        "id": "Pg8b5Zo-h2uy"
      },
      "source": [
        "# **2. 한글 패치 (matplotlib)**"
      ]
    },
    {
      "cell_type": "code",
      "metadata": {
        "colab": {
          "base_uri": "https://localhost:8080/",
          "height": 1000
        },
        "id": "XJ4aPCDMhzX6",
        "outputId": "b9b421c3-8630-4a4d-bdec-59ca648f0951"
      },
      "source": [
        "# Step 1. Matplotlib 업그레이드\n",
        "!pip install matplotlib -U\n",
        "\n",
        "# Step 2. 한글 설치 및 사용 설정\n",
        "!sudo apt-get install -y fonts-nanum\n",
        "!sudo fc-cache -fv\n",
        "!rm ~/.cache/matplotlib -rf\n",
        "\n",
        "# Step 3. 런타임 재시작"
      ],
      "execution_count": null,
      "outputs": [
        {
          "output_type": "stream",
          "text": [
            "Requirement already satisfied: matplotlib in /usr/local/lib/python3.7/dist-packages (3.2.2)\n",
            "Collecting matplotlib\n",
            "  Downloading matplotlib-3.4.2-cp37-cp37m-manylinux1_x86_64.whl (10.3 MB)\n",
            "\u001b[K     |████████████████████████████████| 10.3 MB 5.3 MB/s \n",
            "\u001b[?25hRequirement already satisfied: pyparsing>=2.2.1 in /usr/local/lib/python3.7/dist-packages (from matplotlib) (2.4.7)\n",
            "Requirement already satisfied: numpy>=1.16 in /usr/local/lib/python3.7/dist-packages (from matplotlib) (1.19.5)\n",
            "Requirement already satisfied: cycler>=0.10 in /usr/local/lib/python3.7/dist-packages (from matplotlib) (0.10.0)\n",
            "Requirement already satisfied: kiwisolver>=1.0.1 in /usr/local/lib/python3.7/dist-packages (from matplotlib) (1.3.1)\n",
            "Requirement already satisfied: pillow>=6.2.0 in /usr/local/lib/python3.7/dist-packages (from matplotlib) (7.1.2)\n",
            "Requirement already satisfied: python-dateutil>=2.7 in /usr/local/lib/python3.7/dist-packages (from matplotlib) (2.8.1)\n",
            "Requirement already satisfied: six in /usr/local/lib/python3.7/dist-packages (from cycler>=0.10->matplotlib) (1.15.0)\n",
            "Installing collected packages: matplotlib\n",
            "  Attempting uninstall: matplotlib\n",
            "    Found existing installation: matplotlib 3.2.2\n",
            "    Uninstalling matplotlib-3.2.2:\n",
            "      Successfully uninstalled matplotlib-3.2.2\n",
            "\u001b[31mERROR: pip's dependency resolver does not currently take into account all the packages that are installed. This behaviour is the source of the following dependency conflicts.\n",
            "albumentations 0.1.12 requires imgaug<0.2.7,>=0.2.5, but you have imgaug 0.2.9 which is incompatible.\u001b[0m\n",
            "Successfully installed matplotlib-3.4.2\n"
          ],
          "name": "stdout"
        },
        {
          "output_type": "display_data",
          "data": {
            "application/vnd.colab-display-data+json": {
              "pip_warning": {
                "packages": [
                  "matplotlib",
                  "mpl_toolkits"
                ]
              }
            }
          },
          "metadata": {
            "tags": []
          }
        },
        {
          "output_type": "stream",
          "text": [
            "Reading package lists... Done\n",
            "Building dependency tree       \n",
            "Reading state information... Done\n",
            "The following NEW packages will be installed:\n",
            "  fonts-nanum\n",
            "0 upgraded, 1 newly installed, 0 to remove and 40 not upgraded.\n",
            "Need to get 9,604 kB of archives.\n",
            "After this operation, 29.5 MB of additional disk space will be used.\n",
            "Get:1 http://archive.ubuntu.com/ubuntu bionic/universe amd64 fonts-nanum all 20170925-1 [9,604 kB]\n",
            "Fetched 9,604 kB in 1s (6,981 kB/s)\n",
            "debconf: unable to initialize frontend: Dialog\n",
            "debconf: (No usable dialog-like program is installed, so the dialog based frontend cannot be used. at /usr/share/perl5/Debconf/FrontEnd/Dialog.pm line 76, <> line 1.)\n",
            "debconf: falling back to frontend: Readline\n",
            "debconf: unable to initialize frontend: Readline\n",
            "debconf: (This frontend requires a controlling tty.)\n",
            "debconf: falling back to frontend: Teletype\n",
            "dpkg-preconfigure: unable to re-open stdin: \n",
            "Selecting previously unselected package fonts-nanum.\n",
            "(Reading database ... 160837 files and directories currently installed.)\n",
            "Preparing to unpack .../fonts-nanum_20170925-1_all.deb ...\n",
            "Unpacking fonts-nanum (20170925-1) ...\n",
            "Setting up fonts-nanum (20170925-1) ...\n",
            "Processing triggers for fontconfig (2.12.6-0ubuntu2) ...\n",
            "/usr/share/fonts: caching, new cache contents: 0 fonts, 1 dirs\n",
            "/usr/share/fonts/truetype: caching, new cache contents: 0 fonts, 3 dirs\n",
            "/usr/share/fonts/truetype/humor-sans: caching, new cache contents: 1 fonts, 0 dirs\n",
            "/usr/share/fonts/truetype/liberation: caching, new cache contents: 16 fonts, 0 dirs\n",
            "/usr/share/fonts/truetype/nanum: caching, new cache contents: 10 fonts, 0 dirs\n",
            "/usr/local/share/fonts: caching, new cache contents: 0 fonts, 0 dirs\n",
            "/root/.local/share/fonts: skipping, no such directory\n",
            "/root/.fonts: skipping, no such directory\n",
            "/var/cache/fontconfig: cleaning cache directory\n",
            "/root/.cache/fontconfig: not cleaning non-existent cache directory\n",
            "/root/.fontconfig: not cleaning non-existent cache directory\n",
            "fc-cache: succeeded\n"
          ],
          "name": "stdout"
        }
      ]
    },
    {
      "cell_type": "code",
      "metadata": {
        "id": "G2_7MY_mh5H3"
      },
      "source": [
        "# Step 4. 한글 글꼴 설정\n",
        "import matplotlib.pyplot as plt\n",
        "\n",
        "plt.rcParams['font.family'] = ['NanumGothic', 'sans-serif'] # 차트의 폰트 설정\n",
        "plt.rcParams['axes.unicode_minus'] = False"
      ],
      "execution_count": null,
      "outputs": []
    },
    {
      "cell_type": "markdown",
      "metadata": {
        "id": "tZgfZ8I4h7u5"
      },
      "source": [
        "# **3. 기타 설정 (임포트 등)**"
      ]
    },
    {
      "cell_type": "code",
      "metadata": {
        "id": "oJzHtG3JheME"
      },
      "source": [
        "import numpy as np\n",
        "import pandas as pd\n",
        "import matplotlib.pyplot as plt\n",
        "import seaborn as sns\n",
        "\n",
        "import warnings\n",
        "# 경고 제어\n",
        "warnings.filterwarnings(action = 'ignore') # 경고를 출력하지 않음"
      ],
      "execution_count": null,
      "outputs": []
    },
    {
      "cell_type": "code",
      "metadata": {
        "id": "O7T7UwtflO4L"
      },
      "source": [
        "import pandas as pd\n",
        "import numpy as np\n",
        "import matplotlib.pyplot as plt\n",
        "from tqdm import tqdm\n",
        "from sklearn.preprocessing import LabelEncoder # 수치형 자료가 아닌 자료에 대해 모델 학습을 위해 정수형으로 바꿔주는 기능\n",
        "from sklearn.model_selection import train_test_split\n",
        "from sklearn.metrics import mean_absolute_error\n",
        "from lightgbm import LGBMRegressor # Tree 기반 학습 알고리즘 (Gradient Boosting 프레임워크)\n",
        "\n",
        "from gensim.models import Word2Vec\n",
        "from gensim.models import KeyedVectors # 워드 벡터를 저장하고 관리하는 기능, 유사성 조회\n",
        "from sklearn.manifold import TSNE # PCA 기반 차원 축소의 문제를 해결하기 위한 방법 (티스니)\n",
        "from sklearn.decomposition import PCA"
      ],
      "execution_count": null,
      "outputs": []
    },
    {
      "cell_type": "markdown",
      "metadata": {
        "id": "GCPigTq7h-p8"
      },
      "source": [
        "# **4. 데이터 불러오기**"
      ]
    },
    {
      "cell_type": "code",
      "metadata": {
        "id": "N21AkfRwhWyG"
      },
      "source": [
        "train = pd.read_csv('/content/drive/MyDrive/Colab Notebooks/dacon_contest1/data/train.csv')\n",
        "test = pd.read_csv('/content/drive/MyDrive/Colab Notebooks/dacon_contest1/data/test.csv')"
      ],
      "execution_count": null,
      "outputs": []
    },
    {
      "cell_type": "markdown",
      "metadata": {
        "id": "MHyFSqOliDEz"
      },
      "source": [
        "# **5. 데이터 정제 (Dtype: object)**\n",
        "1. 조식, 중식, 석식 메뉴는 버리기 (drop)\n",
        "2. 일자, 요일은 라벨 인코딩 (숫자형으로 변환)\n",
        "\n",
        "## **1. 조식, 중식, 석식 메뉴는 버리기 (drop)**"
      ]
    },
    {
      "cell_type": "markdown",
      "metadata": {
        "id": "OiAcerXwiOK9"
      },
      "source": [
        "## **2. 일자, 요일은 라벨 인코딩 (숫자형으로 변환)**"
      ]
    },
    {
      "cell_type": "code",
      "metadata": {
        "id": "ZnL8yQeliOVD"
      },
      "source": [
        "# 월, 일 인코딩\n",
        "train['연'] = pd.DatetimeIndex(train['일자']).year\n",
        "test['연'] = pd.DatetimeIndex(test['일자']).year\n",
        "\n",
        "train['월'] = pd.DatetimeIndex(train['일자']).month\n",
        "test['월'] = pd.DatetimeIndex(test['일자']).month\n",
        "\n",
        "train['주'] = pd.DatetimeIndex(train['일자']).week\n",
        "test['주'] = pd.DatetimeIndex(test['일자']).week\n",
        "\n",
        "train['일'] = pd.DatetimeIndex(train['일자']).day\n",
        "test['일'] = pd.DatetimeIndex(test['일자']).day"
      ],
      "execution_count": null,
      "outputs": []
    },
    {
      "cell_type": "code",
      "metadata": {
        "id": "hzgG6CF6jKEV"
      },
      "source": [
        "# 요일 인코딩\n",
        "# 팩터화 해야 하는거 아니야...?\n",
        "weekday = {\n",
        "    '월': 1,\n",
        "    '화': 2,\n",
        "    '수': 3,\n",
        "    '목': 4,\n",
        "    '금': 5\n",
        "}\n",
        "\n",
        "train['요일'] = train['요일'].map(weekday)\n",
        "test['요일'] = test['요일'].map(weekday)"
      ],
      "execution_count": null,
      "outputs": []
    },
    {
      "cell_type": "markdown",
      "metadata": {
        "id": "6phn2KfsjQVr"
      },
      "source": [
        "# **6. 데이터 정제 (아이디어)**\n",
        "* 휴가자, 재택근무자는 중식/석식에 참여하지 않을 것이므로 본사 정원수에서 차감한다.\n",
        "* 즉, 본사정원수 - 휴가자 - 재택근무자\n",
        "* 식사참여율 = 식사계 / 식사가능자수"
      ]
    },
    {
      "cell_type": "code",
      "metadata": {
        "id": "MFADygnLjSvI"
      },
      "source": [
        "train['식사가능자수'] = train['본사정원수'] - train['본사휴가자수'] - train['현본사소속재택근무자수']\n",
        "test['식사가능자수'] = test['본사정원수'] - test['본사휴가자수'] - test['현본사소속재택근무자수']"
      ],
      "execution_count": null,
      "outputs": []
    },
    {
      "cell_type": "code",
      "metadata": {
        "id": "jd4mR1HYjZV7"
      },
      "source": [
        "# 식사가능자수 float -> int로 변경\n",
        "train['식사가능자수'] = train['식사가능자수'].astype('int')\n",
        "test['식사가능자수'] = test['식사가능자수'].astype('int')"
      ],
      "execution_count": null,
      "outputs": []
    },
    {
      "cell_type": "code",
      "metadata": {
        "id": "Mx0NvD3dja2c"
      },
      "source": [
        "train['중식참여율'] = train['중식계'] / train['식사가능자수']\n",
        "train['석식참여율'] = train['석식계'] / train['식사가능자수']"
      ],
      "execution_count": null,
      "outputs": []
    },
    {
      "cell_type": "markdown",
      "metadata": {
        "id": "EO_fy-BbjdH5"
      },
      "source": [
        "정제한 데이터를 정리하면,\n",
        "### **요일(석식) 컬럼 만들기**"
      ]
    },
    {
      "cell_type": "code",
      "metadata": {
        "id": "pkZtNq7ajnC0"
      },
      "source": [
        "# 요일을 석식 rank에 맞춰 mapping한 요일(석식) 컬럼 만들기\n",
        "# train 데이터만의 특징일 수 있지 않을까..?\n",
        "weekday_rank4dinner = {\n",
        "    1: 1,\n",
        "    2: 2,\n",
        "    3: 5,\n",
        "    4: 3,\n",
        "    5: 4,\n",
        "}\n",
        "\n",
        "train['요일(석식)'] = train['요일'].map(weekday_rank4dinner)\n",
        "test['요일(석식)'] = test['요일'].map(weekday_rank4dinner)"
      ],
      "execution_count": null,
      "outputs": []
    },
    {
      "cell_type": "markdown",
      "metadata": {
        "id": "FaRIXz2LD4TR"
      },
      "source": [
        "### **Label Encoder로 범주형 자료 수치형으로 바꾸기**"
      ]
    },
    {
      "cell_type": "code",
      "metadata": {
        "id": "wyXQYFYaDRRh"
      },
      "source": [
        "# 수치형으로 바꾸지 않은 상태에서 encoder 적용..?\n",
        "cat_features = ['요일', '요일(석식)']"
      ],
      "execution_count": null,
      "outputs": []
    },
    {
      "cell_type": "code",
      "metadata": {
        "id": "G1iqCgo9DDPZ"
      },
      "source": [
        "for feature in cat_features:\n",
        "    le = LabelEncoder()\n",
        "    le.fit(train[feature])\n",
        "    train[feature] = le.transform(train[feature])\n",
        "    test[feature] = le.transform(test[feature])"
      ],
      "execution_count": null,
      "outputs": []
    },
    {
      "cell_type": "code",
      "metadata": {
        "id": "LVhI2Mr-hAV0"
      },
      "source": [
        "# lunch\n",
        "\n",
        "# train\n",
        "x_lunch = train[['연', '월', '주', '일', '요일', '식사가능자수', '본사출장자수', '본사시간외근무명령서승인건수']]\n",
        "y_lunch = train['중식계']\n",
        "# test\n",
        "test_x_lunch = test[['연', '월', '주', '일', '요일', '식사가능자수', '본사출장자수', '본사시간외근무명령서승인건수']]"
      ],
      "execution_count": null,
      "outputs": []
    },
    {
      "cell_type": "code",
      "metadata": {
        "id": "N8OhMuIpodtC"
      },
      "source": [
        "# dinner\n",
        "\n",
        "# train\n",
        "x_dinner = train[['연', '월', '주', '일', '요일(석식)', '식사가능자수', '본사출장자수', '본사시간외근무명령서승인건수']]\n",
        "y_dinner = train['석식계']\n",
        "# test\n",
        "test_x_dinner = test[['연', '월', '주', '일', '요일(석식)', '식사가능자수', '본사출장자수', '본사시간외근무명령서승인건수']]"
      ],
      "execution_count": null,
      "outputs": []
    },
    {
      "cell_type": "markdown",
      "metadata": {
        "id": "eU5RVHNplGQx"
      },
      "source": [
        "# **Modeling**"
      ]
    },
    {
      "cell_type": "markdown",
      "metadata": {
        "id": "wbOebU5pFWfJ"
      },
      "source": [
        "### **LGBMRegressor**"
      ]
    },
    {
      "cell_type": "code",
      "metadata": {
        "colab": {
          "base_uri": "https://localhost:8080/"
        },
        "id": "WVg0VJZpkqJh",
        "outputId": "5bf8da64-51e9-45e1-f42b-522949b58db1"
      },
      "source": [
        "# Simple LGBM Regressor w/o tuning\n",
        "model_lunch = LGBMRegressor()\n",
        "model_lunch.fit(x_lunch, y_lunch)\n",
        "\n",
        "model_dinner = LGBMRegressor()\n",
        "model_dinner.fit(x_dinner, y_dinner)"
      ],
      "execution_count": null,
      "outputs": [
        {
          "output_type": "execute_result",
          "data": {
            "text/plain": [
              "LGBMRegressor(boosting_type='gbdt', class_weight=None, colsample_bytree=1.0,\n",
              "              importance_type='split', learning_rate=0.1, max_depth=-1,\n",
              "              min_child_samples=20, min_child_weight=0.001, min_split_gain=0.0,\n",
              "              n_estimators=100, n_jobs=-1, num_leaves=31, objective=None,\n",
              "              random_state=None, reg_alpha=0.0, reg_lambda=0.0, silent=True,\n",
              "              subsample=1.0, subsample_for_bin=200000, subsample_freq=0)"
            ]
          },
          "metadata": {
            "tags": []
          },
          "execution_count": 58
        }
      ]
    },
    {
      "cell_type": "code",
      "metadata": {
        "id": "uPXU9hVFlWtq"
      },
      "source": [
        "# Prediction\n",
        "pred_lunch = model_lunch.predict(test_x_lunch)\n",
        "pred_dinner = model_dinner.predict(test_x_dinner)"
      ],
      "execution_count": null,
      "outputs": []
    },
    {
      "cell_type": "markdown",
      "metadata": {
        "id": "Q0Ta4vNRlZxl"
      },
      "source": [
        "# **Inference**"
      ]
    },
    {
      "cell_type": "code",
      "metadata": {
        "id": "oPHcpiM2lZIT"
      },
      "source": [
        "# Inference\n",
        "test_pred_lunch = model_lunch.predict(test_x_lunch)\n",
        "test_pred_dinner = model_dinner.predict(test_x_dinner)\n",
        "\n",
        "submission_df = pd.read_csv('/content/drive/MyDrive/Colab Notebooks/dacon_contest1/data/sample_submission.csv')"
      ],
      "execution_count": null,
      "outputs": []
    },
    {
      "cell_type": "code",
      "metadata": {
        "colab": {
          "base_uri": "https://localhost:8080/",
          "height": 204
        },
        "id": "X4zDpHV9lkf-",
        "outputId": "3ad27ed2-d095-40e0-f0f6-ffa8529c6d14"
      },
      "source": [
        "submission_df.head()"
      ],
      "execution_count": null,
      "outputs": [
        {
          "output_type": "execute_result",
          "data": {
            "text/html": [
              "<div>\n",
              "<style scoped>\n",
              "    .dataframe tbody tr th:only-of-type {\n",
              "        vertical-align: middle;\n",
              "    }\n",
              "\n",
              "    .dataframe tbody tr th {\n",
              "        vertical-align: top;\n",
              "    }\n",
              "\n",
              "    .dataframe thead th {\n",
              "        text-align: right;\n",
              "    }\n",
              "</style>\n",
              "<table border=\"1\" class=\"dataframe\">\n",
              "  <thead>\n",
              "    <tr style=\"text-align: right;\">\n",
              "      <th></th>\n",
              "      <th>일자</th>\n",
              "      <th>중식계</th>\n",
              "      <th>석식계</th>\n",
              "    </tr>\n",
              "  </thead>\n",
              "  <tbody>\n",
              "    <tr>\n",
              "      <th>0</th>\n",
              "      <td>2021-01-27</td>\n",
              "      <td>0</td>\n",
              "      <td>0</td>\n",
              "    </tr>\n",
              "    <tr>\n",
              "      <th>1</th>\n",
              "      <td>2021-01-28</td>\n",
              "      <td>0</td>\n",
              "      <td>0</td>\n",
              "    </tr>\n",
              "    <tr>\n",
              "      <th>2</th>\n",
              "      <td>2021-01-29</td>\n",
              "      <td>0</td>\n",
              "      <td>0</td>\n",
              "    </tr>\n",
              "    <tr>\n",
              "      <th>3</th>\n",
              "      <td>2021-02-01</td>\n",
              "      <td>0</td>\n",
              "      <td>0</td>\n",
              "    </tr>\n",
              "    <tr>\n",
              "      <th>4</th>\n",
              "      <td>2021-02-02</td>\n",
              "      <td>0</td>\n",
              "      <td>0</td>\n",
              "    </tr>\n",
              "  </tbody>\n",
              "</table>\n",
              "</div>"
            ],
            "text/plain": [
              "           일자  중식계  석식계\n",
              "0  2021-01-27    0    0\n",
              "1  2021-01-28    0    0\n",
              "2  2021-01-29    0    0\n",
              "3  2021-02-01    0    0\n",
              "4  2021-02-02    0    0"
            ]
          },
          "metadata": {
            "tags": []
          },
          "execution_count": 61
        }
      ]
    },
    {
      "cell_type": "code",
      "metadata": {
        "id": "AvCvKfWklmZq"
      },
      "source": [
        "submission_df['중식계'] = test_pred_lunch\n",
        "submission_df['석식계'] = test_pred_dinner"
      ],
      "execution_count": null,
      "outputs": []
    },
    {
      "cell_type": "code",
      "metadata": {
        "id": "G0LBRjuVloEA"
      },
      "source": [
        "# Save\n",
        "\n",
        "submission_df.to_csv('sub_2_연도주포함_공유코드결합.csv', index = False)"
      ],
      "execution_count": null,
      "outputs": []
    }
  ]
}